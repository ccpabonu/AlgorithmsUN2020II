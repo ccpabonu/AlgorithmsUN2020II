{
  "nbformat": 4,
  "nbformat_minor": 0,
  "metadata": {
    "colab": {
      "name": "GaleShapleyIrving.ipynb",
      "provenance": [],
      "collapsed_sections": []
    },
    "kernelspec": {
      "name": "python3",
      "display_name": "Python 3"
    }
  },
  "cells": [
    {
      "cell_type": "markdown",
      "metadata": {
        "id": "Cu4Mm7E0K0fZ"
      },
      "source": [
        "# Laboratory 9\n",
        "\n",
        "# 1) Find the best and worst cases for the Gale-Shapley and Irving Algorithms and run in Colab these algorithms for those cases for n=4 and 40."
      ]
    },
    {
      "cell_type": "code",
      "metadata": {
        "id": "z1KO2UzbKzKh"
      },
      "source": [
        "import pandas as pd\n",
        "import numpy as np\n",
        "from collections import Counter\n",
        "from copy import copy\n"
      ],
      "execution_count": null,
      "outputs": []
    },
    {
      "cell_type": "code",
      "metadata": {
        "id": "X9Feg5mtRUfd"
      },
      "source": [
        "N = 4\n",
        "  \n",
        "# This function returns true if  \n",
        "# woman 'w' prefers man 'm1' over man 'm' \n",
        "def wPrefersM1OverM(prefer, w, m, m1): \n",
        "      \n",
        "    # Check if w prefers m over her  \n",
        "    # current engagment m1 \n",
        "    for i in range(N): \n",
        "          \n",
        "        # If m1 comes before m in lisr of w,  \n",
        "        # then w prefers her current engagement, \n",
        "        # don't do anything \n",
        "        if (prefer[w][i] == m1): \n",
        "            return True\n",
        "  \n",
        "        # If m cmes before m1 in w's list,  \n",
        "        # then free her current engagement  \n",
        "        # and engage her with m \n",
        "        if (prefer[w][i] == m): \n",
        "            return False\n",
        "  \n",
        "# Prints stable matching for N boys and N girls.  \n",
        "# Boys are numbered as 0 to N-1.  \n",
        "# Girls are numbereed as N to 2N-1. \n",
        "def stableMarriage(prefer): \n",
        "      \n",
        "    # Stores partner of women. This is our output  \n",
        "    # array that stores paing information.  \n",
        "    # The value of wPartner[i] indicates the partner  \n",
        "    # assigned to woman N+i. Note that the woman numbers  \n",
        "    # between N and 2*N-1. The value -1 indicates  \n",
        "    # that (N+i)'th woman is free \n",
        "    wPartner = [-1 for i in range(N)] \n",
        "  \n",
        "    # An array to store availability of men.  \n",
        "    # If mFree[i] is false, then man 'i' is free, \n",
        "    # otherwise engaged. \n",
        "    mFree = [False for i in range(N)] \n",
        "  \n",
        "    freeCount = N \n",
        "  \n",
        "    # While there are free men \n",
        "    while (freeCount > 0): \n",
        "          \n",
        "        # Pick the first free man (we could pick any) \n",
        "        m = 0\n",
        "        while (m < N): \n",
        "            if (mFree[m] == False): \n",
        "                break\n",
        "            m += 1\n",
        "  \n",
        "        # One by one go to all women according to  \n",
        "        # m's preferences. Here m is the picked free man \n",
        "        i = 0\n",
        "        while i < N and mFree[m] == False: \n",
        "            w = prefer[m][i] \n",
        "  \n",
        "            # The woman of preference is free,  \n",
        "            # w and m become partners (Note that  \n",
        "            # the partnership maybe changed later).  \n",
        "            # So we can say they are engaged not married \n",
        "            if (wPartner[w - N] == -1): \n",
        "                wPartner[w - N] = m \n",
        "                mFree[m] = True\n",
        "                freeCount -= 1\n",
        "  \n",
        "            else:  \n",
        "                  \n",
        "                # If w is not free \n",
        "                # Find current engagement of w \n",
        "                m1 = wPartner[w - N] \n",
        "  \n",
        "                # If w prefers m over her current engagement m1, \n",
        "                # then break the engagement between w and m1 and \n",
        "                # engage m with w. \n",
        "                if (wPrefersM1OverM(prefer, w, m, m1) == False): \n",
        "                    wPartner[w - N] = m \n",
        "                    mFree[m] = True\n",
        "                    mFree[m1] = False\n",
        "            i += 1\n",
        "  \n",
        "            # End of Else \n",
        "        # End of the for loop that goes  \n",
        "        # to all women in m's list \n",
        "    # End of main while loop \n",
        "  \n",
        "    # Prthe solution \n",
        "    #print(\"Woman \", \" Man\") \n",
        "    #for i in range(N): \n",
        "        #print(i + N, \"\\t\", wPartner[i])\n",
        "    "
      ],
      "execution_count": null,
      "outputs": []
    },
    {
      "cell_type": "code",
      "metadata": {
        "id": "B-NPltukspNN"
      },
      "source": [
        "#Same Function, but printing the stable marriage\n",
        "def stableMarriage2(prefer): \n",
        "      \n",
        "    # Stores partner of women. This is our output  \n",
        "    # array that stores paing information.  \n",
        "    # The value of wPartner[i] indicates the partner  \n",
        "    # assigned to woman N+i. Note that the woman numbers  \n",
        "    # between N and 2*N-1. The value -1 indicates  \n",
        "    # that (N+i)'th woman is free \n",
        "    wPartner = [-1 for i in range(N)] \n",
        "  \n",
        "    # An array to store availability of men.  \n",
        "    # If mFree[i] is false, then man 'i' is free, \n",
        "    # otherwise engaged. \n",
        "    mFree = [False for i in range(N)] \n",
        "  \n",
        "    freeCount = N \n",
        "  \n",
        "    # While there are free men \n",
        "    while (freeCount > 0): \n",
        "          \n",
        "        # Pick the first free man (we could pick any) \n",
        "        m = 0\n",
        "        while (m < N): \n",
        "            if (mFree[m] == False): \n",
        "                break\n",
        "            m += 1\n",
        "  \n",
        "        # One by one go to all women according to  \n",
        "        # m's preferences. Here m is the picked free man \n",
        "        i = 0\n",
        "        while i < N and mFree[m] == False: \n",
        "            w = prefer[m][i] \n",
        "  \n",
        "            # The woman of preference is free,  \n",
        "            # w and m become partners (Note that  \n",
        "            # the partnership maybe changed later).  \n",
        "            # So we can say they are engaged not married \n",
        "            if (wPartner[w - N] == -1): \n",
        "                wPartner[w - N] = m \n",
        "                mFree[m] = True\n",
        "                freeCount -= 1\n",
        "  \n",
        "            else:  \n",
        "                  \n",
        "                # If w is not free \n",
        "                # Find current engagement of w \n",
        "                m1 = wPartner[w - N] \n",
        "  \n",
        "                # If w prefers m over her current engagement m1, \n",
        "                # then break the engagement between w and m1 and \n",
        "                # engage m with w. \n",
        "                if (wPrefersM1OverM(prefer, w, m, m1) == False): \n",
        "                    wPartner[w - N] = m \n",
        "                    mFree[m] = True\n",
        "                    mFree[m1] = False\n",
        "            i += 1\n",
        "  \n",
        "            # End of Else \n",
        "        # End of the for loop that goes  \n",
        "        # to all women in m's list \n",
        "    # End of main while loop \n",
        "  \n",
        "    # Prthe solution \n",
        "    print(\"Woman \", \" Man\") \n",
        "    for i in range(N): \n",
        "        print(i + N, \"\\t\", wPartner[i])"
      ],
      "execution_count": null,
      "outputs": []
    },
    {
      "cell_type": "markdown",
      "metadata": {
        "id": "qxfGwJ6vTl9w"
      },
      "source": [
        "For n=N\n",
        "\n",
        "Boys are numbered as 0 to N-1.  \n",
        "Girls are numbereed as N to 2N-1. \n",
        "\n",
        "For Example:"
      ]
    },
    {
      "cell_type": "code",
      "metadata": {
        "colab": {
          "base_uri": "https://localhost:8080/"
        },
        "id": "LgF-znJ0Rj1M",
        "outputId": "77108760-4c31-4013-db58-cc24ffe9f680"
      },
      "source": [
        "preferBoys = [[7, 5, 6, 4], [5, 4, 6, 7], \n",
        "          [4, 5, 6, 7], [4, 5, 6, 7]]\n",
        "preferGirls=[[0, 1, 2, 3], [0, 1, 2, 3], \n",
        "          [0, 1, 2, 3], [0, 1, 2, 3]]\n",
        "  \n",
        "stableMarriage(preferBoys+preferGirls) "
      ],
      "execution_count": null,
      "outputs": [
        {
          "output_type": "stream",
          "text": [
            "Woman   Man\n",
            "4 \t 2\n",
            "5 \t 1\n",
            "6 \t 3\n",
            "7 \t 0\n"
          ],
          "name": "stdout"
        }
      ]
    },
    {
      "cell_type": "markdown",
      "metadata": {
        "id": "pT9pru2Su-9d"
      },
      "source": [
        "# N=4"
      ]
    },
    {
      "cell_type": "markdown",
      "metadata": {
        "id": "eCWZipVvWfyT"
      },
      "source": [
        "To find the best and worst case, we will make the preferences random, executing the algorithm 1000 times and taking the 3 best execution times and the 3 worst execution times, for N=4"
      ]
    },
    {
      "cell_type": "code",
      "metadata": {
        "colab": {
          "base_uri": "https://localhost:8080/"
        },
        "id": "QMLa_v4nUvg5",
        "outputId": "9ff49498-1e48-4a69-da43-c211c08f2d86"
      },
      "source": [
        "from random import sample\n",
        "from time import time\n",
        "N=4\n",
        "man = range(0,4)\n",
        "woman=range(4,8)\n",
        "timer=[0,0,0,0,0,0]\n",
        "prefer=[0,0,0,0,0,0]\n",
        "for i in range(1000):\n",
        "  preferBoys = [sample(woman,k=4),sample(woman,k=4),sample(woman,k=4),sample(woman,k=4)]\n",
        "  \n",
        "  preferGirls = [sample(man,k=4),sample(man,k=4),sample(man,k=4),sample(man,k=4)]\n",
        "  time_in = time() \n",
        "  stableMarriage(preferBoys+preferGirls)\n",
        "  time_fn = time()\n",
        "  if (i<5):\n",
        "    timer[i]=(time_fn-time_in)\n",
        "    prefer[i]=(preferBoys+preferGirls)\n",
        "  else :\n",
        "    j=0\n",
        "    while j<3:\n",
        "      if ((time_fn-time_in)<timer[j]):\n",
        "        timer[j]=time_fn-time_in\n",
        "        prefer[j]=preferBoys+preferGirls\n",
        "        break\n",
        "      if ((time_fn-time_in)>timer[j+3]):\n",
        "        timer[j+3]=time_fn-time_in\n",
        "        prefer[j+3]=preferBoys+preferGirls\n",
        "        break\n",
        "      j+=1\n",
        "print(timer)\n",
        "print(prefer)\n"
      ],
      "execution_count": null,
      "outputs": [
        {
          "output_type": "stream",
          "text": [
            "[3.814697265625e-06, 3.814697265625e-06, 3.814697265625e-06, 0.000835418701171875, 0.0003075599670410156, 0.00011014938354492188]\n",
            "[[[4, 6, 7, 5], [6, 4, 7, 5], [7, 6, 4, 5], [5, 6, 4, 7], [2, 1, 3, 0], [2, 0, 3, 1], [3, 0, 1, 2], [2, 1, 0, 3]], [[4, 6, 5, 7], [7, 6, 5, 4], [6, 7, 4, 5], [5, 6, 4, 7], [3, 1, 2, 0], [3, 2, 0, 1], [3, 0, 2, 1], [0, 1, 3, 2]], [[7, 4, 5, 6], [6, 5, 4, 7], [5, 4, 6, 7], [4, 7, 5, 6], [0, 3, 2, 1], [0, 3, 1, 2], [0, 2, 3, 1], [3, 1, 0, 2]], [[5, 6, 4, 7], [7, 6, 5, 4], [6, 5, 7, 4], [7, 5, 6, 4], [1, 2, 0, 3], [2, 0, 3, 1], [0, 1, 3, 2], [3, 1, 0, 2]], [[6, 4, 5, 7], [7, 4, 6, 5], [4, 5, 6, 7], [5, 4, 6, 7], [3, 1, 0, 2], [0, 2, 3, 1], [0, 2, 1, 3], [0, 1, 3, 2]], [[7, 4, 5, 6], [4, 6, 7, 5], [4, 7, 5, 6], [5, 4, 6, 7], [1, 3, 0, 2], [1, 0, 3, 2], [3, 0, 1, 2], [2, 0, 1, 3]]]\n"
          ],
          "name": "stdout"
        }
      ]
    },
    {
      "cell_type": "markdown",
      "metadata": {
        "id": "4dVIxCsDvQ2e"
      },
      "source": [
        "## Top 3, Best execution times for N=4"
      ]
    },
    {
      "cell_type": "code",
      "metadata": {
        "colab": {
          "base_uri": "https://localhost:8080/"
        },
        "id": "a5R6EHaPnjPa",
        "outputId": "e7308afb-49fc-4dbb-c6ef-3eb163c92eb0"
      },
      "source": [
        "print(timer[0])\n",
        "preferMens=prefer[0][:N]\n",
        "preferGirls=prefer[0][N:]\n",
        "\n",
        "print(\"PreferBoys = \",preferMens)\n",
        "print(\"PreferGirls = \",preferGirls)\n",
        "stableMarriage2(prefer[0])\n",
        "%time\n"
      ],
      "execution_count": null,
      "outputs": [
        {
          "output_type": "stream",
          "text": [
            "3.814697265625e-06\n",
            "PreferBoys =  [[4, 6, 7, 5], [6, 4, 7, 5], [7, 6, 4, 5], [5, 6, 4, 7]]\n",
            "PreferGirls =  [[2, 1, 3, 0], [2, 0, 3, 1], [3, 0, 1, 2], [2, 1, 0, 3]]\n",
            "Woman   Man\n",
            "4 \t 0\n",
            "5 \t 3\n",
            "6 \t 1\n",
            "7 \t 2\n",
            "CPU times: user 2 µs, sys: 0 ns, total: 2 µs\n",
            "Wall time: 4.53 µs\n"
          ],
          "name": "stdout"
        }
      ]
    },
    {
      "cell_type": "code",
      "metadata": {
        "colab": {
          "base_uri": "https://localhost:8080/"
        },
        "id": "ezVwsPLBw0iC",
        "outputId": "30732e69-cfe3-4e65-da59-72b994e14385"
      },
      "source": [
        "print(timer[1])\n",
        "preferMens=prefer[1][:N]\n",
        "preferGirls=prefer[1][N:]\n",
        "\n",
        "print(\"PreferBoys = \",preferMens)\n",
        "print(\"PreferGirls = \",preferGirls)\n",
        "stableMarriage2(prefer[1])\n",
        "%time"
      ],
      "execution_count": null,
      "outputs": [
        {
          "output_type": "stream",
          "text": [
            "3.814697265625e-06\n",
            "PreferBoys =  [[4, 6, 5, 7], [7, 6, 5, 4], [6, 7, 4, 5], [5, 6, 4, 7]]\n",
            "PreferGirls =  [[3, 1, 2, 0], [3, 2, 0, 1], [3, 0, 2, 1], [0, 1, 3, 2]]\n",
            "Woman   Man\n",
            "4 \t 0\n",
            "5 \t 3\n",
            "6 \t 2\n",
            "7 \t 1\n",
            "CPU times: user 3 µs, sys: 0 ns, total: 3 µs\n",
            "Wall time: 4.77 µs\n"
          ],
          "name": "stdout"
        }
      ]
    },
    {
      "cell_type": "code",
      "metadata": {
        "colab": {
          "base_uri": "https://localhost:8080/"
        },
        "id": "_-RFQdhiypgX",
        "outputId": "13551b55-db2b-4508-e92a-326d98ba70fb"
      },
      "source": [
        "print(timer[2])\n",
        "preferMens=prefer[2][:N]\n",
        "preferGirls=prefer[2][N:]\n",
        "\n",
        "print(\"PreferBoys = \",preferMens)\n",
        "print(\"PreferGirls = \",preferGirls)\n",
        "stableMarriage2(prefer[2])\n",
        "%time"
      ],
      "execution_count": null,
      "outputs": [
        {
          "output_type": "stream",
          "text": [
            "3.814697265625e-06\n",
            "PreferBoys =  [[7, 4, 5, 6], [6, 5, 4, 7], [5, 4, 6, 7], [4, 7, 5, 6]]\n",
            "PreferGirls =  [[0, 3, 2, 1], [0, 3, 1, 2], [0, 2, 3, 1], [3, 1, 0, 2]]\n",
            "Woman   Man\n",
            "4 \t 3\n",
            "5 \t 2\n",
            "6 \t 1\n",
            "7 \t 0\n",
            "CPU times: user 2 µs, sys: 1e+03 ns, total: 3 µs\n",
            "Wall time: 5.25 µs\n"
          ],
          "name": "stdout"
        }
      ]
    },
    {
      "cell_type": "markdown",
      "metadata": {
        "id": "FoYzNqGly2kN"
      },
      "source": [
        "## Top 3, Worst execution times for N=4"
      ]
    },
    {
      "cell_type": "code",
      "metadata": {
        "colab": {
          "base_uri": "https://localhost:8080/"
        },
        "id": "F7zAGKLrzC93",
        "outputId": "ed676a8f-b1f8-4989-861c-e482236eb96d"
      },
      "source": [
        "print(timer[3])\n",
        "preferMens=prefer[3][:N]\n",
        "preferGirls=prefer[3][N:]\n",
        "\n",
        "print(\"PreferBoys = \",preferMens)\n",
        "print(\"PreferGirls = \",preferGirls)\n",
        "stableMarriage2(prefer[3])\n",
        "%time"
      ],
      "execution_count": null,
      "outputs": [
        {
          "output_type": "stream",
          "text": [
            "0.000835418701171875\n",
            "PreferBoys =  [[5, 6, 4, 7], [7, 6, 5, 4], [6, 5, 7, 4], [7, 5, 6, 4]]\n",
            "PreferGirls =  [[1, 2, 0, 3], [2, 0, 3, 1], [0, 1, 3, 2], [3, 1, 0, 2]]\n",
            "Woman   Man\n",
            "4 \t 1\n",
            "5 \t 2\n",
            "6 \t 0\n",
            "7 \t 3\n",
            "CPU times: user 3 µs, sys: 0 ns, total: 3 µs\n",
            "Wall time: 6.44 µs\n"
          ],
          "name": "stdout"
        }
      ]
    },
    {
      "cell_type": "code",
      "metadata": {
        "colab": {
          "base_uri": "https://localhost:8080/"
        },
        "id": "XS5MzIKQzYUu",
        "outputId": "43ba02bd-a39f-4c15-8590-60e5bbfa6178"
      },
      "source": [
        "print(timer[4])\n",
        "preferMens=prefer[4][:N]\n",
        "preferGirls=prefer[4][N:]\n",
        "\n",
        "print(\"PreferBoys = \",preferMens)\n",
        "print(\"PreferGirls = \",preferGirls)\n",
        "stableMarriage2(prefer[4])\n",
        "%time"
      ],
      "execution_count": null,
      "outputs": [
        {
          "output_type": "stream",
          "text": [
            "0.0003075599670410156\n",
            "PreferBoys =  [[6, 4, 5, 7], [7, 4, 6, 5], [4, 5, 6, 7], [5, 4, 6, 7]]\n",
            "PreferGirls =  [[3, 1, 0, 2], [0, 2, 3, 1], [0, 2, 1, 3], [0, 1, 3, 2]]\n",
            "Woman   Man\n",
            "4 \t 2\n",
            "5 \t 3\n",
            "6 \t 0\n",
            "7 \t 1\n",
            "CPU times: user 3 µs, sys: 0 ns, total: 3 µs\n",
            "Wall time: 6.44 µs\n"
          ],
          "name": "stdout"
        }
      ]
    },
    {
      "cell_type": "code",
      "metadata": {
        "colab": {
          "base_uri": "https://localhost:8080/"
        },
        "id": "mLFBY-l0zYtd",
        "outputId": "3f2bd875-aff1-4e33-8959-c2f03dbf98b8"
      },
      "source": [
        "print(timer[5])\n",
        "preferMens=prefer[5][:N]\n",
        "preferGirls=prefer[5][N:]\n",
        "\n",
        "print(\"PreferBoys = \",preferMens)\n",
        "print(\"PreferGirls = \",preferGirls)\n",
        "stableMarriage2(prefer[5])\n",
        "%time"
      ],
      "execution_count": null,
      "outputs": [
        {
          "output_type": "stream",
          "text": [
            "0.00011014938354492188\n",
            "PreferBoys =  [[7, 4, 5, 6], [4, 6, 7, 5], [4, 7, 5, 6], [5, 4, 6, 7]]\n",
            "PreferGirls =  [[1, 3, 0, 2], [1, 0, 3, 2], [3, 0, 1, 2], [2, 0, 1, 3]]\n",
            "Woman   Man\n",
            "4 \t 1\n",
            "5 \t 0\n",
            "6 \t 3\n",
            "7 \t 2\n",
            "CPU times: user 3 µs, sys: 0 ns, total: 3 µs\n",
            "Wall time: 6.2 µs\n"
          ],
          "name": "stdout"
        }
      ]
    },
    {
      "cell_type": "markdown",
      "metadata": {
        "id": "naEuRaH5te_L"
      },
      "source": [
        "# N=40"
      ]
    },
    {
      "cell_type": "markdown",
      "metadata": {
        "id": "VBelvvg6z0Dn"
      },
      "source": [
        "To find the best and worst case, we will make the preferences random, executing the algorithm 1000 times and taking the 3 best execution times and the 3 worst execution times, for N=40"
      ]
    },
    {
      "cell_type": "code",
      "metadata": {
        "id": "EAF2jLhqz2CX"
      },
      "source": [
        "N = 40\n",
        "def wPrefersM1OverM(prefer, w, m, m1):   \n",
        "    for i in range(N):\n",
        "        if (prefer[w][i] == m1): \n",
        "            return True\n",
        "        if (prefer[w][i] == m): \n",
        "            return False\n",
        "\n",
        "def stableMarriage(prefer):   \n",
        "    wPartner = [-1 for i in range(N)]   \n",
        "    mFree = [False for i in range(N)]   \n",
        "    freeCount = N\n",
        "     \n",
        "    while (freeCount > 0):\n",
        "        \n",
        "        m = 0\n",
        "        while (m < N): \n",
        "            if (mFree[m] == False): \n",
        "                break\n",
        "            m += 1\n",
        "        i = 0\n",
        "        while i < N and mFree[m] == False: \n",
        "            w = prefer[m][i] \n",
        "            if (wPartner[w - N] == -1): \n",
        "                wPartner[w - N] = m \n",
        "                mFree[m] = True\n",
        "                freeCount -= 1  \n",
        "            else:              \n",
        "                m1 = wPartner[w - N] \n",
        "                if (wPrefersM1OverM(prefer, w, m, m1) == False): \n",
        "                    wPartner[w - N] = m \n",
        "                    mFree[m] = True\n",
        "                    mFree[m1] = False\n",
        "            i += 1\n",
        "    \n",
        "def stableMarriage2(prefer):   \n",
        "    wPartner = [-1 for i in range(N)]   \n",
        "    mFree = [False for i in range(N)]   \n",
        "    freeCount = N     \n",
        "    while (freeCount > 0): \n",
        "        m = 0\n",
        "        while (m < N): \n",
        "            if (mFree[m] == False): \n",
        "                break\n",
        "            m += 1\n",
        "        i = 0\n",
        "        while i < N and mFree[m] == False: \n",
        "            w = prefer[m][i] \n",
        "            if (wPartner[w - N] == -1): \n",
        "                wPartner[w - N] = m \n",
        "                mFree[m] = True\n",
        "                freeCount -= 1  \n",
        "            else:              \n",
        "                m1 = wPartner[w - N] \n",
        "                if (wPrefersM1OverM(prefer, w, m, m1) == False): \n",
        "                    wPartner[w - N] = m \n",
        "                    mFree[m] = True\n",
        "                    mFree[m1] = False\n",
        "            i += 1\n",
        "    print(\"Woman \", \" Man\") \n",
        "    for i in range(N): \n",
        "        print(i + N, \"\\t\", wPartner[i])\n"
      ],
      "execution_count": 4,
      "outputs": []
    },
    {
      "cell_type": "code",
      "metadata": {
        "colab": {
          "base_uri": "https://localhost:8080/"
        },
        "id": "NFzQSafa0zGx",
        "outputId": "20b88254-17b5-470d-ebb5-db0ee8b0c7a9"
      },
      "source": [
        "from random import sample\n",
        "from time import time\n",
        "N=40\n",
        "man = range(0,40)\n",
        "woman=range(40,80)\n",
        "timer=[0,0,0,0,0,0]\n",
        "prefer=[0,0,0,0,0,0]\n",
        "for i in range(1000):\n",
        "  preferBoys = [sample(woman,k=40),sample(woman,k=40),sample(woman,k=40),sample(woman,k=40),sample(woman,k=40),sample(woman,k=40),sample(woman,k=40),sample(woman,k=40),sample(woman,k=40),sample(woman,k=40),sample(woman,k=40),sample(woman,k=40),sample(woman,k=40),sample(woman,k=40),sample(woman,k=40),sample(woman,k=40),sample(woman,k=40),sample(woman,k=40),sample(woman,k=40),sample(woman,k=40),sample(woman,k=40),sample(woman,k=40),sample(woman,k=40),sample(woman,k=40),sample(woman,k=40),sample(woman,k=40),sample(woman,k=40),sample(woman,k=40),sample(woman,k=40),sample(woman,k=40),sample(woman,k=40),sample(woman,k=40),sample(woman,k=40),sample(woman,k=40),sample(woman,k=40),sample(woman,k=40),sample(woman,k=40),sample(woman,k=40),sample(woman,k=40),sample(woman,k=40)]\n",
        "  \n",
        "  preferGirls = [sample(man,k=40),sample(man,k=40),sample(man,k=40),sample(man,k=40),sample(man,k=40),sample(man,k=40),sample(man,k=40),sample(man,k=40),sample(man,k=40),sample(man,k=40),sample(man,k=40),sample(man,k=40),sample(man,k=40),sample(man,k=40),sample(man,k=40),sample(man,k=40),sample(man,k=40),sample(man,k=40),sample(man,k=40),sample(man,k=40),sample(man,k=40),sample(man,k=40),sample(man,k=40),sample(man,k=40),sample(man,k=40),sample(man,k=40),sample(man,k=40),sample(man,k=40),sample(man,k=40),sample(man,k=40),sample(man,k=40),sample(man,k=40),sample(man,k=40),sample(man,k=40),sample(man,k=40),sample(man,k=40),sample(man,k=40),sample(man,k=40),sample(man,k=40),sample(man,k=40)]\n",
        "  time_in = time() \n",
        "  stableMarriage(preferBoys+preferGirls)\n",
        "  time_fn = time()\n",
        "  if (i<5):\n",
        "    timer[i]=(time_fn-time_in)\n",
        "    prefer[i]=(preferBoys+preferGirls)\n",
        "  else :\n",
        "    j=0\n",
        "    while j<3:\n",
        "      if ((time_fn-time_in)<timer[j]):\n",
        "        timer[j]=time_fn-time_in\n",
        "        prefer[j]=preferBoys+preferGirls\n",
        "        break\n",
        "      if ((time_fn-time_in)>timer[j+3]):\n",
        "        timer[j+3]=time_fn-time_in\n",
        "        prefer[j+3]=preferBoys+preferGirls\n",
        "        break\n",
        "      j+=1\n",
        "print(timer)\n",
        "print(prefer)"
      ],
      "execution_count": 5,
      "outputs": [
        {
          "output_type": "stream",
          "text": [
            "[0.000225067138671875, 0.0002353191375732422, 0.00025272369384765625, 0.0011739730834960938, 0.0010037422180175781, 0.0009512901306152344]\n",
            "[[[52, 73, 47, 43, 59, 40, 72, 64, 75, 74, 68, 71, 44, 70, 51, 69, 67, 62, 55, 77, 76, 61, 79, 58, 46, 56, 65, 48, 63, 54, 53, 60, 45, 78, 50, 66, 49, 42, 41, 57], [45, 65, 60, 67, 68, 58, 54, 50, 69, 42, 57, 62, 66, 59, 51, 70, 74, 40, 76, 43, 49, 75, 47, 41, 56, 72, 79, 77, 52, 78, 71, 63, 48, 55, 73, 53, 46, 61, 44, 64], [63, 40, 41, 79, 56, 44, 64, 53, 54, 74, 73, 60, 45, 48, 47, 42, 71, 66, 78, 59, 67, 69, 58, 76, 46, 70, 43, 72, 62, 51, 52, 49, 55, 65, 50, 61, 77, 68, 57, 75], [51, 77, 72, 57, 78, 43, 75, 64, 60, 61, 73, 59, 76, 46, 48, 74, 79, 69, 44, 52, 70, 65, 40, 63, 71, 58, 68, 42, 54, 45, 53, 49, 41, 62, 66, 47, 55, 56, 50, 67], [51, 64, 58, 43, 47, 50, 55, 70, 77, 68, 66, 61, 48, 54, 65, 45, 42, 40, 49, 74, 52, 59, 71, 69, 60, 76, 73, 78, 57, 72, 46, 56, 75, 79, 41, 67, 63, 62, 53, 44], [66, 48, 79, 42, 56, 72, 71, 63, 44, 74, 55, 78, 76, 57, 64, 60, 65, 51, 70, 49, 47, 67, 68, 52, 69, 59, 41, 50, 73, 61, 58, 53, 54, 62, 77, 40, 46, 75, 45, 43], [54, 53, 60, 66, 64, 44, 58, 69, 52, 41, 74, 46, 59, 73, 67, 49, 43, 76, 42, 62, 78, 56, 51, 57, 63, 79, 45, 70, 50, 75, 71, 48, 40, 61, 77, 47, 68, 55, 72, 65], [43, 61, 48, 53, 49, 63, 67, 55, 78, 69, 65, 45, 47, 72, 60, 76, 68, 40, 41, 79, 50, 54, 42, 57, 66, 51, 73, 62, 46, 74, 59, 58, 44, 75, 77, 64, 52, 70, 56, 71], [71, 40, 53, 52, 61, 62, 66, 56, 51, 79, 55, 73, 44, 45, 42, 46, 72, 68, 54, 67, 43, 41, 50, 65, 57, 58, 78, 76, 48, 69, 47, 49, 59, 60, 77, 70, 64, 75, 63, 74], [72, 74, 67, 54, 73, 53, 51, 69, 65, 57, 40, 44, 77, 41, 60, 55, 63, 48, 78, 59, 46, 58, 76, 61, 62, 49, 43, 79, 42, 71, 50, 47, 75, 68, 56, 66, 52, 70, 45, 64], [62, 67, 43, 74, 68, 54, 45, 47, 58, 78, 69, 42, 64, 57, 52, 77, 66, 40, 61, 44, 73, 70, 49, 65, 55, 46, 72, 60, 75, 71, 51, 76, 50, 56, 48, 59, 79, 63, 41, 53], [42, 48, 55, 46, 66, 71, 69, 67, 60, 77, 57, 62, 65, 53, 43, 47, 54, 63, 44, 75, 40, 68, 51, 58, 59, 52, 78, 79, 56, 41, 73, 70, 64, 72, 50, 45, 74, 61, 76, 49], [79, 77, 52, 65, 61, 76, 44, 72, 71, 56, 58, 51, 64, 49, 70, 41, 69, 67, 57, 75, 66, 74, 40, 73, 60, 43, 45, 50, 62, 78, 47, 68, 42, 54, 46, 63, 59, 55, 48, 53], [64, 78, 57, 63, 67, 40, 68, 65, 44, 49, 56, 45, 47, 55, 72, 53, 77, 50, 69, 42, 62, 70, 46, 76, 79, 59, 75, 54, 51, 71, 61, 52, 41, 43, 73, 58, 60, 74, 48, 66], [66, 62, 51, 73, 40, 44, 42, 61, 72, 78, 67, 53, 64, 77, 48, 69, 49, 70, 75, 63, 55, 52, 47, 60, 74, 71, 41, 59, 54, 68, 76, 45, 57, 79, 65, 50, 46, 58, 56, 43], [64, 78, 73, 44, 59, 55, 50, 68, 57, 54, 79, 76, 70, 45, 46, 61, 60, 42, 58, 74, 71, 66, 65, 53, 77, 40, 56, 51, 63, 47, 62, 49, 75, 41, 43, 72, 69, 48, 52, 67], [42, 69, 57, 66, 59, 61, 67, 60, 48, 53, 76, 45, 72, 79, 52, 58, 54, 70, 63, 64, 74, 41, 51, 56, 68, 73, 50, 62, 75, 78, 47, 44, 40, 49, 65, 77, 71, 46, 55, 43], [46, 75, 71, 64, 61, 74, 51, 53, 78, 76, 43, 54, 55, 42, 41, 56, 60, 45, 72, 79, 57, 69, 66, 65, 68, 49, 52, 63, 47, 73, 77, 58, 62, 67, 40, 50, 48, 44, 59, 70], [46, 67, 56, 45, 63, 49, 50, 71, 73, 79, 58, 41, 52, 65, 55, 77, 64, 78, 74, 70, 69, 40, 66, 43, 53, 61, 60, 54, 68, 76, 72, 47, 59, 51, 44, 62, 75, 48, 57, 42], [43, 70, 53, 69, 62, 45, 79, 50, 58, 47, 55, 60, 63, 78, 77, 73, 65, 57, 56, 54, 40, 64, 44, 51, 72, 42, 68, 75, 71, 61, 66, 76, 41, 49, 67, 74, 48, 46, 59, 52], [76, 40, 55, 42, 75, 58, 69, 59, 52, 49, 73, 74, 56, 48, 79, 63, 53, 61, 64, 71, 41, 54, 43, 60, 51, 66, 44, 65, 70, 78, 68, 67, 50, 62, 45, 77, 57, 72, 47, 46], [66, 77, 71, 78, 74, 72, 55, 70, 54, 64, 62, 42, 46, 52, 63, 49, 61, 58, 60, 57, 79, 53, 56, 73, 40, 75, 50, 68, 41, 76, 47, 59, 44, 67, 51, 69, 48, 43, 45, 65], [49, 52, 43, 54, 63, 40, 71, 60, 51, 46, 55, 61, 42, 41, 77, 79, 45, 68, 62, 70, 56, 72, 59, 48, 50, 65, 64, 74, 76, 73, 47, 66, 69, 57, 78, 67, 44, 53, 75, 58], [79, 47, 57, 54, 75, 67, 43, 74, 63, 53, 56, 60, 69, 41, 55, 52, 58, 64, 44, 76, 65, 51, 59, 78, 42, 46, 66, 48, 61, 73, 62, 45, 68, 49, 72, 77, 40, 70, 71, 50], [65, 67, 62, 55, 44, 48, 74, 75, 71, 63, 72, 57, 40, 52, 53, 79, 58, 43, 47, 41, 61, 66, 70, 59, 54, 51, 69, 60, 68, 46, 77, 50, 56, 76, 64, 78, 73, 49, 45, 42], [59, 54, 64, 79, 45, 67, 77, 58, 42, 50, 57, 52, 76, 72, 41, 75, 60, 61, 44, 40, 70, 43, 51, 74, 78, 53, 49, 66, 73, 48, 71, 69, 56, 63, 65, 55, 62, 46, 68, 47], [60, 41, 55, 68, 47, 71, 70, 57, 65, 76, 51, 52, 78, 69, 48, 40, 66, 67, 79, 45, 43, 74, 77, 54, 64, 75, 63, 72, 44, 61, 53, 56, 62, 42, 46, 73, 49, 58, 50, 59], [78, 68, 59, 65, 41, 60, 55, 66, 49, 42, 58, 61, 74, 57, 52, 50, 73, 43, 53, 63, 70, 45, 54, 62, 69, 56, 46, 48, 44, 75, 64, 71, 51, 76, 77, 40, 47, 67, 79, 72], [56, 78, 71, 65, 74, 48, 73, 57, 61, 64, 66, 68, 54, 47, 59, 50, 49, 42, 79, 58, 53, 45, 51, 69, 76, 70, 52, 41, 46, 43, 44, 63, 77, 40, 72, 67, 60, 62, 75, 55], [77, 68, 50, 64, 79, 47, 53, 56, 75, 59, 71, 40, 51, 44, 46, 48, 66, 62, 52, 42, 58, 41, 61, 49, 43, 72, 74, 60, 73, 69, 55, 76, 78, 54, 63, 70, 67, 45, 65, 57], [79, 41, 75, 70, 69, 59, 43, 77, 54, 52, 40, 67, 48, 60, 74, 53, 72, 66, 45, 55, 71, 49, 68, 61, 78, 46, 44, 65, 42, 56, 73, 57, 47, 50, 63, 64, 62, 51, 76, 58], [68, 64, 77, 58, 56, 45, 57, 48, 44, 46, 54, 55, 47, 59, 78, 41, 71, 40, 53, 67, 66, 72, 74, 76, 62, 65, 52, 43, 69, 51, 61, 79, 73, 75, 70, 63, 42, 50, 60, 49], [79, 56, 46, 50, 76, 70, 44, 74, 48, 71, 68, 58, 67, 73, 72, 78, 49, 60, 42, 43, 65, 62, 75, 55, 53, 54, 40, 59, 61, 51, 64, 57, 63, 52, 47, 77, 41, 45, 69, 66], [44, 78, 75, 68, 56, 52, 54, 57, 46, 60, 64, 49, 55, 45, 73, 61, 69, 40, 79, 65, 72, 67, 43, 63, 70, 76, 77, 59, 62, 41, 42, 47, 48, 51, 58, 50, 66, 74, 71, 53], [77, 58, 50, 73, 78, 49, 55, 61, 72, 60, 54, 44, 52, 79, 65, 53, 76, 75, 74, 48, 59, 70, 43, 62, 57, 69, 64, 66, 46, 68, 67, 56, 71, 40, 47, 41, 42, 45, 63, 51], [58, 59, 77, 69, 43, 41, 56, 76, 71, 45, 70, 66, 57, 51, 63, 49, 46, 42, 55, 50, 61, 72, 73, 60, 64, 62, 65, 47, 79, 52, 78, 40, 48, 67, 75, 68, 54, 44, 74, 53], [53, 43, 63, 58, 46, 51, 70, 55, 66, 74, 72, 78, 48, 44, 41, 69, 65, 60, 79, 40, 47, 62, 50, 49, 42, 73, 59, 56, 75, 67, 68, 77, 64, 45, 61, 71, 57, 52, 54, 76], [60, 48, 44, 42, 74, 69, 45, 50, 68, 57, 55, 66, 63, 61, 51, 79, 73, 72, 70, 53, 47, 59, 46, 67, 62, 71, 40, 41, 58, 64, 76, 78, 77, 54, 75, 52, 65, 43, 56, 49], [50, 43, 70, 65, 74, 71, 60, 49, 73, 76, 56, 55, 44, 52, 66, 64, 75, 58, 77, 54, 45, 67, 68, 53, 47, 48, 78, 63, 62, 61, 41, 59, 42, 69, 79, 51, 40, 57, 46, 72], [56, 77, 57, 69, 66, 52, 40, 67, 71, 43, 63, 41, 74, 54, 47, 78, 58, 49, 62, 45, 51, 72, 60, 55, 46, 64, 68, 42, 44, 61, 48, 76, 50, 70, 59, 65, 75, 73, 53, 79], [4, 9, 36, 32, 3, 38, 0, 34, 29, 10, 2, 12, 20, 7, 1, 26, 16, 27, 21, 23, 28, 8, 17, 5, 25, 13, 6, 22, 11, 31, 30, 18, 33, 15, 39, 37, 19, 24, 14, 35], [9, 6, 32, 39, 19, 37, 31, 20, 4, 30, 25, 15, 27, 5, 35, 18, 2, 34, 14, 10, 12, 23, 24, 16, 8, 29, 26, 13, 36, 22, 38, 11, 33, 21, 7, 28, 0, 17, 3, 1], [26, 3, 29, 25, 27, 18, 16, 11, 10, 15, 31, 12, 7, 36, 6, 2, 28, 23, 20, 14, 21, 8, 0, 13, 32, 4, 5, 38, 34, 17, 24, 35, 1, 30, 39, 19, 33, 22, 37, 9], [10, 16, 21, 26, 33, 23, 18, 7, 38, 6, 32, 2, 34, 22, 30, 28, 17, 4, 8, 19, 27, 5, 15, 31, 13, 14, 1, 9, 36, 0, 20, 12, 3, 35, 29, 24, 37, 25, 11, 39], [26, 28, 16, 10, 17, 22, 30, 9, 7, 13, 31, 6, 37, 35, 25, 27, 14, 23, 24, 39, 32, 38, 4, 36, 29, 1, 20, 34, 15, 5, 11, 0, 18, 33, 2, 21, 3, 12, 8, 19], [38, 1, 24, 32, 21, 22, 33, 25, 23, 5, 34, 17, 7, 9, 36, 18, 14, 8, 16, 39, 12, 10, 37, 27, 3, 35, 15, 26, 0, 11, 2, 13, 20, 30, 29, 19, 31, 28, 6, 4], [1, 5, 10, 3, 35, 7, 31, 19, 8, 14, 26, 32, 11, 27, 2, 6, 23, 36, 38, 21, 37, 39, 34, 33, 4, 13, 22, 17, 16, 18, 0, 12, 25, 20, 24, 15, 28, 9, 30, 29], [39, 9, 0, 35, 20, 2, 37, 7, 38, 14, 13, 11, 4, 28, 15, 33, 24, 22, 18, 27, 6, 25, 12, 8, 21, 16, 10, 36, 32, 26, 31, 3, 23, 30, 5, 19, 29, 1, 17, 34], [14, 21, 2, 36, 29, 0, 38, 22, 15, 20, 8, 18, 33, 27, 16, 5, 19, 25, 34, 24, 37, 39, 28, 7, 3, 1, 23, 9, 10, 31, 11, 4, 35, 26, 30, 32, 13, 12, 6, 17], [6, 3, 32, 7, 24, 5, 13, 9, 8, 16, 14, 39, 12, 2, 15, 25, 33, 26, 11, 27, 1, 18, 20, 30, 22, 23, 35, 19, 29, 0, 36, 37, 21, 38, 34, 31, 10, 17, 28, 4], [12, 17, 11, 24, 19, 38, 4, 6, 9, 20, 27, 35, 22, 39, 31, 36, 34, 26, 15, 30, 3, 0, 18, 14, 2, 37, 16, 21, 29, 25, 8, 10, 28, 23, 13, 1, 33, 32, 5, 7], [39, 31, 35, 32, 8, 7, 19, 12, 22, 28, 4, 37, 6, 27, 30, 11, 34, 36, 25, 0, 29, 18, 15, 9, 23, 3, 26, 24, 38, 2, 14, 1, 16, 10, 5, 13, 20, 33, 21, 17], [18, 16, 20, 4, 6, 35, 38, 36, 10, 0, 1, 19, 5, 8, 2, 23, 7, 21, 14, 15, 9, 13, 29, 3, 27, 25, 24, 28, 12, 34, 31, 32, 22, 26, 17, 11, 37, 30, 33, 39], [18, 37, 29, 12, 17, 0, 7, 36, 23, 5, 27, 22, 24, 19, 11, 25, 2, 33, 34, 38, 31, 10, 14, 3, 1, 39, 13, 28, 26, 9, 4, 20, 21, 8, 32, 16, 15, 30, 35, 6], [38, 37, 35, 14, 8, 21, 34, 27, 39, 25, 11, 19, 22, 18, 26, 28, 2, 31, 17, 10, 12, 24, 32, 29, 4, 33, 9, 3, 7, 30, 16, 6, 1, 5, 0, 15, 13, 20, 23, 36], [32, 19, 36, 30, 16, 33, 37, 13, 9, 29, 38, 7, 35, 6, 5, 3, 31, 18, 24, 8, 21, 23, 1, 20, 25, 0, 34, 26, 15, 39, 11, 27, 12, 10, 4, 28, 17, 22, 14, 2], [37, 16, 2, 32, 6, 21, 17, 26, 9, 33, 24, 22, 25, 3, 12, 23, 0, 11, 27, 13, 14, 38, 39, 4, 36, 20, 10, 28, 31, 34, 5, 7, 8, 15, 30, 19, 35, 18, 29, 1], [38, 9, 14, 11, 13, 39, 23, 2, 25, 36, 34, 28, 6, 0, 32, 15, 1, 37, 20, 16, 24, 29, 27, 5, 19, 35, 31, 10, 33, 4, 17, 7, 18, 30, 3, 12, 26, 21, 22, 8], [16, 5, 19, 20, 13, 24, 1, 12, 6, 31, 17, 29, 10, 30, 37, 33, 4, 9, 2, 3, 39, 8, 34, 15, 26, 32, 35, 21, 28, 38, 0, 22, 11, 14, 7, 23, 25, 36, 18, 27], [0, 11, 24, 29, 12, 1, 13, 9, 22, 34, 38, 25, 33, 2, 27, 23, 31, 26, 39, 21, 17, 4, 19, 18, 28, 35, 7, 36, 8, 6, 5, 14, 32, 16, 37, 30, 20, 10, 3, 15], [36, 7, 14, 28, 22, 19, 34, 31, 16, 24, 29, 35, 33, 8, 12, 37, 38, 10, 32, 30, 3, 5, 2, 17, 0, 15, 9, 26, 39, 20, 21, 4, 1, 27, 23, 25, 6, 18, 11, 13], [30, 10, 21, 23, 20, 17, 24, 27, 9, 6, 36, 31, 32, 14, 7, 8, 35, 11, 0, 25, 4, 3, 33, 5, 2, 37, 13, 26, 39, 28, 1, 19, 18, 38, 12, 16, 15, 22, 34, 29], [17, 18, 36, 21, 5, 8, 30, 24, 13, 23, 6, 11, 3, 28, 1, 19, 10, 26, 12, 32, 35, 9, 27, 38, 0, 15, 31, 37, 4, 14, 39, 33, 29, 16, 7, 22, 25, 34, 20, 2], [9, 28, 34, 32, 29, 36, 6, 19, 26, 13, 4, 15, 8, 12, 35, 3, 30, 27, 20, 33, 25, 38, 14, 7, 0, 1, 39, 18, 17, 24, 5, 11, 22, 31, 21, 2, 16, 10, 23, 37], [24, 39, 0, 33, 35, 14, 27, 6, 37, 22, 2, 36, 7, 3, 19, 1, 28, 32, 16, 38, 30, 23, 25, 20, 8, 5, 31, 29, 4, 18, 12, 34, 10, 13, 11, 9, 21, 26, 15, 17], [18, 34, 21, 9, 27, 32, 22, 37, 24, 12, 29, 31, 26, 7, 11, 39, 38, 25, 5, 1, 3, 6, 20, 0, 36, 4, 2, 19, 13, 28, 30, 33, 23, 8, 14, 35, 15, 16, 17, 10], [10, 17, 28, 19, 30, 29, 39, 33, 15, 3, 4, 13, 25, 38, 23, 34, 32, 16, 35, 8, 31, 6, 5, 0, 22, 20, 7, 11, 26, 9, 24, 21, 18, 14, 36, 12, 27, 1, 37, 2], [0, 6, 18, 13, 26, 16, 4, 14, 25, 11, 30, 27, 2, 28, 5, 20, 33, 9, 1, 17, 21, 10, 35, 24, 29, 39, 15, 34, 12, 31, 36, 8, 19, 3, 23, 7, 38, 32, 37, 22], [29, 4, 31, 14, 11, 1, 6, 5, 12, 39, 37, 18, 33, 36, 23, 24, 28, 34, 16, 26, 35, 3, 13, 17, 20, 19, 2, 27, 38, 21, 32, 30, 25, 0, 9, 8, 7, 10, 15, 22], [3, 29, 31, 28, 0, 26, 23, 2, 9, 1, 34, 11, 22, 12, 8, 4, 17, 39, 20, 19, 37, 16, 6, 24, 30, 35, 38, 27, 13, 36, 33, 21, 25, 7, 10, 18, 5, 32, 15, 14], [38, 18, 0, 21, 24, 37, 30, 19, 10, 6, 26, 13, 31, 39, 1, 32, 27, 12, 34, 5, 3, 15, 28, 29, 9, 23, 25, 11, 2, 7, 16, 33, 35, 22, 14, 4, 8, 20, 17, 36], [17, 39, 7, 35, 10, 30, 18, 5, 29, 32, 11, 16, 36, 21, 28, 24, 14, 0, 1, 19, 2, 6, 22, 3, 25, 31, 15, 38, 34, 26, 20, 27, 8, 37, 33, 23, 13, 9, 12, 4], [7, 2, 8, 4, 37, 34, 16, 33, 20, 23, 28, 35, 24, 5, 1, 15, 22, 0, 13, 10, 32, 21, 11, 17, 14, 25, 27, 29, 38, 6, 31, 19, 39, 36, 30, 26, 12, 18, 3, 9], [4, 13, 14, 25, 12, 10, 35, 18, 33, 5, 29, 8, 20, 21, 19, 1, 26, 9, 24, 11, 16, 2, 32, 15, 17, 36, 22, 23, 38, 3, 27, 7, 30, 37, 31, 28, 6, 0, 39, 34], [13, 30, 4, 34, 20, 21, 3, 36, 0, 25, 18, 12, 6, 14, 27, 17, 1, 8, 38, 11, 22, 7, 39, 15, 33, 10, 35, 16, 31, 5, 19, 32, 9, 2, 24, 29, 26, 37, 28, 23], [12, 23, 21, 0, 17, 28, 32, 15, 14, 34, 5, 29, 38, 30, 18, 13, 20, 10, 33, 8, 37, 31, 22, 39, 1, 25, 27, 16, 11, 24, 9, 19, 6, 3, 4, 26, 35, 7, 2, 36], [29, 6, 15, 12, 4, 34, 9, 19, 16, 18, 5, 23, 2, 38, 1, 33, 24, 26, 37, 28, 35, 25, 22, 17, 31, 20, 7, 21, 13, 3, 10, 0, 27, 14, 30, 36, 8, 32, 11, 39], [33, 5, 26, 39, 10, 12, 8, 16, 25, 28, 3, 34, 27, 14, 20, 11, 37, 1, 18, 4, 19, 21, 24, 30, 0, 13, 2, 29, 35, 9, 31, 6, 32, 15, 36, 7, 38, 23, 22, 17], [2, 15, 5, 17, 34, 13, 16, 32, 9, 25, 38, 31, 35, 6, 26, 4, 22, 33, 18, 11, 36, 30, 3, 10, 39, 8, 19, 29, 7, 14, 23, 27, 12, 1, 21, 0, 24, 28, 37, 20], [7, 21, 10, 35, 24, 20, 28, 31, 32, 8, 23, 13, 22, 34, 5, 11, 30, 25, 36, 17, 18, 3, 37, 19, 26, 6, 9, 33, 38, 27, 15, 12, 4, 14, 0, 29, 39, 2, 1, 16]], [[73, 44, 41, 59, 51, 66, 61, 47, 71, 79, 65, 48, 69, 68, 57, 70, 64, 75, 62, 67, 58, 76, 78, 72, 60, 46, 40, 56, 45, 74, 42, 50, 54, 77, 49, 52, 55, 63, 53, 43], [43, 60, 48, 58, 56, 75, 57, 47, 74, 76, 62, 44, 79, 51, 70, 59, 72, 63, 65, 49, 55, 50, 42, 54, 40, 46, 64, 68, 71, 66, 53, 52, 77, 78, 69, 73, 41, 45, 61, 67], [64, 52, 58, 61, 62, 60, 40, 44, 49, 57, 53, 78, 45, 72, 67, 71, 79, 56, 75, 66, 63, 55, 47, 42, 43, 70, 74, 73, 77, 65, 68, 76, 41, 48, 69, 54, 51, 59, 46, 50], [41, 68, 63, 72, 79, 69, 54, 45, 76, 75, 48, 64, 59, 46, 65, 57, 60, 74, 44, 42, 51, 61, 40, 53, 58, 49, 55, 43, 50, 70, 52, 73, 78, 67, 56, 47, 66, 71, 77, 62], [55, 51, 40, 61, 71, 69, 62, 78, 53, 46, 75, 48, 70, 74, 42, 50, 44, 72, 77, 63, 67, 49, 57, 59, 56, 47, 73, 58, 64, 76, 45, 66, 65, 43, 54, 79, 60, 68, 41, 52], [42, 74, 71, 76, 52, 60, 69, 50, 75, 78, 70, 66, 56, 51, 54, 65, 57, 58, 40, 77, 44, 61, 63, 79, 73, 53, 72, 62, 67, 68, 55, 48, 43, 49, 45, 59, 47, 41, 64, 46], [43, 67, 68, 55, 66, 54, 71, 73, 78, 58, 74, 65, 61, 51, 49, 56, 77, 79, 53, 42, 40, 64, 45, 44, 52, 63, 75, 46, 72, 76, 59, 47, 57, 70, 62, 48, 60, 50, 69, 41], [78, 47, 68, 40, 51, 62, 72, 52, 45, 77, 42, 60, 64, 53, 43, 63, 59, 46, 48, 70, 71, 61, 76, 73, 75, 57, 58, 54, 55, 65, 69, 41, 56, 67, 44, 50, 66, 79, 49, 74], [49, 59, 75, 52, 62, 70, 63, 79, 45, 78, 66, 61, 68, 40, 67, 72, 47, 51, 46, 43, 74, 44, 65, 53, 69, 64, 54, 60, 76, 58, 48, 71, 57, 50, 56, 77, 55, 42, 41, 73], [45, 72, 44, 41, 68, 69, 47, 76, 52, 56, 49, 40, 59, 71, 67, 51, 57, 54, 75, 62, 65, 48, 74, 77, 50, 64, 78, 73, 53, 70, 43, 42, 55, 63, 60, 58, 61, 46, 66, 79], [64, 40, 48, 60, 55, 47, 42, 79, 62, 70, 56, 52, 75, 63, 74, 58, 44, 68, 57, 77, 43, 76, 66, 69, 53, 59, 51, 46, 73, 50, 41, 72, 71, 78, 65, 54, 45, 61, 67, 49], [58, 53, 57, 75, 55, 66, 62, 51, 73, 67, 59, 68, 40, 50, 76, 79, 43, 42, 48, 49, 54, 63, 69, 47, 70, 45, 64, 61, 78, 56, 52, 44, 65, 46, 77, 71, 74, 60, 72, 41], [47, 68, 58, 79, 53, 71, 56, 41, 50, 59, 70, 51, 55, 45, 52, 42, 74, 66, 72, 73, 43, 44, 65, 57, 60, 75, 78, 62, 54, 40, 61, 67, 48, 63, 76, 77, 69, 49, 46, 64], [51, 40, 71, 45, 56, 57, 59, 44, 77, 72, 74, 75, 53, 54, 68, 66, 55, 58, 43, 67, 47, 46, 76, 50, 78, 42, 52, 61, 41, 48, 79, 64, 49, 62, 70, 60, 69, 63, 73, 65], [54, 46, 72, 55, 58, 71, 40, 48, 79, 41, 67, 51, 52, 50, 70, 76, 77, 43, 53, 65, 73, 78, 62, 60, 69, 59, 75, 56, 66, 74, 63, 42, 68, 45, 47, 57, 49, 61, 44, 64], [41, 63, 76, 79, 77, 59, 69, 68, 61, 48, 75, 67, 44, 49, 42, 62, 72, 43, 60, 57, 53, 74, 70, 54, 46, 55, 52, 56, 40, 66, 71, 50, 73, 51, 45, 78, 47, 64, 65, 58], [50, 62, 74, 53, 40, 76, 54, 51, 70, 64, 49, 79, 71, 63, 78, 47, 52, 77, 68, 65, 69, 41, 43, 42, 73, 55, 57, 44, 60, 59, 75, 66, 45, 46, 48, 72, 56, 61, 58, 67], [76, 44, 41, 72, 64, 70, 45, 79, 57, 63, 73, 51, 42, 43, 71, 52, 54, 53, 75, 47, 49, 78, 55, 62, 48, 69, 50, 56, 68, 66, 77, 59, 40, 46, 60, 61, 67, 58, 74, 65], [51, 43, 48, 71, 67, 72, 77, 66, 60, 40, 52, 56, 45, 75, 41, 59, 69, 53, 76, 65, 63, 50, 47, 74, 64, 44, 68, 79, 57, 49, 55, 70, 61, 73, 78, 42, 58, 62, 46, 54], [73, 45, 40, 67, 66, 75, 70, 54, 74, 52, 64, 48, 47, 78, 43, 59, 63, 46, 77, 71, 60, 69, 57, 51, 55, 49, 79, 65, 41, 50, 58, 76, 61, 42, 62, 44, 53, 68, 56, 72], [65, 74, 49, 64, 59, 42, 66, 69, 77, 52, 73, 71, 54, 47, 40, 63, 56, 41, 75, 55, 67, 44, 72, 50, 48, 79, 53, 60, 45, 70, 58, 78, 43, 51, 57, 76, 68, 62, 46, 61], [64, 55, 46, 71, 78, 63, 53, 67, 62, 75, 45, 54, 41, 58, 68, 43, 61, 56, 48, 65, 42, 49, 57, 70, 79, 69, 73, 51, 50, 74, 60, 40, 66, 72, 59, 76, 44, 47, 77, 52], [61, 71, 48, 47, 79, 53, 57, 44, 73, 76, 54, 65, 43, 50, 51, 69, 40, 68, 55, 64, 78, 46, 67, 63, 42, 59, 72, 58, 45, 74, 75, 77, 66, 41, 70, 52, 60, 56, 62, 49], [75, 66, 42, 48, 77, 46, 67, 74, 76, 71, 43, 52, 45, 55, 72, 40, 44, 58, 49, 50, 54, 73, 79, 78, 65, 63, 57, 64, 59, 51, 60, 68, 53, 56, 69, 41, 47, 61, 70, 62], [43, 62, 73, 76, 51, 44, 53, 68, 64, 42, 49, 70, 71, 79, 56, 48, 63, 57, 50, 60, 69, 55, 78, 74, 47, 75, 67, 40, 72, 65, 61, 45, 77, 41, 58, 66, 52, 54, 59, 46], [69, 49, 73, 75, 78, 63, 68, 47, 70, 65, 59, 48, 45, 44, 79, 46, 43, 52, 40, 53, 66, 57, 77, 76, 54, 74, 60, 41, 71, 61, 55, 64, 50, 62, 56, 72, 42, 51, 58, 67], [40, 71, 73, 53, 78, 49, 75, 51, 48, 46, 77, 45, 65, 58, 79, 63, 61, 44, 64, 56, 41, 55, 42, 69, 68, 70, 74, 62, 54, 60, 66, 67, 50, 47, 43, 72, 52, 76, 59, 57], [51, 58, 61, 76, 59, 74, 43, 55, 46, 53, 64, 45, 62, 72, 44, 47, 66, 78, 54, 68, 69, 56, 73, 50, 42, 41, 65, 67, 52, 60, 77, 48, 40, 63, 79, 57, 71, 49, 75, 70], [75, 44, 78, 69, 62, 55, 73, 46, 77, 54, 57, 53, 47, 41, 51, 76, 72, 63, 42, 59, 79, 60, 68, 61, 64, 52, 56, 66, 70, 74, 40, 45, 58, 50, 48, 67, 65, 43, 71, 49], [76, 70, 57, 43, 60, 48, 54, 40, 67, 78, 46, 73, 47, 52, 68, 44, 41, 51, 65, 71, 63, 49, 56, 79, 66, 62, 77, 58, 69, 42, 50, 61, 45, 55, 64, 75, 74, 53, 72, 59], [51, 40, 45, 49, 41, 58, 57, 53, 56, 52, 42, 75, 78, 79, 70, 44, 59, 73, 54, 77, 69, 72, 64, 76, 50, 66, 67, 68, 61, 65, 74, 47, 48, 71, 60, 62, 43, 46, 55, 63], [68, 70, 47, 50, 53, 45, 58, 61, 75, 71, 65, 60, 41, 72, 74, 43, 66, 55, 46, 57, 78, 76, 52, 79, 48, 73, 63, 56, 59, 40, 64, 67, 51, 69, 77, 54, 44, 42, 49, 62], [78, 41, 44, 61, 47, 69, 40, 56, 53, 64, 70, 46, 43, 68, 67, 73, 62, 57, 58, 65, 55, 66, 77, 59, 51, 50, 79, 72, 74, 52, 63, 75, 45, 54, 42, 49, 71, 48, 60, 76], [66, 70, 58, 41, 59, 65, 77, 78, 72, 57, 47, 53, 71, 50, 46, 40, 79, 48, 74, 75, 63, 49, 64, 61, 68, 43, 76, 56, 62, 67, 69, 60, 45, 42, 52, 73, 54, 51, 55, 44], [63, 48, 52, 70, 41, 53, 43, 50, 60, 71, 46, 54, 62, 77, 76, 65, 42, 69, 79, 56, 61, 78, 68, 55, 73, 74, 58, 66, 57, 67, 64, 47, 45, 40, 49, 72, 51, 44, 75, 59], [71, 55, 67, 73, 66, 58, 54, 44, 79, 51, 50, 42, 72, 77, 62, 49, 65, 59, 40, 45, 43, 56, 61, 52, 63, 78, 75, 76, 41, 46, 47, 57, 74, 64, 70, 68, 48, 69, 53, 60], [77, 45, 49, 72, 48, 70, 40, 79, 53, 64, 57, 68, 46, 42, 51, 76, 67, 73, 62, 66, 65, 78, 58, 52, 61, 55, 71, 44, 43, 63, 47, 56, 59, 75, 74, 69, 41, 50, 54, 60], [74, 73, 75, 41, 71, 65, 50, 70, 55, 51, 78, 72, 63, 67, 45, 56, 58, 59, 43, 79, 60, 54, 52, 61, 42, 62, 44, 69, 49, 47, 40, 46, 68, 53, 76, 77, 66, 57, 48, 64], [67, 57, 44, 70, 53, 76, 40, 49, 77, 79, 69, 73, 59, 75, 48, 64, 68, 55, 63, 56, 62, 78, 54, 50, 42, 46, 60, 66, 45, 41, 74, 58, 65, 71, 47, 51, 52, 72, 43, 61], [62, 72, 46, 50, 63, 41, 48, 55, 44, 45, 58, 57, 49, 65, 51, 79, 64, 43, 67, 73, 77, 54, 75, 56, 40, 76, 70, 68, 42, 66, 60, 53, 74, 78, 52, 59, 71, 61, 69, 47], [31, 2, 5, 38, 32, 16, 13, 12, 27, 34, 29, 19, 17, 33, 25, 0, 15, 39, 14, 20, 28, 1, 7, 10, 35, 8, 21, 26, 6, 24, 4, 18, 30, 9, 23, 22, 11, 36, 37, 3], [30, 4, 33, 27, 5, 26, 25, 11, 13, 38, 18, 24, 10, 14, 37, 20, 9, 32, 22, 15, 23, 35, 39, 19, 2, 1, 31, 36, 16, 28, 17, 3, 29, 34, 12, 7, 21, 8, 0, 6], [9, 7, 33, 39, 10, 35, 15, 36, 18, 3, 8, 30, 25, 26, 6, 5, 19, 16, 27, 22, 23, 14, 37, 12, 17, 28, 20, 2, 13, 34, 24, 38, 32, 21, 1, 29, 11, 4, 31, 0], [31, 5, 18, 9, 13, 28, 37, 24, 26, 7, 21, 32, 34, 30, 6, 35, 3, 20, 14, 38, 19, 36, 22, 25, 23, 27, 0, 11, 12, 1, 15, 33, 10, 39, 16, 2, 17, 29, 4, 8], [11, 5, 10, 37, 28, 24, 22, 13, 15, 19, 8, 7, 2, 27, 6, 9, 33, 30, 26, 34, 29, 35, 39, 12, 4, 18, 38, 32, 31, 36, 20, 21, 0, 16, 3, 25, 14, 1, 23, 17], [11, 37, 24, 2, 23, 19, 25, 39, 36, 5, 10, 16, 3, 0, 27, 34, 14, 18, 20, 31, 29, 32, 21, 6, 1, 4, 30, 38, 28, 8, 12, 35, 9, 17, 22, 26, 33, 15, 7, 13], [34, 37, 15, 12, 33, 6, 8, 13, 27, 29, 9, 23, 16, 32, 36, 24, 18, 1, 28, 3, 38, 5, 14, 11, 0, 22, 7, 25, 2, 26, 19, 20, 35, 39, 31, 17, 21, 30, 4, 10], [33, 8, 25, 17, 23, 19, 16, 14, 18, 21, 28, 31, 32, 37, 1, 22, 4, 11, 36, 39, 24, 0, 35, 6, 7, 12, 34, 13, 26, 20, 9, 5, 29, 27, 3, 30, 38, 15, 2, 10], [22, 5, 29, 8, 2, 31, 18, 28, 10, 13, 33, 38, 21, 26, 17, 9, 11, 16, 3, 30, 12, 19, 23, 1, 20, 34, 25, 36, 7, 15, 32, 35, 24, 39, 37, 6, 4, 0, 14, 27], [12, 34, 38, 6, 3, 23, 14, 9, 36, 35, 30, 28, 18, 20, 17, 5, 4, 33, 26, 13, 29, 32, 39, 21, 37, 25, 2, 31, 10, 16, 19, 1, 11, 27, 7, 24, 0, 8, 15, 22], [35, 8, 20, 3, 32, 31, 6, 23, 22, 30, 5, 33, 0, 7, 18, 1, 14, 21, 34, 38, 28, 10, 11, 12, 37, 24, 4, 29, 16, 19, 27, 17, 26, 9, 13, 2, 36, 15, 25, 39], [30, 26, 5, 25, 9, 8, 3, 27, 12, 11, 18, 38, 34, 17, 21, 10, 29, 39, 28, 31, 2, 0, 4, 23, 14, 6, 13, 7, 37, 22, 33, 1, 36, 24, 16, 32, 20, 35, 19, 15], [8, 32, 25, 7, 18, 20, 36, 21, 35, 3, 1, 11, 12, 39, 26, 30, 38, 4, 6, 19, 29, 9, 37, 15, 28, 34, 27, 23, 17, 24, 13, 31, 14, 0, 5, 22, 10, 16, 2, 33], [4, 38, 0, 10, 33, 3, 28, 13, 25, 32, 7, 23, 17, 20, 29, 2, 27, 26, 39, 22, 31, 8, 5, 36, 21, 35, 15, 19, 1, 11, 30, 6, 24, 12, 34, 14, 16, 18, 9, 37], [37, 1, 22, 29, 24, 38, 18, 5, 13, 30, 36, 26, 25, 3, 4, 19, 17, 33, 9, 31, 10, 35, 16, 32, 23, 8, 12, 27, 15, 6, 20, 28, 21, 39, 14, 7, 34, 2, 0, 11], [4, 29, 33, 3, 0, 32, 30, 28, 12, 9, 7, 17, 13, 11, 37, 8, 31, 25, 6, 22, 15, 19, 26, 18, 27, 5, 24, 36, 39, 14, 34, 20, 2, 1, 21, 38, 23, 10, 16, 35], [39, 36, 35, 10, 14, 6, 11, 13, 27, 31, 12, 33, 30, 18, 26, 4, 19, 9, 24, 29, 34, 17, 21, 22, 20, 16, 0, 5, 8, 25, 15, 32, 37, 2, 3, 23, 7, 28, 38, 1], [7, 6, 27, 38, 14, 9, 5, 37, 20, 0, 36, 1, 11, 12, 29, 8, 16, 31, 28, 24, 18, 17, 2, 23, 3, 25, 32, 15, 33, 26, 39, 21, 22, 4, 10, 34, 13, 30, 19, 35], [24, 9, 36, 11, 39, 5, 17, 34, 8, 38, 19, 13, 16, 7, 14, 15, 30, 31, 37, 29, 32, 0, 1, 10, 12, 21, 18, 22, 25, 20, 27, 28, 35, 3, 6, 23, 26, 4, 2, 33], [14, 19, 1, 35, 4, 25, 33, 28, 17, 13, 2, 27, 39, 12, 32, 24, 22, 21, 5, 7, 8, 26, 15, 36, 6, 11, 23, 20, 0, 29, 9, 10, 16, 38, 37, 34, 31, 30, 3, 18], [37, 28, 3, 0, 6, 21, 4, 25, 31, 19, 32, 13, 2, 34, 17, 23, 5, 29, 35, 7, 10, 22, 33, 30, 18, 26, 36, 9, 1, 15, 16, 24, 12, 11, 20, 14, 39, 38, 8, 27], [24, 7, 5, 38, 29, 23, 39, 10, 32, 3, 33, 26, 12, 15, 17, 21, 4, 16, 27, 31, 30, 35, 2, 25, 11, 19, 37, 8, 36, 13, 18, 20, 28, 22, 0, 9, 6, 1, 14, 34], [7, 23, 3, 8, 28, 1, 2, 37, 38, 4, 30, 26, 5, 19, 14, 10, 13, 39, 18, 22, 29, 20, 33, 16, 25, 17, 34, 24, 0, 35, 21, 36, 12, 31, 32, 27, 6, 9, 11, 15], [25, 15, 31, 37, 36, 17, 2, 14, 10, 21, 26, 0, 27, 28, 23, 13, 34, 18, 6, 5, 20, 7, 35, 33, 38, 39, 1, 29, 11, 9, 32, 24, 12, 3, 4, 30, 22, 19, 16, 8], [39, 14, 31, 12, 17, 38, 20, 24, 33, 21, 37, 18, 15, 1, 22, 23, 2, 32, 34, 0, 4, 30, 35, 6, 5, 29, 7, 27, 8, 26, 19, 36, 13, 9, 25, 10, 16, 28, 3, 11], [30, 18, 37, 17, 20, 21, 14, 29, 12, 23, 5, 34, 0, 15, 16, 35, 6, 13, 26, 28, 24, 31, 27, 32, 39, 3, 2, 22, 38, 4, 33, 11, 1, 7, 36, 9, 19, 25, 10, 8], [29, 35, 2, 39, 14, 0, 11, 8, 15, 31, 17, 34, 6, 24, 21, 10, 37, 13, 22, 19, 20, 1, 3, 23, 28, 30, 5, 16, 36, 32, 9, 26, 38, 4, 25, 27, 33, 18, 7, 12], [29, 24, 15, 34, 7, 10, 1, 21, 14, 20, 28, 31, 4, 35, 32, 36, 12, 8, 25, 37, 3, 18, 22, 39, 38, 30, 16, 2, 33, 0, 11, 9, 23, 13, 5, 6, 27, 26, 17, 19], [4, 29, 13, 7, 10, 19, 39, 17, 6, 3, 34, 0, 38, 2, 5, 25, 36, 32, 28, 30, 14, 9, 21, 12, 37, 16, 23, 18, 35, 27, 24, 11, 20, 1, 33, 15, 22, 26, 31, 8], [7, 14, 1, 21, 18, 24, 19, 29, 9, 16, 39, 34, 32, 8, 37, 12, 3, 22, 25, 33, 31, 2, 35, 5, 36, 0, 13, 4, 15, 10, 20, 6, 23, 27, 30, 17, 38, 28, 26, 11], [16, 8, 25, 30, 1, 6, 5, 17, 14, 2, 24, 34, 4, 20, 38, 3, 28, 35, 18, 10, 9, 37, 23, 31, 32, 13, 21, 33, 27, 22, 12, 11, 29, 36, 26, 15, 0, 39, 7, 19], [38, 15, 0, 34, 24, 3, 1, 21, 26, 27, 18, 37, 35, 28, 14, 2, 39, 29, 6, 7, 8, 16, 31, 22, 19, 23, 17, 5, 9, 32, 13, 36, 4, 20, 11, 12, 10, 30, 25, 33], [15, 29, 13, 33, 16, 25, 35, 8, 20, 6, 10, 24, 39, 18, 19, 32, 0, 14, 36, 9, 3, 1, 34, 38, 23, 27, 26, 4, 17, 22, 31, 7, 11, 37, 2, 30, 28, 5, 12, 21], [32, 4, 28, 38, 20, 13, 26, 24, 34, 11, 10, 35, 25, 17, 1, 33, 31, 2, 37, 21, 3, 14, 15, 6, 18, 0, 5, 19, 7, 29, 27, 23, 8, 22, 39, 30, 9, 36, 16, 12], [16, 25, 14, 21, 10, 18, 3, 29, 7, 11, 20, 26, 39, 36, 37, 5, 9, 27, 38, 31, 30, 23, 4, 22, 6, 32, 0, 1, 8, 34, 24, 35, 33, 17, 15, 28, 13, 19, 2, 12], [22, 34, 37, 36, 17, 19, 26, 32, 33, 10, 18, 38, 20, 12, 9, 24, 0, 16, 31, 35, 4, 7, 15, 23, 1, 30, 11, 2, 21, 8, 13, 5, 14, 25, 3, 6, 27, 28, 29, 39], [20, 39, 18, 33, 1, 19, 27, 23, 37, 29, 5, 15, 9, 21, 31, 7, 2, 0, 26, 22, 35, 6, 4, 11, 38, 17, 10, 34, 16, 12, 13, 3, 28, 32, 24, 14, 36, 8, 25, 30], [17, 35, 27, 11, 12, 20, 5, 25, 18, 24, 7, 1, 36, 31, 26, 13, 22, 29, 21, 6, 32, 34, 8, 2, 19, 16, 30, 14, 4, 33, 0, 38, 15, 28, 9, 23, 39, 3, 37, 10], [34, 4, 5, 32, 15, 10, 21, 12, 33, 3, 2, 23, 18, 38, 7, 13, 35, 26, 20, 22, 8, 19, 31, 36, 30, 11, 28, 1, 37, 14, 0, 39, 24, 9, 27, 25, 16, 17, 29, 6], [27, 29, 1, 39, 3, 8, 17, 26, 5, 32, 22, 28, 7, 31, 11, 35, 15, 0, 20, 25, 4, 19, 9, 37, 6, 2, 23, 14, 33, 18, 30, 13, 34, 10, 24, 38, 21, 16, 36, 12]], [[45, 40, 67, 78, 66, 47, 61, 70, 50, 69, 73, 43, 71, 52, 59, 42, 56, 41, 77, 51, 74, 62, 72, 75, 46, 76, 65, 63, 79, 53, 48, 44, 60, 64, 57, 68, 49, 58, 55, 54], [47, 58, 60, 66, 49, 41, 53, 68, 72, 74, 77, 51, 65, 75, 44, 63, 43, 46, 40, 48, 45, 42, 52, 59, 64, 78, 56, 50, 57, 54, 70, 71, 61, 55, 76, 69, 73, 67, 79, 62], [41, 57, 61, 53, 48, 63, 45, 43, 64, 69, 54, 79, 46, 56, 62, 70, 59, 76, 66, 78, 42, 51, 73, 50, 67, 65, 68, 75, 55, 58, 44, 40, 72, 74, 49, 52, 77, 47, 71, 60], [41, 66, 63, 60, 67, 78, 54, 52, 46, 43, 57, 74, 48, 70, 76, 49, 47, 59, 68, 65, 75, 62, 45, 55, 77, 50, 61, 40, 72, 71, 79, 53, 42, 56, 73, 44, 64, 51, 58, 69], [76, 51, 65, 61, 41, 48, 46, 72, 79, 52, 62, 66, 70, 44, 47, 60, 67, 64, 45, 55, 73, 49, 54, 71, 43, 69, 57, 50, 77, 59, 63, 40, 42, 75, 58, 53, 68, 78, 74, 56], [44, 55, 79, 64, 65, 46, 76, 59, 49, 53, 60, 48, 63, 58, 61, 72, 51, 75, 43, 42, 40, 41, 57, 56, 45, 66, 71, 74, 62, 77, 69, 50, 78, 54, 68, 47, 67, 70, 52, 73], [52, 54, 58, 64, 65, 55, 69, 79, 75, 71, 70, 62, 74, 66, 63, 61, 50, 77, 43, 41, 49, 40, 45, 47, 53, 72, 57, 42, 46, 73, 51, 56, 68, 78, 60, 67, 59, 48, 76, 44], [68, 76, 78, 42, 71, 60, 62, 47, 50, 49, 70, 75, 61, 69, 56, 44, 52, 59, 43, 55, 63, 45, 72, 73, 48, 79, 64, 41, 46, 58, 77, 51, 65, 40, 66, 67, 54, 74, 57, 53], [69, 73, 75, 44, 77, 49, 70, 47, 60, 67, 79, 53, 48, 52, 51, 46, 62, 76, 66, 59, 40, 65, 42, 45, 43, 50, 61, 78, 41, 74, 63, 54, 64, 72, 57, 68, 55, 71, 58, 56], [68, 49, 76, 77, 55, 58, 46, 42, 66, 60, 59, 54, 43, 67, 74, 47, 75, 40, 62, 48, 65, 79, 72, 64, 56, 73, 50, 78, 57, 41, 61, 51, 53, 71, 70, 52, 69, 44, 45, 63], [78, 60, 73, 71, 59, 68, 50, 70, 40, 65, 64, 44, 67, 55, 49, 74, 72, 56, 48, 77, 41, 76, 51, 66, 58, 53, 57, 46, 61, 52, 45, 75, 62, 43, 79, 69, 47, 63, 54, 42], [58, 61, 74, 67, 71, 63, 41, 56, 68, 47, 69, 60, 52, 66, 48, 40, 62, 43, 55, 64, 75, 49, 79, 51, 57, 65, 78, 72, 76, 73, 70, 59, 46, 53, 44, 42, 50, 77, 54, 45], [77, 76, 52, 72, 70, 57, 45, 78, 79, 53, 56, 46, 66, 44, 67, 63, 61, 50, 71, 48, 41, 73, 64, 54, 74, 58, 55, 75, 65, 43, 51, 60, 69, 40, 49, 42, 47, 59, 68, 62], [53, 72, 52, 41, 79, 48, 51, 66, 73, 68, 57, 63, 76, 47, 65, 42, 44, 60, 78, 58, 59, 43, 64, 49, 70, 56, 55, 69, 61, 71, 67, 46, 40, 77, 75, 62, 74, 50, 54, 45], [54, 53, 56, 70, 59, 78, 68, 73, 61, 65, 52, 57, 67, 45, 48, 64, 46, 71, 58, 50, 63, 76, 66, 75, 55, 72, 42, 74, 44, 62, 77, 69, 49, 43, 41, 51, 40, 47, 60, 79], [52, 65, 53, 74, 47, 49, 78, 51, 79, 68, 54, 69, 75, 72, 76, 61, 42, 50, 60, 71, 58, 40, 45, 57, 62, 64, 44, 59, 70, 43, 56, 48, 67, 73, 55, 46, 63, 77, 41, 66], [77, 69, 48, 57, 51, 62, 42, 73, 66, 41, 72, 49, 56, 53, 68, 60, 58, 54, 40, 71, 79, 45, 43, 76, 52, 47, 63, 55, 67, 65, 61, 75, 70, 44, 74, 78, 46, 59, 50, 64], [57, 59, 50, 46, 56, 52, 65, 43, 73, 75, 51, 60, 48, 77, 47, 40, 72, 67, 66, 62, 54, 58, 70, 74, 63, 44, 69, 68, 78, 61, 49, 55, 79, 64, 42, 53, 76, 71, 41, 45], [55, 62, 41, 47, 65, 54, 63, 43, 52, 50, 75, 66, 77, 53, 60, 73, 56, 67, 72, 49, 42, 74, 76, 71, 69, 70, 45, 68, 58, 44, 64, 59, 78, 79, 51, 40, 48, 61, 57, 46], [67, 40, 65, 53, 52, 69, 73, 59, 44, 78, 43, 64, 45, 50, 76, 56, 48, 58, 55, 54, 49, 60, 71, 77, 66, 75, 62, 68, 51, 46, 70, 79, 42, 57, 41, 47, 72, 74, 63, 61], [47, 67, 58, 46, 57, 59, 50, 74, 45, 61, 69, 78, 70, 72, 52, 77, 75, 66, 49, 40, 42, 62, 63, 53, 44, 76, 65, 43, 56, 68, 73, 51, 71, 79, 60, 64, 54, 41, 48, 55], [59, 49, 41, 76, 63, 45, 77, 68, 64, 42, 74, 52, 54, 43, 50, 40, 75, 47, 66, 79, 72, 69, 58, 46, 65, 78, 73, 53, 55, 70, 71, 51, 44, 67, 62, 56, 60, 61, 57, 48], [53, 49, 54, 62, 48, 69, 42, 78, 73, 50, 71, 52, 57, 58, 61, 51, 45, 68, 59, 79, 46, 64, 55, 67, 41, 66, 76, 74, 77, 40, 72, 63, 43, 56, 75, 65, 47, 60, 44, 70], [44, 65, 61, 46, 78, 68, 45, 74, 42, 52, 54, 59, 62, 43, 76, 75, 73, 63, 64, 60, 67, 56, 50, 58, 77, 40, 51, 49, 69, 53, 41, 47, 79, 66, 48, 55, 71, 72, 57, 70], [42, 50, 57, 72, 74, 66, 68, 44, 61, 51, 48, 71, 67, 79, 46, 49, 73, 54, 62, 59, 76, 41, 69, 55, 70, 65, 64, 43, 63, 75, 60, 58, 45, 40, 78, 56, 77, 53, 47, 52], [54, 40, 45, 78, 51, 75, 77, 73, 64, 57, 74, 47, 46, 49, 61, 65, 63, 68, 53, 44, 70, 41, 59, 69, 52, 43, 55, 71, 60, 58, 66, 72, 62, 67, 76, 79, 42, 50, 48, 56], [44, 68, 66, 65, 53, 45, 55, 72, 46, 61, 74, 50, 57, 70, 59, 63, 79, 41, 62, 43, 42, 64, 69, 51, 48, 58, 75, 54, 76, 77, 47, 56, 49, 52, 67, 60, 73, 78, 71, 40], [42, 53, 72, 65, 76, 74, 69, 50, 78, 41, 68, 54, 63, 47, 44, 43, 56, 49, 62, 57, 59, 60, 52, 73, 48, 40, 67, 75, 45, 71, 66, 55, 46, 58, 77, 64, 61, 51, 70, 79], [41, 70, 49, 61, 55, 53, 63, 58, 68, 71, 73, 57, 46, 48, 76, 62, 64, 42, 72, 43, 56, 52, 60, 45, 69, 44, 79, 67, 65, 78, 51, 59, 47, 77, 40, 54, 50, 75, 66, 74], [43, 63, 67, 41, 75, 52, 68, 46, 54, 60, 73, 45, 77, 42, 61, 72, 71, 79, 64, 78, 69, 53, 47, 49, 58, 62, 65, 44, 66, 55, 57, 70, 74, 76, 48, 56, 50, 59, 51, 40], [79, 66, 54, 67, 48, 55, 49, 57, 43, 47, 40, 52, 68, 78, 59, 69, 42, 65, 46, 50, 73, 63, 60, 45, 71, 58, 53, 56, 62, 76, 51, 75, 44, 61, 72, 77, 74, 64, 70, 41], [41, 72, 46, 75, 63, 43, 74, 50, 70, 52, 64, 79, 68, 78, 71, 73, 48, 61, 55, 44, 42, 65, 40, 77, 69, 47, 45, 67, 62, 76, 54, 60, 57, 56, 58, 49, 53, 66, 51, 59], [48, 41, 42, 67, 79, 66, 44, 73, 62, 57, 55, 77, 74, 56, 58, 47, 75, 70, 65, 63, 51, 52, 64, 71, 76, 40, 60, 54, 78, 50, 72, 43, 45, 53, 59, 49, 68, 61, 46, 69], [69, 66, 63, 71, 48, 70, 58, 46, 67, 57, 59, 76, 62, 53, 74, 64, 73, 50, 43, 54, 79, 56, 60, 47, 45, 72, 78, 75, 77, 68, 44, 61, 55, 51, 41, 49, 40, 52, 65, 42], [70, 63, 78, 62, 58, 74, 43, 79, 50, 53, 45, 59, 66, 68, 46, 61, 57, 44, 47, 56, 52, 48, 72, 71, 40, 75, 76, 49, 69, 64, 60, 55, 51, 77, 67, 41, 54, 42, 65, 73], [64, 44, 43, 46, 72, 52, 70, 49, 71, 66, 69, 40, 45, 57, 47, 48, 77, 62, 51, 79, 68, 63, 78, 54, 59, 58, 65, 76, 41, 75, 61, 42, 50, 55, 67, 56, 60, 53, 73, 74], [64, 54, 71, 53, 68, 72, 56, 76, 74, 77, 65, 40, 49, 47, 41, 70, 46, 59, 69, 45, 52, 67, 58, 60, 57, 44, 62, 50, 55, 66, 75, 73, 48, 43, 51, 79, 42, 63, 78, 61], [57, 48, 61, 68, 78, 64, 58, 45, 60, 74, 67, 62, 49, 50, 70, 59, 69, 55, 51, 77, 54, 65, 56, 71, 72, 40, 43, 76, 44, 79, 42, 46, 53, 41, 66, 73, 75, 52, 63, 47], [55, 40, 79, 60, 73, 53, 67, 58, 65, 59, 71, 44, 72, 68, 48, 75, 70, 52, 56, 64, 74, 46, 69, 54, 51, 62, 47, 76, 61, 78, 77, 49, 43, 41, 45, 57, 66, 50, 63, 42], [57, 70, 73, 48, 75, 60, 42, 79, 76, 43, 46, 44, 49, 66, 72, 64, 55, 74, 47, 69, 62, 50, 61, 71, 78, 40, 41, 77, 68, 63, 54, 52, 45, 56, 65, 58, 59, 51, 67, 53], [6, 33, 2, 39, 36, 13, 29, 17, 9, 20, 5, 18, 38, 37, 12, 22, 25, 28, 32, 8, 3, 34, 15, 10, 11, 27, 31, 14, 1, 24, 21, 35, 26, 30, 4, 0, 23, 7, 16, 19], [38, 3, 31, 16, 8, 18, 28, 9, 30, 37, 10, 7, 36, 13, 17, 21, 26, 22, 11, 20, 32, 12, 33, 19, 24, 34, 2, 25, 5, 6, 39, 4, 15, 1, 27, 23, 14, 0, 29, 35], [21, 13, 23, 16, 32, 34, 12, 14, 36, 20, 4, 39, 27, 1, 8, 3, 26, 22, 6, 29, 19, 17, 37, 18, 9, 30, 11, 15, 24, 33, 5, 2, 10, 31, 28, 0, 38, 25, 7, 35], [3, 27, 21, 9, 31, 5, 10, 2, 12, 24, 6, 18, 22, 23, 20, 8, 35, 30, 34, 17, 11, 37, 13, 26, 14, 33, 28, 4, 29, 38, 15, 16, 36, 1, 32, 7, 0, 19, 39, 25], [30, 34, 37, 24, 26, 9, 22, 21, 31, 19, 38, 1, 5, 15, 13, 16, 4, 28, 29, 12, 7, 10, 27, 23, 3, 20, 2, 33, 8, 17, 0, 18, 6, 36, 39, 11, 14, 35, 32, 25], [12, 24, 26, 22, 18, 14, 15, 6, 32, 8, 34, 19, 11, 28, 1, 27, 20, 17, 38, 3, 25, 29, 2, 23, 13, 5, 37, 4, 16, 21, 35, 9, 31, 33, 30, 36, 39, 10, 0, 7], [25, 7, 18, 5, 19, 30, 1, 9, 13, 16, 36, 23, 14, 15, 29, 32, 21, 31, 35, 4, 10, 39, 22, 28, 37, 27, 24, 33, 11, 26, 0, 12, 2, 38, 6, 20, 3, 34, 17, 8], [15, 11, 27, 13, 18, 5, 35, 17, 26, 12, 32, 31, 34, 7, 38, 4, 33, 3, 24, 1, 30, 6, 23, 19, 37, 16, 14, 2, 29, 10, 0, 28, 21, 36, 39, 25, 9, 8, 22, 20], [13, 5, 38, 11, 10, 28, 26, 35, 18, 9, 25, 4, 7, 22, 27, 3, 34, 21, 23, 31, 6, 24, 17, 2, 15, 29, 37, 39, 0, 8, 20, 19, 16, 1, 32, 12, 33, 36, 14, 30], [2, 7, 0, 16, 29, 37, 26, 32, 13, 1, 18, 20, 33, 25, 38, 4, 30, 11, 39, 8, 34, 9, 14, 17, 31, 6, 35, 19, 22, 15, 23, 5, 12, 36, 28, 24, 27, 10, 3, 21], [19, 5, 18, 23, 11, 26, 4, 25, 27, 0, 20, 8, 36, 16, 15, 21, 39, 34, 38, 3, 33, 9, 24, 10, 1, 29, 2, 12, 22, 31, 35, 37, 17, 7, 14, 32, 6, 28, 30, 13], [33, 11, 35, 8, 18, 38, 2, 34, 37, 36, 6, 32, 13, 16, 20, 25, 10, 39, 29, 30, 22, 12, 21, 4, 24, 1, 15, 31, 3, 7, 0, 14, 23, 19, 17, 5, 9, 26, 28, 27], [20, 16, 32, 39, 33, 37, 31, 10, 14, 1, 0, 35, 9, 8, 23, 11, 7, 38, 34, 27, 4, 30, 2, 3, 25, 17, 21, 29, 36, 6, 12, 5, 18, 22, 28, 15, 26, 24, 19, 13], [7, 14, 26, 9, 17, 2, 18, 32, 29, 10, 13, 3, 30, 36, 24, 28, 15, 23, 5, 0, 25, 16, 11, 27, 21, 22, 38, 39, 35, 34, 1, 19, 20, 4, 12, 31, 33, 6, 8, 37], [35, 20, 26, 37, 38, 12, 0, 6, 22, 31, 17, 32, 23, 4, 28, 14, 30, 19, 5, 27, 8, 29, 11, 1, 16, 3, 21, 2, 10, 13, 24, 18, 36, 39, 33, 9, 7, 15, 25, 34], [26, 16, 8, 22, 36, 14, 3, 0, 37, 2, 12, 5, 32, 39, 17, 11, 10, 6, 9, 18, 27, 33, 34, 23, 25, 13, 28, 30, 38, 24, 29, 31, 19, 1, 7, 35, 20, 21, 4, 15], [32, 20, 23, 28, 6, 34, 8, 7, 2, 27, 19, 25, 22, 3, 18, 12, 4, 37, 16, 11, 13, 38, 17, 5, 9, 24, 15, 33, 26, 0, 10, 29, 31, 36, 1, 39, 35, 14, 30, 21], [1, 29, 9, 39, 4, 24, 30, 28, 23, 22, 34, 20, 5, 35, 21, 0, 8, 19, 31, 3, 27, 13, 7, 14, 32, 18, 10, 11, 38, 17, 26, 37, 33, 12, 15, 2, 6, 16, 25, 36], [27, 21, 3, 22, 36, 34, 9, 5, 37, 7, 29, 14, 30, 17, 39, 16, 35, 19, 8, 6, 25, 24, 10, 0, 38, 1, 18, 15, 12, 2, 13, 20, 33, 32, 28, 23, 26, 4, 31, 11], [15, 35, 31, 10, 0, 24, 4, 23, 13, 5, 6, 34, 9, 16, 21, 29, 8, 32, 36, 14, 2, 11, 27, 20, 38, 1, 22, 37, 18, 3, 19, 26, 25, 28, 17, 30, 12, 39, 7, 33], [38, 3, 2, 15, 4, 11, 12, 20, 16, 35, 9, 26, 17, 27, 23, 32, 31, 13, 10, 39, 36, 30, 22, 29, 8, 6, 25, 0, 1, 5, 19, 33, 7, 37, 21, 24, 18, 14, 34, 28], [21, 22, 11, 34, 25, 18, 7, 14, 6, 33, 32, 5, 4, 38, 28, 29, 8, 2, 17, 20, 0, 19, 30, 24, 35, 12, 27, 36, 9, 1, 13, 23, 3, 26, 15, 31, 10, 16, 39, 37], [14, 25, 17, 5, 11, 31, 28, 22, 38, 15, 27, 24, 37, 29, 21, 32, 19, 13, 1, 23, 8, 26, 16, 39, 7, 4, 10, 0, 18, 36, 3, 20, 2, 6, 34, 9, 35, 30, 33, 12], [6, 7, 23, 28, 32, 9, 19, 33, 30, 37, 35, 15, 22, 8, 31, 25, 38, 29, 14, 24, 18, 4, 16, 36, 11, 20, 10, 34, 17, 2, 12, 27, 26, 5, 39, 13, 3, 0, 1, 21], [21, 33, 15, 34, 9, 29, 13, 12, 10, 31, 2, 28, 25, 18, 8, 17, 4, 0, 39, 5, 16, 1, 24, 20, 37, 11, 35, 38, 7, 27, 26, 3, 22, 23, 6, 32, 19, 14, 30, 36], [14, 21, 12, 13, 30, 28, 32, 7, 26, 15, 23, 16, 0, 24, 17, 6, 22, 35, 9, 18, 36, 4, 38, 1, 27, 8, 34, 3, 33, 31, 29, 39, 11, 10, 25, 5, 2, 37, 19, 20], [15, 20, 9, 35, 33, 30, 3, 5, 22, 18, 34, 17, 4, 16, 8, 21, 13, 29, 1, 7, 28, 23, 12, 39, 2, 10, 0, 14, 27, 37, 36, 24, 11, 31, 25, 26, 19, 32, 38, 6], [10, 26, 29, 28, 12, 7, 5, 19, 4, 13, 1, 17, 22, 31, 33, 3, 39, 21, 20, 25, 36, 16, 24, 15, 11, 34, 8, 30, 32, 23, 6, 38, 27, 35, 14, 2, 0, 37, 18, 9], [10, 9, 33, 15, 18, 29, 21, 26, 0, 24, 20, 37, 39, 32, 23, 14, 6, 19, 27, 4, 17, 31, 11, 8, 34, 2, 35, 25, 16, 13, 5, 22, 30, 28, 7, 1, 3, 38, 36, 12], [12, 21, 10, 38, 23, 3, 33, 26, 31, 5, 20, 13, 37, 8, 11, 4, 24, 9, 32, 7, 15, 39, 35, 18, 0, 19, 34, 6, 2, 22, 25, 29, 28, 30, 17, 36, 27, 16, 1, 14], [27, 28, 24, 25, 17, 20, 8, 36, 23, 33, 1, 15, 18, 22, 30, 26, 2, 10, 7, 31, 12, 29, 32, 16, 6, 3, 4, 21, 14, 37, 19, 11, 38, 9, 35, 13, 5, 34, 0, 39], [9, 29, 20, 18, 5, 19, 15, 39, 22, 30, 7, 34, 16, 37, 28, 1, 38, 13, 10, 0, 35, 23, 12, 36, 26, 14, 17, 25, 2, 32, 4, 8, 31, 21, 6, 3, 33, 24, 11, 27], [0, 20, 16, 28, 21, 22, 38, 6, 13, 24, 7, 1, 10, 4, 37, 35, 25, 12, 39, 32, 27, 29, 14, 36, 11, 33, 31, 8, 3, 30, 5, 2, 34, 23, 9, 26, 19, 17, 15, 18], [10, 39, 5, 28, 35, 0, 37, 2, 17, 6, 20, 11, 29, 36, 7, 15, 9, 16, 4, 33, 24, 22, 23, 38, 3, 34, 32, 30, 8, 27, 21, 14, 13, 1, 12, 26, 18, 19, 25, 31], [22, 1, 10, 21, 2, 35, 14, 28, 34, 38, 26, 12, 13, 6, 8, 3, 0, 16, 31, 20, 27, 15, 39, 37, 17, 9, 4, 11, 5, 29, 36, 7, 30, 23, 25, 18, 24, 19, 33, 32], [39, 16, 20, 37, 23, 11, 6, 31, 7, 15, 22, 19, 13, 26, 33, 27, 24, 32, 2, 29, 10, 25, 8, 35, 3, 9, 12, 21, 5, 17, 30, 18, 28, 1, 0, 38, 4, 14, 36, 34], [24, 16, 29, 10, 4, 15, 21, 1, 2, 14, 20, 26, 30, 9, 7, 6, 28, 22, 32, 37, 5, 33, 17, 23, 3, 36, 18, 34, 19, 13, 27, 35, 11, 0, 8, 25, 39, 12, 38, 31], [5, 34, 24, 9, 15, 36, 32, 0, 17, 37, 21, 18, 16, 2, 1, 33, 22, 26, 13, 38, 4, 23, 12, 27, 35, 8, 39, 29, 31, 28, 3, 11, 7, 30, 10, 19, 6, 25, 14, 20], [20, 11, 38, 18, 29, 8, 21, 30, 22, 23, 34, 7, 17, 39, 28, 5, 15, 33, 32, 14, 3, 26, 31, 4, 2, 1, 37, 27, 25, 0, 10, 12, 16, 24, 19, 35, 6, 36, 9, 13], [34, 39, 29, 35, 0, 16, 18, 24, 22, 33, 17, 32, 19, 37, 14, 36, 23, 13, 25, 5, 38, 1, 11, 20, 10, 2, 9, 12, 26, 15, 8, 30, 21, 6, 31, 3, 28, 7, 4, 27]], [[56, 78, 67, 52, 60, 54, 41, 71, 61, 70, 42, 51, 75, 47, 43, 40, 66, 68, 64, 73, 53, 46, 62, 77, 50, 76, 57, 44, 79, 55, 72, 48, 63, 45, 69, 58, 49, 59, 65, 74], [44, 70, 63, 62, 76, 66, 79, 41, 65, 53, 59, 61, 58, 46, 47, 73, 77, 60, 72, 74, 69, 55, 54, 68, 75, 48, 43, 64, 42, 52, 51, 67, 40, 71, 45, 50, 56, 78, 49, 57], [63, 40, 47, 49, 54, 48, 74, 61, 53, 60, 52, 73, 78, 71, 76, 59, 67, 58, 41, 77, 51, 55, 72, 75, 66, 69, 45, 64, 50, 56, 65, 57, 68, 62, 44, 42, 79, 46, 70, 43], [47, 52, 55, 51, 48, 78, 46, 63, 61, 41, 67, 45, 62, 56, 54, 40, 75, 60, 57, 44, 74, 73, 77, 66, 69, 76, 65, 59, 79, 42, 43, 68, 50, 53, 71, 72, 49, 64, 70, 58], [71, 51, 73, 76, 79, 47, 46, 54, 57, 78, 44, 43, 63, 40, 77, 61, 49, 68, 60, 70, 66, 55, 56, 65, 69, 50, 75, 41, 64, 53, 67, 72, 74, 45, 59, 58, 42, 48, 52, 62], [71, 70, 41, 73, 51, 76, 57, 78, 45, 67, 42, 74, 58, 63, 72, 40, 79, 77, 68, 75, 62, 43, 55, 49, 53, 66, 48, 50, 54, 69, 56, 61, 60, 44, 52, 47, 65, 59, 64, 46], [50, 79, 61, 73, 75, 54, 69, 72, 78, 41, 74, 57, 64, 63, 60, 42, 45, 55, 51, 52, 67, 46, 43, 53, 49, 48, 59, 70, 47, 66, 56, 58, 77, 76, 44, 68, 71, 62, 65, 40], [69, 46, 55, 66, 78, 68, 48, 42, 62, 75, 57, 59, 51, 44, 49, 47, 58, 76, 52, 71, 72, 60, 56, 53, 65, 67, 41, 54, 50, 74, 61, 64, 70, 79, 43, 63, 45, 73, 40, 77], [41, 65, 64, 67, 54, 46, 50, 62, 45, 76, 72, 44, 58, 77, 75, 43, 56, 68, 73, 78, 48, 79, 66, 61, 55, 42, 40, 57, 74, 59, 60, 70, 47, 69, 53, 51, 52, 63, 71, 49], [40, 59, 50, 48, 60, 68, 52, 66, 63, 55, 56, 47, 72, 70, 58, 49, 65, 44, 53, 46, 42, 76, 69, 61, 62, 73, 74, 71, 75, 64, 77, 51, 57, 45, 54, 43, 78, 67, 41, 79], [76, 43, 51, 40, 48, 67, 41, 62, 69, 77, 60, 54, 72, 53, 55, 57, 68, 46, 70, 58, 61, 78, 47, 44, 79, 49, 75, 45, 63, 65, 42, 71, 52, 73, 50, 74, 66, 56, 64, 59], [57, 50, 71, 75, 78, 67, 61, 48, 51, 42, 55, 56, 58, 77, 63, 65, 47, 62, 49, 43, 74, 40, 53, 46, 59, 66, 41, 54, 79, 72, 73, 69, 70, 44, 68, 60, 64, 45, 76, 52], [77, 69, 68, 75, 61, 48, 49, 65, 43, 47, 76, 72, 55, 70, 60, 53, 44, 67, 57, 66, 42, 79, 40, 73, 56, 62, 58, 63, 71, 64, 46, 78, 51, 59, 50, 54, 45, 52, 41, 74], [67, 50, 57, 45, 51, 68, 41, 49, 79, 52, 46, 74, 66, 73, 53, 40, 61, 42, 55, 54, 70, 56, 47, 69, 60, 75, 62, 44, 64, 63, 77, 78, 59, 72, 71, 58, 76, 48, 43, 65], [57, 72, 51, 64, 68, 71, 76, 70, 79, 73, 40, 55, 69, 54, 45, 49, 43, 42, 74, 58, 47, 67, 66, 75, 77, 65, 59, 62, 50, 60, 53, 48, 52, 63, 41, 44, 78, 56, 46, 61], [78, 45, 69, 58, 79, 76, 77, 55, 68, 60, 62, 71, 42, 40, 49, 64, 67, 59, 57, 44, 75, 52, 72, 65, 50, 47, 54, 74, 53, 70, 51, 56, 61, 41, 43, 48, 73, 66, 63, 46], [46, 67, 59, 63, 54, 66, 61, 58, 64, 74, 73, 57, 44, 43, 55, 47, 51, 49, 40, 60, 77, 41, 79, 42, 78, 50, 53, 56, 52, 75, 76, 65, 70, 72, 62, 48, 69, 71, 68, 45], [44, 53, 47, 61, 69, 70, 40, 73, 51, 43, 55, 46, 42, 49, 67, 68, 48, 66, 72, 59, 41, 58, 76, 60, 62, 45, 77, 54, 63, 79, 75, 71, 50, 52, 56, 78, 65, 64, 74, 57], [54, 66, 62, 51, 46, 45, 41, 74, 71, 50, 76, 43, 60, 57, 49, 65, 77, 47, 69, 40, 55, 48, 75, 73, 63, 79, 64, 52, 56, 58, 68, 59, 53, 72, 78, 70, 44, 61, 67, 42], [73, 57, 47, 75, 44, 77, 53, 54, 78, 59, 67, 70, 55, 43, 68, 41, 56, 74, 42, 50, 48, 40, 51, 46, 62, 76, 52, 69, 66, 45, 72, 65, 71, 63, 79, 61, 49, 60, 64, 58], [44, 75, 70, 59, 79, 49, 47, 43, 51, 65, 63, 64, 73, 58, 55, 67, 77, 60, 46, 40, 42, 57, 54, 74, 71, 48, 78, 61, 62, 69, 66, 68, 50, 41, 56, 72, 76, 45, 53, 52], [55, 60, 50, 65, 43, 78, 61, 59, 57, 40, 51, 74, 68, 76, 63, 67, 52, 56, 66, 45, 69, 72, 75, 49, 62, 73, 44, 70, 58, 46, 48, 47, 64, 77, 41, 71, 53, 54, 79, 42], [42, 48, 65, 46, 66, 79, 43, 55, 49, 52, 72, 60, 40, 44, 74, 47, 61, 59, 64, 78, 70, 50, 71, 67, 53, 56, 69, 68, 45, 73, 77, 57, 51, 63, 41, 54, 76, 75, 58, 62], [56, 42, 66, 47, 50, 74, 49, 72, 64, 78, 76, 62, 60, 73, 41, 43, 45, 53, 68, 51, 54, 52, 55, 63, 40, 44, 61, 79, 67, 70, 58, 69, 48, 65, 71, 59, 57, 46, 75, 77], [76, 79, 68, 40, 50, 69, 64, 53, 70, 78, 43, 49, 59, 66, 45, 62, 75, 63, 72, 51, 73, 71, 46, 47, 74, 54, 61, 48, 56, 42, 44, 67, 55, 60, 52, 57, 41, 77, 58, 65], [62, 51, 46, 41, 71, 70, 40, 44, 54, 76, 59, 49, 56, 63, 64, 79, 66, 43, 75, 77, 55, 45, 47, 48, 52, 60, 57, 74, 58, 69, 61, 68, 53, 72, 78, 73, 65, 67, 50, 42], [67, 60, 72, 57, 65, 62, 53, 59, 46, 41, 45, 78, 56, 76, 51, 42, 66, 47, 77, 50, 48, 64, 40, 63, 73, 74, 52, 71, 49, 43, 55, 79, 68, 44, 70, 58, 69, 61, 75, 54], [55, 64, 67, 40, 53, 43, 42, 57, 47, 48, 76, 66, 69, 52, 71, 46, 50, 63, 78, 45, 60, 56, 68, 65, 44, 62, 59, 54, 79, 70, 75, 51, 72, 41, 74, 49, 61, 58, 77, 73], [76, 69, 67, 47, 45, 75, 62, 53, 55, 66, 57, 48, 78, 73, 58, 71, 72, 56, 63, 41, 40, 70, 61, 43, 79, 50, 64, 74, 52, 68, 54, 60, 65, 46, 49, 51, 77, 42, 44, 59], [49, 52, 44, 62, 56, 65, 51, 58, 68, 40, 54, 69, 46, 72, 43, 64, 74, 61, 75, 60, 48, 47, 73, 55, 67, 42, 78, 76, 66, 45, 57, 71, 70, 53, 77, 50, 41, 59, 63, 79], [72, 78, 70, 44, 76, 68, 77, 71, 61, 64, 51, 63, 50, 54, 53, 79, 74, 59, 49, 56, 58, 40, 75, 42, 46, 67, 69, 52, 65, 73, 47, 45, 57, 41, 43, 55, 48, 66, 60, 62], [52, 46, 66, 41, 45, 62, 55, 43, 77, 40, 56, 51, 69, 61, 44, 54, 72, 73, 48, 74, 60, 50, 71, 78, 59, 47, 63, 68, 75, 79, 65, 67, 42, 70, 49, 58, 53, 76, 57, 64], [69, 55, 48, 42, 63, 76, 56, 71, 58, 79, 78, 50, 75, 49, 43, 62, 51, 40, 77, 64, 45, 57, 54, 52, 41, 65, 70, 73, 66, 60, 44, 72, 53, 46, 74, 68, 47, 59, 61, 67], [72, 44, 48, 46, 56, 74, 65, 53, 55, 49, 69, 43, 47, 76, 71, 50, 57, 79, 59, 77, 52, 63, 73, 54, 51, 61, 45, 40, 60, 78, 70, 66, 67, 64, 58, 42, 41, 62, 75, 68], [69, 50, 63, 66, 53, 59, 74, 76, 44, 67, 62, 49, 65, 58, 64, 57, 46, 41, 78, 61, 52, 56, 68, 75, 43, 55, 51, 79, 48, 40, 45, 42, 77, 47, 60, 72, 71, 54, 73, 70], [69, 63, 56, 67, 62, 48, 43, 47, 46, 42, 71, 54, 77, 52, 58, 53, 55, 44, 76, 68, 60, 78, 59, 75, 40, 74, 70, 51, 79, 65, 66, 64, 61, 50, 73, 72, 49, 41, 45, 57], [40, 76, 41, 42, 50, 59, 73, 62, 75, 67, 45, 71, 79, 57, 43, 68, 54, 48, 64, 58, 53, 74, 55, 47, 77, 51, 70, 60, 66, 61, 72, 63, 69, 46, 65, 44, 52, 78, 49, 56], [56, 48, 61, 43, 63, 42, 64, 44, 70, 76, 75, 78, 55, 69, 74, 51, 54, 41, 68, 50, 46, 53, 66, 65, 40, 72, 52, 58, 71, 45, 49, 60, 79, 47, 57, 77, 67, 62, 73, 59], [40, 58, 61, 51, 63, 67, 73, 41, 72, 42, 74, 47, 68, 44, 50, 46, 55, 76, 64, 70, 66, 54, 75, 49, 56, 48, 52, 62, 69, 43, 57, 53, 65, 60, 77, 45, 79, 59, 71, 78], [47, 44, 75, 49, 40, 68, 73, 77, 42, 70, 43, 54, 50, 65, 48, 62, 55, 76, 61, 64, 59, 79, 46, 67, 51, 53, 74, 72, 45, 57, 58, 78, 56, 52, 60, 63, 71, 66, 69, 41], [8, 38, 26, 19, 27, 23, 1, 14, 13, 3, 21, 28, 30, 39, 12, 7, 20, 6, 5, 29, 22, 31, 11, 4, 35, 32, 24, 16, 37, 33, 10, 36, 18, 2, 15, 34, 25, 9, 17, 0], [20, 37, 8, 35, 38, 17, 31, 33, 36, 7, 28, 6, 21, 34, 13, 2, 19, 25, 15, 10, 16, 32, 27, 14, 29, 3, 0, 18, 9, 12, 5, 11, 26, 22, 39, 23, 1, 4, 30, 24], [37, 21, 17, 33, 30, 28, 38, 39, 9, 31, 18, 26, 20, 23, 16, 7, 10, 35, 1, 4, 15, 0, 12, 14, 13, 8, 32, 25, 5, 29, 3, 2, 19, 22, 11, 6, 24, 36, 27, 34], [39, 31, 23, 35, 22, 0, 33, 1, 16, 12, 7, 4, 17, 13, 21, 3, 9, 5, 8, 15, 25, 32, 19, 27, 2, 14, 34, 29, 11, 18, 38, 30, 24, 28, 36, 26, 10, 6, 37, 20], [29, 18, 27, 36, 13, 9, 16, 37, 28, 32, 31, 33, 34, 12, 26, 5, 30, 23, 2, 15, 22, 39, 10, 0, 7, 14, 25, 21, 11, 17, 4, 8, 35, 6, 3, 1, 24, 38, 20, 19], [23, 18, 32, 9, 31, 5, 16, 29, 13, 21, 7, 11, 10, 19, 37, 17, 39, 1, 38, 4, 22, 30, 8, 25, 35, 6, 24, 28, 14, 20, 27, 12, 34, 26, 3, 33, 36, 2, 0, 15], [5, 6, 23, 22, 27, 37, 8, 0, 18, 21, 16, 30, 14, 3, 9, 39, 20, 26, 25, 36, 11, 31, 13, 33, 35, 7, 29, 17, 12, 19, 10, 38, 2, 15, 4, 34, 28, 32, 24, 1], [16, 0, 13, 34, 15, 23, 35, 1, 17, 26, 30, 24, 33, 6, 8, 36, 21, 29, 14, 10, 3, 5, 20, 25, 37, 19, 9, 7, 38, 4, 18, 31, 27, 12, 39, 28, 22, 11, 2, 32], [34, 19, 26, 21, 3, 28, 10, 4, 27, 30, 13, 7, 36, 12, 29, 39, 37, 31, 20, 8, 32, 23, 38, 6, 24, 2, 25, 33, 9, 17, 18, 14, 1, 35, 11, 15, 0, 22, 5, 16], [32, 31, 8, 27, 23, 37, 11, 6, 38, 34, 17, 24, 0, 14, 3, 33, 36, 39, 13, 25, 5, 28, 18, 35, 16, 30, 12, 19, 4, 10, 15, 26, 21, 22, 9, 29, 2, 7, 1, 20], [4, 34, 19, 11, 21, 3, 39, 35, 1, 37, 12, 33, 27, 6, 13, 25, 36, 32, 22, 26, 38, 18, 5, 29, 9, 17, 20, 14, 31, 10, 28, 0, 23, 15, 2, 8, 30, 16, 24, 7], [9, 23, 20, 14, 31, 27, 10, 8, 35, 11, 0, 32, 4, 1, 36, 25, 15, 17, 29, 19, 21, 18, 13, 28, 38, 33, 6, 12, 39, 30, 26, 24, 37, 2, 7, 5, 22, 3, 16, 34], [9, 29, 26, 0, 31, 25, 4, 18, 1, 6, 32, 20, 21, 5, 22, 3, 14, 15, 2, 16, 7, 34, 12, 27, 30, 38, 28, 10, 37, 17, 39, 24, 19, 35, 13, 11, 23, 36, 33, 8], [7, 34, 26, 0, 4, 8, 35, 12, 28, 5, 33, 39, 20, 32, 22, 1, 23, 29, 19, 10, 14, 30, 15, 36, 31, 9, 16, 2, 25, 3, 27, 11, 37, 18, 24, 6, 13, 21, 17, 38], [35, 29, 9, 18, 34, 22, 12, 26, 0, 30, 27, 23, 2, 33, 20, 24, 17, 14, 25, 4, 6, 37, 3, 13, 39, 8, 15, 38, 19, 21, 16, 28, 10, 1, 31, 36, 32, 11, 5, 7], [31, 26, 19, 22, 36, 6, 38, 7, 37, 9, 12, 11, 10, 24, 16, 13, 35, 5, 28, 15, 25, 2, 17, 1, 4, 29, 3, 30, 39, 20, 18, 33, 23, 27, 14, 8, 21, 0, 32, 34], [16, 19, 33, 18, 38, 4, 22, 20, 32, 12, 5, 0, 34, 11, 9, 7, 13, 36, 37, 35, 30, 29, 8, 10, 2, 3, 15, 31, 27, 6, 21, 28, 14, 25, 26, 17, 39, 1, 23, 24], [11, 28, 35, 12, 3, 22, 37, 29, 1, 19, 18, 9, 13, 32, 20, 0, 10, 27, 16, 5, 30, 8, 25, 24, 14, 33, 7, 34, 6, 23, 38, 4, 26, 17, 31, 2, 15, 36, 21, 39], [11, 2, 16, 9, 25, 10, 12, 14, 26, 0, 27, 7, 36, 37, 39, 31, 8, 17, 19, 30, 4, 5, 29, 15, 28, 18, 3, 32, 1, 6, 33, 20, 13, 35, 22, 23, 34, 38, 21, 24], [8, 29, 16, 6, 36, 14, 24, 21, 22, 15, 28, 33, 20, 38, 27, 34, 5, 2, 1, 19, 0, 35, 11, 31, 3, 12, 26, 32, 9, 7, 17, 23, 18, 13, 25, 39, 37, 10, 30, 4], [30, 12, 21, 15, 24, 11, 31, 7, 22, 37, 20, 6, 16, 28, 35, 19, 23, 38, 39, 13, 34, 3, 10, 36, 0, 17, 32, 27, 2, 18, 1, 26, 33, 9, 29, 25, 5, 8, 4, 14], [1, 14, 22, 4, 31, 18, 19, 30, 5, 36, 7, 6, 11, 13, 35, 28, 34, 8, 0, 17, 37, 24, 23, 27, 10, 20, 15, 32, 3, 26, 16, 12, 21, 2, 29, 38, 33, 39, 25, 9], [16, 35, 7, 31, 10, 2, 20, 3, 4, 14, 34, 24, 37, 27, 25, 33, 21, 30, 23, 1, 32, 11, 13, 17, 18, 15, 38, 9, 19, 36, 12, 28, 22, 39, 0, 5, 8, 26, 29, 6], [32, 20, 28, 33, 30, 2, 6, 8, 38, 19, 25, 7, 29, 5, 18, 0, 31, 26, 9, 3, 35, 12, 15, 14, 37, 36, 11, 34, 22, 17, 4, 16, 24, 1, 27, 10, 21, 39, 13, 23], [29, 33, 9, 15, 36, 11, 14, 18, 26, 5, 10, 6, 34, 4, 37, 19, 2, 0, 17, 21, 39, 32, 25, 16, 3, 38, 1, 22, 28, 30, 12, 13, 24, 35, 27, 7, 20, 23, 8, 31], [15, 17, 26, 34, 28, 0, 11, 24, 13, 6, 23, 3, 14, 35, 29, 39, 9, 5, 36, 21, 31, 32, 12, 22, 18, 37, 25, 8, 30, 4, 20, 27, 16, 38, 1, 10, 7, 19, 33, 2], [10, 21, 18, 27, 32, 15, 28, 4, 12, 2, 26, 31, 20, 7, 30, 0, 3, 33, 19, 1, 34, 11, 39, 23, 22, 17, 8, 36, 5, 6, 9, 35, 13, 37, 25, 16, 14, 29, 24, 38], [31, 18, 38, 3, 27, 39, 34, 25, 11, 22, 24, 14, 16, 7, 17, 28, 35, 37, 12, 29, 10, 4, 8, 2, 0, 21, 13, 32, 23, 15, 5, 26, 6, 19, 36, 30, 20, 9, 33, 1], [1, 28, 35, 26, 12, 36, 23, 11, 18, 27, 8, 33, 9, 37, 17, 25, 29, 6, 0, 38, 10, 39, 7, 20, 13, 16, 30, 24, 5, 22, 21, 31, 14, 34, 2, 19, 32, 3, 4, 15], [17, 4, 11, 38, 23, 25, 22, 32, 33, 1, 5, 26, 0, 19, 12, 39, 6, 8, 13, 21, 36, 14, 37, 20, 24, 34, 15, 3, 16, 31, 18, 27, 9, 30, 2, 29, 35, 7, 28, 10], [35, 9, 27, 32, 3, 28, 29, 13, 33, 22, 5, 37, 19, 38, 17, 14, 4, 11, 7, 30, 18, 10, 0, 34, 39, 23, 25, 12, 1, 8, 6, 26, 24, 16, 36, 21, 2, 15, 31, 20], [26, 15, 38, 29, 32, 23, 12, 20, 10, 2, 6, 8, 33, 14, 34, 3, 30, 31, 27, 36, 0, 17, 19, 39, 11, 9, 5, 13, 25, 28, 22, 16, 37, 35, 4, 21, 18, 24, 1, 7], [26, 39, 36, 29, 3, 4, 23, 30, 1, 31, 17, 12, 27, 22, 38, 6, 13, 21, 18, 2, 20, 24, 10, 33, 28, 7, 5, 14, 16, 8, 34, 9, 37, 32, 25, 35, 15, 19, 11, 0], [33, 30, 13, 8, 21, 1, 28, 7, 19, 2, 20, 6, 23, 0, 5, 26, 18, 37, 15, 16, 27, 32, 39, 29, 17, 38, 14, 9, 4, 35, 25, 10, 34, 24, 31, 36, 3, 11, 22, 12], [4, 20, 23, 15, 1, 7, 26, 21, 34, 25, 14, 0, 37, 39, 10, 6, 8, 33, 17, 22, 5, 38, 18, 31, 9, 12, 24, 32, 11, 16, 27, 28, 36, 13, 2, 30, 29, 19, 3, 35], [15, 14, 30, 1, 25, 3, 6, 33, 24, 32, 27, 17, 0, 28, 23, 18, 12, 13, 21, 35, 37, 22, 19, 4, 34, 36, 39, 9, 16, 29, 26, 5, 2, 10, 31, 11, 7, 20, 8, 38], [4, 21, 1, 5, 8, 11, 30, 17, 12, 10, 34, 36, 31, 26, 28, 19, 35, 13, 16, 37, 6, 7, 2, 0, 27, 23, 38, 9, 20, 39, 14, 3, 18, 25, 29, 22, 32, 24, 15, 33], [2, 15, 38, 16, 24, 13, 4, 19, 26, 39, 35, 5, 7, 21, 36, 0, 22, 8, 37, 29, 27, 9, 3, 10, 32, 18, 30, 1, 12, 33, 20, 11, 25, 17, 14, 6, 31, 28, 23, 34], [39, 17, 33, 36, 20, 29, 13, 22, 5, 16, 12, 1, 9, 38, 4, 26, 15, 35, 2, 25, 34, 32, 18, 21, 6, 19, 27, 11, 7, 8, 28, 37, 23, 14, 24, 31, 10, 3, 0, 30], [36, 20, 26, 23, 8, 39, 37, 13, 10, 25, 18, 28, 35, 14, 2, 1, 6, 11, 3, 27, 12, 17, 19, 29, 15, 4, 32, 9, 21, 7, 33, 5, 16, 34, 24, 38, 22, 31, 0, 30]], [[70, 69, 53, 40, 74, 56, 61, 72, 58, 41, 66, 71, 47, 77, 75, 44, 52, 60, 49, 65, 78, 48, 50, 42, 51, 54, 57, 55, 79, 64, 68, 67, 62, 43, 45, 59, 73, 46, 63, 76], [52, 48, 62, 50, 63, 44, 67, 66, 68, 58, 70, 53, 74, 49, 55, 41, 42, 71, 59, 75, 78, 56, 69, 60, 76, 51, 43, 73, 40, 46, 77, 79, 61, 57, 47, 72, 54, 65, 45, 64], [70, 73, 56, 55, 51, 65, 71, 42, 48, 66, 78, 44, 74, 69, 50, 54, 41, 64, 77, 47, 75, 59, 58, 63, 61, 79, 52, 40, 67, 68, 72, 62, 45, 76, 57, 43, 60, 53, 46, 49], [65, 54, 77, 40, 64, 70, 49, 67, 72, 71, 50, 74, 60, 41, 46, 68, 76, 44, 48, 56, 55, 42, 62, 73, 78, 63, 43, 52, 69, 66, 58, 47, 59, 61, 51, 75, 45, 79, 57, 53], [75, 63, 71, 65, 43, 61, 76, 78, 42, 41, 40, 66, 72, 74, 67, 45, 58, 73, 56, 62, 59, 79, 55, 54, 64, 60, 70, 77, 44, 53, 50, 68, 52, 49, 48, 46, 51, 47, 57, 69], [56, 79, 49, 52, 68, 50, 54, 40, 77, 43, 65, 46, 62, 45, 55, 73, 78, 67, 41, 63, 76, 51, 57, 42, 66, 48, 53, 71, 75, 72, 70, 61, 59, 47, 69, 44, 74, 60, 64, 58], [74, 48, 67, 73, 78, 66, 75, 42, 41, 52, 47, 68, 65, 76, 62, 72, 60, 77, 50, 40, 49, 53, 46, 51, 58, 59, 69, 43, 55, 79, 44, 63, 70, 54, 45, 64, 56, 71, 61, 57], [42, 57, 71, 63, 54, 46, 69, 68, 72, 41, 50, 58, 51, 76, 75, 59, 79, 44, 60, 73, 65, 48, 67, 62, 77, 55, 66, 56, 47, 43, 61, 64, 70, 45, 53, 49, 40, 74, 78, 52], [48, 51, 71, 73, 68, 61, 53, 76, 67, 44, 58, 60, 56, 63, 55, 40, 77, 72, 52, 66, 64, 43, 50, 69, 74, 70, 65, 54, 47, 49, 79, 62, 75, 46, 45, 59, 78, 57, 42, 41], [70, 73, 75, 41, 48, 51, 50, 43, 58, 44, 60, 59, 64, 46, 78, 40, 72, 52, 61, 55, 49, 62, 79, 69, 67, 45, 68, 57, 76, 54, 74, 65, 71, 66, 63, 56, 42, 53, 47, 77], [69, 59, 48, 70, 77, 74, 75, 79, 43, 76, 58, 56, 51, 50, 47, 63, 44, 57, 73, 64, 46, 68, 55, 67, 42, 62, 60, 40, 52, 53, 61, 41, 78, 66, 65, 45, 72, 54, 49, 71], [50, 61, 79, 53, 59, 56, 67, 46, 62, 47, 65, 54, 78, 45, 55, 75, 57, 60, 43, 49, 52, 68, 70, 51, 69, 48, 41, 76, 44, 64, 71, 63, 58, 40, 77, 72, 74, 66, 42, 73], [51, 62, 70, 47, 72, 46, 57, 53, 56, 60, 76, 55, 68, 41, 73, 52, 45, 59, 69, 40, 65, 78, 67, 61, 66, 77, 44, 43, 74, 79, 58, 71, 50, 75, 64, 42, 48, 54, 49, 63], [77, 76, 78, 66, 52, 47, 40, 71, 70, 64, 61, 58, 60, 56, 54, 44, 43, 48, 59, 51, 46, 42, 41, 57, 68, 53, 67, 55, 73, 69, 45, 79, 49, 50, 75, 65, 72, 74, 63, 62], [63, 67, 74, 61, 41, 59, 79, 72, 56, 50, 70, 45, 77, 64, 73, 47, 66, 62, 65, 52, 71, 49, 57, 76, 78, 55, 54, 53, 51, 42, 75, 40, 48, 69, 58, 46, 60, 44, 68, 43], [58, 41, 78, 64, 52, 40, 55, 68, 43, 63, 74, 54, 61, 47, 73, 77, 44, 53, 59, 60, 76, 79, 72, 70, 66, 56, 42, 48, 46, 50, 69, 49, 51, 62, 45, 57, 67, 71, 75, 65], [60, 63, 62, 72, 41, 56, 78, 48, 40, 45, 49, 66, 75, 43, 57, 61, 52, 73, 77, 64, 42, 46, 59, 68, 74, 55, 70, 50, 58, 71, 76, 44, 54, 51, 47, 53, 65, 67, 69, 79], [79, 52, 44, 68, 77, 62, 49, 45, 54, 40, 55, 73, 67, 60, 56, 51, 61, 47, 70, 59, 76, 41, 42, 65, 63, 71, 50, 74, 58, 69, 66, 78, 46, 75, 57, 72, 43, 64, 53, 48], [46, 67, 79, 63, 62, 50, 48, 40, 43, 73, 54, 74, 78, 41, 75, 68, 56, 55, 42, 70, 69, 71, 72, 52, 77, 44, 51, 66, 47, 60, 57, 76, 53, 59, 61, 65, 58, 49, 64, 45], [50, 48, 60, 64, 65, 74, 56, 58, 75, 61, 62, 51, 78, 69, 52, 59, 72, 71, 42, 45, 63, 66, 44, 43, 73, 79, 70, 76, 53, 68, 55, 40, 57, 54, 46, 67, 41, 47, 77, 49], [65, 54, 43, 60, 44, 74, 47, 56, 61, 73, 59, 53, 78, 66, 52, 70, 51, 76, 55, 71, 41, 58, 49, 77, 46, 42, 48, 64, 45, 75, 50, 79, 63, 57, 72, 69, 40, 62, 68, 67], [66, 62, 71, 51, 61, 49, 52, 50, 65, 45, 60, 79, 46, 76, 74, 43, 67, 70, 42, 47, 53, 56, 57, 55, 68, 69, 58, 63, 77, 40, 78, 48, 54, 72, 75, 59, 41, 44, 64, 73], [57, 63, 71, 42, 46, 50, 77, 54, 70, 61, 64, 72, 48, 68, 60, 66, 67, 79, 53, 49, 73, 74, 65, 45, 78, 52, 40, 43, 41, 56, 51, 75, 44, 69, 55, 59, 62, 58, 76, 47], [62, 43, 45, 48, 54, 49, 65, 71, 66, 64, 47, 52, 42, 53, 73, 74, 63, 69, 50, 46, 57, 60, 40, 76, 56, 51, 79, 41, 61, 70, 67, 77, 72, 78, 68, 59, 58, 44, 75, 55], [65, 50, 61, 67, 77, 49, 41, 74, 71, 42, 44, 68, 43, 75, 59, 78, 56, 79, 70, 66, 48, 63, 46, 58, 57, 47, 55, 54, 60, 40, 69, 62, 53, 72, 64, 76, 51, 73, 52, 45], [67, 78, 42, 61, 63, 77, 72, 44, 43, 41, 66, 74, 52, 62, 75, 47, 58, 51, 68, 69, 56, 53, 73, 59, 64, 71, 70, 60, 65, 55, 48, 45, 57, 54, 50, 49, 76, 79, 46, 40], [51, 65, 44, 69, 67, 47, 74, 61, 57, 78, 66, 41, 42, 73, 60, 58, 48, 64, 59, 45, 54, 75, 63, 71, 68, 70, 50, 40, 56, 55, 53, 46, 43, 72, 79, 52, 77, 62, 49, 76], [64, 47, 50, 72, 79, 67, 48, 76, 74, 66, 46, 73, 44, 63, 58, 65, 49, 59, 40, 54, 57, 68, 62, 52, 53, 75, 77, 43, 60, 55, 71, 78, 61, 41, 45, 42, 70, 51, 56, 69], [55, 67, 60, 53, 41, 54, 56, 49, 62, 74, 46, 76, 40, 65, 73, 57, 79, 58, 69, 63, 77, 44, 42, 64, 71, 51, 45, 72, 59, 43, 68, 66, 78, 52, 70, 75, 50, 61, 48, 47], [57, 59, 55, 76, 61, 66, 56, 65, 72, 51, 49, 73, 75, 44, 70, 53, 63, 78, 74, 58, 50, 42, 48, 52, 71, 77, 79, 62, 43, 41, 54, 60, 47, 40, 46, 67, 64, 68, 45, 69], [57, 73, 69, 55, 68, 48, 41, 60, 65, 44, 76, 58, 46, 63, 78, 50, 74, 59, 45, 72, 61, 40, 70, 62, 49, 75, 66, 47, 71, 79, 54, 42, 64, 51, 56, 43, 77, 67, 52, 53], [43, 62, 49, 45, 47, 78, 63, 48, 75, 69, 41, 72, 51, 60, 42, 64, 70, 50, 58, 77, 73, 44, 55, 65, 79, 71, 66, 67, 52, 61, 46, 53, 74, 59, 40, 54, 56, 57, 68, 76], [44, 49, 57, 78, 59, 75, 68, 48, 62, 53, 67, 76, 71, 77, 66, 50, 43, 73, 45, 69, 74, 41, 64, 60, 58, 56, 42, 63, 70, 55, 65, 47, 46, 52, 72, 51, 54, 79, 40, 61], [48, 64, 61, 56, 68, 79, 42, 55, 77, 45, 76, 51, 70, 67, 58, 72, 44, 40, 60, 75, 65, 78, 41, 52, 46, 63, 71, 54, 59, 53, 74, 62, 66, 57, 43, 47, 73, 50, 49, 69], [74, 68, 61, 63, 77, 75, 72, 60, 49, 52, 57, 71, 45, 59, 51, 41, 54, 44, 66, 79, 58, 78, 56, 62, 46, 43, 40, 50, 48, 47, 73, 53, 64, 69, 55, 76, 67, 42, 65, 70], [52, 53, 44, 42, 66, 73, 79, 58, 54, 55, 56, 49, 57, 75, 46, 40, 65, 47, 67, 43, 60, 48, 62, 71, 78, 72, 51, 70, 77, 50, 76, 63, 68, 45, 41, 74, 59, 61, 69, 64], [43, 78, 50, 42, 62, 52, 72, 59, 79, 61, 76, 73, 64, 55, 68, 53, 51, 75, 48, 44, 60, 57, 63, 74, 47, 65, 56, 54, 71, 45, 41, 46, 69, 49, 66, 70, 40, 58, 67, 77], [75, 41, 72, 57, 60, 64, 79, 44, 65, 62, 69, 67, 77, 76, 48, 45, 54, 63, 74, 55, 40, 56, 47, 53, 59, 66, 51, 52, 43, 49, 42, 71, 70, 61, 46, 50, 58, 73, 78, 68], [47, 68, 56, 76, 61, 40, 79, 73, 70, 45, 53, 52, 49, 58, 57, 44, 75, 62, 60, 51, 50, 72, 63, 54, 65, 64, 42, 77, 66, 71, 43, 48, 74, 55, 78, 46, 69, 67, 59, 41], [77, 54, 58, 69, 47, 60, 49, 61, 65, 51, 79, 72, 66, 76, 40, 64, 62, 75, 78, 63, 74, 57, 44, 70, 73, 42, 50, 55, 52, 71, 59, 67, 68, 53, 56, 48, 43, 41, 45, 46], [3, 28, 23, 1, 36, 33, 21, 8, 37, 18, 22, 17, 9, 7, 2, 11, 4, 12, 26, 27, 13, 31, 14, 16, 0, 30, 25, 29, 32, 38, 15, 19, 10, 6, 24, 35, 20, 5, 34, 39], [39, 26, 16, 6, 25, 0, 21, 4, 17, 2, 33, 22, 35, 7, 32, 10, 19, 31, 12, 8, 18, 23, 5, 20, 36, 37, 13, 24, 15, 1, 11, 27, 38, 14, 28, 9, 3, 29, 34, 30], [18, 2, 10, 25, 13, 20, 1, 15, 9, 6, 34, 26, 19, 21, 30, 3, 28, 36, 32, 33, 31, 35, 5, 7, 37, 23, 16, 8, 12, 0, 39, 22, 17, 29, 4, 11, 14, 27, 24, 38], [18, 17, 27, 13, 26, 24, 9, 1, 16, 33, 8, 30, 7, 15, 0, 39, 31, 28, 37, 2, 32, 22, 36, 20, 21, 3, 4, 25, 5, 14, 34, 23, 11, 38, 6, 12, 10, 19, 29, 35], [6, 23, 29, 31, 9, 36, 8, 18, 12, 16, 26, 14, 20, 28, 10, 35, 39, 30, 1, 27, 2, 4, 15, 7, 33, 25, 34, 24, 5, 0, 17, 3, 38, 19, 11, 32, 13, 22, 37, 21], [2, 37, 35, 31, 7, 36, 9, 29, 23, 39, 28, 30, 27, 22, 24, 19, 0, 20, 25, 16, 38, 13, 17, 8, 11, 32, 15, 34, 5, 33, 14, 6, 10, 21, 12, 4, 3, 26, 18, 1], [3, 37, 29, 17, 18, 0, 20, 39, 30, 6, 23, 34, 19, 35, 9, 4, 2, 1, 10, 8, 11, 38, 25, 26, 33, 14, 21, 32, 13, 16, 12, 7, 27, 24, 15, 28, 5, 22, 31, 36], [6, 39, 19, 13, 8, 1, 29, 0, 31, 3, 33, 24, 14, 28, 34, 26, 17, 11, 4, 5, 27, 2, 37, 35, 30, 15, 36, 25, 7, 10, 32, 20, 12, 22, 38, 16, 9, 18, 23, 21], [39, 32, 30, 33, 5, 15, 37, 25, 29, 13, 0, 36, 24, 21, 22, 17, 31, 9, 34, 19, 28, 7, 1, 12, 6, 35, 2, 23, 8, 10, 38, 27, 20, 4, 3, 26, 16, 14, 18, 11], [2, 16, 28, 1, 8, 4, 12, 20, 22, 34, 30, 23, 3, 21, 27, 39, 17, 38, 26, 13, 32, 29, 35, 18, 0, 24, 31, 25, 10, 6, 14, 7, 15, 33, 37, 5, 11, 36, 9, 19], [28, 1, 32, 21, 16, 27, 14, 3, 25, 18, 9, 6, 24, 34, 36, 0, 22, 17, 12, 2, 10, 35, 4, 39, 29, 11, 20, 13, 33, 8, 30, 5, 7, 26, 23, 37, 38, 19, 15, 31], [7, 18, 39, 13, 24, 10, 11, 12, 20, 5, 1, 33, 29, 16, 28, 15, 23, 30, 37, 0, 26, 9, 14, 8, 6, 38, 19, 32, 25, 22, 21, 3, 34, 27, 35, 17, 31, 2, 4, 36], [32, 26, 19, 29, 24, 3, 2, 20, 36, 28, 16, 31, 9, 14, 10, 17, 5, 8, 0, 15, 38, 37, 33, 11, 6, 27, 21, 34, 25, 13, 1, 30, 22, 39, 12, 35, 23, 4, 7, 18], [16, 24, 20, 31, 15, 33, 12, 9, 38, 30, 26, 1, 28, 34, 10, 22, 8, 39, 3, 19, 29, 17, 2, 21, 36, 23, 11, 27, 32, 18, 4, 37, 0, 5, 35, 7, 14, 6, 25, 13], [10, 9, 18, 38, 14, 20, 39, 33, 35, 24, 2, 23, 0, 31, 34, 32, 36, 6, 22, 17, 16, 29, 8, 4, 15, 37, 27, 21, 13, 25, 26, 3, 30, 1, 12, 11, 5, 28, 19, 7], [16, 2, 15, 36, 25, 19, 21, 0, 14, 17, 6, 9, 35, 37, 4, 32, 26, 39, 34, 38, 11, 18, 10, 3, 33, 23, 8, 28, 24, 7, 1, 5, 30, 12, 27, 13, 29, 22, 20, 31], [29, 32, 3, 35, 13, 19, 2, 30, 7, 36, 6, 8, 24, 15, 28, 25, 12, 1, 33, 14, 39, 21, 0, 4, 38, 5, 17, 26, 10, 18, 34, 27, 23, 37, 9, 11, 16, 22, 31, 20], [12, 24, 29, 14, 18, 11, 15, 3, 5, 13, 37, 17, 0, 9, 27, 22, 28, 6, 7, 2, 34, 35, 36, 23, 38, 4, 25, 33, 30, 20, 32, 21, 31, 19, 8, 39, 16, 10, 26, 1], [6, 12, 0, 2, 17, 31, 23, 8, 38, 36, 32, 33, 7, 3, 30, 21, 10, 9, 20, 35, 19, 24, 29, 15, 28, 34, 25, 26, 5, 13, 18, 16, 39, 1, 22, 4, 37, 27, 11, 14], [24, 4, 9, 15, 39, 22, 32, 26, 14, 36, 28, 11, 8, 17, 23, 13, 19, 0, 38, 7, 10, 31, 16, 35, 3, 2, 34, 6, 21, 20, 1, 5, 33, 18, 30, 25, 12, 29, 27, 37], [9, 5, 15, 32, 21, 27, 22, 26, 12, 25, 33, 13, 30, 11, 17, 7, 39, 28, 10, 34, 6, 1, 0, 18, 3, 36, 24, 20, 19, 14, 35, 16, 37, 29, 23, 2, 38, 8, 31, 4], [0, 7, 27, 38, 8, 20, 15, 25, 6, 4, 31, 23, 36, 9, 30, 12, 18, 16, 37, 26, 19, 11, 28, 13, 21, 17, 14, 22, 2, 32, 1, 10, 39, 3, 33, 5, 29, 24, 34, 35], [2, 35, 11, 23, 8, 28, 29, 0, 26, 37, 4, 1, 17, 15, 24, 12, 39, 25, 14, 18, 31, 27, 10, 7, 38, 32, 9, 5, 16, 3, 34, 21, 6, 33, 19, 20, 30, 22, 13, 36], [10, 2, 33, 25, 28, 18, 38, 26, 7, 29, 9, 23, 4, 27, 35, 1, 12, 3, 30, 37, 5, 36, 19, 32, 39, 0, 34, 17, 20, 13, 8, 24, 6, 22, 15, 16, 21, 31, 14, 11], [9, 14, 30, 13, 34, 12, 26, 33, 28, 11, 1, 7, 5, 22, 21, 38, 2, 32, 16, 27, 15, 10, 17, 29, 37, 24, 35, 18, 6, 0, 8, 39, 25, 4, 31, 3, 36, 23, 19, 20], [18, 4, 25, 6, 10, 17, 3, 12, 16, 14, 0, 11, 15, 36, 20, 19, 24, 31, 9, 39, 7, 22, 27, 32, 28, 34, 8, 30, 21, 37, 5, 35, 33, 29, 38, 13, 26, 1, 23, 2], [19, 0, 6, 1, 25, 12, 31, 14, 22, 16, 3, 23, 8, 13, 36, 28, 20, 38, 37, 17, 35, 32, 2, 10, 5, 7, 34, 4, 21, 29, 27, 24, 26, 39, 11, 30, 18, 9, 15, 33], [26, 33, 39, 27, 5, 15, 22, 38, 0, 8, 4, 34, 1, 35, 6, 17, 13, 23, 20, 16, 37, 31, 25, 19, 7, 14, 18, 28, 24, 36, 11, 3, 10, 2, 12, 21, 30, 9, 32, 29], [27, 4, 29, 28, 3, 38, 11, 24, 34, 7, 8, 10, 35, 25, 2, 32, 5, 33, 17, 13, 18, 39, 26, 21, 9, 30, 1, 20, 22, 31, 23, 14, 6, 12, 36, 15, 0, 16, 19, 37], [11, 7, 17, 2, 13, 21, 33, 29, 35, 22, 27, 20, 25, 12, 19, 3, 28, 23, 18, 15, 10, 9, 6, 39, 16, 0, 5, 37, 8, 30, 31, 14, 24, 32, 34, 1, 36, 4, 38, 26], [25, 1, 21, 8, 26, 0, 35, 38, 7, 13, 11, 22, 10, 24, 5, 29, 16, 31, 34, 23, 20, 27, 28, 19, 4, 32, 18, 14, 3, 15, 39, 2, 9, 33, 37, 17, 6, 30, 12, 36], [19, 21, 31, 6, 11, 27, 30, 14, 8, 39, 32, 23, 7, 15, 33, 28, 5, 0, 29, 20, 9, 4, 13, 16, 38, 36, 12, 25, 3, 10, 37, 17, 24, 34, 2, 1, 18, 35, 26, 22], [14, 19, 13, 21, 22, 28, 29, 36, 30, 31, 7, 12, 3, 6, 20, 35, 15, 34, 11, 38, 25, 37, 39, 26, 18, 16, 27, 33, 10, 4, 2, 5, 1, 32, 17, 9, 24, 8, 23, 0], [29, 3, 20, 19, 26, 1, 31, 25, 5, 32, 0, 16, 39, 2, 18, 22, 34, 37, 10, 8, 9, 24, 33, 13, 7, 11, 35, 28, 30, 4, 14, 12, 6, 23, 17, 27, 15, 21, 36, 38], [17, 18, 6, 5, 3, 13, 37, 8, 21, 10, 23, 32, 2, 16, 39, 0, 22, 25, 4, 30, 27, 24, 20, 1, 14, 15, 35, 36, 31, 12, 19, 7, 38, 28, 34, 11, 9, 26, 29, 33], [16, 23, 31, 29, 39, 22, 36, 30, 17, 5, 18, 7, 13, 14, 15, 19, 4, 8, 21, 34, 27, 33, 0, 35, 25, 26, 6, 32, 2, 1, 28, 3, 11, 24, 10, 12, 38, 9, 20, 37], [15, 39, 21, 22, 6, 10, 5, 33, 1, 13, 8, 3, 12, 28, 16, 18, 31, 29, 27, 34, 23, 25, 4, 17, 36, 0, 7, 38, 2, 26, 20, 11, 37, 24, 30, 35, 32, 14, 19, 9], [27, 3, 0, 20, 5, 9, 28, 33, 18, 37, 32, 17, 15, 6, 24, 31, 11, 12, 34, 13, 23, 38, 8, 2, 26, 7, 36, 21, 10, 14, 19, 22, 35, 1, 25, 30, 29, 39, 4, 16], [12, 6, 5, 14, 28, 27, 3, 8, 31, 4, 13, 16, 30, 23, 9, 0, 38, 39, 32, 22, 15, 25, 35, 2, 11, 21, 17, 24, 19, 7, 26, 10, 20, 34, 37, 36, 29, 33, 18, 1], [23, 3, 39, 5, 27, 18, 29, 16, 25, 21, 22, 13, 36, 28, 24, 37, 20, 15, 10, 38, 4, 30, 17, 19, 14, 12, 33, 9, 34, 7, 6, 11, 2, 31, 32, 1, 35, 8, 0, 26]], [[70, 51, 62, 74, 46, 42, 71, 57, 41, 54, 75, 43, 61, 55, 63, 76, 66, 65, 72, 68, 45, 52, 77, 59, 58, 56, 50, 64, 73, 79, 44, 49, 60, 78, 48, 53, 67, 69, 40, 47], [40, 44, 60, 50, 52, 70, 45, 54, 47, 49, 74, 41, 64, 72, 58, 61, 67, 66, 56, 73, 65, 46, 78, 55, 51, 62, 79, 69, 68, 77, 76, 59, 75, 53, 63, 42, 43, 71, 48, 57], [61, 74, 77, 76, 44, 75, 71, 68, 54, 59, 57, 40, 79, 46, 72, 42, 53, 63, 66, 64, 47, 41, 50, 58, 45, 55, 56, 78, 69, 49, 70, 48, 60, 51, 62, 43, 65, 73, 52, 67], [61, 60, 70, 58, 68, 78, 66, 51, 48, 56, 55, 79, 45, 62, 77, 74, 54, 75, 73, 42, 72, 69, 57, 46, 50, 53, 64, 67, 63, 47, 49, 44, 71, 41, 59, 40, 52, 76, 43, 65], [56, 47, 79, 73, 67, 46, 45, 71, 44, 51, 66, 55, 62, 59, 65, 76, 72, 60, 57, 50, 78, 43, 53, 75, 61, 74, 70, 49, 40, 68, 54, 63, 64, 48, 41, 77, 69, 58, 42, 52], [76, 41, 67, 49, 43, 79, 71, 54, 69, 75, 46, 40, 66, 50, 78, 45, 58, 70, 64, 68, 72, 48, 55, 61, 47, 60, 65, 74, 57, 52, 62, 56, 53, 44, 59, 73, 63, 51, 77, 42], [40, 79, 50, 72, 56, 57, 71, 60, 53, 66, 43, 70, 73, 63, 52, 74, 65, 67, 54, 48, 68, 51, 46, 47, 77, 59, 62, 58, 76, 44, 41, 42, 75, 64, 55, 49, 69, 78, 61, 45], [79, 72, 62, 58, 73, 45, 47, 54, 64, 76, 71, 63, 51, 78, 60, 53, 41, 50, 59, 52, 43, 48, 44, 69, 75, 49, 61, 57, 42, 56, 67, 70, 77, 66, 40, 46, 55, 74, 68, 65], [79, 62, 75, 45, 51, 53, 49, 48, 76, 41, 54, 69, 42, 60, 44, 50, 63, 55, 77, 74, 47, 64, 43, 57, 65, 78, 52, 46, 70, 40, 56, 66, 73, 58, 59, 68, 72, 71, 61, 67], [75, 72, 79, 57, 67, 44, 73, 65, 49, 47, 61, 51, 58, 40, 43, 45, 53, 66, 41, 64, 48, 52, 62, 74, 59, 55, 78, 63, 76, 68, 42, 46, 77, 60, 69, 71, 56, 54, 70, 50], [49, 54, 48, 69, 63, 44, 40, 76, 59, 47, 66, 79, 60, 55, 67, 41, 46, 78, 65, 75, 56, 74, 45, 71, 62, 72, 58, 53, 73, 43, 68, 57, 61, 77, 50, 70, 51, 42, 52, 64], [54, 73, 41, 58, 44, 63, 60, 66, 43, 67, 53, 50, 45, 62, 77, 42, 47, 61, 65, 49, 51, 70, 52, 59, 57, 48, 72, 68, 56, 46, 55, 78, 69, 40, 75, 76, 74, 71, 79, 64], [48, 47, 69, 52, 46, 77, 56, 74, 55, 43, 54, 45, 62, 72, 75, 64, 50, 71, 53, 60, 61, 51, 79, 65, 66, 70, 44, 42, 68, 49, 73, 67, 41, 78, 63, 40, 76, 57, 59, 58], [58, 67, 46, 62, 57, 76, 70, 71, 61, 68, 59, 49, 50, 75, 42, 78, 44, 45, 47, 41, 77, 53, 51, 56, 55, 60, 66, 40, 74, 54, 69, 79, 48, 43, 72, 52, 63, 73, 64, 65], [52, 42, 74, 69, 76, 48, 75, 60, 62, 43, 64, 68, 45, 63, 50, 66, 56, 67, 58, 40, 47, 61, 71, 46, 72, 59, 77, 65, 70, 54, 73, 78, 49, 53, 57, 51, 55, 44, 41, 79], [58, 45, 72, 50, 66, 57, 75, 74, 62, 77, 78, 42, 71, 49, 79, 68, 46, 56, 48, 67, 47, 52, 64, 69, 76, 60, 63, 55, 59, 53, 51, 73, 41, 44, 61, 43, 65, 54, 70, 40], [79, 63, 76, 67, 65, 45, 59, 53, 78, 73, 62, 70, 54, 57, 41, 66, 58, 40, 77, 68, 56, 60, 71, 50, 46, 52, 74, 72, 75, 64, 44, 51, 42, 47, 43, 61, 49, 55, 69, 48], [74, 70, 54, 53, 45, 51, 47, 72, 79, 40, 77, 64, 42, 60, 69, 59, 68, 67, 71, 73, 46, 63, 50, 52, 76, 43, 75, 55, 62, 57, 49, 65, 48, 41, 58, 56, 61, 78, 44, 66], [62, 71, 47, 67, 59, 44, 73, 72, 60, 52, 70, 40, 55, 56, 65, 75, 57, 53, 58, 42, 51, 54, 79, 45, 66, 68, 49, 69, 63, 78, 74, 61, 76, 77, 64, 43, 50, 46, 48, 41], [69, 68, 44, 43, 55, 59, 79, 61, 66, 65, 78, 63, 50, 42, 52, 51, 46, 70, 62, 64, 57, 45, 53, 75, 74, 58, 48, 67, 77, 72, 54, 41, 49, 60, 47, 76, 56, 40, 71, 73], [73, 57, 53, 60, 70, 77, 64, 45, 54, 51, 62, 68, 58, 71, 67, 43, 75, 52, 49, 61, 76, 50, 47, 66, 74, 69, 79, 44, 41, 55, 65, 42, 78, 63, 56, 40, 59, 72, 46, 48], [62, 57, 56, 78, 76, 48, 40, 52, 77, 42, 54, 68, 53, 50, 65, 51, 64, 58, 41, 79, 43, 69, 44, 61, 71, 49, 63, 47, 59, 73, 70, 72, 67, 45, 46, 74, 75, 60, 55, 66], [76, 41, 48, 70, 64, 58, 68, 55, 74, 52, 65, 63, 40, 46, 69, 78, 61, 45, 59, 54, 56, 53, 42, 49, 43, 66, 51, 47, 75, 57, 67, 71, 60, 77, 79, 62, 44, 73, 50, 72], [44, 75, 46, 63, 66, 45, 67, 79, 62, 71, 42, 48, 40, 54, 78, 59, 53, 58, 50, 49, 51, 68, 56, 69, 47, 43, 73, 74, 60, 52, 76, 55, 70, 61, 77, 64, 57, 65, 72, 41], [47, 64, 45, 70, 74, 71, 75, 65, 66, 79, 41, 50, 58, 44, 72, 63, 48, 51, 68, 73, 61, 43, 67, 42, 46, 62, 77, 76, 49, 40, 53, 55, 60, 52, 59, 54, 78, 69, 57, 56], [50, 76, 42, 74, 56, 48, 70, 57, 62, 52, 73, 44, 53, 65, 45, 49, 47, 78, 54, 41, 59, 67, 71, 63, 61, 60, 46, 58, 69, 43, 40, 55, 79, 64, 75, 68, 77, 51, 72, 66], [46, 76, 56, 43, 75, 48, 51, 55, 49, 68, 61, 44, 78, 71, 45, 79, 41, 47, 58, 54, 66, 42, 73, 63, 64, 59, 50, 65, 40, 74, 69, 67, 62, 60, 77, 72, 52, 53, 70, 57], [62, 43, 52, 50, 70, 54, 57, 46, 78, 68, 41, 59, 51, 48, 42, 66, 45, 65, 56, 69, 55, 63, 53, 74, 76, 58, 40, 73, 77, 72, 47, 44, 75, 60, 61, 79, 67, 49, 64, 71], [43, 67, 58, 74, 45, 40, 53, 44, 65, 61, 55, 50, 66, 60, 79, 78, 57, 49, 47, 51, 70, 42, 56, 46, 72, 52, 69, 75, 48, 41, 76, 68, 62, 54, 73, 63, 77, 64, 71, 59], [41, 53, 50, 75, 61, 66, 58, 44, 62, 78, 65, 46, 63, 57, 67, 56, 79, 43, 49, 68, 54, 73, 77, 72, 40, 48, 55, 74, 45, 47, 42, 64, 60, 69, 70, 51, 76, 71, 59, 52], [66, 52, 51, 77, 54, 61, 75, 43, 76, 55, 67, 64, 44, 73, 74, 58, 49, 68, 63, 56, 48, 42, 60, 69, 47, 45, 72, 71, 57, 78, 79, 59, 41, 70, 65, 46, 62, 53, 40, 50], [53, 42, 68, 57, 67, 50, 63, 72, 71, 40, 52, 65, 69, 76, 49, 73, 60, 66, 61, 77, 59, 47, 45, 54, 46, 55, 64, 41, 78, 74, 56, 51, 48, 70, 43, 58, 62, 75, 44, 79], [65, 73, 42, 67, 51, 49, 56, 68, 46, 53, 45, 70, 50, 43, 74, 62, 52, 71, 41, 61, 57, 66, 75, 55, 48, 40, 78, 47, 58, 69, 79, 60, 54, 44, 63, 64, 59, 76, 77, 72], [78, 68, 50, 74, 65, 76, 64, 54, 67, 48, 70, 49, 58, 59, 71, 52, 43, 79, 66, 40, 56, 46, 57, 41, 55, 62, 63, 51, 75, 77, 42, 61, 45, 60, 69, 53, 72, 47, 73, 44], [66, 77, 73, 53, 50, 62, 58, 45, 44, 67, 49, 59, 79, 74, 54, 69, 61, 60, 46, 70, 55, 40, 51, 76, 65, 41, 64, 75, 48, 43, 63, 72, 52, 78, 68, 57, 56, 47, 71, 42], [55, 74, 40, 75, 56, 67, 73, 47, 48, 78, 69, 45, 52, 79, 77, 42, 68, 65, 54, 72, 63, 64, 51, 61, 58, 41, 53, 76, 44, 49, 57, 50, 59, 43, 60, 66, 62, 46, 71, 70], [76, 54, 64, 60, 49, 43, 63, 51, 48, 70, 69, 41, 59, 68, 42, 57, 45, 55, 52, 62, 46, 74, 79, 58, 53, 78, 75, 72, 67, 56, 73, 50, 44, 61, 66, 40, 71, 47, 77, 65], [56, 65, 69, 60, 75, 76, 53, 67, 78, 57, 63, 74, 40, 45, 42, 43, 79, 49, 72, 47, 77, 41, 70, 51, 58, 52, 73, 66, 48, 44, 54, 55, 62, 46, 64, 68, 71, 50, 59, 61], [48, 51, 62, 49, 69, 43, 78, 41, 50, 46, 45, 73, 74, 77, 57, 58, 42, 59, 70, 64, 40, 66, 55, 75, 53, 54, 52, 76, 44, 65, 63, 71, 61, 72, 79, 47, 60, 67, 56, 68], [50, 69, 71, 63, 42, 45, 75, 43, 54, 40, 48, 74, 76, 61, 64, 51, 65, 78, 47, 79, 52, 59, 44, 57, 72, 73, 49, 68, 56, 55, 41, 58, 60, 67, 46, 66, 62, 77, 70, 53], [33, 10, 1, 8, 20, 14, 37, 39, 31, 26, 17, 24, 21, 19, 3, 4, 34, 9, 30, 36, 18, 38, 27, 35, 28, 29, 32, 0, 15, 23, 2, 6, 25, 13, 11, 5, 16, 22, 7, 12], [12, 24, 11, 33, 18, 2, 34, 21, 39, 5, 28, 36, 19, 14, 1, 7, 3, 27, 4, 35, 8, 20, 22, 29, 37, 23, 30, 17, 25, 6, 16, 10, 13, 15, 32, 0, 38, 9, 31, 26], [4, 18, 0, 38, 16, 8, 11, 28, 21, 20, 14, 26, 9, 1, 5, 19, 23, 25, 13, 30, 10, 39, 27, 24, 29, 7, 17, 34, 22, 37, 31, 3, 15, 36, 32, 35, 33, 2, 12, 6], [34, 31, 24, 14, 12, 6, 5, 19, 2, 36, 37, 18, 13, 33, 17, 39, 29, 20, 38, 28, 9, 21, 25, 1, 8, 10, 7, 15, 11, 3, 35, 0, 26, 16, 4, 22, 30, 32, 27, 23], [16, 21, 6, 22, 13, 17, 37, 18, 20, 24, 19, 26, 27, 7, 11, 35, 28, 36, 9, 38, 2, 23, 0, 4, 3, 1, 31, 14, 10, 8, 12, 29, 33, 30, 5, 39, 32, 34, 25, 15], [8, 3, 16, 18, 34, 29, 26, 14, 38, 39, 12, 1, 7, 15, 5, 0, 21, 4, 31, 10, 19, 28, 37, 30, 33, 23, 17, 11, 20, 2, 24, 9, 13, 32, 25, 22, 6, 27, 36, 35], [6, 15, 17, 28, 24, 12, 0, 27, 16, 18, 39, 31, 5, 38, 4, 35, 36, 34, 33, 7, 37, 23, 29, 32, 9, 25, 21, 30, 2, 11, 26, 10, 8, 1, 20, 22, 3, 14, 13, 19], [37, 36, 5, 22, 31, 38, 8, 32, 12, 4, 7, 33, 23, 17, 35, 39, 21, 14, 25, 18, 6, 29, 20, 13, 27, 0, 16, 1, 3, 11, 9, 28, 24, 10, 2, 19, 30, 34, 26, 15], [5, 30, 37, 14, 29, 7, 11, 19, 32, 21, 35, 3, 26, 4, 27, 13, 39, 24, 34, 0, 33, 10, 31, 2, 1, 12, 25, 20, 8, 17, 15, 9, 18, 38, 6, 16, 22, 36, 23, 28], [26, 14, 9, 33, 34, 17, 6, 15, 39, 37, 24, 20, 3, 25, 8, 0, 7, 4, 22, 12, 5, 21, 16, 13, 11, 27, 35, 10, 1, 38, 18, 36, 2, 32, 19, 30, 23, 28, 29, 31], [10, 11, 33, 32, 2, 38, 35, 1, 12, 36, 26, 37, 7, 15, 29, 19, 30, 20, 31, 5, 16, 28, 17, 22, 13, 4, 39, 23, 24, 34, 0, 6, 14, 3, 21, 25, 9, 18, 27, 8], [35, 21, 20, 30, 11, 25, 33, 26, 7, 14, 2, 0, 15, 18, 22, 31, 17, 13, 5, 12, 8, 24, 4, 1, 6, 34, 37, 23, 28, 36, 29, 10, 38, 27, 3, 19, 16, 9, 32, 39], [18, 34, 5, 36, 0, 29, 20, 28, 7, 24, 21, 11, 39, 32, 27, 12, 37, 15, 19, 16, 38, 30, 9, 13, 22, 17, 14, 23, 10, 3, 1, 33, 4, 2, 8, 26, 25, 35, 31, 6], [29, 2, 24, 22, 11, 17, 12, 14, 25, 18, 26, 1, 23, 31, 36, 33, 5, 4, 37, 30, 21, 35, 20, 38, 27, 32, 19, 39, 3, 13, 8, 9, 16, 7, 6, 34, 10, 28, 15, 0], [20, 8, 0, 35, 24, 23, 5, 33, 38, 32, 31, 14, 11, 27, 15, 30, 4, 37, 19, 16, 28, 18, 3, 9, 7, 12, 22, 6, 2, 34, 13, 36, 1, 25, 26, 39, 21, 17, 29, 10], [32, 6, 3, 10, 23, 8, 29, 12, 27, 7, 26, 18, 28, 31, 16, 4, 36, 11, 30, 25, 13, 24, 15, 21, 19, 34, 37, 38, 5, 14, 20, 17, 39, 9, 1, 35, 0, 22, 33, 2], [27, 21, 6, 32, 33, 13, 10, 18, 9, 26, 35, 39, 28, 11, 20, 14, 15, 12, 4, 17, 5, 37, 19, 16, 38, 7, 3, 23, 36, 30, 0, 1, 31, 34, 29, 8, 24, 25, 22, 2], [16, 35, 8, 9, 3, 12, 18, 4, 6, 11, 29, 17, 1, 21, 33, 32, 10, 19, 7, 24, 5, 2, 37, 0, 38, 13, 25, 28, 34, 20, 14, 31, 26, 30, 23, 15, 22, 36, 27, 39], [5, 4, 39, 18, 7, 16, 34, 22, 6, 15, 23, 36, 24, 1, 11, 8, 19, 14, 29, 32, 37, 13, 9, 21, 3, 2, 28, 30, 20, 12, 26, 38, 27, 35, 33, 25, 17, 0, 10, 31], [36, 8, 3, 14, 15, 1, 23, 12, 38, 33, 21, 24, 27, 13, 0, 16, 17, 11, 9, 34, 32, 35, 6, 4, 30, 22, 25, 29, 37, 10, 28, 7, 31, 5, 20, 26, 19, 39, 2, 18], [25, 29, 14, 5, 18, 17, 10, 3, 32, 11, 33, 26, 20, 16, 35, 39, 34, 13, 27, 12, 4, 15, 1, 6, 9, 8, 38, 19, 30, 37, 36, 24, 28, 7, 23, 31, 2, 22, 0, 21], [30, 33, 31, 6, 11, 8, 23, 39, 3, 21, 20, 37, 19, 25, 12, 9, 15, 28, 34, 5, 36, 35, 22, 10, 7, 18, 32, 2, 16, 1, 27, 0, 13, 14, 24, 26, 29, 4, 38, 17], [29, 38, 32, 28, 36, 3, 1, 9, 13, 22, 5, 4, 23, 37, 24, 2, 15, 14, 35, 0, 39, 12, 26, 27, 34, 17, 25, 10, 30, 33, 21, 16, 7, 8, 6, 11, 20, 19, 31, 18], [24, 28, 38, 39, 34, 19, 11, 23, 2, 9, 14, 37, 15, 17, 26, 0, 18, 29, 25, 1, 22, 13, 16, 35, 5, 12, 27, 20, 31, 4, 21, 8, 36, 33, 30, 10, 7, 32, 6, 3], [11, 7, 0, 23, 30, 32, 39, 31, 10, 9, 4, 15, 5, 28, 26, 37, 16, 12, 29, 8, 18, 22, 34, 24, 20, 17, 1, 21, 13, 38, 14, 25, 27, 33, 2, 36, 6, 35, 19, 3], [34, 29, 6, 37, 22, 10, 3, 5, 18, 15, 13, 12, 35, 32, 19, 24, 28, 0, 20, 31, 4, 25, 2, 21, 30, 14, 36, 16, 11, 26, 17, 23, 39, 27, 33, 1, 9, 38, 8, 7], [25, 17, 16, 1, 20, 37, 39, 8, 13, 19, 15, 12, 10, 27, 21, 31, 18, 38, 30, 29, 36, 2, 35, 4, 11, 23, 0, 34, 33, 9, 24, 22, 5, 7, 32, 26, 6, 14, 3, 28], [38, 39, 31, 17, 36, 33, 7, 13, 20, 37, 18, 29, 34, 6, 8, 22, 10, 19, 32, 3, 15, 1, 28, 12, 4, 9, 27, 0, 14, 5, 35, 11, 26, 23, 25, 2, 30, 21, 16, 24], [26, 30, 19, 39, 29, 14, 31, 16, 27, 37, 36, 28, 24, 2, 11, 12, 9, 35, 33, 17, 25, 3, 38, 22, 10, 8, 15, 4, 5, 18, 20, 7, 1, 13, 21, 32, 23, 6, 34, 0], [25, 28, 5, 27, 2, 14, 4, 15, 10, 18, 38, 31, 16, 22, 34, 19, 11, 32, 36, 26, 23, 12, 13, 9, 24, 6, 39, 7, 37, 17, 20, 35, 29, 33, 30, 1, 8, 21, 3, 0], [24, 0, 9, 4, 3, 5, 18, 19, 39, 35, 22, 13, 29, 30, 38, 21, 7, 25, 34, 31, 20, 28, 37, 23, 2, 12, 10, 6, 8, 11, 26, 36, 16, 1, 32, 14, 33, 17, 27, 15], [0, 8, 28, 35, 36, 21, 33, 22, 24, 11, 17, 5, 29, 7, 19, 30, 3, 2, 20, 32, 27, 38, 10, 26, 18, 15, 23, 34, 4, 12, 39, 31, 13, 1, 37, 16, 14, 6, 9, 25], [0, 31, 11, 14, 20, 26, 35, 16, 30, 38, 23, 37, 15, 10, 24, 4, 27, 6, 32, 9, 36, 13, 25, 18, 5, 1, 17, 19, 29, 33, 7, 3, 2, 28, 39, 21, 22, 34, 12, 8], [34, 38, 11, 15, 35, 37, 5, 24, 27, 32, 21, 7, 1, 3, 6, 31, 13, 26, 22, 16, 29, 36, 19, 9, 10, 14, 12, 2, 4, 8, 0, 39, 25, 23, 28, 17, 18, 20, 30, 33], [7, 8, 18, 4, 20, 2, 0, 10, 32, 36, 31, 24, 35, 3, 16, 19, 22, 29, 6, 25, 12, 21, 33, 23, 17, 28, 26, 15, 13, 14, 37, 30, 27, 39, 1, 11, 5, 9, 38, 34], [17, 8, 22, 31, 33, 24, 35, 3, 28, 0, 39, 23, 15, 2, 27, 32, 9, 21, 34, 12, 19, 14, 6, 16, 5, 20, 38, 25, 37, 26, 36, 18, 7, 29, 13, 30, 1, 10, 11, 4], [13, 9, 16, 30, 2, 25, 8, 31, 23, 17, 34, 1, 11, 15, 38, 12, 19, 4, 5, 37, 33, 27, 22, 7, 3, 32, 36, 26, 21, 24, 6, 35, 20, 39, 28, 18, 14, 10, 29, 0], [3, 4, 24, 25, 11, 1, 2, 32, 39, 26, 16, 20, 12, 15, 9, 14, 34, 29, 28, 7, 17, 18, 22, 30, 13, 0, 21, 36, 37, 5, 19, 33, 27, 35, 8, 38, 23, 10, 31, 6], [6, 10, 8, 32, 28, 39, 12, 2, 23, 20, 21, 33, 36, 35, 9, 1, 24, 31, 38, 5, 15, 7, 22, 4, 25, 34, 17, 18, 27, 11, 14, 26, 13, 29, 19, 0, 37, 16, 30, 3], [37, 0, 14, 32, 5, 9, 1, 29, 25, 38, 11, 19, 27, 4, 28, 15, 35, 13, 34, 2, 12, 31, 8, 23, 30, 22, 18, 20, 24, 21, 36, 39, 10, 26, 33, 7, 6, 17, 3, 16]]]\n"
          ],
          "name": "stdout"
        }
      ]
    },
    {
      "cell_type": "markdown",
      "metadata": {
        "id": "aUskKzZ8t0VF"
      },
      "source": [
        "## Top 3, Best execution times for N=40"
      ]
    },
    {
      "cell_type": "code",
      "metadata": {
        "colab": {
          "base_uri": "https://localhost:8080/"
        },
        "id": "p3nKwO16t6rI",
        "outputId": "0929b901-89d0-4ae5-d116-c7c039e8fce7"
      },
      "source": [
        "print(timer[0])\n",
        "preferMens=prefer[0][:N]\n",
        "preferGirls=prefer[0][N:]\n",
        "\n",
        "print(\"PreferBoys = \",preferMens)\n",
        "print(\"PreferGirls = \",preferGirls)\n",
        "stableMarriage2(prefer[0])\n",
        "%time"
      ],
      "execution_count": 6,
      "outputs": [
        {
          "output_type": "stream",
          "text": [
            "0.000225067138671875\n",
            "PreferBoys =  [[52, 73, 47, 43, 59, 40, 72, 64, 75, 74, 68, 71, 44, 70, 51, 69, 67, 62, 55, 77, 76, 61, 79, 58, 46, 56, 65, 48, 63, 54, 53, 60, 45, 78, 50, 66, 49, 42, 41, 57], [45, 65, 60, 67, 68, 58, 54, 50, 69, 42, 57, 62, 66, 59, 51, 70, 74, 40, 76, 43, 49, 75, 47, 41, 56, 72, 79, 77, 52, 78, 71, 63, 48, 55, 73, 53, 46, 61, 44, 64], [63, 40, 41, 79, 56, 44, 64, 53, 54, 74, 73, 60, 45, 48, 47, 42, 71, 66, 78, 59, 67, 69, 58, 76, 46, 70, 43, 72, 62, 51, 52, 49, 55, 65, 50, 61, 77, 68, 57, 75], [51, 77, 72, 57, 78, 43, 75, 64, 60, 61, 73, 59, 76, 46, 48, 74, 79, 69, 44, 52, 70, 65, 40, 63, 71, 58, 68, 42, 54, 45, 53, 49, 41, 62, 66, 47, 55, 56, 50, 67], [51, 64, 58, 43, 47, 50, 55, 70, 77, 68, 66, 61, 48, 54, 65, 45, 42, 40, 49, 74, 52, 59, 71, 69, 60, 76, 73, 78, 57, 72, 46, 56, 75, 79, 41, 67, 63, 62, 53, 44], [66, 48, 79, 42, 56, 72, 71, 63, 44, 74, 55, 78, 76, 57, 64, 60, 65, 51, 70, 49, 47, 67, 68, 52, 69, 59, 41, 50, 73, 61, 58, 53, 54, 62, 77, 40, 46, 75, 45, 43], [54, 53, 60, 66, 64, 44, 58, 69, 52, 41, 74, 46, 59, 73, 67, 49, 43, 76, 42, 62, 78, 56, 51, 57, 63, 79, 45, 70, 50, 75, 71, 48, 40, 61, 77, 47, 68, 55, 72, 65], [43, 61, 48, 53, 49, 63, 67, 55, 78, 69, 65, 45, 47, 72, 60, 76, 68, 40, 41, 79, 50, 54, 42, 57, 66, 51, 73, 62, 46, 74, 59, 58, 44, 75, 77, 64, 52, 70, 56, 71], [71, 40, 53, 52, 61, 62, 66, 56, 51, 79, 55, 73, 44, 45, 42, 46, 72, 68, 54, 67, 43, 41, 50, 65, 57, 58, 78, 76, 48, 69, 47, 49, 59, 60, 77, 70, 64, 75, 63, 74], [72, 74, 67, 54, 73, 53, 51, 69, 65, 57, 40, 44, 77, 41, 60, 55, 63, 48, 78, 59, 46, 58, 76, 61, 62, 49, 43, 79, 42, 71, 50, 47, 75, 68, 56, 66, 52, 70, 45, 64], [62, 67, 43, 74, 68, 54, 45, 47, 58, 78, 69, 42, 64, 57, 52, 77, 66, 40, 61, 44, 73, 70, 49, 65, 55, 46, 72, 60, 75, 71, 51, 76, 50, 56, 48, 59, 79, 63, 41, 53], [42, 48, 55, 46, 66, 71, 69, 67, 60, 77, 57, 62, 65, 53, 43, 47, 54, 63, 44, 75, 40, 68, 51, 58, 59, 52, 78, 79, 56, 41, 73, 70, 64, 72, 50, 45, 74, 61, 76, 49], [79, 77, 52, 65, 61, 76, 44, 72, 71, 56, 58, 51, 64, 49, 70, 41, 69, 67, 57, 75, 66, 74, 40, 73, 60, 43, 45, 50, 62, 78, 47, 68, 42, 54, 46, 63, 59, 55, 48, 53], [64, 78, 57, 63, 67, 40, 68, 65, 44, 49, 56, 45, 47, 55, 72, 53, 77, 50, 69, 42, 62, 70, 46, 76, 79, 59, 75, 54, 51, 71, 61, 52, 41, 43, 73, 58, 60, 74, 48, 66], [66, 62, 51, 73, 40, 44, 42, 61, 72, 78, 67, 53, 64, 77, 48, 69, 49, 70, 75, 63, 55, 52, 47, 60, 74, 71, 41, 59, 54, 68, 76, 45, 57, 79, 65, 50, 46, 58, 56, 43], [64, 78, 73, 44, 59, 55, 50, 68, 57, 54, 79, 76, 70, 45, 46, 61, 60, 42, 58, 74, 71, 66, 65, 53, 77, 40, 56, 51, 63, 47, 62, 49, 75, 41, 43, 72, 69, 48, 52, 67], [42, 69, 57, 66, 59, 61, 67, 60, 48, 53, 76, 45, 72, 79, 52, 58, 54, 70, 63, 64, 74, 41, 51, 56, 68, 73, 50, 62, 75, 78, 47, 44, 40, 49, 65, 77, 71, 46, 55, 43], [46, 75, 71, 64, 61, 74, 51, 53, 78, 76, 43, 54, 55, 42, 41, 56, 60, 45, 72, 79, 57, 69, 66, 65, 68, 49, 52, 63, 47, 73, 77, 58, 62, 67, 40, 50, 48, 44, 59, 70], [46, 67, 56, 45, 63, 49, 50, 71, 73, 79, 58, 41, 52, 65, 55, 77, 64, 78, 74, 70, 69, 40, 66, 43, 53, 61, 60, 54, 68, 76, 72, 47, 59, 51, 44, 62, 75, 48, 57, 42], [43, 70, 53, 69, 62, 45, 79, 50, 58, 47, 55, 60, 63, 78, 77, 73, 65, 57, 56, 54, 40, 64, 44, 51, 72, 42, 68, 75, 71, 61, 66, 76, 41, 49, 67, 74, 48, 46, 59, 52], [76, 40, 55, 42, 75, 58, 69, 59, 52, 49, 73, 74, 56, 48, 79, 63, 53, 61, 64, 71, 41, 54, 43, 60, 51, 66, 44, 65, 70, 78, 68, 67, 50, 62, 45, 77, 57, 72, 47, 46], [66, 77, 71, 78, 74, 72, 55, 70, 54, 64, 62, 42, 46, 52, 63, 49, 61, 58, 60, 57, 79, 53, 56, 73, 40, 75, 50, 68, 41, 76, 47, 59, 44, 67, 51, 69, 48, 43, 45, 65], [49, 52, 43, 54, 63, 40, 71, 60, 51, 46, 55, 61, 42, 41, 77, 79, 45, 68, 62, 70, 56, 72, 59, 48, 50, 65, 64, 74, 76, 73, 47, 66, 69, 57, 78, 67, 44, 53, 75, 58], [79, 47, 57, 54, 75, 67, 43, 74, 63, 53, 56, 60, 69, 41, 55, 52, 58, 64, 44, 76, 65, 51, 59, 78, 42, 46, 66, 48, 61, 73, 62, 45, 68, 49, 72, 77, 40, 70, 71, 50], [65, 67, 62, 55, 44, 48, 74, 75, 71, 63, 72, 57, 40, 52, 53, 79, 58, 43, 47, 41, 61, 66, 70, 59, 54, 51, 69, 60, 68, 46, 77, 50, 56, 76, 64, 78, 73, 49, 45, 42], [59, 54, 64, 79, 45, 67, 77, 58, 42, 50, 57, 52, 76, 72, 41, 75, 60, 61, 44, 40, 70, 43, 51, 74, 78, 53, 49, 66, 73, 48, 71, 69, 56, 63, 65, 55, 62, 46, 68, 47], [60, 41, 55, 68, 47, 71, 70, 57, 65, 76, 51, 52, 78, 69, 48, 40, 66, 67, 79, 45, 43, 74, 77, 54, 64, 75, 63, 72, 44, 61, 53, 56, 62, 42, 46, 73, 49, 58, 50, 59], [78, 68, 59, 65, 41, 60, 55, 66, 49, 42, 58, 61, 74, 57, 52, 50, 73, 43, 53, 63, 70, 45, 54, 62, 69, 56, 46, 48, 44, 75, 64, 71, 51, 76, 77, 40, 47, 67, 79, 72], [56, 78, 71, 65, 74, 48, 73, 57, 61, 64, 66, 68, 54, 47, 59, 50, 49, 42, 79, 58, 53, 45, 51, 69, 76, 70, 52, 41, 46, 43, 44, 63, 77, 40, 72, 67, 60, 62, 75, 55], [77, 68, 50, 64, 79, 47, 53, 56, 75, 59, 71, 40, 51, 44, 46, 48, 66, 62, 52, 42, 58, 41, 61, 49, 43, 72, 74, 60, 73, 69, 55, 76, 78, 54, 63, 70, 67, 45, 65, 57], [79, 41, 75, 70, 69, 59, 43, 77, 54, 52, 40, 67, 48, 60, 74, 53, 72, 66, 45, 55, 71, 49, 68, 61, 78, 46, 44, 65, 42, 56, 73, 57, 47, 50, 63, 64, 62, 51, 76, 58], [68, 64, 77, 58, 56, 45, 57, 48, 44, 46, 54, 55, 47, 59, 78, 41, 71, 40, 53, 67, 66, 72, 74, 76, 62, 65, 52, 43, 69, 51, 61, 79, 73, 75, 70, 63, 42, 50, 60, 49], [79, 56, 46, 50, 76, 70, 44, 74, 48, 71, 68, 58, 67, 73, 72, 78, 49, 60, 42, 43, 65, 62, 75, 55, 53, 54, 40, 59, 61, 51, 64, 57, 63, 52, 47, 77, 41, 45, 69, 66], [44, 78, 75, 68, 56, 52, 54, 57, 46, 60, 64, 49, 55, 45, 73, 61, 69, 40, 79, 65, 72, 67, 43, 63, 70, 76, 77, 59, 62, 41, 42, 47, 48, 51, 58, 50, 66, 74, 71, 53], [77, 58, 50, 73, 78, 49, 55, 61, 72, 60, 54, 44, 52, 79, 65, 53, 76, 75, 74, 48, 59, 70, 43, 62, 57, 69, 64, 66, 46, 68, 67, 56, 71, 40, 47, 41, 42, 45, 63, 51], [58, 59, 77, 69, 43, 41, 56, 76, 71, 45, 70, 66, 57, 51, 63, 49, 46, 42, 55, 50, 61, 72, 73, 60, 64, 62, 65, 47, 79, 52, 78, 40, 48, 67, 75, 68, 54, 44, 74, 53], [53, 43, 63, 58, 46, 51, 70, 55, 66, 74, 72, 78, 48, 44, 41, 69, 65, 60, 79, 40, 47, 62, 50, 49, 42, 73, 59, 56, 75, 67, 68, 77, 64, 45, 61, 71, 57, 52, 54, 76], [60, 48, 44, 42, 74, 69, 45, 50, 68, 57, 55, 66, 63, 61, 51, 79, 73, 72, 70, 53, 47, 59, 46, 67, 62, 71, 40, 41, 58, 64, 76, 78, 77, 54, 75, 52, 65, 43, 56, 49], [50, 43, 70, 65, 74, 71, 60, 49, 73, 76, 56, 55, 44, 52, 66, 64, 75, 58, 77, 54, 45, 67, 68, 53, 47, 48, 78, 63, 62, 61, 41, 59, 42, 69, 79, 51, 40, 57, 46, 72], [56, 77, 57, 69, 66, 52, 40, 67, 71, 43, 63, 41, 74, 54, 47, 78, 58, 49, 62, 45, 51, 72, 60, 55, 46, 64, 68, 42, 44, 61, 48, 76, 50, 70, 59, 65, 75, 73, 53, 79]]\n",
            "PreferGirls =  [[4, 9, 36, 32, 3, 38, 0, 34, 29, 10, 2, 12, 20, 7, 1, 26, 16, 27, 21, 23, 28, 8, 17, 5, 25, 13, 6, 22, 11, 31, 30, 18, 33, 15, 39, 37, 19, 24, 14, 35], [9, 6, 32, 39, 19, 37, 31, 20, 4, 30, 25, 15, 27, 5, 35, 18, 2, 34, 14, 10, 12, 23, 24, 16, 8, 29, 26, 13, 36, 22, 38, 11, 33, 21, 7, 28, 0, 17, 3, 1], [26, 3, 29, 25, 27, 18, 16, 11, 10, 15, 31, 12, 7, 36, 6, 2, 28, 23, 20, 14, 21, 8, 0, 13, 32, 4, 5, 38, 34, 17, 24, 35, 1, 30, 39, 19, 33, 22, 37, 9], [10, 16, 21, 26, 33, 23, 18, 7, 38, 6, 32, 2, 34, 22, 30, 28, 17, 4, 8, 19, 27, 5, 15, 31, 13, 14, 1, 9, 36, 0, 20, 12, 3, 35, 29, 24, 37, 25, 11, 39], [26, 28, 16, 10, 17, 22, 30, 9, 7, 13, 31, 6, 37, 35, 25, 27, 14, 23, 24, 39, 32, 38, 4, 36, 29, 1, 20, 34, 15, 5, 11, 0, 18, 33, 2, 21, 3, 12, 8, 19], [38, 1, 24, 32, 21, 22, 33, 25, 23, 5, 34, 17, 7, 9, 36, 18, 14, 8, 16, 39, 12, 10, 37, 27, 3, 35, 15, 26, 0, 11, 2, 13, 20, 30, 29, 19, 31, 28, 6, 4], [1, 5, 10, 3, 35, 7, 31, 19, 8, 14, 26, 32, 11, 27, 2, 6, 23, 36, 38, 21, 37, 39, 34, 33, 4, 13, 22, 17, 16, 18, 0, 12, 25, 20, 24, 15, 28, 9, 30, 29], [39, 9, 0, 35, 20, 2, 37, 7, 38, 14, 13, 11, 4, 28, 15, 33, 24, 22, 18, 27, 6, 25, 12, 8, 21, 16, 10, 36, 32, 26, 31, 3, 23, 30, 5, 19, 29, 1, 17, 34], [14, 21, 2, 36, 29, 0, 38, 22, 15, 20, 8, 18, 33, 27, 16, 5, 19, 25, 34, 24, 37, 39, 28, 7, 3, 1, 23, 9, 10, 31, 11, 4, 35, 26, 30, 32, 13, 12, 6, 17], [6, 3, 32, 7, 24, 5, 13, 9, 8, 16, 14, 39, 12, 2, 15, 25, 33, 26, 11, 27, 1, 18, 20, 30, 22, 23, 35, 19, 29, 0, 36, 37, 21, 38, 34, 31, 10, 17, 28, 4], [12, 17, 11, 24, 19, 38, 4, 6, 9, 20, 27, 35, 22, 39, 31, 36, 34, 26, 15, 30, 3, 0, 18, 14, 2, 37, 16, 21, 29, 25, 8, 10, 28, 23, 13, 1, 33, 32, 5, 7], [39, 31, 35, 32, 8, 7, 19, 12, 22, 28, 4, 37, 6, 27, 30, 11, 34, 36, 25, 0, 29, 18, 15, 9, 23, 3, 26, 24, 38, 2, 14, 1, 16, 10, 5, 13, 20, 33, 21, 17], [18, 16, 20, 4, 6, 35, 38, 36, 10, 0, 1, 19, 5, 8, 2, 23, 7, 21, 14, 15, 9, 13, 29, 3, 27, 25, 24, 28, 12, 34, 31, 32, 22, 26, 17, 11, 37, 30, 33, 39], [18, 37, 29, 12, 17, 0, 7, 36, 23, 5, 27, 22, 24, 19, 11, 25, 2, 33, 34, 38, 31, 10, 14, 3, 1, 39, 13, 28, 26, 9, 4, 20, 21, 8, 32, 16, 15, 30, 35, 6], [38, 37, 35, 14, 8, 21, 34, 27, 39, 25, 11, 19, 22, 18, 26, 28, 2, 31, 17, 10, 12, 24, 32, 29, 4, 33, 9, 3, 7, 30, 16, 6, 1, 5, 0, 15, 13, 20, 23, 36], [32, 19, 36, 30, 16, 33, 37, 13, 9, 29, 38, 7, 35, 6, 5, 3, 31, 18, 24, 8, 21, 23, 1, 20, 25, 0, 34, 26, 15, 39, 11, 27, 12, 10, 4, 28, 17, 22, 14, 2], [37, 16, 2, 32, 6, 21, 17, 26, 9, 33, 24, 22, 25, 3, 12, 23, 0, 11, 27, 13, 14, 38, 39, 4, 36, 20, 10, 28, 31, 34, 5, 7, 8, 15, 30, 19, 35, 18, 29, 1], [38, 9, 14, 11, 13, 39, 23, 2, 25, 36, 34, 28, 6, 0, 32, 15, 1, 37, 20, 16, 24, 29, 27, 5, 19, 35, 31, 10, 33, 4, 17, 7, 18, 30, 3, 12, 26, 21, 22, 8], [16, 5, 19, 20, 13, 24, 1, 12, 6, 31, 17, 29, 10, 30, 37, 33, 4, 9, 2, 3, 39, 8, 34, 15, 26, 32, 35, 21, 28, 38, 0, 22, 11, 14, 7, 23, 25, 36, 18, 27], [0, 11, 24, 29, 12, 1, 13, 9, 22, 34, 38, 25, 33, 2, 27, 23, 31, 26, 39, 21, 17, 4, 19, 18, 28, 35, 7, 36, 8, 6, 5, 14, 32, 16, 37, 30, 20, 10, 3, 15], [36, 7, 14, 28, 22, 19, 34, 31, 16, 24, 29, 35, 33, 8, 12, 37, 38, 10, 32, 30, 3, 5, 2, 17, 0, 15, 9, 26, 39, 20, 21, 4, 1, 27, 23, 25, 6, 18, 11, 13], [30, 10, 21, 23, 20, 17, 24, 27, 9, 6, 36, 31, 32, 14, 7, 8, 35, 11, 0, 25, 4, 3, 33, 5, 2, 37, 13, 26, 39, 28, 1, 19, 18, 38, 12, 16, 15, 22, 34, 29], [17, 18, 36, 21, 5, 8, 30, 24, 13, 23, 6, 11, 3, 28, 1, 19, 10, 26, 12, 32, 35, 9, 27, 38, 0, 15, 31, 37, 4, 14, 39, 33, 29, 16, 7, 22, 25, 34, 20, 2], [9, 28, 34, 32, 29, 36, 6, 19, 26, 13, 4, 15, 8, 12, 35, 3, 30, 27, 20, 33, 25, 38, 14, 7, 0, 1, 39, 18, 17, 24, 5, 11, 22, 31, 21, 2, 16, 10, 23, 37], [24, 39, 0, 33, 35, 14, 27, 6, 37, 22, 2, 36, 7, 3, 19, 1, 28, 32, 16, 38, 30, 23, 25, 20, 8, 5, 31, 29, 4, 18, 12, 34, 10, 13, 11, 9, 21, 26, 15, 17], [18, 34, 21, 9, 27, 32, 22, 37, 24, 12, 29, 31, 26, 7, 11, 39, 38, 25, 5, 1, 3, 6, 20, 0, 36, 4, 2, 19, 13, 28, 30, 33, 23, 8, 14, 35, 15, 16, 17, 10], [10, 17, 28, 19, 30, 29, 39, 33, 15, 3, 4, 13, 25, 38, 23, 34, 32, 16, 35, 8, 31, 6, 5, 0, 22, 20, 7, 11, 26, 9, 24, 21, 18, 14, 36, 12, 27, 1, 37, 2], [0, 6, 18, 13, 26, 16, 4, 14, 25, 11, 30, 27, 2, 28, 5, 20, 33, 9, 1, 17, 21, 10, 35, 24, 29, 39, 15, 34, 12, 31, 36, 8, 19, 3, 23, 7, 38, 32, 37, 22], [29, 4, 31, 14, 11, 1, 6, 5, 12, 39, 37, 18, 33, 36, 23, 24, 28, 34, 16, 26, 35, 3, 13, 17, 20, 19, 2, 27, 38, 21, 32, 30, 25, 0, 9, 8, 7, 10, 15, 22], [3, 29, 31, 28, 0, 26, 23, 2, 9, 1, 34, 11, 22, 12, 8, 4, 17, 39, 20, 19, 37, 16, 6, 24, 30, 35, 38, 27, 13, 36, 33, 21, 25, 7, 10, 18, 5, 32, 15, 14], [38, 18, 0, 21, 24, 37, 30, 19, 10, 6, 26, 13, 31, 39, 1, 32, 27, 12, 34, 5, 3, 15, 28, 29, 9, 23, 25, 11, 2, 7, 16, 33, 35, 22, 14, 4, 8, 20, 17, 36], [17, 39, 7, 35, 10, 30, 18, 5, 29, 32, 11, 16, 36, 21, 28, 24, 14, 0, 1, 19, 2, 6, 22, 3, 25, 31, 15, 38, 34, 26, 20, 27, 8, 37, 33, 23, 13, 9, 12, 4], [7, 2, 8, 4, 37, 34, 16, 33, 20, 23, 28, 35, 24, 5, 1, 15, 22, 0, 13, 10, 32, 21, 11, 17, 14, 25, 27, 29, 38, 6, 31, 19, 39, 36, 30, 26, 12, 18, 3, 9], [4, 13, 14, 25, 12, 10, 35, 18, 33, 5, 29, 8, 20, 21, 19, 1, 26, 9, 24, 11, 16, 2, 32, 15, 17, 36, 22, 23, 38, 3, 27, 7, 30, 37, 31, 28, 6, 0, 39, 34], [13, 30, 4, 34, 20, 21, 3, 36, 0, 25, 18, 12, 6, 14, 27, 17, 1, 8, 38, 11, 22, 7, 39, 15, 33, 10, 35, 16, 31, 5, 19, 32, 9, 2, 24, 29, 26, 37, 28, 23], [12, 23, 21, 0, 17, 28, 32, 15, 14, 34, 5, 29, 38, 30, 18, 13, 20, 10, 33, 8, 37, 31, 22, 39, 1, 25, 27, 16, 11, 24, 9, 19, 6, 3, 4, 26, 35, 7, 2, 36], [29, 6, 15, 12, 4, 34, 9, 19, 16, 18, 5, 23, 2, 38, 1, 33, 24, 26, 37, 28, 35, 25, 22, 17, 31, 20, 7, 21, 13, 3, 10, 0, 27, 14, 30, 36, 8, 32, 11, 39], [33, 5, 26, 39, 10, 12, 8, 16, 25, 28, 3, 34, 27, 14, 20, 11, 37, 1, 18, 4, 19, 21, 24, 30, 0, 13, 2, 29, 35, 9, 31, 6, 32, 15, 36, 7, 38, 23, 22, 17], [2, 15, 5, 17, 34, 13, 16, 32, 9, 25, 38, 31, 35, 6, 26, 4, 22, 33, 18, 11, 36, 30, 3, 10, 39, 8, 19, 29, 7, 14, 23, 27, 12, 1, 21, 0, 24, 28, 37, 20], [7, 21, 10, 35, 24, 20, 28, 31, 32, 8, 23, 13, 22, 34, 5, 11, 30, 25, 36, 17, 18, 3, 37, 19, 26, 6, 9, 33, 38, 27, 15, 12, 4, 14, 0, 29, 39, 2, 1, 16]]\n",
            "Woman   Man\n",
            "40 \t 8\n",
            "41 \t 30\n",
            "42 \t 16\n",
            "43 \t 10\n",
            "44 \t 33\n",
            "45 \t 1\n",
            "46 \t 11\n",
            "47 \t 23\n",
            "48 \t 28\n",
            "49 \t 22\n",
            "50 \t 38\n",
            "51 \t 4\n",
            "52 \t 0\n",
            "53 \t 36\n",
            "54 \t 6\n",
            "55 \t 26\n",
            "56 \t 39\n",
            "57 \t 13\n",
            "58 \t 34\n",
            "59 \t 25\n",
            "60 \t 37\n",
            "61 \t 7\n",
            "62 \t 24\n",
            "63 \t 2\n",
            "64 \t 31\n",
            "65 \t 27\n",
            "66 \t 5\n",
            "67 \t 18\n",
            "68 \t 29\n",
            "69 \t 35\n",
            "70 \t 19\n",
            "71 \t 21\n",
            "72 \t 3\n",
            "73 \t 14\n",
            "74 \t 9\n",
            "75 \t 17\n",
            "76 \t 20\n",
            "77 \t 12\n",
            "78 \t 15\n",
            "79 \t 32\n",
            "CPU times: user 3 µs, sys: 0 ns, total: 3 µs\n",
            "Wall time: 6.91 µs\n"
          ],
          "name": "stdout"
        }
      ]
    },
    {
      "cell_type": "code",
      "metadata": {
        "colab": {
          "base_uri": "https://localhost:8080/"
        },
        "id": "YAzI3x7KuK1R",
        "outputId": "6e617745-63e4-4b08-d3bf-2d435302eacf"
      },
      "source": [
        "print(timer[1])\n",
        "preferMens=prefer[1][:N]\n",
        "preferGirls=prefer[1][N:]\n",
        "\n",
        "print(\"PreferBoys = \",preferMens)\n",
        "print(\"PreferGirls = \",preferGirls)\n",
        "stableMarriage2(prefer[1])\n",
        "%time"
      ],
      "execution_count": 7,
      "outputs": [
        {
          "output_type": "stream",
          "text": [
            "0.0002353191375732422\n",
            "PreferBoys =  [[73, 44, 41, 59, 51, 66, 61, 47, 71, 79, 65, 48, 69, 68, 57, 70, 64, 75, 62, 67, 58, 76, 78, 72, 60, 46, 40, 56, 45, 74, 42, 50, 54, 77, 49, 52, 55, 63, 53, 43], [43, 60, 48, 58, 56, 75, 57, 47, 74, 76, 62, 44, 79, 51, 70, 59, 72, 63, 65, 49, 55, 50, 42, 54, 40, 46, 64, 68, 71, 66, 53, 52, 77, 78, 69, 73, 41, 45, 61, 67], [64, 52, 58, 61, 62, 60, 40, 44, 49, 57, 53, 78, 45, 72, 67, 71, 79, 56, 75, 66, 63, 55, 47, 42, 43, 70, 74, 73, 77, 65, 68, 76, 41, 48, 69, 54, 51, 59, 46, 50], [41, 68, 63, 72, 79, 69, 54, 45, 76, 75, 48, 64, 59, 46, 65, 57, 60, 74, 44, 42, 51, 61, 40, 53, 58, 49, 55, 43, 50, 70, 52, 73, 78, 67, 56, 47, 66, 71, 77, 62], [55, 51, 40, 61, 71, 69, 62, 78, 53, 46, 75, 48, 70, 74, 42, 50, 44, 72, 77, 63, 67, 49, 57, 59, 56, 47, 73, 58, 64, 76, 45, 66, 65, 43, 54, 79, 60, 68, 41, 52], [42, 74, 71, 76, 52, 60, 69, 50, 75, 78, 70, 66, 56, 51, 54, 65, 57, 58, 40, 77, 44, 61, 63, 79, 73, 53, 72, 62, 67, 68, 55, 48, 43, 49, 45, 59, 47, 41, 64, 46], [43, 67, 68, 55, 66, 54, 71, 73, 78, 58, 74, 65, 61, 51, 49, 56, 77, 79, 53, 42, 40, 64, 45, 44, 52, 63, 75, 46, 72, 76, 59, 47, 57, 70, 62, 48, 60, 50, 69, 41], [78, 47, 68, 40, 51, 62, 72, 52, 45, 77, 42, 60, 64, 53, 43, 63, 59, 46, 48, 70, 71, 61, 76, 73, 75, 57, 58, 54, 55, 65, 69, 41, 56, 67, 44, 50, 66, 79, 49, 74], [49, 59, 75, 52, 62, 70, 63, 79, 45, 78, 66, 61, 68, 40, 67, 72, 47, 51, 46, 43, 74, 44, 65, 53, 69, 64, 54, 60, 76, 58, 48, 71, 57, 50, 56, 77, 55, 42, 41, 73], [45, 72, 44, 41, 68, 69, 47, 76, 52, 56, 49, 40, 59, 71, 67, 51, 57, 54, 75, 62, 65, 48, 74, 77, 50, 64, 78, 73, 53, 70, 43, 42, 55, 63, 60, 58, 61, 46, 66, 79], [64, 40, 48, 60, 55, 47, 42, 79, 62, 70, 56, 52, 75, 63, 74, 58, 44, 68, 57, 77, 43, 76, 66, 69, 53, 59, 51, 46, 73, 50, 41, 72, 71, 78, 65, 54, 45, 61, 67, 49], [58, 53, 57, 75, 55, 66, 62, 51, 73, 67, 59, 68, 40, 50, 76, 79, 43, 42, 48, 49, 54, 63, 69, 47, 70, 45, 64, 61, 78, 56, 52, 44, 65, 46, 77, 71, 74, 60, 72, 41], [47, 68, 58, 79, 53, 71, 56, 41, 50, 59, 70, 51, 55, 45, 52, 42, 74, 66, 72, 73, 43, 44, 65, 57, 60, 75, 78, 62, 54, 40, 61, 67, 48, 63, 76, 77, 69, 49, 46, 64], [51, 40, 71, 45, 56, 57, 59, 44, 77, 72, 74, 75, 53, 54, 68, 66, 55, 58, 43, 67, 47, 46, 76, 50, 78, 42, 52, 61, 41, 48, 79, 64, 49, 62, 70, 60, 69, 63, 73, 65], [54, 46, 72, 55, 58, 71, 40, 48, 79, 41, 67, 51, 52, 50, 70, 76, 77, 43, 53, 65, 73, 78, 62, 60, 69, 59, 75, 56, 66, 74, 63, 42, 68, 45, 47, 57, 49, 61, 44, 64], [41, 63, 76, 79, 77, 59, 69, 68, 61, 48, 75, 67, 44, 49, 42, 62, 72, 43, 60, 57, 53, 74, 70, 54, 46, 55, 52, 56, 40, 66, 71, 50, 73, 51, 45, 78, 47, 64, 65, 58], [50, 62, 74, 53, 40, 76, 54, 51, 70, 64, 49, 79, 71, 63, 78, 47, 52, 77, 68, 65, 69, 41, 43, 42, 73, 55, 57, 44, 60, 59, 75, 66, 45, 46, 48, 72, 56, 61, 58, 67], [76, 44, 41, 72, 64, 70, 45, 79, 57, 63, 73, 51, 42, 43, 71, 52, 54, 53, 75, 47, 49, 78, 55, 62, 48, 69, 50, 56, 68, 66, 77, 59, 40, 46, 60, 61, 67, 58, 74, 65], [51, 43, 48, 71, 67, 72, 77, 66, 60, 40, 52, 56, 45, 75, 41, 59, 69, 53, 76, 65, 63, 50, 47, 74, 64, 44, 68, 79, 57, 49, 55, 70, 61, 73, 78, 42, 58, 62, 46, 54], [73, 45, 40, 67, 66, 75, 70, 54, 74, 52, 64, 48, 47, 78, 43, 59, 63, 46, 77, 71, 60, 69, 57, 51, 55, 49, 79, 65, 41, 50, 58, 76, 61, 42, 62, 44, 53, 68, 56, 72], [65, 74, 49, 64, 59, 42, 66, 69, 77, 52, 73, 71, 54, 47, 40, 63, 56, 41, 75, 55, 67, 44, 72, 50, 48, 79, 53, 60, 45, 70, 58, 78, 43, 51, 57, 76, 68, 62, 46, 61], [64, 55, 46, 71, 78, 63, 53, 67, 62, 75, 45, 54, 41, 58, 68, 43, 61, 56, 48, 65, 42, 49, 57, 70, 79, 69, 73, 51, 50, 74, 60, 40, 66, 72, 59, 76, 44, 47, 77, 52], [61, 71, 48, 47, 79, 53, 57, 44, 73, 76, 54, 65, 43, 50, 51, 69, 40, 68, 55, 64, 78, 46, 67, 63, 42, 59, 72, 58, 45, 74, 75, 77, 66, 41, 70, 52, 60, 56, 62, 49], [75, 66, 42, 48, 77, 46, 67, 74, 76, 71, 43, 52, 45, 55, 72, 40, 44, 58, 49, 50, 54, 73, 79, 78, 65, 63, 57, 64, 59, 51, 60, 68, 53, 56, 69, 41, 47, 61, 70, 62], [43, 62, 73, 76, 51, 44, 53, 68, 64, 42, 49, 70, 71, 79, 56, 48, 63, 57, 50, 60, 69, 55, 78, 74, 47, 75, 67, 40, 72, 65, 61, 45, 77, 41, 58, 66, 52, 54, 59, 46], [69, 49, 73, 75, 78, 63, 68, 47, 70, 65, 59, 48, 45, 44, 79, 46, 43, 52, 40, 53, 66, 57, 77, 76, 54, 74, 60, 41, 71, 61, 55, 64, 50, 62, 56, 72, 42, 51, 58, 67], [40, 71, 73, 53, 78, 49, 75, 51, 48, 46, 77, 45, 65, 58, 79, 63, 61, 44, 64, 56, 41, 55, 42, 69, 68, 70, 74, 62, 54, 60, 66, 67, 50, 47, 43, 72, 52, 76, 59, 57], [51, 58, 61, 76, 59, 74, 43, 55, 46, 53, 64, 45, 62, 72, 44, 47, 66, 78, 54, 68, 69, 56, 73, 50, 42, 41, 65, 67, 52, 60, 77, 48, 40, 63, 79, 57, 71, 49, 75, 70], [75, 44, 78, 69, 62, 55, 73, 46, 77, 54, 57, 53, 47, 41, 51, 76, 72, 63, 42, 59, 79, 60, 68, 61, 64, 52, 56, 66, 70, 74, 40, 45, 58, 50, 48, 67, 65, 43, 71, 49], [76, 70, 57, 43, 60, 48, 54, 40, 67, 78, 46, 73, 47, 52, 68, 44, 41, 51, 65, 71, 63, 49, 56, 79, 66, 62, 77, 58, 69, 42, 50, 61, 45, 55, 64, 75, 74, 53, 72, 59], [51, 40, 45, 49, 41, 58, 57, 53, 56, 52, 42, 75, 78, 79, 70, 44, 59, 73, 54, 77, 69, 72, 64, 76, 50, 66, 67, 68, 61, 65, 74, 47, 48, 71, 60, 62, 43, 46, 55, 63], [68, 70, 47, 50, 53, 45, 58, 61, 75, 71, 65, 60, 41, 72, 74, 43, 66, 55, 46, 57, 78, 76, 52, 79, 48, 73, 63, 56, 59, 40, 64, 67, 51, 69, 77, 54, 44, 42, 49, 62], [78, 41, 44, 61, 47, 69, 40, 56, 53, 64, 70, 46, 43, 68, 67, 73, 62, 57, 58, 65, 55, 66, 77, 59, 51, 50, 79, 72, 74, 52, 63, 75, 45, 54, 42, 49, 71, 48, 60, 76], [66, 70, 58, 41, 59, 65, 77, 78, 72, 57, 47, 53, 71, 50, 46, 40, 79, 48, 74, 75, 63, 49, 64, 61, 68, 43, 76, 56, 62, 67, 69, 60, 45, 42, 52, 73, 54, 51, 55, 44], [63, 48, 52, 70, 41, 53, 43, 50, 60, 71, 46, 54, 62, 77, 76, 65, 42, 69, 79, 56, 61, 78, 68, 55, 73, 74, 58, 66, 57, 67, 64, 47, 45, 40, 49, 72, 51, 44, 75, 59], [71, 55, 67, 73, 66, 58, 54, 44, 79, 51, 50, 42, 72, 77, 62, 49, 65, 59, 40, 45, 43, 56, 61, 52, 63, 78, 75, 76, 41, 46, 47, 57, 74, 64, 70, 68, 48, 69, 53, 60], [77, 45, 49, 72, 48, 70, 40, 79, 53, 64, 57, 68, 46, 42, 51, 76, 67, 73, 62, 66, 65, 78, 58, 52, 61, 55, 71, 44, 43, 63, 47, 56, 59, 75, 74, 69, 41, 50, 54, 60], [74, 73, 75, 41, 71, 65, 50, 70, 55, 51, 78, 72, 63, 67, 45, 56, 58, 59, 43, 79, 60, 54, 52, 61, 42, 62, 44, 69, 49, 47, 40, 46, 68, 53, 76, 77, 66, 57, 48, 64], [67, 57, 44, 70, 53, 76, 40, 49, 77, 79, 69, 73, 59, 75, 48, 64, 68, 55, 63, 56, 62, 78, 54, 50, 42, 46, 60, 66, 45, 41, 74, 58, 65, 71, 47, 51, 52, 72, 43, 61], [62, 72, 46, 50, 63, 41, 48, 55, 44, 45, 58, 57, 49, 65, 51, 79, 64, 43, 67, 73, 77, 54, 75, 56, 40, 76, 70, 68, 42, 66, 60, 53, 74, 78, 52, 59, 71, 61, 69, 47]]\n",
            "PreferGirls =  [[31, 2, 5, 38, 32, 16, 13, 12, 27, 34, 29, 19, 17, 33, 25, 0, 15, 39, 14, 20, 28, 1, 7, 10, 35, 8, 21, 26, 6, 24, 4, 18, 30, 9, 23, 22, 11, 36, 37, 3], [30, 4, 33, 27, 5, 26, 25, 11, 13, 38, 18, 24, 10, 14, 37, 20, 9, 32, 22, 15, 23, 35, 39, 19, 2, 1, 31, 36, 16, 28, 17, 3, 29, 34, 12, 7, 21, 8, 0, 6], [9, 7, 33, 39, 10, 35, 15, 36, 18, 3, 8, 30, 25, 26, 6, 5, 19, 16, 27, 22, 23, 14, 37, 12, 17, 28, 20, 2, 13, 34, 24, 38, 32, 21, 1, 29, 11, 4, 31, 0], [31, 5, 18, 9, 13, 28, 37, 24, 26, 7, 21, 32, 34, 30, 6, 35, 3, 20, 14, 38, 19, 36, 22, 25, 23, 27, 0, 11, 12, 1, 15, 33, 10, 39, 16, 2, 17, 29, 4, 8], [11, 5, 10, 37, 28, 24, 22, 13, 15, 19, 8, 7, 2, 27, 6, 9, 33, 30, 26, 34, 29, 35, 39, 12, 4, 18, 38, 32, 31, 36, 20, 21, 0, 16, 3, 25, 14, 1, 23, 17], [11, 37, 24, 2, 23, 19, 25, 39, 36, 5, 10, 16, 3, 0, 27, 34, 14, 18, 20, 31, 29, 32, 21, 6, 1, 4, 30, 38, 28, 8, 12, 35, 9, 17, 22, 26, 33, 15, 7, 13], [34, 37, 15, 12, 33, 6, 8, 13, 27, 29, 9, 23, 16, 32, 36, 24, 18, 1, 28, 3, 38, 5, 14, 11, 0, 22, 7, 25, 2, 26, 19, 20, 35, 39, 31, 17, 21, 30, 4, 10], [33, 8, 25, 17, 23, 19, 16, 14, 18, 21, 28, 31, 32, 37, 1, 22, 4, 11, 36, 39, 24, 0, 35, 6, 7, 12, 34, 13, 26, 20, 9, 5, 29, 27, 3, 30, 38, 15, 2, 10], [22, 5, 29, 8, 2, 31, 18, 28, 10, 13, 33, 38, 21, 26, 17, 9, 11, 16, 3, 30, 12, 19, 23, 1, 20, 34, 25, 36, 7, 15, 32, 35, 24, 39, 37, 6, 4, 0, 14, 27], [12, 34, 38, 6, 3, 23, 14, 9, 36, 35, 30, 28, 18, 20, 17, 5, 4, 33, 26, 13, 29, 32, 39, 21, 37, 25, 2, 31, 10, 16, 19, 1, 11, 27, 7, 24, 0, 8, 15, 22], [35, 8, 20, 3, 32, 31, 6, 23, 22, 30, 5, 33, 0, 7, 18, 1, 14, 21, 34, 38, 28, 10, 11, 12, 37, 24, 4, 29, 16, 19, 27, 17, 26, 9, 13, 2, 36, 15, 25, 39], [30, 26, 5, 25, 9, 8, 3, 27, 12, 11, 18, 38, 34, 17, 21, 10, 29, 39, 28, 31, 2, 0, 4, 23, 14, 6, 13, 7, 37, 22, 33, 1, 36, 24, 16, 32, 20, 35, 19, 15], [8, 32, 25, 7, 18, 20, 36, 21, 35, 3, 1, 11, 12, 39, 26, 30, 38, 4, 6, 19, 29, 9, 37, 15, 28, 34, 27, 23, 17, 24, 13, 31, 14, 0, 5, 22, 10, 16, 2, 33], [4, 38, 0, 10, 33, 3, 28, 13, 25, 32, 7, 23, 17, 20, 29, 2, 27, 26, 39, 22, 31, 8, 5, 36, 21, 35, 15, 19, 1, 11, 30, 6, 24, 12, 34, 14, 16, 18, 9, 37], [37, 1, 22, 29, 24, 38, 18, 5, 13, 30, 36, 26, 25, 3, 4, 19, 17, 33, 9, 31, 10, 35, 16, 32, 23, 8, 12, 27, 15, 6, 20, 28, 21, 39, 14, 7, 34, 2, 0, 11], [4, 29, 33, 3, 0, 32, 30, 28, 12, 9, 7, 17, 13, 11, 37, 8, 31, 25, 6, 22, 15, 19, 26, 18, 27, 5, 24, 36, 39, 14, 34, 20, 2, 1, 21, 38, 23, 10, 16, 35], [39, 36, 35, 10, 14, 6, 11, 13, 27, 31, 12, 33, 30, 18, 26, 4, 19, 9, 24, 29, 34, 17, 21, 22, 20, 16, 0, 5, 8, 25, 15, 32, 37, 2, 3, 23, 7, 28, 38, 1], [7, 6, 27, 38, 14, 9, 5, 37, 20, 0, 36, 1, 11, 12, 29, 8, 16, 31, 28, 24, 18, 17, 2, 23, 3, 25, 32, 15, 33, 26, 39, 21, 22, 4, 10, 34, 13, 30, 19, 35], [24, 9, 36, 11, 39, 5, 17, 34, 8, 38, 19, 13, 16, 7, 14, 15, 30, 31, 37, 29, 32, 0, 1, 10, 12, 21, 18, 22, 25, 20, 27, 28, 35, 3, 6, 23, 26, 4, 2, 33], [14, 19, 1, 35, 4, 25, 33, 28, 17, 13, 2, 27, 39, 12, 32, 24, 22, 21, 5, 7, 8, 26, 15, 36, 6, 11, 23, 20, 0, 29, 9, 10, 16, 38, 37, 34, 31, 30, 3, 18], [37, 28, 3, 0, 6, 21, 4, 25, 31, 19, 32, 13, 2, 34, 17, 23, 5, 29, 35, 7, 10, 22, 33, 30, 18, 26, 36, 9, 1, 15, 16, 24, 12, 11, 20, 14, 39, 38, 8, 27], [24, 7, 5, 38, 29, 23, 39, 10, 32, 3, 33, 26, 12, 15, 17, 21, 4, 16, 27, 31, 30, 35, 2, 25, 11, 19, 37, 8, 36, 13, 18, 20, 28, 22, 0, 9, 6, 1, 14, 34], [7, 23, 3, 8, 28, 1, 2, 37, 38, 4, 30, 26, 5, 19, 14, 10, 13, 39, 18, 22, 29, 20, 33, 16, 25, 17, 34, 24, 0, 35, 21, 36, 12, 31, 32, 27, 6, 9, 11, 15], [25, 15, 31, 37, 36, 17, 2, 14, 10, 21, 26, 0, 27, 28, 23, 13, 34, 18, 6, 5, 20, 7, 35, 33, 38, 39, 1, 29, 11, 9, 32, 24, 12, 3, 4, 30, 22, 19, 16, 8], [39, 14, 31, 12, 17, 38, 20, 24, 33, 21, 37, 18, 15, 1, 22, 23, 2, 32, 34, 0, 4, 30, 35, 6, 5, 29, 7, 27, 8, 26, 19, 36, 13, 9, 25, 10, 16, 28, 3, 11], [30, 18, 37, 17, 20, 21, 14, 29, 12, 23, 5, 34, 0, 15, 16, 35, 6, 13, 26, 28, 24, 31, 27, 32, 39, 3, 2, 22, 38, 4, 33, 11, 1, 7, 36, 9, 19, 25, 10, 8], [29, 35, 2, 39, 14, 0, 11, 8, 15, 31, 17, 34, 6, 24, 21, 10, 37, 13, 22, 19, 20, 1, 3, 23, 28, 30, 5, 16, 36, 32, 9, 26, 38, 4, 25, 27, 33, 18, 7, 12], [29, 24, 15, 34, 7, 10, 1, 21, 14, 20, 28, 31, 4, 35, 32, 36, 12, 8, 25, 37, 3, 18, 22, 39, 38, 30, 16, 2, 33, 0, 11, 9, 23, 13, 5, 6, 27, 26, 17, 19], [4, 29, 13, 7, 10, 19, 39, 17, 6, 3, 34, 0, 38, 2, 5, 25, 36, 32, 28, 30, 14, 9, 21, 12, 37, 16, 23, 18, 35, 27, 24, 11, 20, 1, 33, 15, 22, 26, 31, 8], [7, 14, 1, 21, 18, 24, 19, 29, 9, 16, 39, 34, 32, 8, 37, 12, 3, 22, 25, 33, 31, 2, 35, 5, 36, 0, 13, 4, 15, 10, 20, 6, 23, 27, 30, 17, 38, 28, 26, 11], [16, 8, 25, 30, 1, 6, 5, 17, 14, 2, 24, 34, 4, 20, 38, 3, 28, 35, 18, 10, 9, 37, 23, 31, 32, 13, 21, 33, 27, 22, 12, 11, 29, 36, 26, 15, 0, 39, 7, 19], [38, 15, 0, 34, 24, 3, 1, 21, 26, 27, 18, 37, 35, 28, 14, 2, 39, 29, 6, 7, 8, 16, 31, 22, 19, 23, 17, 5, 9, 32, 13, 36, 4, 20, 11, 12, 10, 30, 25, 33], [15, 29, 13, 33, 16, 25, 35, 8, 20, 6, 10, 24, 39, 18, 19, 32, 0, 14, 36, 9, 3, 1, 34, 38, 23, 27, 26, 4, 17, 22, 31, 7, 11, 37, 2, 30, 28, 5, 12, 21], [32, 4, 28, 38, 20, 13, 26, 24, 34, 11, 10, 35, 25, 17, 1, 33, 31, 2, 37, 21, 3, 14, 15, 6, 18, 0, 5, 19, 7, 29, 27, 23, 8, 22, 39, 30, 9, 36, 16, 12], [16, 25, 14, 21, 10, 18, 3, 29, 7, 11, 20, 26, 39, 36, 37, 5, 9, 27, 38, 31, 30, 23, 4, 22, 6, 32, 0, 1, 8, 34, 24, 35, 33, 17, 15, 28, 13, 19, 2, 12], [22, 34, 37, 36, 17, 19, 26, 32, 33, 10, 18, 38, 20, 12, 9, 24, 0, 16, 31, 35, 4, 7, 15, 23, 1, 30, 11, 2, 21, 8, 13, 5, 14, 25, 3, 6, 27, 28, 29, 39], [20, 39, 18, 33, 1, 19, 27, 23, 37, 29, 5, 15, 9, 21, 31, 7, 2, 0, 26, 22, 35, 6, 4, 11, 38, 17, 10, 34, 16, 12, 13, 3, 28, 32, 24, 14, 36, 8, 25, 30], [17, 35, 27, 11, 12, 20, 5, 25, 18, 24, 7, 1, 36, 31, 26, 13, 22, 29, 21, 6, 32, 34, 8, 2, 19, 16, 30, 14, 4, 33, 0, 38, 15, 28, 9, 23, 39, 3, 37, 10], [34, 4, 5, 32, 15, 10, 21, 12, 33, 3, 2, 23, 18, 38, 7, 13, 35, 26, 20, 22, 8, 19, 31, 36, 30, 11, 28, 1, 37, 14, 0, 39, 24, 9, 27, 25, 16, 17, 29, 6], [27, 29, 1, 39, 3, 8, 17, 26, 5, 32, 22, 28, 7, 31, 11, 35, 15, 0, 20, 25, 4, 19, 9, 37, 6, 2, 23, 14, 33, 18, 30, 13, 34, 10, 24, 38, 21, 16, 36, 12]]\n",
            "Woman   Man\n",
            "40 \t 13\n",
            "41 \t 15\n",
            "42 \t 5\n",
            "43 \t 18\n",
            "44 \t 28\n",
            "45 \t 19\n",
            "46 \t 21\n",
            "47 \t 7\n",
            "48 \t 22\n",
            "49 \t 8\n",
            "50 \t 16\n",
            "51 \t 30\n",
            "52 \t 2\n",
            "53 \t 12\n",
            "54 \t 14\n",
            "55 \t 4\n",
            "56 \t 1\n",
            "57 \t 38\n",
            "58 \t 11\n",
            "59 \t 0\n",
            "60 \t 10\n",
            "61 \t 27\n",
            "62 \t 39\n",
            "63 \t 34\n",
            "64 \t 17\n",
            "65 \t 20\n",
            "66 \t 33\n",
            "67 \t 35\n",
            "68 \t 6\n",
            "69 \t 25\n",
            "70 \t 31\n",
            "71 \t 26\n",
            "72 \t 9\n",
            "73 \t 24\n",
            "74 \t 37\n",
            "75 \t 23\n",
            "76 \t 29\n",
            "77 \t 36\n",
            "78 \t 32\n",
            "79 \t 3\n",
            "CPU times: user 2 µs, sys: 0 ns, total: 2 µs\n",
            "Wall time: 4.05 µs\n"
          ],
          "name": "stdout"
        }
      ]
    },
    {
      "cell_type": "code",
      "metadata": {
        "colab": {
          "base_uri": "https://localhost:8080/"
        },
        "id": "Efo0lvSiuQ-r",
        "outputId": "a413154a-7f49-42f3-bd0c-0bb4b8131c68"
      },
      "source": [
        "print(timer[2])\n",
        "preferMens=prefer[2][:N]\n",
        "preferGirls=prefer[2][N:]\n",
        "\n",
        "print(\"PreferBoys = \",preferMens)\n",
        "print(\"PreferGirls = \",preferGirls)\n",
        "stableMarriage2(prefer[2])\n",
        "%time"
      ],
      "execution_count": 8,
      "outputs": [
        {
          "output_type": "stream",
          "text": [
            "0.00025272369384765625\n",
            "PreferBoys =  [[45, 40, 67, 78, 66, 47, 61, 70, 50, 69, 73, 43, 71, 52, 59, 42, 56, 41, 77, 51, 74, 62, 72, 75, 46, 76, 65, 63, 79, 53, 48, 44, 60, 64, 57, 68, 49, 58, 55, 54], [47, 58, 60, 66, 49, 41, 53, 68, 72, 74, 77, 51, 65, 75, 44, 63, 43, 46, 40, 48, 45, 42, 52, 59, 64, 78, 56, 50, 57, 54, 70, 71, 61, 55, 76, 69, 73, 67, 79, 62], [41, 57, 61, 53, 48, 63, 45, 43, 64, 69, 54, 79, 46, 56, 62, 70, 59, 76, 66, 78, 42, 51, 73, 50, 67, 65, 68, 75, 55, 58, 44, 40, 72, 74, 49, 52, 77, 47, 71, 60], [41, 66, 63, 60, 67, 78, 54, 52, 46, 43, 57, 74, 48, 70, 76, 49, 47, 59, 68, 65, 75, 62, 45, 55, 77, 50, 61, 40, 72, 71, 79, 53, 42, 56, 73, 44, 64, 51, 58, 69], [76, 51, 65, 61, 41, 48, 46, 72, 79, 52, 62, 66, 70, 44, 47, 60, 67, 64, 45, 55, 73, 49, 54, 71, 43, 69, 57, 50, 77, 59, 63, 40, 42, 75, 58, 53, 68, 78, 74, 56], [44, 55, 79, 64, 65, 46, 76, 59, 49, 53, 60, 48, 63, 58, 61, 72, 51, 75, 43, 42, 40, 41, 57, 56, 45, 66, 71, 74, 62, 77, 69, 50, 78, 54, 68, 47, 67, 70, 52, 73], [52, 54, 58, 64, 65, 55, 69, 79, 75, 71, 70, 62, 74, 66, 63, 61, 50, 77, 43, 41, 49, 40, 45, 47, 53, 72, 57, 42, 46, 73, 51, 56, 68, 78, 60, 67, 59, 48, 76, 44], [68, 76, 78, 42, 71, 60, 62, 47, 50, 49, 70, 75, 61, 69, 56, 44, 52, 59, 43, 55, 63, 45, 72, 73, 48, 79, 64, 41, 46, 58, 77, 51, 65, 40, 66, 67, 54, 74, 57, 53], [69, 73, 75, 44, 77, 49, 70, 47, 60, 67, 79, 53, 48, 52, 51, 46, 62, 76, 66, 59, 40, 65, 42, 45, 43, 50, 61, 78, 41, 74, 63, 54, 64, 72, 57, 68, 55, 71, 58, 56], [68, 49, 76, 77, 55, 58, 46, 42, 66, 60, 59, 54, 43, 67, 74, 47, 75, 40, 62, 48, 65, 79, 72, 64, 56, 73, 50, 78, 57, 41, 61, 51, 53, 71, 70, 52, 69, 44, 45, 63], [78, 60, 73, 71, 59, 68, 50, 70, 40, 65, 64, 44, 67, 55, 49, 74, 72, 56, 48, 77, 41, 76, 51, 66, 58, 53, 57, 46, 61, 52, 45, 75, 62, 43, 79, 69, 47, 63, 54, 42], [58, 61, 74, 67, 71, 63, 41, 56, 68, 47, 69, 60, 52, 66, 48, 40, 62, 43, 55, 64, 75, 49, 79, 51, 57, 65, 78, 72, 76, 73, 70, 59, 46, 53, 44, 42, 50, 77, 54, 45], [77, 76, 52, 72, 70, 57, 45, 78, 79, 53, 56, 46, 66, 44, 67, 63, 61, 50, 71, 48, 41, 73, 64, 54, 74, 58, 55, 75, 65, 43, 51, 60, 69, 40, 49, 42, 47, 59, 68, 62], [53, 72, 52, 41, 79, 48, 51, 66, 73, 68, 57, 63, 76, 47, 65, 42, 44, 60, 78, 58, 59, 43, 64, 49, 70, 56, 55, 69, 61, 71, 67, 46, 40, 77, 75, 62, 74, 50, 54, 45], [54, 53, 56, 70, 59, 78, 68, 73, 61, 65, 52, 57, 67, 45, 48, 64, 46, 71, 58, 50, 63, 76, 66, 75, 55, 72, 42, 74, 44, 62, 77, 69, 49, 43, 41, 51, 40, 47, 60, 79], [52, 65, 53, 74, 47, 49, 78, 51, 79, 68, 54, 69, 75, 72, 76, 61, 42, 50, 60, 71, 58, 40, 45, 57, 62, 64, 44, 59, 70, 43, 56, 48, 67, 73, 55, 46, 63, 77, 41, 66], [77, 69, 48, 57, 51, 62, 42, 73, 66, 41, 72, 49, 56, 53, 68, 60, 58, 54, 40, 71, 79, 45, 43, 76, 52, 47, 63, 55, 67, 65, 61, 75, 70, 44, 74, 78, 46, 59, 50, 64], [57, 59, 50, 46, 56, 52, 65, 43, 73, 75, 51, 60, 48, 77, 47, 40, 72, 67, 66, 62, 54, 58, 70, 74, 63, 44, 69, 68, 78, 61, 49, 55, 79, 64, 42, 53, 76, 71, 41, 45], [55, 62, 41, 47, 65, 54, 63, 43, 52, 50, 75, 66, 77, 53, 60, 73, 56, 67, 72, 49, 42, 74, 76, 71, 69, 70, 45, 68, 58, 44, 64, 59, 78, 79, 51, 40, 48, 61, 57, 46], [67, 40, 65, 53, 52, 69, 73, 59, 44, 78, 43, 64, 45, 50, 76, 56, 48, 58, 55, 54, 49, 60, 71, 77, 66, 75, 62, 68, 51, 46, 70, 79, 42, 57, 41, 47, 72, 74, 63, 61], [47, 67, 58, 46, 57, 59, 50, 74, 45, 61, 69, 78, 70, 72, 52, 77, 75, 66, 49, 40, 42, 62, 63, 53, 44, 76, 65, 43, 56, 68, 73, 51, 71, 79, 60, 64, 54, 41, 48, 55], [59, 49, 41, 76, 63, 45, 77, 68, 64, 42, 74, 52, 54, 43, 50, 40, 75, 47, 66, 79, 72, 69, 58, 46, 65, 78, 73, 53, 55, 70, 71, 51, 44, 67, 62, 56, 60, 61, 57, 48], [53, 49, 54, 62, 48, 69, 42, 78, 73, 50, 71, 52, 57, 58, 61, 51, 45, 68, 59, 79, 46, 64, 55, 67, 41, 66, 76, 74, 77, 40, 72, 63, 43, 56, 75, 65, 47, 60, 44, 70], [44, 65, 61, 46, 78, 68, 45, 74, 42, 52, 54, 59, 62, 43, 76, 75, 73, 63, 64, 60, 67, 56, 50, 58, 77, 40, 51, 49, 69, 53, 41, 47, 79, 66, 48, 55, 71, 72, 57, 70], [42, 50, 57, 72, 74, 66, 68, 44, 61, 51, 48, 71, 67, 79, 46, 49, 73, 54, 62, 59, 76, 41, 69, 55, 70, 65, 64, 43, 63, 75, 60, 58, 45, 40, 78, 56, 77, 53, 47, 52], [54, 40, 45, 78, 51, 75, 77, 73, 64, 57, 74, 47, 46, 49, 61, 65, 63, 68, 53, 44, 70, 41, 59, 69, 52, 43, 55, 71, 60, 58, 66, 72, 62, 67, 76, 79, 42, 50, 48, 56], [44, 68, 66, 65, 53, 45, 55, 72, 46, 61, 74, 50, 57, 70, 59, 63, 79, 41, 62, 43, 42, 64, 69, 51, 48, 58, 75, 54, 76, 77, 47, 56, 49, 52, 67, 60, 73, 78, 71, 40], [42, 53, 72, 65, 76, 74, 69, 50, 78, 41, 68, 54, 63, 47, 44, 43, 56, 49, 62, 57, 59, 60, 52, 73, 48, 40, 67, 75, 45, 71, 66, 55, 46, 58, 77, 64, 61, 51, 70, 79], [41, 70, 49, 61, 55, 53, 63, 58, 68, 71, 73, 57, 46, 48, 76, 62, 64, 42, 72, 43, 56, 52, 60, 45, 69, 44, 79, 67, 65, 78, 51, 59, 47, 77, 40, 54, 50, 75, 66, 74], [43, 63, 67, 41, 75, 52, 68, 46, 54, 60, 73, 45, 77, 42, 61, 72, 71, 79, 64, 78, 69, 53, 47, 49, 58, 62, 65, 44, 66, 55, 57, 70, 74, 76, 48, 56, 50, 59, 51, 40], [79, 66, 54, 67, 48, 55, 49, 57, 43, 47, 40, 52, 68, 78, 59, 69, 42, 65, 46, 50, 73, 63, 60, 45, 71, 58, 53, 56, 62, 76, 51, 75, 44, 61, 72, 77, 74, 64, 70, 41], [41, 72, 46, 75, 63, 43, 74, 50, 70, 52, 64, 79, 68, 78, 71, 73, 48, 61, 55, 44, 42, 65, 40, 77, 69, 47, 45, 67, 62, 76, 54, 60, 57, 56, 58, 49, 53, 66, 51, 59], [48, 41, 42, 67, 79, 66, 44, 73, 62, 57, 55, 77, 74, 56, 58, 47, 75, 70, 65, 63, 51, 52, 64, 71, 76, 40, 60, 54, 78, 50, 72, 43, 45, 53, 59, 49, 68, 61, 46, 69], [69, 66, 63, 71, 48, 70, 58, 46, 67, 57, 59, 76, 62, 53, 74, 64, 73, 50, 43, 54, 79, 56, 60, 47, 45, 72, 78, 75, 77, 68, 44, 61, 55, 51, 41, 49, 40, 52, 65, 42], [70, 63, 78, 62, 58, 74, 43, 79, 50, 53, 45, 59, 66, 68, 46, 61, 57, 44, 47, 56, 52, 48, 72, 71, 40, 75, 76, 49, 69, 64, 60, 55, 51, 77, 67, 41, 54, 42, 65, 73], [64, 44, 43, 46, 72, 52, 70, 49, 71, 66, 69, 40, 45, 57, 47, 48, 77, 62, 51, 79, 68, 63, 78, 54, 59, 58, 65, 76, 41, 75, 61, 42, 50, 55, 67, 56, 60, 53, 73, 74], [64, 54, 71, 53, 68, 72, 56, 76, 74, 77, 65, 40, 49, 47, 41, 70, 46, 59, 69, 45, 52, 67, 58, 60, 57, 44, 62, 50, 55, 66, 75, 73, 48, 43, 51, 79, 42, 63, 78, 61], [57, 48, 61, 68, 78, 64, 58, 45, 60, 74, 67, 62, 49, 50, 70, 59, 69, 55, 51, 77, 54, 65, 56, 71, 72, 40, 43, 76, 44, 79, 42, 46, 53, 41, 66, 73, 75, 52, 63, 47], [55, 40, 79, 60, 73, 53, 67, 58, 65, 59, 71, 44, 72, 68, 48, 75, 70, 52, 56, 64, 74, 46, 69, 54, 51, 62, 47, 76, 61, 78, 77, 49, 43, 41, 45, 57, 66, 50, 63, 42], [57, 70, 73, 48, 75, 60, 42, 79, 76, 43, 46, 44, 49, 66, 72, 64, 55, 74, 47, 69, 62, 50, 61, 71, 78, 40, 41, 77, 68, 63, 54, 52, 45, 56, 65, 58, 59, 51, 67, 53]]\n",
            "PreferGirls =  [[6, 33, 2, 39, 36, 13, 29, 17, 9, 20, 5, 18, 38, 37, 12, 22, 25, 28, 32, 8, 3, 34, 15, 10, 11, 27, 31, 14, 1, 24, 21, 35, 26, 30, 4, 0, 23, 7, 16, 19], [38, 3, 31, 16, 8, 18, 28, 9, 30, 37, 10, 7, 36, 13, 17, 21, 26, 22, 11, 20, 32, 12, 33, 19, 24, 34, 2, 25, 5, 6, 39, 4, 15, 1, 27, 23, 14, 0, 29, 35], [21, 13, 23, 16, 32, 34, 12, 14, 36, 20, 4, 39, 27, 1, 8, 3, 26, 22, 6, 29, 19, 17, 37, 18, 9, 30, 11, 15, 24, 33, 5, 2, 10, 31, 28, 0, 38, 25, 7, 35], [3, 27, 21, 9, 31, 5, 10, 2, 12, 24, 6, 18, 22, 23, 20, 8, 35, 30, 34, 17, 11, 37, 13, 26, 14, 33, 28, 4, 29, 38, 15, 16, 36, 1, 32, 7, 0, 19, 39, 25], [30, 34, 37, 24, 26, 9, 22, 21, 31, 19, 38, 1, 5, 15, 13, 16, 4, 28, 29, 12, 7, 10, 27, 23, 3, 20, 2, 33, 8, 17, 0, 18, 6, 36, 39, 11, 14, 35, 32, 25], [12, 24, 26, 22, 18, 14, 15, 6, 32, 8, 34, 19, 11, 28, 1, 27, 20, 17, 38, 3, 25, 29, 2, 23, 13, 5, 37, 4, 16, 21, 35, 9, 31, 33, 30, 36, 39, 10, 0, 7], [25, 7, 18, 5, 19, 30, 1, 9, 13, 16, 36, 23, 14, 15, 29, 32, 21, 31, 35, 4, 10, 39, 22, 28, 37, 27, 24, 33, 11, 26, 0, 12, 2, 38, 6, 20, 3, 34, 17, 8], [15, 11, 27, 13, 18, 5, 35, 17, 26, 12, 32, 31, 34, 7, 38, 4, 33, 3, 24, 1, 30, 6, 23, 19, 37, 16, 14, 2, 29, 10, 0, 28, 21, 36, 39, 25, 9, 8, 22, 20], [13, 5, 38, 11, 10, 28, 26, 35, 18, 9, 25, 4, 7, 22, 27, 3, 34, 21, 23, 31, 6, 24, 17, 2, 15, 29, 37, 39, 0, 8, 20, 19, 16, 1, 32, 12, 33, 36, 14, 30], [2, 7, 0, 16, 29, 37, 26, 32, 13, 1, 18, 20, 33, 25, 38, 4, 30, 11, 39, 8, 34, 9, 14, 17, 31, 6, 35, 19, 22, 15, 23, 5, 12, 36, 28, 24, 27, 10, 3, 21], [19, 5, 18, 23, 11, 26, 4, 25, 27, 0, 20, 8, 36, 16, 15, 21, 39, 34, 38, 3, 33, 9, 24, 10, 1, 29, 2, 12, 22, 31, 35, 37, 17, 7, 14, 32, 6, 28, 30, 13], [33, 11, 35, 8, 18, 38, 2, 34, 37, 36, 6, 32, 13, 16, 20, 25, 10, 39, 29, 30, 22, 12, 21, 4, 24, 1, 15, 31, 3, 7, 0, 14, 23, 19, 17, 5, 9, 26, 28, 27], [20, 16, 32, 39, 33, 37, 31, 10, 14, 1, 0, 35, 9, 8, 23, 11, 7, 38, 34, 27, 4, 30, 2, 3, 25, 17, 21, 29, 36, 6, 12, 5, 18, 22, 28, 15, 26, 24, 19, 13], [7, 14, 26, 9, 17, 2, 18, 32, 29, 10, 13, 3, 30, 36, 24, 28, 15, 23, 5, 0, 25, 16, 11, 27, 21, 22, 38, 39, 35, 34, 1, 19, 20, 4, 12, 31, 33, 6, 8, 37], [35, 20, 26, 37, 38, 12, 0, 6, 22, 31, 17, 32, 23, 4, 28, 14, 30, 19, 5, 27, 8, 29, 11, 1, 16, 3, 21, 2, 10, 13, 24, 18, 36, 39, 33, 9, 7, 15, 25, 34], [26, 16, 8, 22, 36, 14, 3, 0, 37, 2, 12, 5, 32, 39, 17, 11, 10, 6, 9, 18, 27, 33, 34, 23, 25, 13, 28, 30, 38, 24, 29, 31, 19, 1, 7, 35, 20, 21, 4, 15], [32, 20, 23, 28, 6, 34, 8, 7, 2, 27, 19, 25, 22, 3, 18, 12, 4, 37, 16, 11, 13, 38, 17, 5, 9, 24, 15, 33, 26, 0, 10, 29, 31, 36, 1, 39, 35, 14, 30, 21], [1, 29, 9, 39, 4, 24, 30, 28, 23, 22, 34, 20, 5, 35, 21, 0, 8, 19, 31, 3, 27, 13, 7, 14, 32, 18, 10, 11, 38, 17, 26, 37, 33, 12, 15, 2, 6, 16, 25, 36], [27, 21, 3, 22, 36, 34, 9, 5, 37, 7, 29, 14, 30, 17, 39, 16, 35, 19, 8, 6, 25, 24, 10, 0, 38, 1, 18, 15, 12, 2, 13, 20, 33, 32, 28, 23, 26, 4, 31, 11], [15, 35, 31, 10, 0, 24, 4, 23, 13, 5, 6, 34, 9, 16, 21, 29, 8, 32, 36, 14, 2, 11, 27, 20, 38, 1, 22, 37, 18, 3, 19, 26, 25, 28, 17, 30, 12, 39, 7, 33], [38, 3, 2, 15, 4, 11, 12, 20, 16, 35, 9, 26, 17, 27, 23, 32, 31, 13, 10, 39, 36, 30, 22, 29, 8, 6, 25, 0, 1, 5, 19, 33, 7, 37, 21, 24, 18, 14, 34, 28], [21, 22, 11, 34, 25, 18, 7, 14, 6, 33, 32, 5, 4, 38, 28, 29, 8, 2, 17, 20, 0, 19, 30, 24, 35, 12, 27, 36, 9, 1, 13, 23, 3, 26, 15, 31, 10, 16, 39, 37], [14, 25, 17, 5, 11, 31, 28, 22, 38, 15, 27, 24, 37, 29, 21, 32, 19, 13, 1, 23, 8, 26, 16, 39, 7, 4, 10, 0, 18, 36, 3, 20, 2, 6, 34, 9, 35, 30, 33, 12], [6, 7, 23, 28, 32, 9, 19, 33, 30, 37, 35, 15, 22, 8, 31, 25, 38, 29, 14, 24, 18, 4, 16, 36, 11, 20, 10, 34, 17, 2, 12, 27, 26, 5, 39, 13, 3, 0, 1, 21], [21, 33, 15, 34, 9, 29, 13, 12, 10, 31, 2, 28, 25, 18, 8, 17, 4, 0, 39, 5, 16, 1, 24, 20, 37, 11, 35, 38, 7, 27, 26, 3, 22, 23, 6, 32, 19, 14, 30, 36], [14, 21, 12, 13, 30, 28, 32, 7, 26, 15, 23, 16, 0, 24, 17, 6, 22, 35, 9, 18, 36, 4, 38, 1, 27, 8, 34, 3, 33, 31, 29, 39, 11, 10, 25, 5, 2, 37, 19, 20], [15, 20, 9, 35, 33, 30, 3, 5, 22, 18, 34, 17, 4, 16, 8, 21, 13, 29, 1, 7, 28, 23, 12, 39, 2, 10, 0, 14, 27, 37, 36, 24, 11, 31, 25, 26, 19, 32, 38, 6], [10, 26, 29, 28, 12, 7, 5, 19, 4, 13, 1, 17, 22, 31, 33, 3, 39, 21, 20, 25, 36, 16, 24, 15, 11, 34, 8, 30, 32, 23, 6, 38, 27, 35, 14, 2, 0, 37, 18, 9], [10, 9, 33, 15, 18, 29, 21, 26, 0, 24, 20, 37, 39, 32, 23, 14, 6, 19, 27, 4, 17, 31, 11, 8, 34, 2, 35, 25, 16, 13, 5, 22, 30, 28, 7, 1, 3, 38, 36, 12], [12, 21, 10, 38, 23, 3, 33, 26, 31, 5, 20, 13, 37, 8, 11, 4, 24, 9, 32, 7, 15, 39, 35, 18, 0, 19, 34, 6, 2, 22, 25, 29, 28, 30, 17, 36, 27, 16, 1, 14], [27, 28, 24, 25, 17, 20, 8, 36, 23, 33, 1, 15, 18, 22, 30, 26, 2, 10, 7, 31, 12, 29, 32, 16, 6, 3, 4, 21, 14, 37, 19, 11, 38, 9, 35, 13, 5, 34, 0, 39], [9, 29, 20, 18, 5, 19, 15, 39, 22, 30, 7, 34, 16, 37, 28, 1, 38, 13, 10, 0, 35, 23, 12, 36, 26, 14, 17, 25, 2, 32, 4, 8, 31, 21, 6, 3, 33, 24, 11, 27], [0, 20, 16, 28, 21, 22, 38, 6, 13, 24, 7, 1, 10, 4, 37, 35, 25, 12, 39, 32, 27, 29, 14, 36, 11, 33, 31, 8, 3, 30, 5, 2, 34, 23, 9, 26, 19, 17, 15, 18], [10, 39, 5, 28, 35, 0, 37, 2, 17, 6, 20, 11, 29, 36, 7, 15, 9, 16, 4, 33, 24, 22, 23, 38, 3, 34, 32, 30, 8, 27, 21, 14, 13, 1, 12, 26, 18, 19, 25, 31], [22, 1, 10, 21, 2, 35, 14, 28, 34, 38, 26, 12, 13, 6, 8, 3, 0, 16, 31, 20, 27, 15, 39, 37, 17, 9, 4, 11, 5, 29, 36, 7, 30, 23, 25, 18, 24, 19, 33, 32], [39, 16, 20, 37, 23, 11, 6, 31, 7, 15, 22, 19, 13, 26, 33, 27, 24, 32, 2, 29, 10, 25, 8, 35, 3, 9, 12, 21, 5, 17, 30, 18, 28, 1, 0, 38, 4, 14, 36, 34], [24, 16, 29, 10, 4, 15, 21, 1, 2, 14, 20, 26, 30, 9, 7, 6, 28, 22, 32, 37, 5, 33, 17, 23, 3, 36, 18, 34, 19, 13, 27, 35, 11, 0, 8, 25, 39, 12, 38, 31], [5, 34, 24, 9, 15, 36, 32, 0, 17, 37, 21, 18, 16, 2, 1, 33, 22, 26, 13, 38, 4, 23, 12, 27, 35, 8, 39, 29, 31, 28, 3, 11, 7, 30, 10, 19, 6, 25, 14, 20], [20, 11, 38, 18, 29, 8, 21, 30, 22, 23, 34, 7, 17, 39, 28, 5, 15, 33, 32, 14, 3, 26, 31, 4, 2, 1, 37, 27, 25, 0, 10, 12, 16, 24, 19, 35, 6, 36, 9, 13], [34, 39, 29, 35, 0, 16, 18, 24, 22, 33, 17, 32, 19, 37, 14, 36, 23, 13, 25, 5, 38, 1, 11, 20, 10, 2, 9, 12, 26, 15, 8, 30, 21, 6, 31, 3, 28, 7, 4, 27]]\n",
            "Woman   Man\n",
            "40 \t 38\n",
            "41 \t 3\n",
            "42 \t 32\n",
            "43 \t 29\n",
            "44 \t 26\n",
            "45 \t 12\n",
            "46 \t 23\n",
            "47 \t 1\n",
            "48 \t 37\n",
            "49 \t 22\n",
            "50 \t 24\n",
            "51 \t 25\n",
            "52 \t 6\n",
            "53 \t 2\n",
            "54 \t 14\n",
            "55 \t 5\n",
            "56 \t 17\n",
            "57 \t 39\n",
            "58 \t 20\n",
            "59 \t 21\n",
            "60 \t 10\n",
            "61 \t 11\n",
            "62 \t 18\n",
            "63 \t 34\n",
            "64 \t 35\n",
            "65 \t 15\n",
            "66 \t 0\n",
            "67 \t 19\n",
            "68 \t 9\n",
            "69 \t 33\n",
            "70 \t 28\n",
            "71 \t 36\n",
            "72 \t 13\n",
            "73 \t 8\n",
            "74 \t 27\n",
            "75 \t 31\n",
            "76 \t 4\n",
            "77 \t 16\n",
            "78 \t 7\n",
            "79 \t 30\n",
            "CPU times: user 3 µs, sys: 0 ns, total: 3 µs\n",
            "Wall time: 7.87 µs\n"
          ],
          "name": "stdout"
        }
      ]
    },
    {
      "cell_type": "markdown",
      "metadata": {
        "id": "JLDxiicguYDw"
      },
      "source": [
        "## Top 3, Worst execution times for N=40"
      ]
    },
    {
      "cell_type": "code",
      "metadata": {
        "colab": {
          "base_uri": "https://localhost:8080/"
        },
        "id": "ivehLF5vumYI",
        "outputId": "45c18c2a-bfed-4f8c-d3a8-9661430eff22"
      },
      "source": [
        "print(timer[3])\n",
        "preferMens=prefer[3][:N]\n",
        "preferGirls=prefer[3][N:]\n",
        "\n",
        "print(\"PreferBoys = \",preferMens)\n",
        "print(\"PreferGirls = \",preferGirls)\n",
        "stableMarriage2(prefer[3])\n",
        "%time"
      ],
      "execution_count": 9,
      "outputs": [
        {
          "output_type": "stream",
          "text": [
            "0.0011739730834960938\n",
            "PreferBoys =  [[56, 78, 67, 52, 60, 54, 41, 71, 61, 70, 42, 51, 75, 47, 43, 40, 66, 68, 64, 73, 53, 46, 62, 77, 50, 76, 57, 44, 79, 55, 72, 48, 63, 45, 69, 58, 49, 59, 65, 74], [44, 70, 63, 62, 76, 66, 79, 41, 65, 53, 59, 61, 58, 46, 47, 73, 77, 60, 72, 74, 69, 55, 54, 68, 75, 48, 43, 64, 42, 52, 51, 67, 40, 71, 45, 50, 56, 78, 49, 57], [63, 40, 47, 49, 54, 48, 74, 61, 53, 60, 52, 73, 78, 71, 76, 59, 67, 58, 41, 77, 51, 55, 72, 75, 66, 69, 45, 64, 50, 56, 65, 57, 68, 62, 44, 42, 79, 46, 70, 43], [47, 52, 55, 51, 48, 78, 46, 63, 61, 41, 67, 45, 62, 56, 54, 40, 75, 60, 57, 44, 74, 73, 77, 66, 69, 76, 65, 59, 79, 42, 43, 68, 50, 53, 71, 72, 49, 64, 70, 58], [71, 51, 73, 76, 79, 47, 46, 54, 57, 78, 44, 43, 63, 40, 77, 61, 49, 68, 60, 70, 66, 55, 56, 65, 69, 50, 75, 41, 64, 53, 67, 72, 74, 45, 59, 58, 42, 48, 52, 62], [71, 70, 41, 73, 51, 76, 57, 78, 45, 67, 42, 74, 58, 63, 72, 40, 79, 77, 68, 75, 62, 43, 55, 49, 53, 66, 48, 50, 54, 69, 56, 61, 60, 44, 52, 47, 65, 59, 64, 46], [50, 79, 61, 73, 75, 54, 69, 72, 78, 41, 74, 57, 64, 63, 60, 42, 45, 55, 51, 52, 67, 46, 43, 53, 49, 48, 59, 70, 47, 66, 56, 58, 77, 76, 44, 68, 71, 62, 65, 40], [69, 46, 55, 66, 78, 68, 48, 42, 62, 75, 57, 59, 51, 44, 49, 47, 58, 76, 52, 71, 72, 60, 56, 53, 65, 67, 41, 54, 50, 74, 61, 64, 70, 79, 43, 63, 45, 73, 40, 77], [41, 65, 64, 67, 54, 46, 50, 62, 45, 76, 72, 44, 58, 77, 75, 43, 56, 68, 73, 78, 48, 79, 66, 61, 55, 42, 40, 57, 74, 59, 60, 70, 47, 69, 53, 51, 52, 63, 71, 49], [40, 59, 50, 48, 60, 68, 52, 66, 63, 55, 56, 47, 72, 70, 58, 49, 65, 44, 53, 46, 42, 76, 69, 61, 62, 73, 74, 71, 75, 64, 77, 51, 57, 45, 54, 43, 78, 67, 41, 79], [76, 43, 51, 40, 48, 67, 41, 62, 69, 77, 60, 54, 72, 53, 55, 57, 68, 46, 70, 58, 61, 78, 47, 44, 79, 49, 75, 45, 63, 65, 42, 71, 52, 73, 50, 74, 66, 56, 64, 59], [57, 50, 71, 75, 78, 67, 61, 48, 51, 42, 55, 56, 58, 77, 63, 65, 47, 62, 49, 43, 74, 40, 53, 46, 59, 66, 41, 54, 79, 72, 73, 69, 70, 44, 68, 60, 64, 45, 76, 52], [77, 69, 68, 75, 61, 48, 49, 65, 43, 47, 76, 72, 55, 70, 60, 53, 44, 67, 57, 66, 42, 79, 40, 73, 56, 62, 58, 63, 71, 64, 46, 78, 51, 59, 50, 54, 45, 52, 41, 74], [67, 50, 57, 45, 51, 68, 41, 49, 79, 52, 46, 74, 66, 73, 53, 40, 61, 42, 55, 54, 70, 56, 47, 69, 60, 75, 62, 44, 64, 63, 77, 78, 59, 72, 71, 58, 76, 48, 43, 65], [57, 72, 51, 64, 68, 71, 76, 70, 79, 73, 40, 55, 69, 54, 45, 49, 43, 42, 74, 58, 47, 67, 66, 75, 77, 65, 59, 62, 50, 60, 53, 48, 52, 63, 41, 44, 78, 56, 46, 61], [78, 45, 69, 58, 79, 76, 77, 55, 68, 60, 62, 71, 42, 40, 49, 64, 67, 59, 57, 44, 75, 52, 72, 65, 50, 47, 54, 74, 53, 70, 51, 56, 61, 41, 43, 48, 73, 66, 63, 46], [46, 67, 59, 63, 54, 66, 61, 58, 64, 74, 73, 57, 44, 43, 55, 47, 51, 49, 40, 60, 77, 41, 79, 42, 78, 50, 53, 56, 52, 75, 76, 65, 70, 72, 62, 48, 69, 71, 68, 45], [44, 53, 47, 61, 69, 70, 40, 73, 51, 43, 55, 46, 42, 49, 67, 68, 48, 66, 72, 59, 41, 58, 76, 60, 62, 45, 77, 54, 63, 79, 75, 71, 50, 52, 56, 78, 65, 64, 74, 57], [54, 66, 62, 51, 46, 45, 41, 74, 71, 50, 76, 43, 60, 57, 49, 65, 77, 47, 69, 40, 55, 48, 75, 73, 63, 79, 64, 52, 56, 58, 68, 59, 53, 72, 78, 70, 44, 61, 67, 42], [73, 57, 47, 75, 44, 77, 53, 54, 78, 59, 67, 70, 55, 43, 68, 41, 56, 74, 42, 50, 48, 40, 51, 46, 62, 76, 52, 69, 66, 45, 72, 65, 71, 63, 79, 61, 49, 60, 64, 58], [44, 75, 70, 59, 79, 49, 47, 43, 51, 65, 63, 64, 73, 58, 55, 67, 77, 60, 46, 40, 42, 57, 54, 74, 71, 48, 78, 61, 62, 69, 66, 68, 50, 41, 56, 72, 76, 45, 53, 52], [55, 60, 50, 65, 43, 78, 61, 59, 57, 40, 51, 74, 68, 76, 63, 67, 52, 56, 66, 45, 69, 72, 75, 49, 62, 73, 44, 70, 58, 46, 48, 47, 64, 77, 41, 71, 53, 54, 79, 42], [42, 48, 65, 46, 66, 79, 43, 55, 49, 52, 72, 60, 40, 44, 74, 47, 61, 59, 64, 78, 70, 50, 71, 67, 53, 56, 69, 68, 45, 73, 77, 57, 51, 63, 41, 54, 76, 75, 58, 62], [56, 42, 66, 47, 50, 74, 49, 72, 64, 78, 76, 62, 60, 73, 41, 43, 45, 53, 68, 51, 54, 52, 55, 63, 40, 44, 61, 79, 67, 70, 58, 69, 48, 65, 71, 59, 57, 46, 75, 77], [76, 79, 68, 40, 50, 69, 64, 53, 70, 78, 43, 49, 59, 66, 45, 62, 75, 63, 72, 51, 73, 71, 46, 47, 74, 54, 61, 48, 56, 42, 44, 67, 55, 60, 52, 57, 41, 77, 58, 65], [62, 51, 46, 41, 71, 70, 40, 44, 54, 76, 59, 49, 56, 63, 64, 79, 66, 43, 75, 77, 55, 45, 47, 48, 52, 60, 57, 74, 58, 69, 61, 68, 53, 72, 78, 73, 65, 67, 50, 42], [67, 60, 72, 57, 65, 62, 53, 59, 46, 41, 45, 78, 56, 76, 51, 42, 66, 47, 77, 50, 48, 64, 40, 63, 73, 74, 52, 71, 49, 43, 55, 79, 68, 44, 70, 58, 69, 61, 75, 54], [55, 64, 67, 40, 53, 43, 42, 57, 47, 48, 76, 66, 69, 52, 71, 46, 50, 63, 78, 45, 60, 56, 68, 65, 44, 62, 59, 54, 79, 70, 75, 51, 72, 41, 74, 49, 61, 58, 77, 73], [76, 69, 67, 47, 45, 75, 62, 53, 55, 66, 57, 48, 78, 73, 58, 71, 72, 56, 63, 41, 40, 70, 61, 43, 79, 50, 64, 74, 52, 68, 54, 60, 65, 46, 49, 51, 77, 42, 44, 59], [49, 52, 44, 62, 56, 65, 51, 58, 68, 40, 54, 69, 46, 72, 43, 64, 74, 61, 75, 60, 48, 47, 73, 55, 67, 42, 78, 76, 66, 45, 57, 71, 70, 53, 77, 50, 41, 59, 63, 79], [72, 78, 70, 44, 76, 68, 77, 71, 61, 64, 51, 63, 50, 54, 53, 79, 74, 59, 49, 56, 58, 40, 75, 42, 46, 67, 69, 52, 65, 73, 47, 45, 57, 41, 43, 55, 48, 66, 60, 62], [52, 46, 66, 41, 45, 62, 55, 43, 77, 40, 56, 51, 69, 61, 44, 54, 72, 73, 48, 74, 60, 50, 71, 78, 59, 47, 63, 68, 75, 79, 65, 67, 42, 70, 49, 58, 53, 76, 57, 64], [69, 55, 48, 42, 63, 76, 56, 71, 58, 79, 78, 50, 75, 49, 43, 62, 51, 40, 77, 64, 45, 57, 54, 52, 41, 65, 70, 73, 66, 60, 44, 72, 53, 46, 74, 68, 47, 59, 61, 67], [72, 44, 48, 46, 56, 74, 65, 53, 55, 49, 69, 43, 47, 76, 71, 50, 57, 79, 59, 77, 52, 63, 73, 54, 51, 61, 45, 40, 60, 78, 70, 66, 67, 64, 58, 42, 41, 62, 75, 68], [69, 50, 63, 66, 53, 59, 74, 76, 44, 67, 62, 49, 65, 58, 64, 57, 46, 41, 78, 61, 52, 56, 68, 75, 43, 55, 51, 79, 48, 40, 45, 42, 77, 47, 60, 72, 71, 54, 73, 70], [69, 63, 56, 67, 62, 48, 43, 47, 46, 42, 71, 54, 77, 52, 58, 53, 55, 44, 76, 68, 60, 78, 59, 75, 40, 74, 70, 51, 79, 65, 66, 64, 61, 50, 73, 72, 49, 41, 45, 57], [40, 76, 41, 42, 50, 59, 73, 62, 75, 67, 45, 71, 79, 57, 43, 68, 54, 48, 64, 58, 53, 74, 55, 47, 77, 51, 70, 60, 66, 61, 72, 63, 69, 46, 65, 44, 52, 78, 49, 56], [56, 48, 61, 43, 63, 42, 64, 44, 70, 76, 75, 78, 55, 69, 74, 51, 54, 41, 68, 50, 46, 53, 66, 65, 40, 72, 52, 58, 71, 45, 49, 60, 79, 47, 57, 77, 67, 62, 73, 59], [40, 58, 61, 51, 63, 67, 73, 41, 72, 42, 74, 47, 68, 44, 50, 46, 55, 76, 64, 70, 66, 54, 75, 49, 56, 48, 52, 62, 69, 43, 57, 53, 65, 60, 77, 45, 79, 59, 71, 78], [47, 44, 75, 49, 40, 68, 73, 77, 42, 70, 43, 54, 50, 65, 48, 62, 55, 76, 61, 64, 59, 79, 46, 67, 51, 53, 74, 72, 45, 57, 58, 78, 56, 52, 60, 63, 71, 66, 69, 41]]\n",
            "PreferGirls =  [[8, 38, 26, 19, 27, 23, 1, 14, 13, 3, 21, 28, 30, 39, 12, 7, 20, 6, 5, 29, 22, 31, 11, 4, 35, 32, 24, 16, 37, 33, 10, 36, 18, 2, 15, 34, 25, 9, 17, 0], [20, 37, 8, 35, 38, 17, 31, 33, 36, 7, 28, 6, 21, 34, 13, 2, 19, 25, 15, 10, 16, 32, 27, 14, 29, 3, 0, 18, 9, 12, 5, 11, 26, 22, 39, 23, 1, 4, 30, 24], [37, 21, 17, 33, 30, 28, 38, 39, 9, 31, 18, 26, 20, 23, 16, 7, 10, 35, 1, 4, 15, 0, 12, 14, 13, 8, 32, 25, 5, 29, 3, 2, 19, 22, 11, 6, 24, 36, 27, 34], [39, 31, 23, 35, 22, 0, 33, 1, 16, 12, 7, 4, 17, 13, 21, 3, 9, 5, 8, 15, 25, 32, 19, 27, 2, 14, 34, 29, 11, 18, 38, 30, 24, 28, 36, 26, 10, 6, 37, 20], [29, 18, 27, 36, 13, 9, 16, 37, 28, 32, 31, 33, 34, 12, 26, 5, 30, 23, 2, 15, 22, 39, 10, 0, 7, 14, 25, 21, 11, 17, 4, 8, 35, 6, 3, 1, 24, 38, 20, 19], [23, 18, 32, 9, 31, 5, 16, 29, 13, 21, 7, 11, 10, 19, 37, 17, 39, 1, 38, 4, 22, 30, 8, 25, 35, 6, 24, 28, 14, 20, 27, 12, 34, 26, 3, 33, 36, 2, 0, 15], [5, 6, 23, 22, 27, 37, 8, 0, 18, 21, 16, 30, 14, 3, 9, 39, 20, 26, 25, 36, 11, 31, 13, 33, 35, 7, 29, 17, 12, 19, 10, 38, 2, 15, 4, 34, 28, 32, 24, 1], [16, 0, 13, 34, 15, 23, 35, 1, 17, 26, 30, 24, 33, 6, 8, 36, 21, 29, 14, 10, 3, 5, 20, 25, 37, 19, 9, 7, 38, 4, 18, 31, 27, 12, 39, 28, 22, 11, 2, 32], [34, 19, 26, 21, 3, 28, 10, 4, 27, 30, 13, 7, 36, 12, 29, 39, 37, 31, 20, 8, 32, 23, 38, 6, 24, 2, 25, 33, 9, 17, 18, 14, 1, 35, 11, 15, 0, 22, 5, 16], [32, 31, 8, 27, 23, 37, 11, 6, 38, 34, 17, 24, 0, 14, 3, 33, 36, 39, 13, 25, 5, 28, 18, 35, 16, 30, 12, 19, 4, 10, 15, 26, 21, 22, 9, 29, 2, 7, 1, 20], [4, 34, 19, 11, 21, 3, 39, 35, 1, 37, 12, 33, 27, 6, 13, 25, 36, 32, 22, 26, 38, 18, 5, 29, 9, 17, 20, 14, 31, 10, 28, 0, 23, 15, 2, 8, 30, 16, 24, 7], [9, 23, 20, 14, 31, 27, 10, 8, 35, 11, 0, 32, 4, 1, 36, 25, 15, 17, 29, 19, 21, 18, 13, 28, 38, 33, 6, 12, 39, 30, 26, 24, 37, 2, 7, 5, 22, 3, 16, 34], [9, 29, 26, 0, 31, 25, 4, 18, 1, 6, 32, 20, 21, 5, 22, 3, 14, 15, 2, 16, 7, 34, 12, 27, 30, 38, 28, 10, 37, 17, 39, 24, 19, 35, 13, 11, 23, 36, 33, 8], [7, 34, 26, 0, 4, 8, 35, 12, 28, 5, 33, 39, 20, 32, 22, 1, 23, 29, 19, 10, 14, 30, 15, 36, 31, 9, 16, 2, 25, 3, 27, 11, 37, 18, 24, 6, 13, 21, 17, 38], [35, 29, 9, 18, 34, 22, 12, 26, 0, 30, 27, 23, 2, 33, 20, 24, 17, 14, 25, 4, 6, 37, 3, 13, 39, 8, 15, 38, 19, 21, 16, 28, 10, 1, 31, 36, 32, 11, 5, 7], [31, 26, 19, 22, 36, 6, 38, 7, 37, 9, 12, 11, 10, 24, 16, 13, 35, 5, 28, 15, 25, 2, 17, 1, 4, 29, 3, 30, 39, 20, 18, 33, 23, 27, 14, 8, 21, 0, 32, 34], [16, 19, 33, 18, 38, 4, 22, 20, 32, 12, 5, 0, 34, 11, 9, 7, 13, 36, 37, 35, 30, 29, 8, 10, 2, 3, 15, 31, 27, 6, 21, 28, 14, 25, 26, 17, 39, 1, 23, 24], [11, 28, 35, 12, 3, 22, 37, 29, 1, 19, 18, 9, 13, 32, 20, 0, 10, 27, 16, 5, 30, 8, 25, 24, 14, 33, 7, 34, 6, 23, 38, 4, 26, 17, 31, 2, 15, 36, 21, 39], [11, 2, 16, 9, 25, 10, 12, 14, 26, 0, 27, 7, 36, 37, 39, 31, 8, 17, 19, 30, 4, 5, 29, 15, 28, 18, 3, 32, 1, 6, 33, 20, 13, 35, 22, 23, 34, 38, 21, 24], [8, 29, 16, 6, 36, 14, 24, 21, 22, 15, 28, 33, 20, 38, 27, 34, 5, 2, 1, 19, 0, 35, 11, 31, 3, 12, 26, 32, 9, 7, 17, 23, 18, 13, 25, 39, 37, 10, 30, 4], [30, 12, 21, 15, 24, 11, 31, 7, 22, 37, 20, 6, 16, 28, 35, 19, 23, 38, 39, 13, 34, 3, 10, 36, 0, 17, 32, 27, 2, 18, 1, 26, 33, 9, 29, 25, 5, 8, 4, 14], [1, 14, 22, 4, 31, 18, 19, 30, 5, 36, 7, 6, 11, 13, 35, 28, 34, 8, 0, 17, 37, 24, 23, 27, 10, 20, 15, 32, 3, 26, 16, 12, 21, 2, 29, 38, 33, 39, 25, 9], [16, 35, 7, 31, 10, 2, 20, 3, 4, 14, 34, 24, 37, 27, 25, 33, 21, 30, 23, 1, 32, 11, 13, 17, 18, 15, 38, 9, 19, 36, 12, 28, 22, 39, 0, 5, 8, 26, 29, 6], [32, 20, 28, 33, 30, 2, 6, 8, 38, 19, 25, 7, 29, 5, 18, 0, 31, 26, 9, 3, 35, 12, 15, 14, 37, 36, 11, 34, 22, 17, 4, 16, 24, 1, 27, 10, 21, 39, 13, 23], [29, 33, 9, 15, 36, 11, 14, 18, 26, 5, 10, 6, 34, 4, 37, 19, 2, 0, 17, 21, 39, 32, 25, 16, 3, 38, 1, 22, 28, 30, 12, 13, 24, 35, 27, 7, 20, 23, 8, 31], [15, 17, 26, 34, 28, 0, 11, 24, 13, 6, 23, 3, 14, 35, 29, 39, 9, 5, 36, 21, 31, 32, 12, 22, 18, 37, 25, 8, 30, 4, 20, 27, 16, 38, 1, 10, 7, 19, 33, 2], [10, 21, 18, 27, 32, 15, 28, 4, 12, 2, 26, 31, 20, 7, 30, 0, 3, 33, 19, 1, 34, 11, 39, 23, 22, 17, 8, 36, 5, 6, 9, 35, 13, 37, 25, 16, 14, 29, 24, 38], [31, 18, 38, 3, 27, 39, 34, 25, 11, 22, 24, 14, 16, 7, 17, 28, 35, 37, 12, 29, 10, 4, 8, 2, 0, 21, 13, 32, 23, 15, 5, 26, 6, 19, 36, 30, 20, 9, 33, 1], [1, 28, 35, 26, 12, 36, 23, 11, 18, 27, 8, 33, 9, 37, 17, 25, 29, 6, 0, 38, 10, 39, 7, 20, 13, 16, 30, 24, 5, 22, 21, 31, 14, 34, 2, 19, 32, 3, 4, 15], [17, 4, 11, 38, 23, 25, 22, 32, 33, 1, 5, 26, 0, 19, 12, 39, 6, 8, 13, 21, 36, 14, 37, 20, 24, 34, 15, 3, 16, 31, 18, 27, 9, 30, 2, 29, 35, 7, 28, 10], [35, 9, 27, 32, 3, 28, 29, 13, 33, 22, 5, 37, 19, 38, 17, 14, 4, 11, 7, 30, 18, 10, 0, 34, 39, 23, 25, 12, 1, 8, 6, 26, 24, 16, 36, 21, 2, 15, 31, 20], [26, 15, 38, 29, 32, 23, 12, 20, 10, 2, 6, 8, 33, 14, 34, 3, 30, 31, 27, 36, 0, 17, 19, 39, 11, 9, 5, 13, 25, 28, 22, 16, 37, 35, 4, 21, 18, 24, 1, 7], [26, 39, 36, 29, 3, 4, 23, 30, 1, 31, 17, 12, 27, 22, 38, 6, 13, 21, 18, 2, 20, 24, 10, 33, 28, 7, 5, 14, 16, 8, 34, 9, 37, 32, 25, 35, 15, 19, 11, 0], [33, 30, 13, 8, 21, 1, 28, 7, 19, 2, 20, 6, 23, 0, 5, 26, 18, 37, 15, 16, 27, 32, 39, 29, 17, 38, 14, 9, 4, 35, 25, 10, 34, 24, 31, 36, 3, 11, 22, 12], [4, 20, 23, 15, 1, 7, 26, 21, 34, 25, 14, 0, 37, 39, 10, 6, 8, 33, 17, 22, 5, 38, 18, 31, 9, 12, 24, 32, 11, 16, 27, 28, 36, 13, 2, 30, 29, 19, 3, 35], [15, 14, 30, 1, 25, 3, 6, 33, 24, 32, 27, 17, 0, 28, 23, 18, 12, 13, 21, 35, 37, 22, 19, 4, 34, 36, 39, 9, 16, 29, 26, 5, 2, 10, 31, 11, 7, 20, 8, 38], [4, 21, 1, 5, 8, 11, 30, 17, 12, 10, 34, 36, 31, 26, 28, 19, 35, 13, 16, 37, 6, 7, 2, 0, 27, 23, 38, 9, 20, 39, 14, 3, 18, 25, 29, 22, 32, 24, 15, 33], [2, 15, 38, 16, 24, 13, 4, 19, 26, 39, 35, 5, 7, 21, 36, 0, 22, 8, 37, 29, 27, 9, 3, 10, 32, 18, 30, 1, 12, 33, 20, 11, 25, 17, 14, 6, 31, 28, 23, 34], [39, 17, 33, 36, 20, 29, 13, 22, 5, 16, 12, 1, 9, 38, 4, 26, 15, 35, 2, 25, 34, 32, 18, 21, 6, 19, 27, 11, 7, 8, 28, 37, 23, 14, 24, 31, 10, 3, 0, 30], [36, 20, 26, 23, 8, 39, 37, 13, 10, 25, 18, 28, 35, 14, 2, 1, 6, 11, 3, 27, 12, 17, 19, 29, 15, 4, 32, 9, 21, 7, 33, 5, 16, 34, 24, 38, 22, 31, 0, 30]]\n",
            "Woman   Man\n",
            "40 \t 38\n",
            "41 \t 8\n",
            "42 \t 37\n",
            "43 \t 24\n",
            "44 \t 29\n",
            "45 \t 13\n",
            "46 \t 16\n",
            "47 \t 0\n",
            "48 \t 3\n",
            "49 \t 39\n",
            "50 \t 34\n",
            "51 \t 14\n",
            "52 \t 9\n",
            "53 \t 28\n",
            "54 \t 18\n",
            "55 \t 7\n",
            "56 \t 33\n",
            "57 \t 11\n",
            "58 \t 30\n",
            "59 \t 36\n",
            "60 \t 21\n",
            "61 \t 1\n",
            "62 \t 35\n",
            "63 \t 32\n",
            "64 \t 25\n",
            "65 \t 22\n",
            "66 \t 31\n",
            "67 \t 27\n",
            "68 \t 12\n",
            "69 \t 17\n",
            "70 \t 5\n",
            "71 \t 2\n",
            "72 \t 26\n",
            "73 \t 19\n",
            "74 \t 23\n",
            "75 \t 6\n",
            "76 \t 4\n",
            "77 \t 10\n",
            "78 \t 15\n",
            "79 \t 20\n",
            "CPU times: user 2 µs, sys: 1e+03 ns, total: 3 µs\n",
            "Wall time: 4.77 µs\n"
          ],
          "name": "stdout"
        }
      ]
    },
    {
      "cell_type": "code",
      "metadata": {
        "colab": {
          "base_uri": "https://localhost:8080/"
        },
        "id": "5dzasfkEutPD",
        "outputId": "2c59a435-dcbf-414d-e26d-7cae26aefbc3"
      },
      "source": [
        "print(timer[4])\n",
        "preferMens=prefer[4][:N]\n",
        "preferGirls=prefer[4][N:]\n",
        "\n",
        "print(\"PreferBoys = \",preferMens)\n",
        "print(\"PreferGirls = \",preferGirls)\n",
        "stableMarriage2(prefer[4])\n",
        "%time"
      ],
      "execution_count": 10,
      "outputs": [
        {
          "output_type": "stream",
          "text": [
            "0.0010037422180175781\n",
            "PreferBoys =  [[70, 69, 53, 40, 74, 56, 61, 72, 58, 41, 66, 71, 47, 77, 75, 44, 52, 60, 49, 65, 78, 48, 50, 42, 51, 54, 57, 55, 79, 64, 68, 67, 62, 43, 45, 59, 73, 46, 63, 76], [52, 48, 62, 50, 63, 44, 67, 66, 68, 58, 70, 53, 74, 49, 55, 41, 42, 71, 59, 75, 78, 56, 69, 60, 76, 51, 43, 73, 40, 46, 77, 79, 61, 57, 47, 72, 54, 65, 45, 64], [70, 73, 56, 55, 51, 65, 71, 42, 48, 66, 78, 44, 74, 69, 50, 54, 41, 64, 77, 47, 75, 59, 58, 63, 61, 79, 52, 40, 67, 68, 72, 62, 45, 76, 57, 43, 60, 53, 46, 49], [65, 54, 77, 40, 64, 70, 49, 67, 72, 71, 50, 74, 60, 41, 46, 68, 76, 44, 48, 56, 55, 42, 62, 73, 78, 63, 43, 52, 69, 66, 58, 47, 59, 61, 51, 75, 45, 79, 57, 53], [75, 63, 71, 65, 43, 61, 76, 78, 42, 41, 40, 66, 72, 74, 67, 45, 58, 73, 56, 62, 59, 79, 55, 54, 64, 60, 70, 77, 44, 53, 50, 68, 52, 49, 48, 46, 51, 47, 57, 69], [56, 79, 49, 52, 68, 50, 54, 40, 77, 43, 65, 46, 62, 45, 55, 73, 78, 67, 41, 63, 76, 51, 57, 42, 66, 48, 53, 71, 75, 72, 70, 61, 59, 47, 69, 44, 74, 60, 64, 58], [74, 48, 67, 73, 78, 66, 75, 42, 41, 52, 47, 68, 65, 76, 62, 72, 60, 77, 50, 40, 49, 53, 46, 51, 58, 59, 69, 43, 55, 79, 44, 63, 70, 54, 45, 64, 56, 71, 61, 57], [42, 57, 71, 63, 54, 46, 69, 68, 72, 41, 50, 58, 51, 76, 75, 59, 79, 44, 60, 73, 65, 48, 67, 62, 77, 55, 66, 56, 47, 43, 61, 64, 70, 45, 53, 49, 40, 74, 78, 52], [48, 51, 71, 73, 68, 61, 53, 76, 67, 44, 58, 60, 56, 63, 55, 40, 77, 72, 52, 66, 64, 43, 50, 69, 74, 70, 65, 54, 47, 49, 79, 62, 75, 46, 45, 59, 78, 57, 42, 41], [70, 73, 75, 41, 48, 51, 50, 43, 58, 44, 60, 59, 64, 46, 78, 40, 72, 52, 61, 55, 49, 62, 79, 69, 67, 45, 68, 57, 76, 54, 74, 65, 71, 66, 63, 56, 42, 53, 47, 77], [69, 59, 48, 70, 77, 74, 75, 79, 43, 76, 58, 56, 51, 50, 47, 63, 44, 57, 73, 64, 46, 68, 55, 67, 42, 62, 60, 40, 52, 53, 61, 41, 78, 66, 65, 45, 72, 54, 49, 71], [50, 61, 79, 53, 59, 56, 67, 46, 62, 47, 65, 54, 78, 45, 55, 75, 57, 60, 43, 49, 52, 68, 70, 51, 69, 48, 41, 76, 44, 64, 71, 63, 58, 40, 77, 72, 74, 66, 42, 73], [51, 62, 70, 47, 72, 46, 57, 53, 56, 60, 76, 55, 68, 41, 73, 52, 45, 59, 69, 40, 65, 78, 67, 61, 66, 77, 44, 43, 74, 79, 58, 71, 50, 75, 64, 42, 48, 54, 49, 63], [77, 76, 78, 66, 52, 47, 40, 71, 70, 64, 61, 58, 60, 56, 54, 44, 43, 48, 59, 51, 46, 42, 41, 57, 68, 53, 67, 55, 73, 69, 45, 79, 49, 50, 75, 65, 72, 74, 63, 62], [63, 67, 74, 61, 41, 59, 79, 72, 56, 50, 70, 45, 77, 64, 73, 47, 66, 62, 65, 52, 71, 49, 57, 76, 78, 55, 54, 53, 51, 42, 75, 40, 48, 69, 58, 46, 60, 44, 68, 43], [58, 41, 78, 64, 52, 40, 55, 68, 43, 63, 74, 54, 61, 47, 73, 77, 44, 53, 59, 60, 76, 79, 72, 70, 66, 56, 42, 48, 46, 50, 69, 49, 51, 62, 45, 57, 67, 71, 75, 65], [60, 63, 62, 72, 41, 56, 78, 48, 40, 45, 49, 66, 75, 43, 57, 61, 52, 73, 77, 64, 42, 46, 59, 68, 74, 55, 70, 50, 58, 71, 76, 44, 54, 51, 47, 53, 65, 67, 69, 79], [79, 52, 44, 68, 77, 62, 49, 45, 54, 40, 55, 73, 67, 60, 56, 51, 61, 47, 70, 59, 76, 41, 42, 65, 63, 71, 50, 74, 58, 69, 66, 78, 46, 75, 57, 72, 43, 64, 53, 48], [46, 67, 79, 63, 62, 50, 48, 40, 43, 73, 54, 74, 78, 41, 75, 68, 56, 55, 42, 70, 69, 71, 72, 52, 77, 44, 51, 66, 47, 60, 57, 76, 53, 59, 61, 65, 58, 49, 64, 45], [50, 48, 60, 64, 65, 74, 56, 58, 75, 61, 62, 51, 78, 69, 52, 59, 72, 71, 42, 45, 63, 66, 44, 43, 73, 79, 70, 76, 53, 68, 55, 40, 57, 54, 46, 67, 41, 47, 77, 49], [65, 54, 43, 60, 44, 74, 47, 56, 61, 73, 59, 53, 78, 66, 52, 70, 51, 76, 55, 71, 41, 58, 49, 77, 46, 42, 48, 64, 45, 75, 50, 79, 63, 57, 72, 69, 40, 62, 68, 67], [66, 62, 71, 51, 61, 49, 52, 50, 65, 45, 60, 79, 46, 76, 74, 43, 67, 70, 42, 47, 53, 56, 57, 55, 68, 69, 58, 63, 77, 40, 78, 48, 54, 72, 75, 59, 41, 44, 64, 73], [57, 63, 71, 42, 46, 50, 77, 54, 70, 61, 64, 72, 48, 68, 60, 66, 67, 79, 53, 49, 73, 74, 65, 45, 78, 52, 40, 43, 41, 56, 51, 75, 44, 69, 55, 59, 62, 58, 76, 47], [62, 43, 45, 48, 54, 49, 65, 71, 66, 64, 47, 52, 42, 53, 73, 74, 63, 69, 50, 46, 57, 60, 40, 76, 56, 51, 79, 41, 61, 70, 67, 77, 72, 78, 68, 59, 58, 44, 75, 55], [65, 50, 61, 67, 77, 49, 41, 74, 71, 42, 44, 68, 43, 75, 59, 78, 56, 79, 70, 66, 48, 63, 46, 58, 57, 47, 55, 54, 60, 40, 69, 62, 53, 72, 64, 76, 51, 73, 52, 45], [67, 78, 42, 61, 63, 77, 72, 44, 43, 41, 66, 74, 52, 62, 75, 47, 58, 51, 68, 69, 56, 53, 73, 59, 64, 71, 70, 60, 65, 55, 48, 45, 57, 54, 50, 49, 76, 79, 46, 40], [51, 65, 44, 69, 67, 47, 74, 61, 57, 78, 66, 41, 42, 73, 60, 58, 48, 64, 59, 45, 54, 75, 63, 71, 68, 70, 50, 40, 56, 55, 53, 46, 43, 72, 79, 52, 77, 62, 49, 76], [64, 47, 50, 72, 79, 67, 48, 76, 74, 66, 46, 73, 44, 63, 58, 65, 49, 59, 40, 54, 57, 68, 62, 52, 53, 75, 77, 43, 60, 55, 71, 78, 61, 41, 45, 42, 70, 51, 56, 69], [55, 67, 60, 53, 41, 54, 56, 49, 62, 74, 46, 76, 40, 65, 73, 57, 79, 58, 69, 63, 77, 44, 42, 64, 71, 51, 45, 72, 59, 43, 68, 66, 78, 52, 70, 75, 50, 61, 48, 47], [57, 59, 55, 76, 61, 66, 56, 65, 72, 51, 49, 73, 75, 44, 70, 53, 63, 78, 74, 58, 50, 42, 48, 52, 71, 77, 79, 62, 43, 41, 54, 60, 47, 40, 46, 67, 64, 68, 45, 69], [57, 73, 69, 55, 68, 48, 41, 60, 65, 44, 76, 58, 46, 63, 78, 50, 74, 59, 45, 72, 61, 40, 70, 62, 49, 75, 66, 47, 71, 79, 54, 42, 64, 51, 56, 43, 77, 67, 52, 53], [43, 62, 49, 45, 47, 78, 63, 48, 75, 69, 41, 72, 51, 60, 42, 64, 70, 50, 58, 77, 73, 44, 55, 65, 79, 71, 66, 67, 52, 61, 46, 53, 74, 59, 40, 54, 56, 57, 68, 76], [44, 49, 57, 78, 59, 75, 68, 48, 62, 53, 67, 76, 71, 77, 66, 50, 43, 73, 45, 69, 74, 41, 64, 60, 58, 56, 42, 63, 70, 55, 65, 47, 46, 52, 72, 51, 54, 79, 40, 61], [48, 64, 61, 56, 68, 79, 42, 55, 77, 45, 76, 51, 70, 67, 58, 72, 44, 40, 60, 75, 65, 78, 41, 52, 46, 63, 71, 54, 59, 53, 74, 62, 66, 57, 43, 47, 73, 50, 49, 69], [74, 68, 61, 63, 77, 75, 72, 60, 49, 52, 57, 71, 45, 59, 51, 41, 54, 44, 66, 79, 58, 78, 56, 62, 46, 43, 40, 50, 48, 47, 73, 53, 64, 69, 55, 76, 67, 42, 65, 70], [52, 53, 44, 42, 66, 73, 79, 58, 54, 55, 56, 49, 57, 75, 46, 40, 65, 47, 67, 43, 60, 48, 62, 71, 78, 72, 51, 70, 77, 50, 76, 63, 68, 45, 41, 74, 59, 61, 69, 64], [43, 78, 50, 42, 62, 52, 72, 59, 79, 61, 76, 73, 64, 55, 68, 53, 51, 75, 48, 44, 60, 57, 63, 74, 47, 65, 56, 54, 71, 45, 41, 46, 69, 49, 66, 70, 40, 58, 67, 77], [75, 41, 72, 57, 60, 64, 79, 44, 65, 62, 69, 67, 77, 76, 48, 45, 54, 63, 74, 55, 40, 56, 47, 53, 59, 66, 51, 52, 43, 49, 42, 71, 70, 61, 46, 50, 58, 73, 78, 68], [47, 68, 56, 76, 61, 40, 79, 73, 70, 45, 53, 52, 49, 58, 57, 44, 75, 62, 60, 51, 50, 72, 63, 54, 65, 64, 42, 77, 66, 71, 43, 48, 74, 55, 78, 46, 69, 67, 59, 41], [77, 54, 58, 69, 47, 60, 49, 61, 65, 51, 79, 72, 66, 76, 40, 64, 62, 75, 78, 63, 74, 57, 44, 70, 73, 42, 50, 55, 52, 71, 59, 67, 68, 53, 56, 48, 43, 41, 45, 46]]\n",
            "PreferGirls =  [[3, 28, 23, 1, 36, 33, 21, 8, 37, 18, 22, 17, 9, 7, 2, 11, 4, 12, 26, 27, 13, 31, 14, 16, 0, 30, 25, 29, 32, 38, 15, 19, 10, 6, 24, 35, 20, 5, 34, 39], [39, 26, 16, 6, 25, 0, 21, 4, 17, 2, 33, 22, 35, 7, 32, 10, 19, 31, 12, 8, 18, 23, 5, 20, 36, 37, 13, 24, 15, 1, 11, 27, 38, 14, 28, 9, 3, 29, 34, 30], [18, 2, 10, 25, 13, 20, 1, 15, 9, 6, 34, 26, 19, 21, 30, 3, 28, 36, 32, 33, 31, 35, 5, 7, 37, 23, 16, 8, 12, 0, 39, 22, 17, 29, 4, 11, 14, 27, 24, 38], [18, 17, 27, 13, 26, 24, 9, 1, 16, 33, 8, 30, 7, 15, 0, 39, 31, 28, 37, 2, 32, 22, 36, 20, 21, 3, 4, 25, 5, 14, 34, 23, 11, 38, 6, 12, 10, 19, 29, 35], [6, 23, 29, 31, 9, 36, 8, 18, 12, 16, 26, 14, 20, 28, 10, 35, 39, 30, 1, 27, 2, 4, 15, 7, 33, 25, 34, 24, 5, 0, 17, 3, 38, 19, 11, 32, 13, 22, 37, 21], [2, 37, 35, 31, 7, 36, 9, 29, 23, 39, 28, 30, 27, 22, 24, 19, 0, 20, 25, 16, 38, 13, 17, 8, 11, 32, 15, 34, 5, 33, 14, 6, 10, 21, 12, 4, 3, 26, 18, 1], [3, 37, 29, 17, 18, 0, 20, 39, 30, 6, 23, 34, 19, 35, 9, 4, 2, 1, 10, 8, 11, 38, 25, 26, 33, 14, 21, 32, 13, 16, 12, 7, 27, 24, 15, 28, 5, 22, 31, 36], [6, 39, 19, 13, 8, 1, 29, 0, 31, 3, 33, 24, 14, 28, 34, 26, 17, 11, 4, 5, 27, 2, 37, 35, 30, 15, 36, 25, 7, 10, 32, 20, 12, 22, 38, 16, 9, 18, 23, 21], [39, 32, 30, 33, 5, 15, 37, 25, 29, 13, 0, 36, 24, 21, 22, 17, 31, 9, 34, 19, 28, 7, 1, 12, 6, 35, 2, 23, 8, 10, 38, 27, 20, 4, 3, 26, 16, 14, 18, 11], [2, 16, 28, 1, 8, 4, 12, 20, 22, 34, 30, 23, 3, 21, 27, 39, 17, 38, 26, 13, 32, 29, 35, 18, 0, 24, 31, 25, 10, 6, 14, 7, 15, 33, 37, 5, 11, 36, 9, 19], [28, 1, 32, 21, 16, 27, 14, 3, 25, 18, 9, 6, 24, 34, 36, 0, 22, 17, 12, 2, 10, 35, 4, 39, 29, 11, 20, 13, 33, 8, 30, 5, 7, 26, 23, 37, 38, 19, 15, 31], [7, 18, 39, 13, 24, 10, 11, 12, 20, 5, 1, 33, 29, 16, 28, 15, 23, 30, 37, 0, 26, 9, 14, 8, 6, 38, 19, 32, 25, 22, 21, 3, 34, 27, 35, 17, 31, 2, 4, 36], [32, 26, 19, 29, 24, 3, 2, 20, 36, 28, 16, 31, 9, 14, 10, 17, 5, 8, 0, 15, 38, 37, 33, 11, 6, 27, 21, 34, 25, 13, 1, 30, 22, 39, 12, 35, 23, 4, 7, 18], [16, 24, 20, 31, 15, 33, 12, 9, 38, 30, 26, 1, 28, 34, 10, 22, 8, 39, 3, 19, 29, 17, 2, 21, 36, 23, 11, 27, 32, 18, 4, 37, 0, 5, 35, 7, 14, 6, 25, 13], [10, 9, 18, 38, 14, 20, 39, 33, 35, 24, 2, 23, 0, 31, 34, 32, 36, 6, 22, 17, 16, 29, 8, 4, 15, 37, 27, 21, 13, 25, 26, 3, 30, 1, 12, 11, 5, 28, 19, 7], [16, 2, 15, 36, 25, 19, 21, 0, 14, 17, 6, 9, 35, 37, 4, 32, 26, 39, 34, 38, 11, 18, 10, 3, 33, 23, 8, 28, 24, 7, 1, 5, 30, 12, 27, 13, 29, 22, 20, 31], [29, 32, 3, 35, 13, 19, 2, 30, 7, 36, 6, 8, 24, 15, 28, 25, 12, 1, 33, 14, 39, 21, 0, 4, 38, 5, 17, 26, 10, 18, 34, 27, 23, 37, 9, 11, 16, 22, 31, 20], [12, 24, 29, 14, 18, 11, 15, 3, 5, 13, 37, 17, 0, 9, 27, 22, 28, 6, 7, 2, 34, 35, 36, 23, 38, 4, 25, 33, 30, 20, 32, 21, 31, 19, 8, 39, 16, 10, 26, 1], [6, 12, 0, 2, 17, 31, 23, 8, 38, 36, 32, 33, 7, 3, 30, 21, 10, 9, 20, 35, 19, 24, 29, 15, 28, 34, 25, 26, 5, 13, 18, 16, 39, 1, 22, 4, 37, 27, 11, 14], [24, 4, 9, 15, 39, 22, 32, 26, 14, 36, 28, 11, 8, 17, 23, 13, 19, 0, 38, 7, 10, 31, 16, 35, 3, 2, 34, 6, 21, 20, 1, 5, 33, 18, 30, 25, 12, 29, 27, 37], [9, 5, 15, 32, 21, 27, 22, 26, 12, 25, 33, 13, 30, 11, 17, 7, 39, 28, 10, 34, 6, 1, 0, 18, 3, 36, 24, 20, 19, 14, 35, 16, 37, 29, 23, 2, 38, 8, 31, 4], [0, 7, 27, 38, 8, 20, 15, 25, 6, 4, 31, 23, 36, 9, 30, 12, 18, 16, 37, 26, 19, 11, 28, 13, 21, 17, 14, 22, 2, 32, 1, 10, 39, 3, 33, 5, 29, 24, 34, 35], [2, 35, 11, 23, 8, 28, 29, 0, 26, 37, 4, 1, 17, 15, 24, 12, 39, 25, 14, 18, 31, 27, 10, 7, 38, 32, 9, 5, 16, 3, 34, 21, 6, 33, 19, 20, 30, 22, 13, 36], [10, 2, 33, 25, 28, 18, 38, 26, 7, 29, 9, 23, 4, 27, 35, 1, 12, 3, 30, 37, 5, 36, 19, 32, 39, 0, 34, 17, 20, 13, 8, 24, 6, 22, 15, 16, 21, 31, 14, 11], [9, 14, 30, 13, 34, 12, 26, 33, 28, 11, 1, 7, 5, 22, 21, 38, 2, 32, 16, 27, 15, 10, 17, 29, 37, 24, 35, 18, 6, 0, 8, 39, 25, 4, 31, 3, 36, 23, 19, 20], [18, 4, 25, 6, 10, 17, 3, 12, 16, 14, 0, 11, 15, 36, 20, 19, 24, 31, 9, 39, 7, 22, 27, 32, 28, 34, 8, 30, 21, 37, 5, 35, 33, 29, 38, 13, 26, 1, 23, 2], [19, 0, 6, 1, 25, 12, 31, 14, 22, 16, 3, 23, 8, 13, 36, 28, 20, 38, 37, 17, 35, 32, 2, 10, 5, 7, 34, 4, 21, 29, 27, 24, 26, 39, 11, 30, 18, 9, 15, 33], [26, 33, 39, 27, 5, 15, 22, 38, 0, 8, 4, 34, 1, 35, 6, 17, 13, 23, 20, 16, 37, 31, 25, 19, 7, 14, 18, 28, 24, 36, 11, 3, 10, 2, 12, 21, 30, 9, 32, 29], [27, 4, 29, 28, 3, 38, 11, 24, 34, 7, 8, 10, 35, 25, 2, 32, 5, 33, 17, 13, 18, 39, 26, 21, 9, 30, 1, 20, 22, 31, 23, 14, 6, 12, 36, 15, 0, 16, 19, 37], [11, 7, 17, 2, 13, 21, 33, 29, 35, 22, 27, 20, 25, 12, 19, 3, 28, 23, 18, 15, 10, 9, 6, 39, 16, 0, 5, 37, 8, 30, 31, 14, 24, 32, 34, 1, 36, 4, 38, 26], [25, 1, 21, 8, 26, 0, 35, 38, 7, 13, 11, 22, 10, 24, 5, 29, 16, 31, 34, 23, 20, 27, 28, 19, 4, 32, 18, 14, 3, 15, 39, 2, 9, 33, 37, 17, 6, 30, 12, 36], [19, 21, 31, 6, 11, 27, 30, 14, 8, 39, 32, 23, 7, 15, 33, 28, 5, 0, 29, 20, 9, 4, 13, 16, 38, 36, 12, 25, 3, 10, 37, 17, 24, 34, 2, 1, 18, 35, 26, 22], [14, 19, 13, 21, 22, 28, 29, 36, 30, 31, 7, 12, 3, 6, 20, 35, 15, 34, 11, 38, 25, 37, 39, 26, 18, 16, 27, 33, 10, 4, 2, 5, 1, 32, 17, 9, 24, 8, 23, 0], [29, 3, 20, 19, 26, 1, 31, 25, 5, 32, 0, 16, 39, 2, 18, 22, 34, 37, 10, 8, 9, 24, 33, 13, 7, 11, 35, 28, 30, 4, 14, 12, 6, 23, 17, 27, 15, 21, 36, 38], [17, 18, 6, 5, 3, 13, 37, 8, 21, 10, 23, 32, 2, 16, 39, 0, 22, 25, 4, 30, 27, 24, 20, 1, 14, 15, 35, 36, 31, 12, 19, 7, 38, 28, 34, 11, 9, 26, 29, 33], [16, 23, 31, 29, 39, 22, 36, 30, 17, 5, 18, 7, 13, 14, 15, 19, 4, 8, 21, 34, 27, 33, 0, 35, 25, 26, 6, 32, 2, 1, 28, 3, 11, 24, 10, 12, 38, 9, 20, 37], [15, 39, 21, 22, 6, 10, 5, 33, 1, 13, 8, 3, 12, 28, 16, 18, 31, 29, 27, 34, 23, 25, 4, 17, 36, 0, 7, 38, 2, 26, 20, 11, 37, 24, 30, 35, 32, 14, 19, 9], [27, 3, 0, 20, 5, 9, 28, 33, 18, 37, 32, 17, 15, 6, 24, 31, 11, 12, 34, 13, 23, 38, 8, 2, 26, 7, 36, 21, 10, 14, 19, 22, 35, 1, 25, 30, 29, 39, 4, 16], [12, 6, 5, 14, 28, 27, 3, 8, 31, 4, 13, 16, 30, 23, 9, 0, 38, 39, 32, 22, 15, 25, 35, 2, 11, 21, 17, 24, 19, 7, 26, 10, 20, 34, 37, 36, 29, 33, 18, 1], [23, 3, 39, 5, 27, 18, 29, 16, 25, 21, 22, 13, 36, 28, 24, 37, 20, 15, 10, 38, 4, 30, 17, 19, 14, 12, 33, 9, 34, 7, 6, 11, 2, 31, 32, 1, 35, 8, 0, 26]]\n",
            "Woman   Man\n",
            "40 \t 15\n",
            "41 \t 16\n",
            "42 \t 25\n",
            "43 \t 24\n",
            "44 \t 26\n",
            "45 \t 31\n",
            "46 \t 18\n",
            "47 \t 39\n",
            "48 \t 30\n",
            "49 \t 17\n",
            "50 \t 1\n",
            "51 \t 12\n",
            "52 \t 36\n",
            "53 \t 35\n",
            "54 \t 20\n",
            "55 \t 28\n",
            "56 \t 19\n",
            "57 \t 29\n",
            "58 \t 9\n",
            "59 \t 14\n",
            "60 \t 34\n",
            "61 \t 11\n",
            "62 \t 23\n",
            "63 \t 7\n",
            "64 \t 33\n",
            "65 \t 3\n",
            "66 \t 21\n",
            "67 \t 27\n",
            "68 \t 38\n",
            "69 \t 10\n",
            "70 \t 0\n",
            "71 \t 8\n",
            "72 \t 22\n",
            "73 \t 2\n",
            "74 \t 6\n",
            "75 \t 4\n",
            "76 \t 13\n",
            "77 \t 37\n",
            "78 \t 32\n",
            "79 \t 5\n",
            "CPU times: user 3 µs, sys: 0 ns, total: 3 µs\n",
            "Wall time: 6.2 µs\n"
          ],
          "name": "stdout"
        }
      ]
    },
    {
      "cell_type": "code",
      "metadata": {
        "colab": {
          "base_uri": "https://localhost:8080/"
        },
        "id": "OQIYqSXwuwbV",
        "outputId": "2e9fa11e-8370-465f-b2ab-72b6d98ffa4a"
      },
      "source": [
        "print(timer[5])\n",
        "preferMens=prefer[5][:N]\n",
        "preferGirls=prefer[5][N:]\n",
        "\n",
        "print(\"PreferBoys = \",preferMens)\n",
        "print(\"PreferGirls = \",preferGirls)\n",
        "stableMarriage2(prefer[5])\n",
        "%time"
      ],
      "execution_count": 11,
      "outputs": [
        {
          "output_type": "stream",
          "text": [
            "0.0009512901306152344\n",
            "PreferBoys =  [[70, 51, 62, 74, 46, 42, 71, 57, 41, 54, 75, 43, 61, 55, 63, 76, 66, 65, 72, 68, 45, 52, 77, 59, 58, 56, 50, 64, 73, 79, 44, 49, 60, 78, 48, 53, 67, 69, 40, 47], [40, 44, 60, 50, 52, 70, 45, 54, 47, 49, 74, 41, 64, 72, 58, 61, 67, 66, 56, 73, 65, 46, 78, 55, 51, 62, 79, 69, 68, 77, 76, 59, 75, 53, 63, 42, 43, 71, 48, 57], [61, 74, 77, 76, 44, 75, 71, 68, 54, 59, 57, 40, 79, 46, 72, 42, 53, 63, 66, 64, 47, 41, 50, 58, 45, 55, 56, 78, 69, 49, 70, 48, 60, 51, 62, 43, 65, 73, 52, 67], [61, 60, 70, 58, 68, 78, 66, 51, 48, 56, 55, 79, 45, 62, 77, 74, 54, 75, 73, 42, 72, 69, 57, 46, 50, 53, 64, 67, 63, 47, 49, 44, 71, 41, 59, 40, 52, 76, 43, 65], [56, 47, 79, 73, 67, 46, 45, 71, 44, 51, 66, 55, 62, 59, 65, 76, 72, 60, 57, 50, 78, 43, 53, 75, 61, 74, 70, 49, 40, 68, 54, 63, 64, 48, 41, 77, 69, 58, 42, 52], [76, 41, 67, 49, 43, 79, 71, 54, 69, 75, 46, 40, 66, 50, 78, 45, 58, 70, 64, 68, 72, 48, 55, 61, 47, 60, 65, 74, 57, 52, 62, 56, 53, 44, 59, 73, 63, 51, 77, 42], [40, 79, 50, 72, 56, 57, 71, 60, 53, 66, 43, 70, 73, 63, 52, 74, 65, 67, 54, 48, 68, 51, 46, 47, 77, 59, 62, 58, 76, 44, 41, 42, 75, 64, 55, 49, 69, 78, 61, 45], [79, 72, 62, 58, 73, 45, 47, 54, 64, 76, 71, 63, 51, 78, 60, 53, 41, 50, 59, 52, 43, 48, 44, 69, 75, 49, 61, 57, 42, 56, 67, 70, 77, 66, 40, 46, 55, 74, 68, 65], [79, 62, 75, 45, 51, 53, 49, 48, 76, 41, 54, 69, 42, 60, 44, 50, 63, 55, 77, 74, 47, 64, 43, 57, 65, 78, 52, 46, 70, 40, 56, 66, 73, 58, 59, 68, 72, 71, 61, 67], [75, 72, 79, 57, 67, 44, 73, 65, 49, 47, 61, 51, 58, 40, 43, 45, 53, 66, 41, 64, 48, 52, 62, 74, 59, 55, 78, 63, 76, 68, 42, 46, 77, 60, 69, 71, 56, 54, 70, 50], [49, 54, 48, 69, 63, 44, 40, 76, 59, 47, 66, 79, 60, 55, 67, 41, 46, 78, 65, 75, 56, 74, 45, 71, 62, 72, 58, 53, 73, 43, 68, 57, 61, 77, 50, 70, 51, 42, 52, 64], [54, 73, 41, 58, 44, 63, 60, 66, 43, 67, 53, 50, 45, 62, 77, 42, 47, 61, 65, 49, 51, 70, 52, 59, 57, 48, 72, 68, 56, 46, 55, 78, 69, 40, 75, 76, 74, 71, 79, 64], [48, 47, 69, 52, 46, 77, 56, 74, 55, 43, 54, 45, 62, 72, 75, 64, 50, 71, 53, 60, 61, 51, 79, 65, 66, 70, 44, 42, 68, 49, 73, 67, 41, 78, 63, 40, 76, 57, 59, 58], [58, 67, 46, 62, 57, 76, 70, 71, 61, 68, 59, 49, 50, 75, 42, 78, 44, 45, 47, 41, 77, 53, 51, 56, 55, 60, 66, 40, 74, 54, 69, 79, 48, 43, 72, 52, 63, 73, 64, 65], [52, 42, 74, 69, 76, 48, 75, 60, 62, 43, 64, 68, 45, 63, 50, 66, 56, 67, 58, 40, 47, 61, 71, 46, 72, 59, 77, 65, 70, 54, 73, 78, 49, 53, 57, 51, 55, 44, 41, 79], [58, 45, 72, 50, 66, 57, 75, 74, 62, 77, 78, 42, 71, 49, 79, 68, 46, 56, 48, 67, 47, 52, 64, 69, 76, 60, 63, 55, 59, 53, 51, 73, 41, 44, 61, 43, 65, 54, 70, 40], [79, 63, 76, 67, 65, 45, 59, 53, 78, 73, 62, 70, 54, 57, 41, 66, 58, 40, 77, 68, 56, 60, 71, 50, 46, 52, 74, 72, 75, 64, 44, 51, 42, 47, 43, 61, 49, 55, 69, 48], [74, 70, 54, 53, 45, 51, 47, 72, 79, 40, 77, 64, 42, 60, 69, 59, 68, 67, 71, 73, 46, 63, 50, 52, 76, 43, 75, 55, 62, 57, 49, 65, 48, 41, 58, 56, 61, 78, 44, 66], [62, 71, 47, 67, 59, 44, 73, 72, 60, 52, 70, 40, 55, 56, 65, 75, 57, 53, 58, 42, 51, 54, 79, 45, 66, 68, 49, 69, 63, 78, 74, 61, 76, 77, 64, 43, 50, 46, 48, 41], [69, 68, 44, 43, 55, 59, 79, 61, 66, 65, 78, 63, 50, 42, 52, 51, 46, 70, 62, 64, 57, 45, 53, 75, 74, 58, 48, 67, 77, 72, 54, 41, 49, 60, 47, 76, 56, 40, 71, 73], [73, 57, 53, 60, 70, 77, 64, 45, 54, 51, 62, 68, 58, 71, 67, 43, 75, 52, 49, 61, 76, 50, 47, 66, 74, 69, 79, 44, 41, 55, 65, 42, 78, 63, 56, 40, 59, 72, 46, 48], [62, 57, 56, 78, 76, 48, 40, 52, 77, 42, 54, 68, 53, 50, 65, 51, 64, 58, 41, 79, 43, 69, 44, 61, 71, 49, 63, 47, 59, 73, 70, 72, 67, 45, 46, 74, 75, 60, 55, 66], [76, 41, 48, 70, 64, 58, 68, 55, 74, 52, 65, 63, 40, 46, 69, 78, 61, 45, 59, 54, 56, 53, 42, 49, 43, 66, 51, 47, 75, 57, 67, 71, 60, 77, 79, 62, 44, 73, 50, 72], [44, 75, 46, 63, 66, 45, 67, 79, 62, 71, 42, 48, 40, 54, 78, 59, 53, 58, 50, 49, 51, 68, 56, 69, 47, 43, 73, 74, 60, 52, 76, 55, 70, 61, 77, 64, 57, 65, 72, 41], [47, 64, 45, 70, 74, 71, 75, 65, 66, 79, 41, 50, 58, 44, 72, 63, 48, 51, 68, 73, 61, 43, 67, 42, 46, 62, 77, 76, 49, 40, 53, 55, 60, 52, 59, 54, 78, 69, 57, 56], [50, 76, 42, 74, 56, 48, 70, 57, 62, 52, 73, 44, 53, 65, 45, 49, 47, 78, 54, 41, 59, 67, 71, 63, 61, 60, 46, 58, 69, 43, 40, 55, 79, 64, 75, 68, 77, 51, 72, 66], [46, 76, 56, 43, 75, 48, 51, 55, 49, 68, 61, 44, 78, 71, 45, 79, 41, 47, 58, 54, 66, 42, 73, 63, 64, 59, 50, 65, 40, 74, 69, 67, 62, 60, 77, 72, 52, 53, 70, 57], [62, 43, 52, 50, 70, 54, 57, 46, 78, 68, 41, 59, 51, 48, 42, 66, 45, 65, 56, 69, 55, 63, 53, 74, 76, 58, 40, 73, 77, 72, 47, 44, 75, 60, 61, 79, 67, 49, 64, 71], [43, 67, 58, 74, 45, 40, 53, 44, 65, 61, 55, 50, 66, 60, 79, 78, 57, 49, 47, 51, 70, 42, 56, 46, 72, 52, 69, 75, 48, 41, 76, 68, 62, 54, 73, 63, 77, 64, 71, 59], [41, 53, 50, 75, 61, 66, 58, 44, 62, 78, 65, 46, 63, 57, 67, 56, 79, 43, 49, 68, 54, 73, 77, 72, 40, 48, 55, 74, 45, 47, 42, 64, 60, 69, 70, 51, 76, 71, 59, 52], [66, 52, 51, 77, 54, 61, 75, 43, 76, 55, 67, 64, 44, 73, 74, 58, 49, 68, 63, 56, 48, 42, 60, 69, 47, 45, 72, 71, 57, 78, 79, 59, 41, 70, 65, 46, 62, 53, 40, 50], [53, 42, 68, 57, 67, 50, 63, 72, 71, 40, 52, 65, 69, 76, 49, 73, 60, 66, 61, 77, 59, 47, 45, 54, 46, 55, 64, 41, 78, 74, 56, 51, 48, 70, 43, 58, 62, 75, 44, 79], [65, 73, 42, 67, 51, 49, 56, 68, 46, 53, 45, 70, 50, 43, 74, 62, 52, 71, 41, 61, 57, 66, 75, 55, 48, 40, 78, 47, 58, 69, 79, 60, 54, 44, 63, 64, 59, 76, 77, 72], [78, 68, 50, 74, 65, 76, 64, 54, 67, 48, 70, 49, 58, 59, 71, 52, 43, 79, 66, 40, 56, 46, 57, 41, 55, 62, 63, 51, 75, 77, 42, 61, 45, 60, 69, 53, 72, 47, 73, 44], [66, 77, 73, 53, 50, 62, 58, 45, 44, 67, 49, 59, 79, 74, 54, 69, 61, 60, 46, 70, 55, 40, 51, 76, 65, 41, 64, 75, 48, 43, 63, 72, 52, 78, 68, 57, 56, 47, 71, 42], [55, 74, 40, 75, 56, 67, 73, 47, 48, 78, 69, 45, 52, 79, 77, 42, 68, 65, 54, 72, 63, 64, 51, 61, 58, 41, 53, 76, 44, 49, 57, 50, 59, 43, 60, 66, 62, 46, 71, 70], [76, 54, 64, 60, 49, 43, 63, 51, 48, 70, 69, 41, 59, 68, 42, 57, 45, 55, 52, 62, 46, 74, 79, 58, 53, 78, 75, 72, 67, 56, 73, 50, 44, 61, 66, 40, 71, 47, 77, 65], [56, 65, 69, 60, 75, 76, 53, 67, 78, 57, 63, 74, 40, 45, 42, 43, 79, 49, 72, 47, 77, 41, 70, 51, 58, 52, 73, 66, 48, 44, 54, 55, 62, 46, 64, 68, 71, 50, 59, 61], [48, 51, 62, 49, 69, 43, 78, 41, 50, 46, 45, 73, 74, 77, 57, 58, 42, 59, 70, 64, 40, 66, 55, 75, 53, 54, 52, 76, 44, 65, 63, 71, 61, 72, 79, 47, 60, 67, 56, 68], [50, 69, 71, 63, 42, 45, 75, 43, 54, 40, 48, 74, 76, 61, 64, 51, 65, 78, 47, 79, 52, 59, 44, 57, 72, 73, 49, 68, 56, 55, 41, 58, 60, 67, 46, 66, 62, 77, 70, 53]]\n",
            "PreferGirls =  [[33, 10, 1, 8, 20, 14, 37, 39, 31, 26, 17, 24, 21, 19, 3, 4, 34, 9, 30, 36, 18, 38, 27, 35, 28, 29, 32, 0, 15, 23, 2, 6, 25, 13, 11, 5, 16, 22, 7, 12], [12, 24, 11, 33, 18, 2, 34, 21, 39, 5, 28, 36, 19, 14, 1, 7, 3, 27, 4, 35, 8, 20, 22, 29, 37, 23, 30, 17, 25, 6, 16, 10, 13, 15, 32, 0, 38, 9, 31, 26], [4, 18, 0, 38, 16, 8, 11, 28, 21, 20, 14, 26, 9, 1, 5, 19, 23, 25, 13, 30, 10, 39, 27, 24, 29, 7, 17, 34, 22, 37, 31, 3, 15, 36, 32, 35, 33, 2, 12, 6], [34, 31, 24, 14, 12, 6, 5, 19, 2, 36, 37, 18, 13, 33, 17, 39, 29, 20, 38, 28, 9, 21, 25, 1, 8, 10, 7, 15, 11, 3, 35, 0, 26, 16, 4, 22, 30, 32, 27, 23], [16, 21, 6, 22, 13, 17, 37, 18, 20, 24, 19, 26, 27, 7, 11, 35, 28, 36, 9, 38, 2, 23, 0, 4, 3, 1, 31, 14, 10, 8, 12, 29, 33, 30, 5, 39, 32, 34, 25, 15], [8, 3, 16, 18, 34, 29, 26, 14, 38, 39, 12, 1, 7, 15, 5, 0, 21, 4, 31, 10, 19, 28, 37, 30, 33, 23, 17, 11, 20, 2, 24, 9, 13, 32, 25, 22, 6, 27, 36, 35], [6, 15, 17, 28, 24, 12, 0, 27, 16, 18, 39, 31, 5, 38, 4, 35, 36, 34, 33, 7, 37, 23, 29, 32, 9, 25, 21, 30, 2, 11, 26, 10, 8, 1, 20, 22, 3, 14, 13, 19], [37, 36, 5, 22, 31, 38, 8, 32, 12, 4, 7, 33, 23, 17, 35, 39, 21, 14, 25, 18, 6, 29, 20, 13, 27, 0, 16, 1, 3, 11, 9, 28, 24, 10, 2, 19, 30, 34, 26, 15], [5, 30, 37, 14, 29, 7, 11, 19, 32, 21, 35, 3, 26, 4, 27, 13, 39, 24, 34, 0, 33, 10, 31, 2, 1, 12, 25, 20, 8, 17, 15, 9, 18, 38, 6, 16, 22, 36, 23, 28], [26, 14, 9, 33, 34, 17, 6, 15, 39, 37, 24, 20, 3, 25, 8, 0, 7, 4, 22, 12, 5, 21, 16, 13, 11, 27, 35, 10, 1, 38, 18, 36, 2, 32, 19, 30, 23, 28, 29, 31], [10, 11, 33, 32, 2, 38, 35, 1, 12, 36, 26, 37, 7, 15, 29, 19, 30, 20, 31, 5, 16, 28, 17, 22, 13, 4, 39, 23, 24, 34, 0, 6, 14, 3, 21, 25, 9, 18, 27, 8], [35, 21, 20, 30, 11, 25, 33, 26, 7, 14, 2, 0, 15, 18, 22, 31, 17, 13, 5, 12, 8, 24, 4, 1, 6, 34, 37, 23, 28, 36, 29, 10, 38, 27, 3, 19, 16, 9, 32, 39], [18, 34, 5, 36, 0, 29, 20, 28, 7, 24, 21, 11, 39, 32, 27, 12, 37, 15, 19, 16, 38, 30, 9, 13, 22, 17, 14, 23, 10, 3, 1, 33, 4, 2, 8, 26, 25, 35, 31, 6], [29, 2, 24, 22, 11, 17, 12, 14, 25, 18, 26, 1, 23, 31, 36, 33, 5, 4, 37, 30, 21, 35, 20, 38, 27, 32, 19, 39, 3, 13, 8, 9, 16, 7, 6, 34, 10, 28, 15, 0], [20, 8, 0, 35, 24, 23, 5, 33, 38, 32, 31, 14, 11, 27, 15, 30, 4, 37, 19, 16, 28, 18, 3, 9, 7, 12, 22, 6, 2, 34, 13, 36, 1, 25, 26, 39, 21, 17, 29, 10], [32, 6, 3, 10, 23, 8, 29, 12, 27, 7, 26, 18, 28, 31, 16, 4, 36, 11, 30, 25, 13, 24, 15, 21, 19, 34, 37, 38, 5, 14, 20, 17, 39, 9, 1, 35, 0, 22, 33, 2], [27, 21, 6, 32, 33, 13, 10, 18, 9, 26, 35, 39, 28, 11, 20, 14, 15, 12, 4, 17, 5, 37, 19, 16, 38, 7, 3, 23, 36, 30, 0, 1, 31, 34, 29, 8, 24, 25, 22, 2], [16, 35, 8, 9, 3, 12, 18, 4, 6, 11, 29, 17, 1, 21, 33, 32, 10, 19, 7, 24, 5, 2, 37, 0, 38, 13, 25, 28, 34, 20, 14, 31, 26, 30, 23, 15, 22, 36, 27, 39], [5, 4, 39, 18, 7, 16, 34, 22, 6, 15, 23, 36, 24, 1, 11, 8, 19, 14, 29, 32, 37, 13, 9, 21, 3, 2, 28, 30, 20, 12, 26, 38, 27, 35, 33, 25, 17, 0, 10, 31], [36, 8, 3, 14, 15, 1, 23, 12, 38, 33, 21, 24, 27, 13, 0, 16, 17, 11, 9, 34, 32, 35, 6, 4, 30, 22, 25, 29, 37, 10, 28, 7, 31, 5, 20, 26, 19, 39, 2, 18], [25, 29, 14, 5, 18, 17, 10, 3, 32, 11, 33, 26, 20, 16, 35, 39, 34, 13, 27, 12, 4, 15, 1, 6, 9, 8, 38, 19, 30, 37, 36, 24, 28, 7, 23, 31, 2, 22, 0, 21], [30, 33, 31, 6, 11, 8, 23, 39, 3, 21, 20, 37, 19, 25, 12, 9, 15, 28, 34, 5, 36, 35, 22, 10, 7, 18, 32, 2, 16, 1, 27, 0, 13, 14, 24, 26, 29, 4, 38, 17], [29, 38, 32, 28, 36, 3, 1, 9, 13, 22, 5, 4, 23, 37, 24, 2, 15, 14, 35, 0, 39, 12, 26, 27, 34, 17, 25, 10, 30, 33, 21, 16, 7, 8, 6, 11, 20, 19, 31, 18], [24, 28, 38, 39, 34, 19, 11, 23, 2, 9, 14, 37, 15, 17, 26, 0, 18, 29, 25, 1, 22, 13, 16, 35, 5, 12, 27, 20, 31, 4, 21, 8, 36, 33, 30, 10, 7, 32, 6, 3], [11, 7, 0, 23, 30, 32, 39, 31, 10, 9, 4, 15, 5, 28, 26, 37, 16, 12, 29, 8, 18, 22, 34, 24, 20, 17, 1, 21, 13, 38, 14, 25, 27, 33, 2, 36, 6, 35, 19, 3], [34, 29, 6, 37, 22, 10, 3, 5, 18, 15, 13, 12, 35, 32, 19, 24, 28, 0, 20, 31, 4, 25, 2, 21, 30, 14, 36, 16, 11, 26, 17, 23, 39, 27, 33, 1, 9, 38, 8, 7], [25, 17, 16, 1, 20, 37, 39, 8, 13, 19, 15, 12, 10, 27, 21, 31, 18, 38, 30, 29, 36, 2, 35, 4, 11, 23, 0, 34, 33, 9, 24, 22, 5, 7, 32, 26, 6, 14, 3, 28], [38, 39, 31, 17, 36, 33, 7, 13, 20, 37, 18, 29, 34, 6, 8, 22, 10, 19, 32, 3, 15, 1, 28, 12, 4, 9, 27, 0, 14, 5, 35, 11, 26, 23, 25, 2, 30, 21, 16, 24], [26, 30, 19, 39, 29, 14, 31, 16, 27, 37, 36, 28, 24, 2, 11, 12, 9, 35, 33, 17, 25, 3, 38, 22, 10, 8, 15, 4, 5, 18, 20, 7, 1, 13, 21, 32, 23, 6, 34, 0], [25, 28, 5, 27, 2, 14, 4, 15, 10, 18, 38, 31, 16, 22, 34, 19, 11, 32, 36, 26, 23, 12, 13, 9, 24, 6, 39, 7, 37, 17, 20, 35, 29, 33, 30, 1, 8, 21, 3, 0], [24, 0, 9, 4, 3, 5, 18, 19, 39, 35, 22, 13, 29, 30, 38, 21, 7, 25, 34, 31, 20, 28, 37, 23, 2, 12, 10, 6, 8, 11, 26, 36, 16, 1, 32, 14, 33, 17, 27, 15], [0, 8, 28, 35, 36, 21, 33, 22, 24, 11, 17, 5, 29, 7, 19, 30, 3, 2, 20, 32, 27, 38, 10, 26, 18, 15, 23, 34, 4, 12, 39, 31, 13, 1, 37, 16, 14, 6, 9, 25], [0, 31, 11, 14, 20, 26, 35, 16, 30, 38, 23, 37, 15, 10, 24, 4, 27, 6, 32, 9, 36, 13, 25, 18, 5, 1, 17, 19, 29, 33, 7, 3, 2, 28, 39, 21, 22, 34, 12, 8], [34, 38, 11, 15, 35, 37, 5, 24, 27, 32, 21, 7, 1, 3, 6, 31, 13, 26, 22, 16, 29, 36, 19, 9, 10, 14, 12, 2, 4, 8, 0, 39, 25, 23, 28, 17, 18, 20, 30, 33], [7, 8, 18, 4, 20, 2, 0, 10, 32, 36, 31, 24, 35, 3, 16, 19, 22, 29, 6, 25, 12, 21, 33, 23, 17, 28, 26, 15, 13, 14, 37, 30, 27, 39, 1, 11, 5, 9, 38, 34], [17, 8, 22, 31, 33, 24, 35, 3, 28, 0, 39, 23, 15, 2, 27, 32, 9, 21, 34, 12, 19, 14, 6, 16, 5, 20, 38, 25, 37, 26, 36, 18, 7, 29, 13, 30, 1, 10, 11, 4], [13, 9, 16, 30, 2, 25, 8, 31, 23, 17, 34, 1, 11, 15, 38, 12, 19, 4, 5, 37, 33, 27, 22, 7, 3, 32, 36, 26, 21, 24, 6, 35, 20, 39, 28, 18, 14, 10, 29, 0], [3, 4, 24, 25, 11, 1, 2, 32, 39, 26, 16, 20, 12, 15, 9, 14, 34, 29, 28, 7, 17, 18, 22, 30, 13, 0, 21, 36, 37, 5, 19, 33, 27, 35, 8, 38, 23, 10, 31, 6], [6, 10, 8, 32, 28, 39, 12, 2, 23, 20, 21, 33, 36, 35, 9, 1, 24, 31, 38, 5, 15, 7, 22, 4, 25, 34, 17, 18, 27, 11, 14, 26, 13, 29, 19, 0, 37, 16, 30, 3], [37, 0, 14, 32, 5, 9, 1, 29, 25, 38, 11, 19, 27, 4, 28, 15, 35, 13, 34, 2, 12, 31, 8, 23, 30, 22, 18, 20, 24, 21, 36, 39, 10, 26, 33, 7, 6, 17, 3, 16]]\n",
            "Woman   Man\n",
            "40 \t 1\n",
            "41 \t 11\n",
            "42 \t 14\n",
            "43 \t 5\n",
            "44 \t 28\n",
            "45 \t 16\n",
            "46 \t 4\n",
            "47 \t 12\n",
            "48 \t 26\n",
            "49 \t 25\n",
            "50 \t 32\n",
            "51 \t 0\n",
            "52 \t 27\n",
            "53 \t 29\n",
            "54 \t 23\n",
            "55 \t 35\n",
            "56 \t 6\n",
            "57 \t 21\n",
            "58 \t 7\n",
            "59 \t 36\n",
            "60 \t 17\n",
            "61 \t 3\n",
            "62 \t 38\n",
            "63 \t 39\n",
            "64 \t 22\n",
            "65 \t 37\n",
            "66 \t 30\n",
            "67 \t 31\n",
            "68 \t 19\n",
            "69 \t 10\n",
            "70 \t 24\n",
            "71 \t 18\n",
            "72 \t 15\n",
            "73 \t 34\n",
            "74 \t 2\n",
            "75 \t 8\n",
            "76 \t 13\n",
            "77 \t 20\n",
            "78 \t 33\n",
            "79 \t 9\n",
            "CPU times: user 3 µs, sys: 0 ns, total: 3 µs\n",
            "Wall time: 7.15 µs\n"
          ],
          "name": "stdout"
        }
      ]
    },
    {
      "cell_type": "markdown",
      "metadata": {
        "id": "1ah1DuNHvPie"
      },
      "source": [
        "# 2) Run the Gale-Shapley Algorithm 100 times using random permutations as preference lists for n=4 and 40. Find the minimum, maximum and average number of iterations and plot the distribution of the number of iterations."
      ]
    },
    {
      "cell_type": "code",
      "metadata": {
        "id": "UKqIXTwSzegn"
      },
      "source": [
        "N = 4\n",
        "def wPrefersM1OverM(prefer, w, m, m1):   \n",
        "    for i in range(N):\n",
        "        if (prefer[w][i] == m1): \n",
        "            return True\n",
        "        if (prefer[w][i] == m): \n",
        "            return False\n",
        "\n",
        "def stableMarriage(prefer):   \n",
        "    wPartner = [-1 for i in range(N)]   \n",
        "    mFree = [False for i in range(N)]   \n",
        "    freeCount = N\n",
        "    iterator=0  \n",
        "    while (freeCount > 0):\n",
        "        iterator+=1\n",
        "        m = 0\n",
        "        while (m < N): \n",
        "            if (mFree[m] == False): \n",
        "                break\n",
        "            m += 1\n",
        "        i = 0\n",
        "        while i < N and mFree[m] == False: \n",
        "            w = prefer[m][i] \n",
        "            if (wPartner[w - N] == -1): \n",
        "                wPartner[w - N] = m \n",
        "                mFree[m] = True\n",
        "                freeCount -= 1  \n",
        "            else:              \n",
        "                m1 = wPartner[w - N] \n",
        "                if (wPrefersM1OverM(prefer, w, m, m1) == False): \n",
        "                    wPartner[w - N] = m \n",
        "                    mFree[m] = True\n",
        "                    mFree[m1] = False\n",
        "            i += 1\n",
        "    return iterator"
      ],
      "execution_count": 13,
      "outputs": []
    },
    {
      "cell_type": "code",
      "metadata": {
        "colab": {
          "base_uri": "https://localhost:8080/"
        },
        "id": "5lI-myHUzrr7",
        "outputId": "6282f7b8-ce2d-4cbb-d6a6-833afe03abb1"
      },
      "source": [
        "from random import sample\n",
        "\n",
        "N=4\n",
        "man = range(0,4)\n",
        "woman=range(4,8)\n",
        "iterator=[]\n",
        "mean=0\n",
        "for i in range(100):\n",
        "  preferBoys = [sample(woman,k=4),sample(woman,k=4),sample(woman,k=4),sample(woman,k=4)]\n",
        "  \n",
        "  preferGirls = [sample(man,k=4),sample(man,k=4),sample(man,k=4),sample(man,k=4)]  \n",
        "  a=stableMarriage(preferBoys+preferGirls)\n",
        "  mean+=a\n",
        "  iterator.append(a) \n",
        "  \n",
        "iterator.sort()\n",
        "print(iterator)\n",
        "print(mean/100)\n",
        "\n",
        "N=40\n",
        "man = range(0,40)\n",
        "woman=range(40,80)\n",
        "iterator2=[]\n",
        "mean2=0\n",
        "for i in range(100):\n",
        "  preferBoys = [sample(woman,k=40),sample(woman,k=40),sample(woman,k=40),sample(woman,k=40),sample(woman,k=40),sample(woman,k=40),sample(woman,k=40),sample(woman,k=40),sample(woman,k=40),sample(woman,k=40),sample(woman,k=40),sample(woman,k=40),sample(woman,k=40),sample(woman,k=40),sample(woman,k=40),sample(woman,k=40),sample(woman,k=40),sample(woman,k=40),sample(woman,k=40),sample(woman,k=40),sample(woman,k=40),sample(woman,k=40),sample(woman,k=40),sample(woman,k=40),sample(woman,k=40),sample(woman,k=40),sample(woman,k=40),sample(woman,k=40),sample(woman,k=40),sample(woman,k=40),sample(woman,k=40),sample(woman,k=40),sample(woman,k=40),sample(woman,k=40),sample(woman,k=40),sample(woman,k=40),sample(woman,k=40),sample(woman,k=40),sample(woman,k=40),sample(woman,k=40)]\n",
        "  preferGirls = [sample(man,k=40),sample(man,k=40),sample(man,k=40),sample(man,k=40),sample(man,k=40),sample(man,k=40),sample(man,k=40),sample(man,k=40),sample(man,k=40),sample(man,k=40),sample(man,k=40),sample(man,k=40),sample(man,k=40),sample(man,k=40),sample(man,k=40),sample(man,k=40),sample(man,k=40),sample(man,k=40),sample(man,k=40),sample(man,k=40),sample(man,k=40),sample(man,k=40),sample(man,k=40),sample(man,k=40),sample(man,k=40),sample(man,k=40),sample(man,k=40),sample(man,k=40),sample(man,k=40),sample(man,k=40),sample(man,k=40),sample(man,k=40),sample(man,k=40),sample(man,k=40),sample(man,k=40),sample(man,k=40),sample(man,k=40),sample(man,k=40),sample(man,k=40),sample(man,k=40)]\n",
        "  a2=stableMarriage(preferBoys+preferGirls)\n",
        "  mean2+=a2\n",
        "  iterator2.append(a2) \n",
        "  \n",
        "iterator2.sort()\n",
        "print(iterator2)\n",
        "print(mean2/100)"
      ],
      "execution_count": 61,
      "outputs": [
        {
          "output_type": "stream",
          "text": [
            "[4, 4, 4, 4, 4, 4, 4, 4, 4, 4, 4, 4, 4, 4, 4, 4, 4, 4, 4, 4, 4, 4, 4, 4, 4, 4, 4, 4, 4, 5, 5, 5, 5, 5, 5, 5, 5, 5, 5, 5, 5, 5, 5, 5, 5, 5, 5, 5, 5, 5, 5, 5, 5, 5, 5, 5, 5, 5, 5, 5, 5, 5, 5, 5, 5, 5, 5, 5, 5, 5, 5, 5, 5, 6, 6, 6, 6, 6, 6, 6, 6, 6, 6, 6, 6, 6, 6, 6, 6, 6, 6, 6, 6, 7, 7, 7, 7, 7, 7, 7]\n",
            "5.05\n",
            "[54, 56, 56, 59, 59, 60, 61, 62, 64, 64, 64, 65, 65, 66, 68, 68, 68, 68, 69, 70, 70, 70, 70, 70, 70, 70, 70, 70, 70, 71, 71, 71, 72, 72, 72, 72, 72, 72, 73, 73, 73, 74, 75, 75, 75, 76, 76, 77, 77, 77, 77, 77, 78, 78, 78, 78, 79, 79, 79, 79, 80, 80, 81, 81, 82, 82, 82, 83, 83, 83, 83, 84, 84, 84, 85, 85, 85, 85, 86, 86, 87, 87, 88, 88, 88, 89, 89, 90, 90, 93, 94, 95, 96, 96, 98, 99, 100, 100, 102, 109]\n",
            "77.66\n"
          ],
          "name": "stdout"
        }
      ]
    },
    {
      "cell_type": "code",
      "metadata": {
        "colab": {
          "base_uri": "https://localhost:8080/",
          "height": 298
        },
        "id": "IMSzaILC8K2j",
        "outputId": "8ea6029b-9b19-49b8-8e9c-78c9f118736b"
      },
      "source": [
        "import matplotlib.pyplot as plt\n",
        "\n",
        "plt.title('N=4')\n",
        "plt.hist(iterator, bins =9, alpha=1, edgecolor = 'black',  linewidth=1)\n",
        "#plt.grid(True)\n",
        "plt.show()\n",
        "print(\"Mean = \",mean/100)\n"
      ],
      "execution_count": 73,
      "outputs": [
        {
          "output_type": "display_data",
          "data": {
            "image/png": "[encoded data removed]",
            "text/plain": [
              "<Figure size 432x288 with 1 Axes>"
            ]
          },
          "metadata": {
            "tags": [],
            "needs_background": "light"
          }
        },
        {
          "output_type": "stream",
          "text": [
            "Mean =  5.05\n"
          ],
          "name": "stdout"
        }
      ]
    },
    {
      "cell_type": "code",
      "metadata": {
        "colab": {
          "base_uri": "https://localhost:8080/",
          "height": 298
        },
        "id": "pJajXZUkMtT4",
        "outputId": "9d54157b-f1c3-4e3f-8e95-3d65ae90f6f2"
      },
      "source": [
        "import matplotlib.pyplot as plt\n",
        "\n",
        "plt.title('N=40')\n",
        "plt.hist(iterator2 ,bins =25,alpha=1, edgecolor = 'black',  linewidth=1)\n",
        "#plt.grid(True)\n",
        "plt.show()\n",
        "print(\"Mean = \",mean2/100)\n"
      ],
      "execution_count": 72,
      "outputs": [
        {
          "output_type": "display_data",
          "data": {
            "image/png": "[encoded data removed]",
            "text/plain": [
              "<Figure size 432x288 with 1 Axes>"
            ]
          },
          "metadata": {
            "tags": [],
            "needs_background": "light"
          }
        },
        {
          "output_type": "stream",
          "text": [
            "Mean =  77.66\n"
          ],
          "name": "stdout"
        }
      ]
    }
  ]
}