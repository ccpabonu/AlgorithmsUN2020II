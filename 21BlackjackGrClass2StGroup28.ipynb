{
  "nbformat": 4,
  "nbformat_minor": 0,
  "metadata": {
    "colab": {
      "name": "21BlackjackGrClass28StGroup2.ipynb",
      "provenance": [],
      "collapsed_sections": [],
      "toc_visible": true
    },
    "kernelspec": {
      "name": "python3",
      "display_name": "Python 3"
    }
  },
  "cells": [
    {
      "cell_type": "markdown",
      "metadata": {
        "id": "1HnaxxVi1alW",
        "colab_type": "text"
      },
      "source": [
        "#**Lab 4:**  *Monte Carlo – 21 Blackjack*\n",
        "\n",
        "**Integrantes:** Kevin Leonardo Alvarez Mora, Brayan Rolando Jr Portela Cabrera, Christian Camilo Pabon Useche\n",
        "**Grupo:** 2 - 28"
      ]
    },
    {
      "cell_type": "code",
      "metadata": {
        "id": "oU1lVOP7zuIh",
        "colab_type": "code",
        "colab": {}
      },
      "source": [
        "import numpy as np \n",
        "import math\n",
        "import random as r\n",
        "import matplotlib.pyplot as plt\n",
        "import pandas as pd\n",
        "%matplotlib inline"
      ],
      "execution_count": 1,
      "outputs": []
    },
    {
      "cell_type": "markdown",
      "metadata": {
        "id": "47L8hq5j2eNy",
        "colab_type": "text"
      },
      "source": [
        "### Punto 1: \n",
        "**Calcule la probabilidad de obtener 21, sacando cartas secuencialmente a partir de una baraja española de 48 cartas barajadas con los siguientes valores :**\n",
        "[1,2,3,4,5,6,7,10,11,12,1,2,3,4,5,6,7,8,9,10,11,12,1,2,3 , 4,5,6,7,8,9,10,11,12,1,2,3,4,5,6,7,8,9,10,11,12]\n",
        "\n",
        "---\n",
        "\n",
        "**Calcule la probabilidad de obtener 21, sacando cartas secuencialmente a partir de una baraja de Poker de 52 cartas barajadas con los siguientes valores:**\n",
        "[1,2,3,4,5,6,7,8,9,10,11,12,13,1,2,3,4,5,6,7,8,9,10,11,12 , 13,1,2,3,4,5,6,7,8,9,10,11,12,13,1,2,3,4,5,6,7,8,9,10,11 , 12,13].\n",
        "\n",
        "---\n",
        "\n",
        "**Grafique la distribución experimental de los números de cartas necesarios para completar 21 en 10000 pruebas.**"
      ]
    },
    {
      "cell_type": "code",
      "metadata": {
        "id": "zqDk9I9Oz7HB",
        "colab_type": "code",
        "colab": {
          "base_uri": "https://localhost:8080/",
          "height": 362
        },
        "outputId": "746062f7-47f6-4e3a-cc43-73e6faaea55b"
      },
      "source": [
        "#1) Baraja española de 48 cartas\n",
        "cardCounter=[]\n",
        "succsessCounter=[]\n",
        "j = 0   \n",
        "c = 0 \n",
        "f=0\n",
        "failureCounter=[]\n",
        "cardCount=0\n",
        "while j <= 100000:\n",
        "  i = 0\n",
        "  nSdeck = [1,2,3,4,5,6,7,10,11,12,1,2,3,4,5,6,7,10,11,12,1,2,3,4,5,6,7,10,11,12,1,2,3,4,5,6,7,10,11,12]\n",
        "  cardCount=0\n",
        "  while i < 21:\n",
        "    rand = r.randrange(len(nSdeck)) # toma un valor aleatorio en el mazo\n",
        "    i += nSdeck[rand]\n",
        "    nSdeck.remove(nSdeck[rand]) # quita la carta de la baraja\n",
        "    cardCount+=1\n",
        "  if i == 21:\n",
        "    c +=1\n",
        "    cardCounter.append(cardCount)\n",
        "    succsessCounter.append(c)\n",
        "  if i!=21:\n",
        "    f+=1\n",
        "    failureCounter.append(f)\n",
        "  j+=1\n",
        "\n",
        "print(\"Cantidad de 21 obtenidos:\" ,c)\n",
        "print(\"Probabilidad de obtener 21 en 100000 intentos\",c/j)\n",
        "data = pd.DataFrame({'numero de cartas': cardCounter, '21 Exitos': succsessCounter})\n",
        "\n",
        "data.groupby('numero de cartas').count()\n"
      ],
      "execution_count": 2,
      "outputs": [
        {
          "output_type": "stream",
          "text": [
            "Cantidad de 21 obtenidos: 15987\n",
            "Probabilidad de obtener 21 en 100000 intentos 0.15986840131598684\n"
          ],
          "name": "stdout"
        },
        {
          "output_type": "execute_result",
          "data": {
            "text/html": [
              "<div>\n",
              "<style scoped>\n",
              "    .dataframe tbody tr th:only-of-type {\n",
              "        vertical-align: middle;\n",
              "    }\n",
              "\n",
              "    .dataframe tbody tr th {\n",
              "        vertical-align: top;\n",
              "    }\n",
              "\n",
              "    .dataframe thead th {\n",
              "        text-align: right;\n",
              "    }\n",
              "</style>\n",
              "<table border=\"1\" class=\"dataframe\">\n",
              "  <thead>\n",
              "    <tr style=\"text-align: right;\">\n",
              "      <th></th>\n",
              "      <th>21 Exitos</th>\n",
              "    </tr>\n",
              "    <tr>\n",
              "      <th>numero de cartas</th>\n",
              "      <th></th>\n",
              "    </tr>\n",
              "  </thead>\n",
              "  <tbody>\n",
              "    <tr>\n",
              "      <th>2</th>\n",
              "      <td>1986</td>\n",
              "    </tr>\n",
              "    <tr>\n",
              "      <th>3</th>\n",
              "      <td>4990</td>\n",
              "    </tr>\n",
              "    <tr>\n",
              "      <th>4</th>\n",
              "      <td>5320</td>\n",
              "    </tr>\n",
              "    <tr>\n",
              "      <th>5</th>\n",
              "      <td>2615</td>\n",
              "    </tr>\n",
              "    <tr>\n",
              "      <th>6</th>\n",
              "      <td>853</td>\n",
              "    </tr>\n",
              "    <tr>\n",
              "      <th>7</th>\n",
              "      <td>201</td>\n",
              "    </tr>\n",
              "    <tr>\n",
              "      <th>8</th>\n",
              "      <td>19</td>\n",
              "    </tr>\n",
              "    <tr>\n",
              "      <th>9</th>\n",
              "      <td>3</td>\n",
              "    </tr>\n",
              "  </tbody>\n",
              "</table>\n",
              "</div>"
            ],
            "text/plain": [
              "                  21 Exitos\n",
              "numero de cartas           \n",
              "2                      1986\n",
              "3                      4990\n",
              "4                      5320\n",
              "5                      2615\n",
              "6                       853\n",
              "7                       201\n",
              "8                        19\n",
              "9                         3"
            ]
          },
          "metadata": {
            "tags": []
          },
          "execution_count": 2
        }
      ]
    },
    {
      "cell_type": "code",
      "metadata": {
        "id": "He6gpyfTCkbT",
        "colab_type": "code",
        "colab": {
          "base_uri": "https://localhost:8080/",
          "height": 853
        },
        "outputId": "723314d3-3dcb-4e3c-d731-69dd1971944b"
      },
      "source": [
        "data.groupby('numero de cartas').count().plot()\n",
        "data.groupby('numero de cartas').count().plot.bar()\n",
        "data.hist(bins=8)"
      ],
      "execution_count": 3,
      "outputs": [
        {
          "output_type": "execute_result",
          "data": {
            "text/plain": [
              "array([[<matplotlib.axes._subplots.AxesSubplot object at 0x7ff4c6065a58>,\n",
              "        <matplotlib.axes._subplots.AxesSubplot object at 0x7ff4c60189e8>]],\n",
              "      dtype=object)"
            ]
          },
          "metadata": {
            "tags": []
          },
          "execution_count": 3
        },
        {
          "output_type": "display_data",
          "data": {
            "image/png": "[encoded data removed]",
            "text/plain": [
              "<Figure size 432x288 with 1 Axes>"
            ]
          },
          "metadata": {
            "tags": [],
            "needs_background": "light"
          }
        },
        {
          "output_type": "display_data",
          "data": {
            "image/png": "[encoded data removed]",
            "text/plain": [
              "<Figure size 432x288 with 1 Axes>"
            ]
          },
          "metadata": {
            "tags": [],
            "needs_background": "light"
          }
        },
        {
          "output_type": "display_data",
          "data": {
            "image/png": "[encoded data removed]",
            "text/plain": [
              "<Figure size 432x288 with 2 Axes>"
            ]
          },
          "metadata": {
            "tags": [],
            "needs_background": "light"
          }
        }
      ]
    },
    {
      "cell_type": "code",
      "metadata": {
        "id": "4xxw9uOf9D1k",
        "colab_type": "code",
        "colab": {
          "base_uri": "https://localhost:8080/",
          "height": 362
        },
        "outputId": "f4a591dd-abb1-49cf-f374-cff208d734f0"
      },
      "source": [
        "#1)Baraja de Poker de 52 cartas\n",
        "cardCounter2=[]\n",
        "succsessCounter2=[]\n",
        "j2 = 0   \n",
        "c2 = 0 \n",
        "cardCount2=0\n",
        "while j2 <= 100000:\n",
        "  i2 = 0\n",
        "  nSdeck2 = [1,2,3,4,5,6,7,8,9,10,11,12,13,1,2,3,4,5,6,7,8,9,10,11,12,13,1,2,3,4,5,6,7,8,9,10,11,12,13,1,2,3,4,5,6,7,8,9,10,11,12,13]\n",
        "  cardCount2=0\n",
        "  while i2 < 21:\n",
        "    rand2 = r.randrange(len(nSdeck2)) # toma un valor aleatorio en el mazo\n",
        "    i2 += nSdeck2[rand2]\n",
        "    nSdeck2.remove(nSdeck2[rand2]) # quita la carta de la baraja\n",
        "    cardCount2+=1\n",
        "  if i2 == 21:\n",
        "    c2 +=1\n",
        "    cardCounter2.append(cardCount2)\n",
        "    succsessCounter2.append(c2)\n",
        "  \n",
        "  j2+=1\n",
        "\n",
        "print(\"Cantidad de 21 obtenidos POKER:\" ,c2)\n",
        "print(\"Probabilidad de obtener 21 en 100000 intentos Poker\",c2/j2)\n",
        "data2 = pd.DataFrame({'numero de cartas': cardCounter2, '21 Exitos': succsessCounter2})\n",
        "\n",
        "data2.groupby('numero de cartas').count()\n",
        "\n"
      ],
      "execution_count": 4,
      "outputs": [
        {
          "output_type": "stream",
          "text": [
            "Cantidad de 21 obtenidos POKER: 14562\n",
            "Probabilidad de obtener 21 en 100000 intentos Poker 0.14561854381456185\n"
          ],
          "name": "stdout"
        },
        {
          "output_type": "execute_result",
          "data": {
            "text/html": [
              "<div>\n",
              "<style scoped>\n",
              "    .dataframe tbody tr th:only-of-type {\n",
              "        vertical-align: middle;\n",
              "    }\n",
              "\n",
              "    .dataframe tbody tr th {\n",
              "        vertical-align: top;\n",
              "    }\n",
              "\n",
              "    .dataframe thead th {\n",
              "        text-align: right;\n",
              "    }\n",
              "</style>\n",
              "<table border=\"1\" class=\"dataframe\">\n",
              "  <thead>\n",
              "    <tr style=\"text-align: right;\">\n",
              "      <th></th>\n",
              "      <th>21 Exitos</th>\n",
              "    </tr>\n",
              "    <tr>\n",
              "      <th>numero de cartas</th>\n",
              "      <th></th>\n",
              "    </tr>\n",
              "  </thead>\n",
              "  <tbody>\n",
              "    <tr>\n",
              "      <th>2</th>\n",
              "      <td>3683</td>\n",
              "    </tr>\n",
              "    <tr>\n",
              "      <th>3</th>\n",
              "      <td>5812</td>\n",
              "    </tr>\n",
              "    <tr>\n",
              "      <th>4</th>\n",
              "      <td>3623</td>\n",
              "    </tr>\n",
              "    <tr>\n",
              "      <th>5</th>\n",
              "      <td>1156</td>\n",
              "    </tr>\n",
              "    <tr>\n",
              "      <th>6</th>\n",
              "      <td>255</td>\n",
              "    </tr>\n",
              "    <tr>\n",
              "      <th>7</th>\n",
              "      <td>27</td>\n",
              "    </tr>\n",
              "    <tr>\n",
              "      <th>8</th>\n",
              "      <td>5</td>\n",
              "    </tr>\n",
              "    <tr>\n",
              "      <th>9</th>\n",
              "      <td>1</td>\n",
              "    </tr>\n",
              "  </tbody>\n",
              "</table>\n",
              "</div>"
            ],
            "text/plain": [
              "                  21 Exitos\n",
              "numero de cartas           \n",
              "2                      3683\n",
              "3                      5812\n",
              "4                      3623\n",
              "5                      1156\n",
              "6                       255\n",
              "7                        27\n",
              "8                         5\n",
              "9                         1"
            ]
          },
          "metadata": {
            "tags": []
          },
          "execution_count": 4
        }
      ]
    },
    {
      "cell_type": "code",
      "metadata": {
        "id": "moO_hUsyCdvd",
        "colab_type": "code",
        "colab": {
          "base_uri": "https://localhost:8080/",
          "height": 854
        },
        "outputId": "9dc6741e-768a-41ee-e466-87b2b4cea418"
      },
      "source": [
        "data2.groupby('numero de cartas').count().plot()\n",
        "data2.groupby('numero de cartas').count().plot.bar()\n",
        "data2.hist(bins=8)"
      ],
      "execution_count": 5,
      "outputs": [
        {
          "output_type": "execute_result",
          "data": {
            "text/plain": [
              "array([[<matplotlib.axes._subplots.AxesSubplot object at 0x7ff4c59a8358>,\n",
              "        <matplotlib.axes._subplots.AxesSubplot object at 0x7ff4c5950f28>]],\n",
              "      dtype=object)"
            ]
          },
          "metadata": {
            "tags": []
          },
          "execution_count": 5
        },
        {
          "output_type": "display_data",
          "data": {
            "image/png": "[encoded data removed]",
            "text/plain": [
              "<Figure size 432x288 with 1 Axes>"
            ]
          },
          "metadata": {
            "tags": [],
            "needs_background": "light"
          }
        },
        {
          "output_type": "display_data",
          "data": {
            "image/png": "[encoded data removed]",
            "text/plain": [
              "<Figure size 432x288 with 1 Axes>"
            ]
          },
          "metadata": {
            "tags": [],
            "needs_background": "light"
          }
        },
        {
          "output_type": "display_data",
          "data": {
            "image/png": "[encoded data removed]",
            "text/plain": [
              "<Figure size 432x288 with 2 Axes>"
            ]
          },
          "metadata": {
            "tags": [],
            "needs_background": "light"
          }
        }
      ]
    },
    {
      "cell_type": "markdown",
      "metadata": {
        "id": "Gzp9W26e5OAp",
        "colab_type": "text"
      },
      "source": [
        "###Punto 2:\n",
        "***Calcule la probabilidad de obtener 21 sacando cartas secuencialmente a partir de una baraja española de 48 cartas, barajada con valores de cartas:***\n",
        "[1,2,3,4,5,6,7,8,9,10,10,10,1,2,3,4,5,6,7,8,9,10,10,10,1,2,3,4,5,6,7,8,9,10,10,10,1,2,3,4,5,6,7,8,9,10,10,10] \n",
        "\n",
        "---\n",
        "\n",
        "***Calcule la probabilidad de obtener 21 sacando cartas secuencialmente a partir de una baraja de póker de 52 cartas, barajada con valores de cartas:***[1,2,3,4,5,6,7,8,9,10,10,10,10,1, 2,3,4,5,6,7,8,9,10,10,10,10,1,2,3,4,5,6,7,8,9,10,10,10,10, 1,2,3,4,5,6,7,8,9,10,10,10,10] \n",
        "\n",
        "*Para las barajas de cartas de español y póker grafique la distribución experimental de los números de tarjeta necesarios para completar __21 en 10000 simulaciones__.*"
      ]
    },
    {
      "cell_type": "code",
      "metadata": {
        "id": "HuI7EJ6G-Obt",
        "colab_type": "code",
        "colab": {
          "base_uri": "https://localhost:8080/",
          "height": 331
        },
        "outputId": "84f98bea-2bdd-4ad1-af66-e516d6dd2c6b"
      },
      "source": [
        "#2)Segundo Punto Baraja Española Modificada \n",
        "cardCounterESP2=[]\n",
        "succsessCounterESP2=[]\n",
        "jESP2 = 0   \n",
        "cESP2 = 0 \n",
        "cardCountESP2=0\n",
        "while jESP2 <= 100000:\n",
        "  iESP2 = 0\n",
        "  nSdeckESP2 = [1,2,3,4,5,6,7,8,9,10,10,10,1,2,3,4,5,6,7,8,9,10,10,10,1,2,3,4,5,6,7,8,9,10,10,10,1,2,3,4,5,6,7,8,9,10,10,10]\n",
        "  cardCountESP2=0\n",
        "  while iESP2 < 21:\n",
        "    randESP2 = r.randrange(len(nSdeckESP2)) # toma un valor aleatorio en el mazo\n",
        "    iESP2 += nSdeckESP2[randESP2]\n",
        "    nSdeckESP2.remove(nSdeckESP2[randESP2]) # quita la carta de la baraja\n",
        "    cardCountESP2+=1\n",
        "  if iESP2 == 21:\n",
        "    cESP2 +=1\n",
        "    cardCounterESP2.append(cardCountESP2)\n",
        "    succsessCounterESP2.append(cESP2)\n",
        "  \n",
        "  jESP2+=1\n",
        "\n",
        "print(\"Cantidad de 21 obtenidos ESPAÑOLA PUNTO 2:\" ,cESP2)\n",
        "print(\"Probabilidad de obtener 21 en 100000 intentos Poker\",cESP2/jESP2)\n",
        "dataESP2 = pd.DataFrame({'numero de cartas': cardCounterESP2, '21 Exitos': succsessCounterESP2})\n",
        "dataESP2.groupby('numero de cartas').count()\n",
        "\n"
      ],
      "execution_count": 6,
      "outputs": [
        {
          "output_type": "stream",
          "text": [
            "Cantidad de 21 obtenidos ESPAÑOLA PUNTO 2: 14860\n",
            "Probabilidad de obtener 21 en 100000 intentos Poker 0.14859851401485985\n"
          ],
          "name": "stdout"
        },
        {
          "output_type": "execute_result",
          "data": {
            "text/html": [
              "<div>\n",
              "<style scoped>\n",
              "    .dataframe tbody tr th:only-of-type {\n",
              "        vertical-align: middle;\n",
              "    }\n",
              "\n",
              "    .dataframe tbody tr th {\n",
              "        vertical-align: top;\n",
              "    }\n",
              "\n",
              "    .dataframe thead th {\n",
              "        text-align: right;\n",
              "    }\n",
              "</style>\n",
              "<table border=\"1\" class=\"dataframe\">\n",
              "  <thead>\n",
              "    <tr style=\"text-align: right;\">\n",
              "      <th></th>\n",
              "      <th>21 Exitos</th>\n",
              "    </tr>\n",
              "    <tr>\n",
              "      <th>numero de cartas</th>\n",
              "      <th></th>\n",
              "    </tr>\n",
              "  </thead>\n",
              "  <tbody>\n",
              "    <tr>\n",
              "      <th>3</th>\n",
              "      <td>7487</td>\n",
              "    </tr>\n",
              "    <tr>\n",
              "      <th>4</th>\n",
              "      <td>4994</td>\n",
              "    </tr>\n",
              "    <tr>\n",
              "      <th>5</th>\n",
              "      <td>1865</td>\n",
              "    </tr>\n",
              "    <tr>\n",
              "      <th>6</th>\n",
              "      <td>437</td>\n",
              "    </tr>\n",
              "    <tr>\n",
              "      <th>7</th>\n",
              "      <td>70</td>\n",
              "    </tr>\n",
              "    <tr>\n",
              "      <th>8</th>\n",
              "      <td>6</td>\n",
              "    </tr>\n",
              "    <tr>\n",
              "      <th>9</th>\n",
              "      <td>1</td>\n",
              "    </tr>\n",
              "  </tbody>\n",
              "</table>\n",
              "</div>"
            ],
            "text/plain": [
              "                  21 Exitos\n",
              "numero de cartas           \n",
              "3                      7487\n",
              "4                      4994\n",
              "5                      1865\n",
              "6                       437\n",
              "7                        70\n",
              "8                         6\n",
              "9                         1"
            ]
          },
          "metadata": {
            "tags": []
          },
          "execution_count": 6
        }
      ]
    },
    {
      "cell_type": "code",
      "metadata": {
        "id": "UnqCYblVCzOM",
        "colab_type": "code",
        "colab": {
          "base_uri": "https://localhost:8080/",
          "height": 853
        },
        "outputId": "887f01da-1727-4e32-e05e-2ca3bdbe897c"
      },
      "source": [
        "dataESP2.groupby('numero de cartas').count().plot()\n",
        "dataESP2.groupby('numero de cartas').count().plot.bar()\n",
        "dataESP2.hist(bins=8)"
      ],
      "execution_count": 7,
      "outputs": [
        {
          "output_type": "execute_result",
          "data": {
            "text/plain": [
              "array([[<matplotlib.axes._subplots.AxesSubplot object at 0x7ff4c5775588>,\n",
              "        <matplotlib.axes._subplots.AxesSubplot object at 0x7ff4c5721c88>]],\n",
              "      dtype=object)"
            ]
          },
          "metadata": {
            "tags": []
          },
          "execution_count": 7
        },
        {
          "output_type": "display_data",
          "data": {
            "image/png": "[encoded data removed]",
            "text/plain": [
              "<Figure size 432x288 with 1 Axes>"
            ]
          },
          "metadata": {
            "tags": [],
            "needs_background": "light"
          }
        },
        {
          "output_type": "display_data",
          "data": {
            "image/png": "[encoded data removed]",
            "text/plain": [
              "<Figure size 432x288 with 1 Axes>"
            ]
          },
          "metadata": {
            "tags": [],
            "needs_background": "light"
          }
        },
        {
          "output_type": "display_data",
          "data": {
            "image/png": "[encoded data removed]",
            "text/plain": [
              "<Figure size 432x288 with 2 Axes>"
            ]
          },
          "metadata": {
            "tags": [],
            "needs_background": "light"
          }
        }
      ]
    },
    {
      "cell_type": "code",
      "metadata": {
        "id": "7fSfGa9bAbot",
        "colab_type": "code",
        "colab": {
          "base_uri": "https://localhost:8080/",
          "height": 300
        },
        "outputId": "a44ca72f-0a53-4c70-89a7-a22a669962f6"
      },
      "source": [
        "#2)Segundo Punto Baraja de Poker Modificada\n",
        "cardCounterPOKER2=[]\n",
        "succsessCounterPOKER2=[]\n",
        "jPOKER2 = 0   \n",
        "cPOKER2 = 0 \n",
        "cardCountPOKER2=0\n",
        "while jPOKER2 <= 100000:\n",
        "  iPOKER2 = 0\n",
        "  nSdeckPOKER2 = [1,2,3,4,5,6,7,8,9,10,10,10,10,1,2,3,4,5,6,7,8,9,10,10,10,10,1,2,3,4,5,6,7,8,9,10,10,10,10,1,2,3,4,5,6,7,8,9,10,10,10,10]\n",
        "  cardCountPOKER2=0\n",
        "  while iPOKER2 < 21:\n",
        "    randPOKER2 = r.randrange(len(nSdeckPOKER2)) # toma un valor aleatorio en el mazo\n",
        "    iPOKER2 += nSdeckPOKER2[randPOKER2]\n",
        "    nSdeckPOKER2.remove(nSdeckPOKER2[randPOKER2]) # quita la carta de la baraja\n",
        "    cardCountPOKER2+=1\n",
        "  if iPOKER2 == 21:\n",
        "    cPOKER2 +=1\n",
        "    cardCounterPOKER2.append(cardCountPOKER2)\n",
        "    succsessCounterPOKER2.append(cPOKER2)\n",
        "  \n",
        "  jPOKER2+=1\n",
        "\n",
        "print(\"Cantidad de 21 obtenidos POKER PUNTO 2:\" ,cPOKER2)\n",
        "print(\"Probabilidad de obtener 21 en 100000 intentos Poker\",cPOKER2/jPOKER2)\n",
        "dataPOKER2 = pd.DataFrame({'Numero de cartas': cardCounterPOKER2, '21 Obtenidos': succsessCounterPOKER2})\n",
        "dataPOKER2.groupby('Numero de cartas').count()\n"
      ],
      "execution_count": 8,
      "outputs": [
        {
          "output_type": "stream",
          "text": [
            "Cantidad de 21 obtenidos POKER PUNTO 2: 14006\n",
            "Probabilidad de obtener 21 en 100000 intentos Poker 0.14005859941400586\n"
          ],
          "name": "stdout"
        },
        {
          "output_type": "execute_result",
          "data": {
            "text/html": [
              "<div>\n",
              "<style scoped>\n",
              "    .dataframe tbody tr th:only-of-type {\n",
              "        vertical-align: middle;\n",
              "    }\n",
              "\n",
              "    .dataframe tbody tr th {\n",
              "        vertical-align: top;\n",
              "    }\n",
              "\n",
              "    .dataframe thead th {\n",
              "        text-align: right;\n",
              "    }\n",
              "</style>\n",
              "<table border=\"1\" class=\"dataframe\">\n",
              "  <thead>\n",
              "    <tr style=\"text-align: right;\">\n",
              "      <th></th>\n",
              "      <th>21 Obtenidos</th>\n",
              "    </tr>\n",
              "    <tr>\n",
              "      <th>Numero de cartas</th>\n",
              "      <th></th>\n",
              "    </tr>\n",
              "  </thead>\n",
              "  <tbody>\n",
              "    <tr>\n",
              "      <th>3</th>\n",
              "      <td>7954</td>\n",
              "    </tr>\n",
              "    <tr>\n",
              "      <th>4</th>\n",
              "      <td>4328</td>\n",
              "    </tr>\n",
              "    <tr>\n",
              "      <th>5</th>\n",
              "      <td>1406</td>\n",
              "    </tr>\n",
              "    <tr>\n",
              "      <th>6</th>\n",
              "      <td>275</td>\n",
              "    </tr>\n",
              "    <tr>\n",
              "      <th>7</th>\n",
              "      <td>40</td>\n",
              "    </tr>\n",
              "    <tr>\n",
              "      <th>8</th>\n",
              "      <td>3</td>\n",
              "    </tr>\n",
              "  </tbody>\n",
              "</table>\n",
              "</div>"
            ],
            "text/plain": [
              "                  21 Obtenidos\n",
              "Numero de cartas              \n",
              "3                         7954\n",
              "4                         4328\n",
              "5                         1406\n",
              "6                          275\n",
              "7                           40\n",
              "8                            3"
            ]
          },
          "metadata": {
            "tags": []
          },
          "execution_count": 8
        }
      ]
    },
    {
      "cell_type": "code",
      "metadata": {
        "id": "_pdelvwuC7th",
        "colab_type": "code",
        "colab": {
          "base_uri": "https://localhost:8080/",
          "height": 853
        },
        "outputId": "a3eef76e-ffe5-4764-bb2e-480d1eee094f"
      },
      "source": [
        "dataPOKER2.groupby('Numero de cartas').count().plot()\n",
        "dataPOKER2.groupby('Numero de cartas').count().plot.bar()\n",
        "dataPOKER2.hist(bins=8)"
      ],
      "execution_count": 9,
      "outputs": [
        {
          "output_type": "execute_result",
          "data": {
            "text/plain": [
              "array([[<matplotlib.axes._subplots.AxesSubplot object at 0x7ff4c5532160>,\n",
              "        <matplotlib.axes._subplots.AxesSubplot object at 0x7ff4c54d8cc0>]],\n",
              "      dtype=object)"
            ]
          },
          "metadata": {
            "tags": []
          },
          "execution_count": 9
        },
        {
          "output_type": "display_data",
          "data": {
            "image/png": "[encoded data removed]",
            "text/plain": [
              "<Figure size 432x288 with 1 Axes>"
            ]
          },
          "metadata": {
            "tags": [],
            "needs_background": "light"
          }
        },
        {
          "output_type": "display_data",
          "data": {
            "image/png": "[encoded data removed]",
            "text/plain": [
              "<Figure size 432x288 with 1 Axes>"
            ]
          },
          "metadata": {
            "tags": [],
            "needs_background": "light"
          }
        },
        {
          "output_type": "display_data",
          "data": {
            "image/png": "[encoded data removed]",
            "text/plain": [
              "<Figure size 432x288 with 2 Axes>"
            ]
          },
          "metadata": {
            "tags": [],
            "needs_background": "light"
          }
        }
      ]
    },
    {
      "cell_type": "markdown",
      "metadata": {
        "id": "bDALNOsJ9eom",
        "colab_type": "text"
      },
      "source": [
        "###Punto 3:\n",
        "**C**alcule la probabilidad de sacar un 21, con la baraja de cartas de español y póquer, asumiendo que está en la mitad del juego y la baraja restante tiene **_n/2**_ cartas y tienes las cartas [7,7,5].\n",
        "\n",
        "Elija arbitrariamente qué cartas hay en el mazo restante con la única restricción de que **hay un máximo de dos 7 y tres 5**. Grafique la distribución experimental de los números de cartas necesarios para **completar 21 en 10000 simulaciones**."
      ]
    },
    {
      "cell_type": "code",
      "metadata": {
        "id": "xmK2MPZ2AbpH",
        "colab_type": "code",
        "colab": {
          "base_uri": "https://localhost:8080/",
          "height": 176
        },
        "outputId": "a606f9e8-6fad-4bc9-b6ed-c7a5d6ee6994"
      },
      "source": [
        "#3a) Media baraja española partida simetricamente\n",
        "cardCounterESP3=[]\n",
        "succsessCounterESP3=[]\n",
        "jESP3 = 0   \n",
        "cESP3 = 0 \n",
        "scsESP3 = []\n",
        "cardCountESP3=0\n",
        "while jESP3 <= 100000:\n",
        "  iESP3 = 19\n",
        "  nSdeckESP3 = [1,2,3,4,5,6,7,8,9,10,11,12,13,1,2,3,4,5,6,7,8,9,10,11,12,13]\n",
        "  handESP3 = [7,7,5]\n",
        "  cardCountESP3=0\n",
        "  while iESP3 < 21:\n",
        "    randESP3 = r.randrange(len(nSdeckESP3)) # toma un valor aleatorio en el mazo\n",
        "    iESP3 += nSdeckESP3[randESP3]\n",
        "    handESP3.append(nSdeckESP3[randESP3])\n",
        "    nSdeckESP3.remove(nSdeckESP3[randESP3]) # quita la carta de la baraja\n",
        "    cardCountESP3+=1\n",
        "  if iESP3 == 21:\n",
        "    cESP3 +=1\n",
        "    scsESP3.append(len(handESP3))\n",
        "    cardCounterESP3.append(cardCountESP3)\n",
        "    succsessCounterESP3.append(cESP3)\n",
        "  jESP3+=1\n",
        "\n",
        "print(\"Cantidad de 21 obtenidos:\" ,cESP3)\n",
        "print(\"Probabilidad de obtener 21 en 10000 intentos\",cESP3/jESP3)\n",
        "\n",
        "dataESP3 = pd.DataFrame({'numero de cartas': cardCounterESP3, '21 Exitos': succsessCounterESP3})\n",
        "dataESP3.groupby('numero de cartas').count()"
      ],
      "execution_count": 10,
      "outputs": [
        {
          "output_type": "stream",
          "text": [
            "Cantidad de 21 obtenidos: 7967\n",
            "Probabilidad de obtener 21 en 10000 intentos 0.07966920330796692\n"
          ],
          "name": "stdout"
        },
        {
          "output_type": "execute_result",
          "data": {
            "text/html": [
              "<div>\n",
              "<style scoped>\n",
              "    .dataframe tbody tr th:only-of-type {\n",
              "        vertical-align: middle;\n",
              "    }\n",
              "\n",
              "    .dataframe tbody tr th {\n",
              "        vertical-align: top;\n",
              "    }\n",
              "\n",
              "    .dataframe thead th {\n",
              "        text-align: right;\n",
              "    }\n",
              "</style>\n",
              "<table border=\"1\" class=\"dataframe\">\n",
              "  <thead>\n",
              "    <tr style=\"text-align: right;\">\n",
              "      <th></th>\n",
              "      <th>21 Exitos</th>\n",
              "    </tr>\n",
              "    <tr>\n",
              "      <th>numero de cartas</th>\n",
              "      <th></th>\n",
              "    </tr>\n",
              "  </thead>\n",
              "  <tbody>\n",
              "    <tr>\n",
              "      <th>1</th>\n",
              "      <td>7677</td>\n",
              "    </tr>\n",
              "    <tr>\n",
              "      <th>2</th>\n",
              "      <td>290</td>\n",
              "    </tr>\n",
              "  </tbody>\n",
              "</table>\n",
              "</div>"
            ],
            "text/plain": [
              "                  21 Exitos\n",
              "numero de cartas           \n",
              "1                      7677\n",
              "2                       290"
            ]
          },
          "metadata": {
            "tags": []
          },
          "execution_count": 10
        }
      ]
    },
    {
      "cell_type": "code",
      "metadata": {
        "id": "18wSlPgI6bOu",
        "colab_type": "code",
        "colab": {
          "base_uri": "https://localhost:8080/",
          "height": 858
        },
        "outputId": "74f9c39c-1bcc-4458-bc3d-68ff527006b9"
      },
      "source": [
        "dataESP3.groupby('numero de cartas').count().plot()\n",
        "dataESP3.groupby('numero de cartas').count().plot.bar()\n",
        "dataESP3.hist(bins=5)"
      ],
      "execution_count": 11,
      "outputs": [
        {
          "output_type": "execute_result",
          "data": {
            "text/plain": [
              "array([[<matplotlib.axes._subplots.AxesSubplot object at 0x7ff4c5554160>,\n",
              "        <matplotlib.axes._subplots.AxesSubplot object at 0x7ff4c576b160>]],\n",
              "      dtype=object)"
            ]
          },
          "metadata": {
            "tags": []
          },
          "execution_count": 11
        },
        {
          "output_type": "display_data",
          "data": {
            "image/png": "[encoded data removed]",
            "text/plain": [
              "<Figure size 432x288 with 1 Axes>"
            ]
          },
          "metadata": {
            "tags": [],
            "needs_background": "light"
          }
        },
        {
          "output_type": "display_data",
          "data": {
            "image/png": "[encoded data removed]",
            "text/plain": [
              "<Figure size 432x288 with 1 Axes>"
            ]
          },
          "metadata": {
            "tags": [],
            "needs_background": "light"
          }
        },
        {
          "output_type": "display_data",
          "data": {
            "image/png": "[encoded data removed]",
            "text/plain": [
              "<Figure size 432x288 with 2 Axes>"
            ]
          },
          "metadata": {
            "tags": [],
            "needs_background": "light"
          }
        }
      ]
    },
    {
      "cell_type": "code",
      "metadata": {
        "id": "tpZacPMdCWNM",
        "colab_type": "code",
        "colab": {
          "base_uri": "https://localhost:8080/",
          "height": 501
        },
        "outputId": "49ce89e2-bc63-4f7b-acb4-f4377049a448"
      },
      "source": [
        "#3b)Media baraja española con seleccion aleatoria y restricciones\n",
        "\n",
        "#otra opcion del 3)\n",
        "\n",
        "\n",
        "\n",
        "j = 0   \n",
        "c = 0 \n",
        "scs = []\n",
        "cardCounterESP3B=[]\n",
        "succsessCounterESP3B=[]\n",
        "cardCountESP3B=0\n",
        "while j <= 10000:\n",
        "  nSdeck =[1,2,3,4,5,6,8,9,10,11,12,1,2,3,4,5,6,8,9,10,11,12,1,2,3,4,6,7,8,9,10,11,12,1,2,3,4,5,6,7,8,9,10,11,12]\n",
        "  hand = [7,7,5]\n",
        "  i=19\n",
        "  for k in range(0,21):\n",
        "    rand = r.randrange(len(nSdeck))# toma un valor aleatorio en el mazo\n",
        "    nSdeck.remove(nSdeck[rand]) # quita la carta de la baraja \n",
        "    cardCountESP3B+=1\n",
        "  while i < 21:\n",
        "    rand = r.randrange(len(nSdeck)) \n",
        "    i += nSdeck[rand]\n",
        "    hand.append(nSdeck[rand])\n",
        "    nSdeck.remove(nSdeck[rand]) # quita la carta de la baraja\n",
        "  if i == 21:\n",
        "    c +=1\n",
        "    scs.append(len(hand))\n",
        "    cardCounterESP3B.append(cardCountESP3B)\n",
        "    succsessCounterESP3B.append(c)\n",
        "  j+=1\n",
        "\n",
        "\n",
        "\n",
        "print(\"Cantidad de 21 obtenidos:\" ,c)\n",
        "print(\"Probabilidad de obtener 21 en 100000 intentos\",c/j)\n",
        "print(\"Media de cartas\",np.mean(scs))\n",
        "dataESP3B = pd.DataFrame({'numero de cartas': cardCounterESP3B, '21 Exitos': succsessCounterESP3B})\n",
        "dataESP3B.groupby('numero de cartas').count()"
      ],
      "execution_count": 12,
      "outputs": [
        {
          "output_type": "stream",
          "text": [
            "Cantidad de 21 obtenidos: 945\n",
            "Probabilidad de obtener 21 en 100000 intentos 0.09449055094490551\n",
            "Media de cartas 4.055026455026455\n"
          ],
          "name": "stdout"
        },
        {
          "output_type": "execute_result",
          "data": {
            "text/html": [
              "<div>\n",
              "<style scoped>\n",
              "    .dataframe tbody tr th:only-of-type {\n",
              "        vertical-align: middle;\n",
              "    }\n",
              "\n",
              "    .dataframe tbody tr th {\n",
              "        vertical-align: top;\n",
              "    }\n",
              "\n",
              "    .dataframe thead th {\n",
              "        text-align: right;\n",
              "    }\n",
              "</style>\n",
              "<table border=\"1\" class=\"dataframe\">\n",
              "  <thead>\n",
              "    <tr style=\"text-align: right;\">\n",
              "      <th></th>\n",
              "      <th>21 Exitos</th>\n",
              "    </tr>\n",
              "    <tr>\n",
              "      <th>numero de cartas</th>\n",
              "      <th></th>\n",
              "    </tr>\n",
              "  </thead>\n",
              "  <tbody>\n",
              "    <tr>\n",
              "      <th>42</th>\n",
              "      <td>1</td>\n",
              "    </tr>\n",
              "    <tr>\n",
              "      <th>294</th>\n",
              "      <td>1</td>\n",
              "    </tr>\n",
              "    <tr>\n",
              "      <th>336</th>\n",
              "      <td>1</td>\n",
              "    </tr>\n",
              "    <tr>\n",
              "      <th>441</th>\n",
              "      <td>1</td>\n",
              "    </tr>\n",
              "    <tr>\n",
              "      <th>609</th>\n",
              "      <td>1</td>\n",
              "    </tr>\n",
              "    <tr>\n",
              "      <th>...</th>\n",
              "      <td>...</td>\n",
              "    </tr>\n",
              "    <tr>\n",
              "      <th>209181</th>\n",
              "      <td>1</td>\n",
              "    </tr>\n",
              "    <tr>\n",
              "      <th>209349</th>\n",
              "      <td>1</td>\n",
              "    </tr>\n",
              "    <tr>\n",
              "      <th>209517</th>\n",
              "      <td>1</td>\n",
              "    </tr>\n",
              "    <tr>\n",
              "      <th>209727</th>\n",
              "      <td>1</td>\n",
              "    </tr>\n",
              "    <tr>\n",
              "      <th>209874</th>\n",
              "      <td>1</td>\n",
              "    </tr>\n",
              "  </tbody>\n",
              "</table>\n",
              "<p>945 rows × 1 columns</p>\n",
              "</div>"
            ],
            "text/plain": [
              "                  21 Exitos\n",
              "numero de cartas           \n",
              "42                        1\n",
              "294                       1\n",
              "336                       1\n",
              "441                       1\n",
              "609                       1\n",
              "...                     ...\n",
              "209181                    1\n",
              "209349                    1\n",
              "209517                    1\n",
              "209727                    1\n",
              "209874                    1\n",
              "\n",
              "[945 rows x 1 columns]"
            ]
          },
          "metadata": {
            "tags": []
          },
          "execution_count": 12
        }
      ]
    },
    {
      "cell_type": "code",
      "metadata": {
        "id": "2I96vNaB7Tzs",
        "colab_type": "code",
        "colab": {
          "base_uri": "https://localhost:8080/",
          "height": 885
        },
        "outputId": "f8187f03-d3da-4267-b8cb-4a55af07b653"
      },
      "source": [
        "dataESP3B.groupby('numero de cartas').count().plot()\n",
        "dataESP3B.groupby('numero de cartas').count().plot.bar()\n",
        "dataESP3B.hist(bins=5)"
      ],
      "execution_count": 13,
      "outputs": [
        {
          "output_type": "execute_result",
          "data": {
            "text/plain": [
              "array([[<matplotlib.axes._subplots.AxesSubplot object at 0x7ff4c4500ac8>,\n",
              "        <matplotlib.axes._subplots.AxesSubplot object at 0x7ff4c44b8630>]],\n",
              "      dtype=object)"
            ]
          },
          "metadata": {
            "tags": []
          },
          "execution_count": 13
        },
        {
          "output_type": "display_data",
          "data": {
            "image/png": "[encoded data removed]",
            "text/plain": [
              "<Figure size 432x288 with 1 Axes>"
            ]
          },
          "metadata": {
            "tags": [],
            "needs_background": "light"
          }
        },
        {
          "output_type": "display_data",
          "data": {
            "image/png": "[encoded data removed]",
            "text/plain": [
              "<Figure size 432x288 with 1 Axes>"
            ]
          },
          "metadata": {
            "tags": [],
            "needs_background": "light"
          }
        },
        {
          "output_type": "display_data",
          "data": {
            "image/png": "[encoded data removed]",
            "text/plain": [
              "<Figure size 432x288 with 2 Axes>"
            ]
          },
          "metadata": {
            "tags": [],
            "needs_background": "light"
          }
        }
      ]
    },
    {
      "cell_type": "markdown",
      "metadata": {
        "id": "WAzBrv7WCpK2",
        "colab_type": "text"
      },
      "source": [
        "**Distribucion de Poker bajo los mismos parametros:**"
      ]
    },
    {
      "cell_type": "code",
      "metadata": {
        "id": "XkwID-hHC2gA",
        "colab_type": "code",
        "colab": {
          "base_uri": "https://localhost:8080/",
          "height": 176
        },
        "outputId": "90b6a629-ac58-4ce7-a59f-703585ef2fee"
      },
      "source": [
        "#3a) Media baraja de Poker partida simetricamente\n",
        "cardCounterPOKER3=[]\n",
        "succsessCounterPOKER3=[]\n",
        "jPOKER3 = 0   \n",
        "cPOKER3 = 0 \n",
        "scsPOKER3 = []\n",
        "cardCountPOKER2=0\n",
        "while jPOKER3 <= 100000:\n",
        "  iPOKER3 = 19\n",
        "  nSdeckPOKER3 = [1,2,3,4,5,6,7,8,9,10,11,12,13,1,2,3,4,5,6,7,8,9,10,11,12,13]\n",
        "  handPOKER3 = [7,7,5]\n",
        "  cardCountPOKER3=0\n",
        "  while iPOKER3 < 21:\n",
        "    randPOKER3 = r.randrange(len(nSdeckPOKER3)) # toma un valor aleatorio en el mazo\n",
        "    iPOKER3 += nSdeckPOKER3[randPOKER3]\n",
        "    handPOKER3.append(nSdeckPOKER3[randPOKER3])\n",
        "    nSdeckPOKER3.remove(nSdeckPOKER3[randPOKER3]) # quita la carta de la baraja\n",
        "    cardCountPOKER3+=1\n",
        "  if iPOKER3 == 21:\n",
        "    cPOKER3 +=1\n",
        "    scsPOKER3.append(len(handPOKER3))\n",
        "    cardCounterPOKER3.append(cardCountPOKER3)\n",
        "    succsessCounterPOKER3.append(cPOKER3)\n",
        "  jPOKER3+=1\n",
        "\n",
        "print(\"Cantidad de 21 obtenidos:\" ,cPOKER3)\n",
        "print(\"Probabilidad de obtener 21 en 10000 intentos\",cPOKER3/jPOKER3)\n",
        "\n",
        "dataPOKER3 = pd.DataFrame({'numero de cartas': cardCounterPOKER3, '21 Exitos': succsessCounterPOKER3})\n",
        "dataPOKER3.groupby('numero de cartas').count()"
      ],
      "execution_count": 14,
      "outputs": [
        {
          "output_type": "stream",
          "text": [
            "Cantidad de 21 obtenidos: 7972\n",
            "Probabilidad de obtener 21 en 10000 intentos 0.07971920280797191\n"
          ],
          "name": "stdout"
        },
        {
          "output_type": "execute_result",
          "data": {
            "text/html": [
              "<div>\n",
              "<style scoped>\n",
              "    .dataframe tbody tr th:only-of-type {\n",
              "        vertical-align: middle;\n",
              "    }\n",
              "\n",
              "    .dataframe tbody tr th {\n",
              "        vertical-align: top;\n",
              "    }\n",
              "\n",
              "    .dataframe thead th {\n",
              "        text-align: right;\n",
              "    }\n",
              "</style>\n",
              "<table border=\"1\" class=\"dataframe\">\n",
              "  <thead>\n",
              "    <tr style=\"text-align: right;\">\n",
              "      <th></th>\n",
              "      <th>21 Exitos</th>\n",
              "    </tr>\n",
              "    <tr>\n",
              "      <th>numero de cartas</th>\n",
              "      <th></th>\n",
              "    </tr>\n",
              "  </thead>\n",
              "  <tbody>\n",
              "    <tr>\n",
              "      <th>1</th>\n",
              "      <td>7665</td>\n",
              "    </tr>\n",
              "    <tr>\n",
              "      <th>2</th>\n",
              "      <td>307</td>\n",
              "    </tr>\n",
              "  </tbody>\n",
              "</table>\n",
              "</div>"
            ],
            "text/plain": [
              "                  21 Exitos\n",
              "numero de cartas           \n",
              "1                      7665\n",
              "2                       307"
            ]
          },
          "metadata": {
            "tags": []
          },
          "execution_count": 14
        }
      ]
    },
    {
      "cell_type": "code",
      "metadata": {
        "id": "0l2A8yxh6p6E",
        "colab_type": "code",
        "colab": {
          "base_uri": "https://localhost:8080/",
          "height": 858
        },
        "outputId": "31a40b96-ee9c-4952-bf65-9344f0f632bf"
      },
      "source": [
        "dataPOKER3.groupby('numero de cartas').count().plot()\n",
        "dataPOKER3.groupby('numero de cartas').count().plot.bar()\n",
        "dataPOKER3.hist(bins=5)"
      ],
      "execution_count": 15,
      "outputs": [
        {
          "output_type": "execute_result",
          "data": {
            "text/plain": [
              "array([[<matplotlib.axes._subplots.AxesSubplot object at 0x7ff4c405e2b0>,\n",
              "        <matplotlib.axes._subplots.AxesSubplot object at 0x7ff4c3ffb668>]],\n",
              "      dtype=object)"
            ]
          },
          "metadata": {
            "tags": []
          },
          "execution_count": 15
        },
        {
          "output_type": "display_data",
          "data": {
            "image/png": "[encoded data removed]",
            "text/plain": [
              "<Figure size 432x288 with 1 Axes>"
            ]
          },
          "metadata": {
            "tags": [],
            "needs_background": "light"
          }
        },
        {
          "output_type": "display_data",
          "data": {
            "image/png": "[encoded data removed]",
            "text/plain": [
              "<Figure size 432x288 with 1 Axes>"
            ]
          },
          "metadata": {
            "tags": [],
            "needs_background": "light"
          }
        },
        {
          "output_type": "display_data",
          "data": {
            "image/png": "[encoded data removed]",
            "text/plain": [
              "<Figure size 432x288 with 2 Axes>"
            ]
          },
          "metadata": {
            "tags": [],
            "needs_background": "light"
          }
        }
      ]
    },
    {
      "cell_type": "code",
      "metadata": {
        "id": "6wv3AhO2DBhI",
        "colab_type": "code",
        "colab": {
          "base_uri": "https://localhost:8080/",
          "height": 501
        },
        "outputId": "3a1952d1-d33f-4211-a8f8-7a377e0abb4d"
      },
      "source": [
        "#3b)Media baraja de poker con seleccion aleatoria y restricciones\n",
        "\n",
        "j = 0   \n",
        "c = 0 \n",
        "scs = []\n",
        "cardCounterPOKER3B=[]\n",
        "succsessCounterPOKER3B=[]\n",
        "cardCountPOKER3B=0\n",
        "while j <= 10000:\n",
        "  nSdeck =[1,2,3,4,5,6,8,9,10,11,12,13,1,2,3,4,5,6,8,9,10,11,12,13,1,2,3,4,6,7,8,9,10,11,12,13,1,2,3,4,5,6,7,8,9,10,11,12,13]\n",
        "  hand = [7,7,5]\n",
        "  i=19\n",
        "  for k in range(0,21):\n",
        "    rand = r.randrange(len(nSdeck))# toma un valor aleatorio en el mazo\n",
        "    nSdeck.remove(nSdeck[rand]) # quita la carta de la baraja \n",
        "  while i < 21:\n",
        "    rand = r.randrange(len(nSdeck)) \n",
        "    i += nSdeck[rand]\n",
        "    hand.append(nSdeck[rand])\n",
        "    nSdeck.remove(nSdeck[rand]) # quita la carta de la baraja\n",
        "    cardCountPOKER3B+=1\n",
        "  if i == 21:\n",
        "    c +=1\n",
        "    scs.append(len(hand))\n",
        "    cardCounterPOKER3B.append(cardCountPOKER3B)\n",
        "    succsessCounterPOKER3B.append(c)\n",
        "  j+=1\n",
        "\n",
        "\n",
        "\n",
        "print(\"Cantidad de 21 obtenidos:\" ,c)\n",
        "print(\"Probabilidad de obtener 21 en 100000 intentos\",c/j)\n",
        "print(\"Media de cartas\",np.mean(scs))\n",
        "dataPOKER3B = pd.DataFrame({'numero de cartas': cardCounterPOKER3B, '21 Exitos': succsessCounterPOKER3B})\n",
        "dataPOKER3B.groupby('numero de cartas').count()"
      ],
      "execution_count": 16,
      "outputs": [
        {
          "output_type": "stream",
          "text": [
            "Cantidad de 21 obtenidos: 886\n",
            "Probabilidad de obtener 21 en 100000 intentos 0.08859114088591141\n",
            "Media de cartas 4.058690744920993\n"
          ],
          "name": "stdout"
        },
        {
          "output_type": "execute_result",
          "data": {
            "text/html": [
              "<div>\n",
              "<style scoped>\n",
              "    .dataframe tbody tr th:only-of-type {\n",
              "        vertical-align: middle;\n",
              "    }\n",
              "\n",
              "    .dataframe tbody tr th {\n",
              "        vertical-align: top;\n",
              "    }\n",
              "\n",
              "    .dataframe thead th {\n",
              "        text-align: right;\n",
              "    }\n",
              "</style>\n",
              "<table border=\"1\" class=\"dataframe\">\n",
              "  <thead>\n",
              "    <tr style=\"text-align: right;\">\n",
              "      <th></th>\n",
              "      <th>21 Exitos</th>\n",
              "    </tr>\n",
              "    <tr>\n",
              "      <th>numero de cartas</th>\n",
              "      <th></th>\n",
              "    </tr>\n",
              "  </thead>\n",
              "  <tbody>\n",
              "    <tr>\n",
              "      <th>10</th>\n",
              "      <td>1</td>\n",
              "    </tr>\n",
              "    <tr>\n",
              "      <th>27</th>\n",
              "      <td>1</td>\n",
              "    </tr>\n",
              "    <tr>\n",
              "      <th>38</th>\n",
              "      <td>1</td>\n",
              "    </tr>\n",
              "    <tr>\n",
              "      <th>58</th>\n",
              "      <td>1</td>\n",
              "    </tr>\n",
              "    <tr>\n",
              "      <th>102</th>\n",
              "      <td>1</td>\n",
              "    </tr>\n",
              "    <tr>\n",
              "      <th>...</th>\n",
              "      <td>...</td>\n",
              "    </tr>\n",
              "    <tr>\n",
              "      <th>10747</th>\n",
              "      <td>1</td>\n",
              "    </tr>\n",
              "    <tr>\n",
              "      <th>10757</th>\n",
              "      <td>1</td>\n",
              "    </tr>\n",
              "    <tr>\n",
              "      <th>10794</th>\n",
              "      <td>1</td>\n",
              "    </tr>\n",
              "    <tr>\n",
              "      <th>10796</th>\n",
              "      <td>1</td>\n",
              "    </tr>\n",
              "    <tr>\n",
              "      <th>10798</th>\n",
              "      <td>1</td>\n",
              "    </tr>\n",
              "  </tbody>\n",
              "</table>\n",
              "<p>886 rows × 1 columns</p>\n",
              "</div>"
            ],
            "text/plain": [
              "                  21 Exitos\n",
              "numero de cartas           \n",
              "10                        1\n",
              "27                        1\n",
              "38                        1\n",
              "58                        1\n",
              "102                       1\n",
              "...                     ...\n",
              "10747                     1\n",
              "10757                     1\n",
              "10794                     1\n",
              "10796                     1\n",
              "10798                     1\n",
              "\n",
              "[886 rows x 1 columns]"
            ]
          },
          "metadata": {
            "tags": []
          },
          "execution_count": 16
        }
      ]
    },
    {
      "cell_type": "code",
      "metadata": {
        "id": "KIvlfmGK8N2P",
        "colab_type": "code",
        "colab": {
          "base_uri": "https://localhost:8080/",
          "height": 878
        },
        "outputId": "ac7f83a1-9836-40ca-9d7e-92aae327cacc"
      },
      "source": [
        "dataPOKER3B.groupby('numero de cartas').count().plot()\n",
        "dataPOKER3B.groupby('numero de cartas').count().plot.bar()\n",
        "dataPOKER3B.hist(bins=5)"
      ],
      "execution_count": 17,
      "outputs": [
        {
          "output_type": "execute_result",
          "data": {
            "text/plain": [
              "array([[<matplotlib.axes._subplots.AxesSubplot object at 0x7ff4c4b6c6a0>,\n",
              "        <matplotlib.axes._subplots.AxesSubplot object at 0x7ff4c4ae1080>]],\n",
              "      dtype=object)"
            ]
          },
          "metadata": {
            "tags": []
          },
          "execution_count": 17
        },
        {
          "output_type": "display_data",
          "data": {
            "image/png": "[encoded data removed]",
            "text/plain": [
              "<Figure size 432x288 with 1 Axes>"
            ]
          },
          "metadata": {
            "tags": [],
            "needs_background": "light"
          }
        },
        {
          "output_type": "display_data",
          "data": {
            "image/png": "[encoded data removed]",
            "text/plain": [
              "<Figure size 432x288 with 1 Axes>"
            ]
          },
          "metadata": {
            "tags": [],
            "needs_background": "light"
          }
        },
        {
          "output_type": "display_data",
          "data": {
            "image/png": "[encoded data removed]",
            "text/plain": [
              "<Figure size 432x288 with 2 Axes>"
            ]
          },
          "metadata": {
            "tags": [],
            "needs_background": "light"
          }
        }
      ]
    },
    {
      "cell_type": "markdown",
      "metadata": {
        "id": "595Y1tZmDSqO",
        "colab_type": "text"
      },
      "source": [
        "Resulta que sin importar la distribucion de las cartas en la barja las probabilidades convergen a los mismos valores, ya que con base en lo que tenemos en la mano necesitamos solo 2 cartas posibles **Un 2 o Dos 1** asi que la probabilidad de sar estas cartas es la que determina la probabilidad de exito. **Por ende se discrimina el resto de la baraja**"
      ]
    },
    {
      "cell_type": "markdown",
      "metadata": {
        "id": "onCRHdTjm5BF",
        "colab_type": "text"
      },
      "source": [
        "###Punto 4:\n",
        "\n",
        "**E**ncuentre los mazos restantes para los mazos de cartas españolas y de póquer, con el número de cartas de acuerdo con la lista a continuación, con la probabilidad más alta (mazo caliente) y la más baja (mazo frío) de obtener 21 suponiendo que tenga cartas [7,7,5]. \n",
        "\n",
        "**C**alcular las probabilidades analíticamente y verificarlas con Montecarlo. Trace la distribución experimental de los números de tarjeta necesarios para completar 21 en 10000 simulaciones.\n",
        "\n",
        "\n",
        "*   12 cartas restantes\n",
        "*   10 cartas restantes\n",
        "\n",
        "\n"
      ]
    },
    {
      "cell_type": "markdown",
      "metadata": {
        "id": "W20Bh7Wn_o9Q",
        "colab_type": "text"
      },
      "source": [
        "####Decks de Poker"
      ]
    },
    {
      "cell_type": "markdown",
      "metadata": {
        "id": "EYkDr8f1AF0z",
        "colab_type": "text"
      },
      "source": [
        "#####Decks de 10 cartas"
      ]
    },
    {
      "cell_type": "markdown",
      "metadata": {
        "id": "NkhOyZBP8_X0",
        "colab_type": "text"
      },
      "source": [
        "**Analiticamente:** Para el hot deck utilizado para la baraja de poker, la probabilidad de obtener un 21 se basa en la probbabilidad de sacar una carta o combinacion de cartas que sumados den 21, en este mazo en particular tenemos:\n",
        "\n",
        "hotdeck = [2, 2, 9, 2, 11, 7, 1, 4, 10, 1]\n",
        "\n",
        "**S=** Obtener una carta que sumada con la mano de 21.\n",
        "\n",
        "**D=** Probabilidad de obtener un 2 en el hot deck.\n",
        "\n",
        "**U=** Probabilidad de obtener un uno en el hot deck.\n",
        "\n",
        "**U_n=** Probabilidad de obtener un uno en el hot deck despues de haber sacado uno anteriormente.\n",
        "\n",
        "P(S) =P(D)+(P(U)*P(U_n))\n",
        "\n",
        "P(S) = (3/10)+(1/10)*(1/9) = 14/45 Aproximadamente 0.31111... \n",
        "\n"
      ]
    },
    {
      "cell_type": "code",
      "metadata": {
        "id": "PStHhkPAq9gE",
        "colab_type": "code",
        "colab": {
          "base_uri": "https://localhost:8080/",
          "height": 176
        },
        "outputId": "bad8f3cf-b050-485f-d7d6-e67af6cb24f5"
      },
      "source": [
        "\"\"\"def n_hc_deck(n): # generar un deck aleatorio\n",
        "  nSdeck =[1,2,3,4,5,6,8,9,10,11,12,13,1,2,3,4,5,6,8,9,10,11,12,13,1,2,3,4,6,7,8,9,10,11,12,13,1,2,3,4,5,6,7,8,9,10,11,12,13]\n",
        "  deck = []\n",
        "  for k in range(0,n):\n",
        "    rand = r.randrange(len(nSdeck))\n",
        "    deck.append(nSdeck[rand])\n",
        "  return deck\"\"\"\n",
        "\n",
        "#hotdeck = [2, 2, 9, 2, 11, 7, 1, 4, 10, 1]\n",
        "\n",
        "#Probabilidades de 21 con un Hot Deck de 10 cartas en baraja de Poker \n",
        "cardCounterPOK410=[]\n",
        "succsessCounterPOK410=[]\n",
        "jPOK410 = 0   \n",
        "cPOK410 = 0 \n",
        "scsPOK410 = []\n",
        "cardCountPOK410=0\n",
        "while jPOK410 <= 10000:\n",
        "  iPOK410 = 19\n",
        "  nSdeckPOK410 = [2, 2, 9, 2, 11, 7, 1, 4, 10, 1]\n",
        "  handPOK410 = [7,7,5]\n",
        "  cardCountPOK410=0\n",
        "  while iPOK410 < 21:\n",
        "    randPOK410 = r.randrange(len(nSdeckPOK410)) # toma un valor aleatorio en el mazo\n",
        "    iPOK410 += nSdeckPOK410[randPOK410]\n",
        "    handPOK410.append(nSdeckPOK410[randPOK410])\n",
        "    nSdeckPOK410.remove(nSdeckPOK410[randPOK410]) # quita la carta de la baraja\n",
        "    cardCountPOK410+=1\n",
        "  if iPOK410 == 21:\n",
        "    cPOK410 +=1\n",
        "    scsPOK410.append(len(handPOK410))\n",
        "    cardCounterPOK410.append(cardCountPOK410)\n",
        "    succsessCounterPOK410.append(cPOK410)\n",
        "  jPOK410+=1\n",
        "\n",
        "print(\"Cantidad de 21 obtenidos:\" ,cPOK410)\n",
        "print(\"Probabilidad de obtener 21 en 10000 intentos\",cPOK410/jPOK410)\n",
        "dataPOK410 = pd.DataFrame({'numero de cartas': cardCounterPOK410, '21 Exitos': succsessCounterPOK410})\n",
        "dataPOK410.groupby('numero de cartas').count()"
      ],
      "execution_count": 18,
      "outputs": [
        {
          "output_type": "stream",
          "text": [
            "Cantidad de 21 obtenidos: 3161\n",
            "Probabilidad de obtener 21 en 10000 intentos 0.3160683931606839\n"
          ],
          "name": "stdout"
        },
        {
          "output_type": "execute_result",
          "data": {
            "text/html": [
              "<div>\n",
              "<style scoped>\n",
              "    .dataframe tbody tr th:only-of-type {\n",
              "        vertical-align: middle;\n",
              "    }\n",
              "\n",
              "    .dataframe tbody tr th {\n",
              "        vertical-align: top;\n",
              "    }\n",
              "\n",
              "    .dataframe thead th {\n",
              "        text-align: right;\n",
              "    }\n",
              "</style>\n",
              "<table border=\"1\" class=\"dataframe\">\n",
              "  <thead>\n",
              "    <tr style=\"text-align: right;\">\n",
              "      <th></th>\n",
              "      <th>21 Exitos</th>\n",
              "    </tr>\n",
              "    <tr>\n",
              "      <th>numero de cartas</th>\n",
              "      <th></th>\n",
              "    </tr>\n",
              "  </thead>\n",
              "  <tbody>\n",
              "    <tr>\n",
              "      <th>1</th>\n",
              "      <td>2954</td>\n",
              "    </tr>\n",
              "    <tr>\n",
              "      <th>2</th>\n",
              "      <td>207</td>\n",
              "    </tr>\n",
              "  </tbody>\n",
              "</table>\n",
              "</div>"
            ],
            "text/plain": [
              "                  21 Exitos\n",
              "numero de cartas           \n",
              "1                      2954\n",
              "2                       207"
            ]
          },
          "metadata": {
            "tags": []
          },
          "execution_count": 18
        }
      ]
    },
    {
      "cell_type": "code",
      "metadata": {
        "id": "bnIV_yZm8gWl",
        "colab_type": "code",
        "colab": {
          "base_uri": "https://localhost:8080/",
          "height": 853
        },
        "outputId": "5d81de61-de90-4214-ed64-0c75c7287a8f"
      },
      "source": [
        "dataPOK410.groupby('numero de cartas').count().plot()\n",
        "dataPOK410.groupby('numero de cartas').count().plot.bar()\n",
        "dataPOK410.hist(bins=5)"
      ],
      "execution_count": 19,
      "outputs": [
        {
          "output_type": "execute_result",
          "data": {
            "text/plain": [
              "array([[<matplotlib.axes._subplots.AxesSubplot object at 0x7ff4c42e17b8>,\n",
              "        <matplotlib.axes._subplots.AxesSubplot object at 0x7ff4c421fcf8>]],\n",
              "      dtype=object)"
            ]
          },
          "metadata": {
            "tags": []
          },
          "execution_count": 19
        },
        {
          "output_type": "display_data",
          "data": {
            "image/png": "[encoded data removed]",
            "text/plain": [
              "<Figure size 432x288 with 1 Axes>"
            ]
          },
          "metadata": {
            "tags": [],
            "needs_background": "light"
          }
        },
        {
          "output_type": "display_data",
          "data": {
            "image/png": "[encoded data removed]",
            "text/plain": [
              "<Figure size 432x288 with 1 Axes>"
            ]
          },
          "metadata": {
            "tags": [],
            "needs_background": "light"
          }
        },
        {
          "output_type": "display_data",
          "data": {
            "image/png": "[encoded data removed]",
            "text/plain": [
              "<Figure size 432x288 with 2 Axes>"
            ]
          },
          "metadata": {
            "tags": [],
            "needs_background": "light"
          }
        }
      ]
    },
    {
      "cell_type": "markdown",
      "metadata": {
        "id": "0sZSPNOH-ui_",
        "colab_type": "text"
      },
      "source": [
        "**Analiticamente:** Para el Cold deck utilizado para la baraja de poker, la probabilidad de obtener un 21 se basa en la probbabilidad de sacar una carta o combinacion de cartas que sumados den 21, en este mazo en particular tenemos:\n",
        "\n",
        "colddeck = [13, 8, 10, 6, 9, 2, 5, 3, 10, 1]\n",
        "\n",
        "**S=** Obtener una carta que sumada con la mano de 21.\n",
        "\n",
        "**D=** Probabilidad de obtener un 2 en el hot deck.\n",
        "\n",
        "**U=** Probabilidad de obtener un uno en el hot deck.\n",
        "\n",
        "P(S) =P(D)\n",
        "\n",
        "P(S) = (1/10) Aproximadamente 0.1\n"
      ]
    },
    {
      "cell_type": "code",
      "metadata": {
        "id": "r0Wd5EAi8g57",
        "colab_type": "code",
        "colab": {
          "base_uri": "https://localhost:8080/",
          "height": 145
        },
        "outputId": "cd7309a0-c7b0-48e6-fd91-3add4fa5ac92"
      },
      "source": [
        "#Probabilidades de 21 con un Cold Deck de 10 en baraja de Poker\n",
        "\n",
        "#colddeck = [13, 8, 10, 6, 9, 2, 5, 3, 10, 1]\n",
        "cardCounterPOK410B=[]\n",
        "succsessCounterPOK410B=[]\n",
        "j = 0   \n",
        "c = 0 \n",
        "scs = []\n",
        "cardCountPOK410B=0\n",
        "while j <= 10000:\n",
        "  i = 19\n",
        "  nSdeck = [13, 8, 10, 6, 9, 2, 5, 3, 10, 1]\n",
        "  hand = [7,7,5]\n",
        "  cardCountPOK410B=0\n",
        "  while i < 21:\n",
        "    rand = r.randrange(len(nSdeck)) # toma un valor aleatorio en el mazo\n",
        "    i += nSdeck[rand]\n",
        "    hand.append(nSdeck[rand])\n",
        "    nSdeck.remove(nSdeck[rand]) # quita la carta de la baraja\n",
        "    cardCountPOK410B+=1\n",
        "  if i == 21:\n",
        "    c +=1\n",
        "    scs.append(len(hand))\n",
        "    \n",
        "    cardCounterPOK410.append(cardCountPOK410B)\n",
        "    succsessCounterPOK410B.append(c)\n",
        "    \n",
        "  j+=1\n",
        "\n",
        "print(\"Cantidad de 21 obtenidos:\" ,c)\n",
        "print(\"Probabilidad de obtener 21 en 10000 intentos\",c/j)\n",
        "\n",
        "\n",
        "dataPOK410B = pd.DataFrame({'numero de cartas': cardCountPOK410B, '21 Exitos': succsessCounterPOK410B})\n",
        "dataPOK410B.groupby('numero de cartas').count()"
      ],
      "execution_count": 20,
      "outputs": [
        {
          "output_type": "stream",
          "text": [
            "Cantidad de 21 obtenidos: 977\n",
            "Probabilidad de obtener 21 en 10000 intentos 0.09769023097690231\n"
          ],
          "name": "stdout"
        },
        {
          "output_type": "execute_result",
          "data": {
            "text/html": [
              "<div>\n",
              "<style scoped>\n",
              "    .dataframe tbody tr th:only-of-type {\n",
              "        vertical-align: middle;\n",
              "    }\n",
              "\n",
              "    .dataframe tbody tr th {\n",
              "        vertical-align: top;\n",
              "    }\n",
              "\n",
              "    .dataframe thead th {\n",
              "        text-align: right;\n",
              "    }\n",
              "</style>\n",
              "<table border=\"1\" class=\"dataframe\">\n",
              "  <thead>\n",
              "    <tr style=\"text-align: right;\">\n",
              "      <th></th>\n",
              "      <th>21 Exitos</th>\n",
              "    </tr>\n",
              "    <tr>\n",
              "      <th>numero de cartas</th>\n",
              "      <th></th>\n",
              "    </tr>\n",
              "  </thead>\n",
              "  <tbody>\n",
              "    <tr>\n",
              "      <th>1</th>\n",
              "      <td>977</td>\n",
              "    </tr>\n",
              "  </tbody>\n",
              "</table>\n",
              "</div>"
            ],
            "text/plain": [
              "                  21 Exitos\n",
              "numero de cartas           \n",
              "1                       977"
            ]
          },
          "metadata": {
            "tags": []
          },
          "execution_count": 20
        }
      ]
    },
    {
      "cell_type": "code",
      "metadata": {
        "id": "08kjoGgv9rE4",
        "colab_type": "code",
        "colab": {
          "base_uri": "https://localhost:8080/",
          "height": 865
        },
        "outputId": "1eb39b52-0d2f-4fbc-e58a-5a83787bb764"
      },
      "source": [
        "dataPOK410B.groupby('21 Exitos').count().plot()\n",
        "dataPOK410B.groupby('21 Exitos').count().plot.bar()\n",
        "dataPOK410B.hist(bins=5)"
      ],
      "execution_count": 21,
      "outputs": [
        {
          "output_type": "execute_result",
          "data": {
            "text/plain": [
              "array([[<matplotlib.axes._subplots.AxesSubplot object at 0x7ff4c4429668>,\n",
              "        <matplotlib.axes._subplots.AxesSubplot object at 0x7ff4c4179278>]],\n",
              "      dtype=object)"
            ]
          },
          "metadata": {
            "tags": []
          },
          "execution_count": 21
        },
        {
          "output_type": "display_data",
          "data": {
            "image/png": "[encoded data removed]",
            "text/plain": [
              "<Figure size 432x288 with 1 Axes>"
            ]
          },
          "metadata": {
            "tags": [],
            "needs_background": "light"
          }
        },
        {
          "output_type": "display_data",
          "data": {
            "image/png": "[encoded data removed]",
            "text/plain": [
              "<Figure size 432x288 with 1 Axes>"
            ]
          },
          "metadata": {
            "tags": [],
            "needs_background": "light"
          }
        },
        {
          "output_type": "display_data",
          "data": {
            "image/png": "[encoded data removed]",
            "text/plain": [
              "<Figure size 432x288 with 2 Axes>"
            ]
          },
          "metadata": {
            "tags": [],
            "needs_background": "light"
          }
        }
      ]
    },
    {
      "cell_type": "markdown",
      "metadata": {
        "id": "xDafYGwhAKkt",
        "colab_type": "text"
      },
      "source": [
        "#####Decks de 12 Cartas"
      ]
    },
    {
      "cell_type": "markdown",
      "metadata": {
        "id": "3zzlwG0OAQDg",
        "colab_type": "text"
      },
      "source": [
        "**Analiticamente:** Para el hot deck utilizado para la baraja de poker, la probabilidad de obtener un 21 se basa en la probbabilidad de sacar una carta o combinacion de cartas que sumados den 21, en este mazo en particular tenemos:\n",
        "\n",
        "hotdeck = [2, 2, 9, 2, 11, 7, 1, 4, 10, 11, 1, 5]\n",
        "\n",
        "**S=** Obtener una carta que sumada con la mano de 21.\n",
        "\n",
        "**D=** Probabilidad de obtener un 2 en el hot deck.\n",
        "\n",
        "**U=** Probabilidad de obtener un uno en el hot deck.\n",
        "\n",
        "**U_n=** Probabilidad de obtener un uno en el hot deck despues de haber sacado uno anteriormente.\n",
        "\n",
        "P(S) =P(D)+(P(U)*P(U_n))\n",
        "\n",
        "P(S) = (3/12)+(1/12)*(1/11) = 17/66 Aproximadamente 0.2575.."
      ]
    },
    {
      "cell_type": "code",
      "metadata": {
        "id": "arfkbZrCA1Ij",
        "colab_type": "code",
        "colab": {
          "base_uri": "https://localhost:8080/",
          "height": 176
        },
        "outputId": "500a183b-9fa0-4e7a-aa15-3243c8ab107a"
      },
      "source": [
        "#hotdeck = [2, 2, 9, 2, 11, 7, 1, 4, 10, 11, 1, 5]\n",
        "\n",
        "#Probabilidades de 21 con un Hot Deck de 12 cartas en baraja de Poker \n",
        "cardCounterPOK412=[]\n",
        "succsessCounterPOK412=[]\n",
        "j = 0   \n",
        "c = 0 \n",
        "scs = []\n",
        "cardCountPOK412=0\n",
        "while j <= 10000:\n",
        "  i = 19\n",
        "  nSdeck = [2, 2, 9, 2, 11, 7, 1, 4, 10, 11, 1, 5]\n",
        "  hand = [7,7,5]\n",
        "  cardCountPOK412=0\n",
        "  while i < 21:\n",
        "    rand = r.randrange(len(nSdeck)) # toma un valor aleatorio en el mazo\n",
        "    i += nSdeck[rand]\n",
        "    hand.append(nSdeck[rand])\n",
        "    nSdeck.remove(nSdeck[rand]) # quita la carta de la baraja\n",
        "    cardCountPOK412+=1\n",
        "  if i == 21:\n",
        "    c +=1\n",
        "    scs.append(len(hand))\n",
        "    cardCounterPOK412.append(cardCountPOK412)\n",
        "    succsessCounterPOK412.append(c)\n",
        "\n",
        "  j+=1\n",
        "\n",
        "print(\"Cantidad de 21 obtenidos:\" ,c)\n",
        "print(\"Probabilidad de obtener 21 en 10000 intentos\",c/j)\n",
        "dataPOK412 = pd.DataFrame({'numero de cartas': cardCounterPOK412, '21 Exitos': succsessCounterPOK412})\n",
        "dataPOK412.groupby('numero de cartas').count()"
      ],
      "execution_count": 22,
      "outputs": [
        {
          "output_type": "stream",
          "text": [
            "Cantidad de 21 obtenidos: 2693\n",
            "Probabilidad de obtener 21 en 10000 intentos 0.2692730726927307\n"
          ],
          "name": "stdout"
        },
        {
          "output_type": "execute_result",
          "data": {
            "text/html": [
              "<div>\n",
              "<style scoped>\n",
              "    .dataframe tbody tr th:only-of-type {\n",
              "        vertical-align: middle;\n",
              "    }\n",
              "\n",
              "    .dataframe tbody tr th {\n",
              "        vertical-align: top;\n",
              "    }\n",
              "\n",
              "    .dataframe thead th {\n",
              "        text-align: right;\n",
              "    }\n",
              "</style>\n",
              "<table border=\"1\" class=\"dataframe\">\n",
              "  <thead>\n",
              "    <tr style=\"text-align: right;\">\n",
              "      <th></th>\n",
              "      <th>21 Exitos</th>\n",
              "    </tr>\n",
              "    <tr>\n",
              "      <th>numero de cartas</th>\n",
              "      <th></th>\n",
              "    </tr>\n",
              "  </thead>\n",
              "  <tbody>\n",
              "    <tr>\n",
              "      <th>1</th>\n",
              "      <td>2532</td>\n",
              "    </tr>\n",
              "    <tr>\n",
              "      <th>2</th>\n",
              "      <td>161</td>\n",
              "    </tr>\n",
              "  </tbody>\n",
              "</table>\n",
              "</div>"
            ],
            "text/plain": [
              "                  21 Exitos\n",
              "numero de cartas           \n",
              "1                      2532\n",
              "2                       161"
            ]
          },
          "metadata": {
            "tags": []
          },
          "execution_count": 22
        }
      ]
    },
    {
      "cell_type": "code",
      "metadata": {
        "id": "XVI4h1IHAypG",
        "colab_type": "code",
        "colab": {
          "base_uri": "https://localhost:8080/",
          "height": 872
        },
        "outputId": "340d7a4b-26ad-41e7-95d0-bace0eb48d1e"
      },
      "source": [
        "dataPOK412.groupby('21 Exitos').count().plot()\n",
        "dataPOK412.groupby('21 Exitos').count().plot.bar()\n",
        "dataPOK412.hist(bins=10)"
      ],
      "execution_count": 23,
      "outputs": [
        {
          "output_type": "execute_result",
          "data": {
            "text/plain": [
              "array([[<matplotlib.axes._subplots.AxesSubplot object at 0x7ff4c21a28d0>,\n",
              "        <matplotlib.axes._subplots.AxesSubplot object at 0x7ff4c2156550>]],\n",
              "      dtype=object)"
            ]
          },
          "metadata": {
            "tags": []
          },
          "execution_count": 23
        },
        {
          "output_type": "display_data",
          "data": {
            "image/png": "[encoded data removed]",
            "text/plain": [
              "<Figure size 432x288 with 1 Axes>"
            ]
          },
          "metadata": {
            "tags": [],
            "needs_background": "light"
          }
        },
        {
          "output_type": "display_data",
          "data": {
            "image/png": "[encoded data removed]",
            "text/plain": [
              "<Figure size 432x288 with 1 Axes>"
            ]
          },
          "metadata": {
            "tags": [],
            "needs_background": "light"
          }
        },
        {
          "output_type": "display_data",
          "data": {
            "image/png": "[encoded data removed]",
            "text/plain": [
              "<Figure size 432x288 with 2 Axes>"
            ]
          },
          "metadata": {
            "tags": [],
            "needs_background": "light"
          }
        }
      ]
    },
    {
      "cell_type": "markdown",
      "metadata": {
        "id": "jtQbOnCbBfJk",
        "colab_type": "text"
      },
      "source": [
        "**Analiticamente:** Para el Cold deck utilizado para la baraja de poker, la probabilidad de obtener un 21 se basa en la probbabilidad de sacar una carta o combinacion de cartas que sumados den 21, en este mazo en particular tenemos:\n",
        "\n",
        "colddeck = [13, 8, 10, 6, 9, 2, 5, 3, 10, 1, 13, 1]\n",
        "\n",
        "**S=** Obtener una carta que sumada con la mano de 21.\n",
        "\n",
        "**D=** Probabilidad de obtener un 2 en el hot deck.\n",
        "\n",
        "**U=** Probabilidad de obtener un uno en el hot deck.\n",
        "\n",
        "**U_n=** Probabilidad de obtener un uno en el hot deck despues de haber sacado uno anteriormente.\n",
        "\n",
        "P(S) =P(D) + (P(U)*P(U_n))\n",
        "\n",
        "P(S) = (1/12)+(1/12 * 1/11) =  1/11 Aproximadamente 0.0909..."
      ]
    },
    {
      "cell_type": "code",
      "metadata": {
        "id": "-c_NzdQUB7O_",
        "colab_type": "code",
        "colab": {
          "base_uri": "https://localhost:8080/",
          "height": 176
        },
        "outputId": "aebddfab-b342-4190-fc46-566771b460d1"
      },
      "source": [
        "#hotdeck = [13, 8, 10, 6, 9, 2, 5, 3, 10, 1, 13, 1]\n",
        "\n",
        "#Probabilidades de 21 con un Cold Deck de 12 cartas en baraja de Poker \n",
        "cardCounterPOK412B=[]\n",
        "succsessCounterPOK412B=[]\n",
        "j = 0   \n",
        "c = 0 \n",
        "scs = []\n",
        "cardCountPOK410B=0\n",
        "while j <= 10000:\n",
        "  i = 19\n",
        "  nSdeck = [13, 8, 10, 6, 9, 2, 5, 3, 10, 1, 13, 1]\n",
        "  hand = [7,7,5]\n",
        "  cardCountPOK412B=0\n",
        "  while i < 21:\n",
        "    rand = r.randrange(len(nSdeck)) # toma un valor aleatorio en el mazo\n",
        "    i += nSdeck[rand]\n",
        "    hand.append(nSdeck[rand])\n",
        "    nSdeck.remove(nSdeck[rand]) # quita la carta de la baraja\n",
        "    cardCountPOK412B+=1\n",
        "  if i == 21:\n",
        "    c +=1\n",
        "    scs.append(len(hand))\n",
        "    cardCounterPOK412B.append(cardCountPOK412B)\n",
        "    succsessCounterPOK412B.append(c)\n",
        "  j+=1\n",
        "\n",
        "print(\"Cantidad de 21 obtenidos:\" ,c)\n",
        "print(\"Probabilidad de obtener 21 en 10000 intentos\",c/j)\n",
        "dataPOK412B = pd.DataFrame({'numero de cartas': cardCounterPOK412B, '21 Exitos': succsessCounterPOK412B})\n",
        "dataPOK412B.groupby('numero de cartas').count()"
      ],
      "execution_count": 24,
      "outputs": [
        {
          "output_type": "stream",
          "text": [
            "Cantidad de 21 obtenidos: 960\n",
            "Probabilidad de obtener 21 en 10000 intentos 0.09599040095990401\n"
          ],
          "name": "stdout"
        },
        {
          "output_type": "execute_result",
          "data": {
            "text/html": [
              "<div>\n",
              "<style scoped>\n",
              "    .dataframe tbody tr th:only-of-type {\n",
              "        vertical-align: middle;\n",
              "    }\n",
              "\n",
              "    .dataframe tbody tr th {\n",
              "        vertical-align: top;\n",
              "    }\n",
              "\n",
              "    .dataframe thead th {\n",
              "        text-align: right;\n",
              "    }\n",
              "</style>\n",
              "<table border=\"1\" class=\"dataframe\">\n",
              "  <thead>\n",
              "    <tr style=\"text-align: right;\">\n",
              "      <th></th>\n",
              "      <th>21 Exitos</th>\n",
              "    </tr>\n",
              "    <tr>\n",
              "      <th>numero de cartas</th>\n",
              "      <th></th>\n",
              "    </tr>\n",
              "  </thead>\n",
              "  <tbody>\n",
              "    <tr>\n",
              "      <th>1</th>\n",
              "      <td>798</td>\n",
              "    </tr>\n",
              "    <tr>\n",
              "      <th>2</th>\n",
              "      <td>162</td>\n",
              "    </tr>\n",
              "  </tbody>\n",
              "</table>\n",
              "</div>"
            ],
            "text/plain": [
              "                  21 Exitos\n",
              "numero de cartas           \n",
              "1                       798\n",
              "2                       162"
            ]
          },
          "metadata": {
            "tags": []
          },
          "execution_count": 24
        }
      ]
    },
    {
      "cell_type": "code",
      "metadata": {
        "id": "X_W_HeR0EHLA",
        "colab_type": "code",
        "colab": {
          "base_uri": "https://localhost:8080/",
          "height": 865
        },
        "outputId": "c7140219-b57b-46c0-e88a-107995178f98"
      },
      "source": [
        "dataPOK412B.groupby('21 Exitos').count().plot()\n",
        "dataPOK412B.groupby('21 Exitos').count().plot.bar()\n",
        "dataPOK412B.hist(bins=5)"
      ],
      "execution_count": 25,
      "outputs": [
        {
          "output_type": "execute_result",
          "data": {
            "text/plain": [
              "array([[<matplotlib.axes._subplots.AxesSubplot object at 0x7ff4c37b7d30>,\n",
              "        <matplotlib.axes._subplots.AxesSubplot object at 0x7ff4c37fc978>]],\n",
              "      dtype=object)"
            ]
          },
          "metadata": {
            "tags": []
          },
          "execution_count": 25
        },
        {
          "output_type": "display_data",
          "data": {
            "image/png": "[encoded data removed]",
            "text/plain": [
              "<Figure size 432x288 with 1 Axes>"
            ]
          },
          "metadata": {
            "tags": [],
            "needs_background": "light"
          }
        },
        {
          "output_type": "display_data",
          "data": {
            "image/png": "[encoded data removed]",
            "text/plain": [
              "<Figure size 432x288 with 1 Axes>"
            ]
          },
          "metadata": {
            "tags": [],
            "needs_background": "light"
          }
        },
        {
          "output_type": "display_data",
          "data": {
            "image/png": "[encoded data removed]",
            "text/plain": [
              "<Figure size 432x288 with 2 Axes>"
            ]
          },
          "metadata": {
            "tags": [],
            "needs_background": "light"
          }
        }
      ]
    },
    {
      "cell_type": "markdown",
      "metadata": {
        "id": "Fz2E0JtRCsux",
        "colab_type": "text"
      },
      "source": [
        "####Decks de Baraja Española\n"
      ]
    },
    {
      "cell_type": "markdown",
      "metadata": {
        "id": "u4h8ATABDAGn",
        "colab_type": "text"
      },
      "source": [
        "#####Decks de 10 Cartas"
      ]
    },
    {
      "cell_type": "markdown",
      "metadata": {
        "id": "11kEtFg8EByF",
        "colab_type": "text"
      },
      "source": [
        "**Analiticamente:** Para el hot deck utilizado para la baraja española, la probabilidad de obtener un 21 se basa en la probbabilidad de sacar una carta o combinacion de cartas que sumados den 21, en este mazo en particular tenemos:\n",
        "\n",
        "hotdeck = [3, 5, 2, 2, 1, 2, 1, 2, 10, 12]\n",
        "\n",
        "**S=** Obtener una carta que sumada con la mano de 21.\n",
        "\n",
        "**D=** Probabilidad de obtener un 2 en el hot deck.\n",
        "\n",
        "**U=** Probabilidad de obtener un uno en el hot deck.\n",
        "\n",
        "**U_n=** Probabilidad de obtener un uno en el hot deck despues de haber sacado uno anteriormente.\n",
        "\n",
        "P(S) =P(D)+(P(U)*P(U_n))\n",
        "\n",
        "P(S) = (4/10)+(1/10)*(1/9) = 37/90 Aproximadamente 0.41111.."
      ]
    },
    {
      "cell_type": "code",
      "metadata": {
        "id": "dMJ_XYvzE5Mz",
        "colab_type": "code",
        "colab": {
          "base_uri": "https://localhost:8080/",
          "height": 176
        },
        "outputId": "137e7191-32c3-44ec-8311-eddb336f305f"
      },
      "source": [
        "#hotdeck =  [3, 5, 2, 2, 1, 2, 1, 2, 10, 12]\n",
        "\n",
        "#Probabilidades de 21 con un Hot Deck de 10 cartas en baraja de Española\n",
        "cardCounterESP410=[]\n",
        "succsessCounterESP410=[]\n",
        "j=0\n",
        "c = 0 \n",
        "scs = []\n",
        "cardCountESP410=0\n",
        "while j <= 10000:\n",
        "  i = 19\n",
        "  nSdeck =  [3, 5, 2, 2, 1, 2, 1, 2, 10, 12]\n",
        "  hand = [7,7,5]\n",
        "  cardCountESP410=0\n",
        "  while i < 21:\n",
        "    rand = r.randrange(len(nSdeck)) # toma un valor aleatorio en el mazo\n",
        "    i += nSdeck[rand]\n",
        "    hand.append(nSdeck[rand])\n",
        "    nSdeck.remove(nSdeck[rand]) # quita la carta de la baraja\n",
        "    cardCountESP410+=1\n",
        "    if i == 21:\n",
        "     c+=1\n",
        "     scs.append(len(hand))\n",
        "     cardCounterESP410.append(cardCountESP410)\n",
        "     succsessCounterESP410.append(c)\n",
        "  j+=1\n",
        "\n",
        "print(\"Cantidad de 21 obtenidos:\" ,c)\n",
        "print(\"Probabilidad de obtener 21 en 10000 intentos\",c/j)\n",
        "dataESP410 = pd.DataFrame({'numero de cartas': cardCounterESP410, '21 Exitos': succsessCounterESP410})\n",
        "dataESP410.groupby('numero de cartas').count()"
      ],
      "execution_count": 26,
      "outputs": [
        {
          "output_type": "stream",
          "text": [
            "Cantidad de 21 obtenidos: 4226\n",
            "Probabilidad de obtener 21 en 10000 intentos 0.42255774422557746\n"
          ],
          "name": "stdout"
        },
        {
          "output_type": "execute_result",
          "data": {
            "text/html": [
              "<div>\n",
              "<style scoped>\n",
              "    .dataframe tbody tr th:only-of-type {\n",
              "        vertical-align: middle;\n",
              "    }\n",
              "\n",
              "    .dataframe tbody tr th {\n",
              "        vertical-align: top;\n",
              "    }\n",
              "\n",
              "    .dataframe thead th {\n",
              "        text-align: right;\n",
              "    }\n",
              "</style>\n",
              "<table border=\"1\" class=\"dataframe\">\n",
              "  <thead>\n",
              "    <tr style=\"text-align: right;\">\n",
              "      <th></th>\n",
              "      <th>21 Exitos</th>\n",
              "    </tr>\n",
              "    <tr>\n",
              "      <th>numero de cartas</th>\n",
              "      <th></th>\n",
              "    </tr>\n",
              "  </thead>\n",
              "  <tbody>\n",
              "    <tr>\n",
              "      <th>1</th>\n",
              "      <td>4012</td>\n",
              "    </tr>\n",
              "    <tr>\n",
              "      <th>2</th>\n",
              "      <td>214</td>\n",
              "    </tr>\n",
              "  </tbody>\n",
              "</table>\n",
              "</div>"
            ],
            "text/plain": [
              "                  21 Exitos\n",
              "numero de cartas           \n",
              "1                      4012\n",
              "2                       214"
            ]
          },
          "metadata": {
            "tags": []
          },
          "execution_count": 26
        }
      ]
    },
    {
      "cell_type": "code",
      "metadata": {
        "id": "PJYTEFOaGS0h",
        "colab_type": "code",
        "colab": {
          "base_uri": "https://localhost:8080/",
          "height": 853
        },
        "outputId": "b2e1fd4c-8961-4fa7-f965-c2dd069b1cea"
      },
      "source": [
        "dataESP410.groupby('numero de cartas').count().plot()\n",
        "dataESP410.groupby('numero de cartas').count().plot.bar()\n",
        "dataESP410.hist(bins=5)"
      ],
      "execution_count": 27,
      "outputs": [
        {
          "output_type": "execute_result",
          "data": {
            "text/plain": [
              "array([[<matplotlib.axes._subplots.AxesSubplot object at 0x7ff4c5852080>,\n",
              "        <matplotlib.axes._subplots.AxesSubplot object at 0x7ff4c41c1dd8>]],\n",
              "      dtype=object)"
            ]
          },
          "metadata": {
            "tags": []
          },
          "execution_count": 27
        },
        {
          "output_type": "display_data",
          "data": {
            "image/png": "[encoded data removed]",
            "text/plain": [
              "<Figure size 432x288 with 1 Axes>"
            ]
          },
          "metadata": {
            "tags": [],
            "needs_background": "light"
          }
        },
        {
          "output_type": "display_data",
          "data": {
            "image/png": "[encoded data removed]",
            "text/plain": [
              "<Figure size 432x288 with 1 Axes>"
            ]
          },
          "metadata": {
            "tags": [],
            "needs_background": "light"
          }
        },
        {
          "output_type": "display_data",
          "data": {
            "image/png": "[encoded data removed]",
            "text/plain": [
              "<Figure size 432x288 with 2 Axes>"
            ]
          },
          "metadata": {
            "tags": [],
            "needs_background": "light"
          }
        }
      ]
    },
    {
      "cell_type": "markdown",
      "metadata": {
        "id": "JMGxV1svFEFv",
        "colab_type": "text"
      },
      "source": [
        "**Analiticamente:** Para el Cold deck utilizado para la baraja española, la probabilidad de obtener un 21 se basa en la probbabilidad de sacar una carta o combinacion de cartas que sumados den 21, en este mazo en particular tenemos:\n",
        "\n",
        "colddeck = [12, 5, 11, 7, 6, 2, 2, 4, 7, 8]\n",
        "\n",
        "**S=** Obtener una carta que sumada con la mano de 21.\n",
        "\n",
        "**D=** Probabilidad de obtener un 2 en el hot deck.\n",
        "\n",
        "**U=** Probabilidad de obtener un uno en el hot deck.\n",
        "\n",
        "P(S) =P(D)\n",
        "\n",
        "P(S) = (2/10) Aproximadamente 0.2\n"
      ]
    },
    {
      "cell_type": "code",
      "metadata": {
        "id": "cixC41bIF9Gq",
        "colab_type": "code",
        "colab": {
          "base_uri": "https://localhost:8080/",
          "height": 145
        },
        "outputId": "ee6be246-546c-4924-f2c9-4d52fb88efbf"
      },
      "source": [
        "#Probabilidades de 21 con un Cold Deck de 10 en baraja española\n",
        "\n",
        "#colddeck = [12, 5, 11, 7, 6, 2, 2, 4, 7, 8]\n",
        "cardCounterESP410B=[]\n",
        "succsessCounterESP410B=[]\n",
        "j = 0   \n",
        "c = 0 \n",
        "scs = []\n",
        "cardCountESP410B=0\n",
        "while j <= 10000:\n",
        "  i = 19\n",
        "  nSdeck = [12, 5, 11, 7, 6, 2, 2, 4, 7, 8]\n",
        "  hand = [7,7,5]\n",
        "  cardCountESP410B=0\n",
        "  while i < 21:\n",
        "    rand = r.randrange(len(nSdeck)) # toma un valor aleatorio en el mazo\n",
        "    i += nSdeck[rand]\n",
        "    hand.append(nSdeck[rand])\n",
        "    nSdeck.remove(nSdeck[rand]) # quita la carta de la baraja\n",
        "    cardCountESP410B+=1\n",
        "  if i == 21:\n",
        "    c +=1\n",
        "    scs.append(len(hand))\n",
        "    cardCounterESP410B.append(cardCountESP410B)\n",
        "    succsessCounterESP410B.append(c)\n",
        "  j+=1\n",
        "\n",
        "print(\"Cantidad de 21 obtenidos:\" ,c)\n",
        "print(\"Probabilidad de obtener 21 en 10000 intentos\",c/j)\n",
        "dataESP410B = pd.DataFrame({'numero de cartas': cardCounterESP410B, '21 Exitos': succsessCounterESP410B})\n",
        "dataESP410B.groupby('numero de cartas').count()"
      ],
      "execution_count": 28,
      "outputs": [
        {
          "output_type": "stream",
          "text": [
            "Cantidad de 21 obtenidos: 1947\n",
            "Probabilidad de obtener 21 en 10000 intentos 0.19468053194680532\n"
          ],
          "name": "stdout"
        },
        {
          "output_type": "execute_result",
          "data": {
            "text/html": [
              "<div>\n",
              "<style scoped>\n",
              "    .dataframe tbody tr th:only-of-type {\n",
              "        vertical-align: middle;\n",
              "    }\n",
              "\n",
              "    .dataframe tbody tr th {\n",
              "        vertical-align: top;\n",
              "    }\n",
              "\n",
              "    .dataframe thead th {\n",
              "        text-align: right;\n",
              "    }\n",
              "</style>\n",
              "<table border=\"1\" class=\"dataframe\">\n",
              "  <thead>\n",
              "    <tr style=\"text-align: right;\">\n",
              "      <th></th>\n",
              "      <th>21 Exitos</th>\n",
              "    </tr>\n",
              "    <tr>\n",
              "      <th>numero de cartas</th>\n",
              "      <th></th>\n",
              "    </tr>\n",
              "  </thead>\n",
              "  <tbody>\n",
              "    <tr>\n",
              "      <th>1</th>\n",
              "      <td>1947</td>\n",
              "    </tr>\n",
              "  </tbody>\n",
              "</table>\n",
              "</div>"
            ],
            "text/plain": [
              "                  21 Exitos\n",
              "numero de cartas           \n",
              "1                      1947"
            ]
          },
          "metadata": {
            "tags": []
          },
          "execution_count": 28
        }
      ]
    },
    {
      "cell_type": "code",
      "metadata": {
        "id": "E6Qctx6_Jd0_",
        "colab_type": "code",
        "colab": {
          "base_uri": "https://localhost:8080/",
          "height": 853
        },
        "outputId": "44bb1fe9-5422-454a-818c-4dff509a3a0d"
      },
      "source": [
        "dataESP410B.groupby('numero de cartas').count().plot()\n",
        "dataESP410B.groupby('numero de cartas').count().plot.bar()\n",
        "dataESP410B.hist(bins=5)"
      ],
      "execution_count": 29,
      "outputs": [
        {
          "output_type": "execute_result",
          "data": {
            "text/plain": [
              "array([[<matplotlib.axes._subplots.AxesSubplot object at 0x7ff4c5878f98>,\n",
              "        <matplotlib.axes._subplots.AxesSubplot object at 0x7ff4c5360c88>]],\n",
              "      dtype=object)"
            ]
          },
          "metadata": {
            "tags": []
          },
          "execution_count": 29
        },
        {
          "output_type": "display_data",
          "data": {
            "image/png": "[encoded data removed]",
            "text/plain": [
              "<Figure size 432x288 with 1 Axes>"
            ]
          },
          "metadata": {
            "tags": [],
            "needs_background": "light"
          }
        },
        {
          "output_type": "display_data",
          "data": {
            "image/png": "[encoded data removed]",
            "text/plain": [
              "<Figure size 432x288 with 1 Axes>"
            ]
          },
          "metadata": {
            "tags": [],
            "needs_background": "light"
          }
        },
        {
          "output_type": "display_data",
          "data": {
            "image/png": "[encoded data removed]",
            "text/plain": [
              "<Figure size 432x288 with 2 Axes>"
            ]
          },
          "metadata": {
            "tags": [],
            "needs_background": "light"
          }
        }
      ]
    },
    {
      "cell_type": "markdown",
      "metadata": {
        "id": "8Aw-YSXpPWXk",
        "colab_type": "text"
      },
      "source": [
        "#####Deck de 12 cartas\n"
      ]
    },
    {
      "cell_type": "markdown",
      "metadata": {
        "id": "IKfjrP9LQjtR",
        "colab_type": "text"
      },
      "source": [
        "**Analiticamente:** Para el hot deck utilizado para la baraja de española, la probabilidad de obtener un 21 se basa en la probbabilidad de sacar una carta o combinacion de cartas que sumados den 21, en este mazo en particular tenemos:\n",
        "\n",
        "hotdeck =  [3, 5, 2, 2, 1, 2, 1, 2, 10, 8 ,12 ,1]\n",
        "\n",
        "**S=** Obtener una carta que sumada con la mano de 21.\n",
        "\n",
        "**D=** Probabilidad de obtener un 2 en el hot deck.\n",
        "\n",
        "**U=** Probabilidad de obtener un uno en el hot deck.\n",
        "\n",
        "**U_n=** Probabilidad de obtener un uno en el hot deck despues de haber sacado uno anteriormente.\n",
        "\n",
        "P(S) =P(D)+(P(U)*P(U_n))\n",
        "\n",
        "P(S) = (4/12)+((1/12) x (1/11) x (1/10)) = 147/440 Aproximadamente 0.33409.."
      ]
    },
    {
      "cell_type": "code",
      "metadata": {
        "id": "m9VRodAWQiQ2",
        "colab_type": "code",
        "colab": {
          "base_uri": "https://localhost:8080/",
          "height": 176
        },
        "outputId": "a17f57ca-ee31-4691-d775-aaf09e393648"
      },
      "source": [
        "#hotdeck = [3, 5, 2, 2, 1, 2, 1, 2, 10, 8 ,12 ,1]\n",
        "\n",
        "#Probabilidades de 21 con un Hot Deck de 10 cartas en baraja española\n",
        "cardCounterESP412=[]\n",
        "succsessCounterESP412=[]\n",
        "j = 0   \n",
        "c = 0 \n",
        "scs = []\n",
        "cardCountESP412=0\n",
        "while j <= 100000:\n",
        "  i = 19\n",
        "  nSdeck =  [3, 5, 2, 2, 1, 2, 1, 2, 10, 8 ,12 ,1]\n",
        "  hand = [7,7,5]\n",
        "  cardCountESP412=0\n",
        "  while i < 21:\n",
        "    rand = r.randrange(len(nSdeck)) # toma un valor aleatorio en el mazo\n",
        "    i += nSdeck[rand]\n",
        "    hand.append(nSdeck[rand])\n",
        "    nSdeck.remove(nSdeck[rand]) # quita la carta de la baraja\n",
        "    cardCountESP412+=1\n",
        "  if i == 21:\n",
        "    c +=1\n",
        "    scs.append(len(hand))\n",
        "    cardCounterESP412.append(cardCountESP412)\n",
        "    succsessCounterESP412.append(c)\n",
        "  j+=1\n",
        "\n",
        "print(\"Cantidad de 21 obtenidos:\" ,c)\n",
        "print(\"Probabilidad de obtener 21 en 10000 intentos\",c/j)\n",
        "dataESP412 = pd.DataFrame({'numero de cartas': cardCounterESP412, '21 Exitos': succsessCounterESP412})\n",
        "dataESP412.groupby('numero de cartas').count()"
      ],
      "execution_count": 30,
      "outputs": [
        {
          "output_type": "stream",
          "text": [
            "Cantidad de 21 obtenidos: 38063\n",
            "Probabilidad de obtener 21 en 10000 intentos 0.3806261937380626\n"
          ],
          "name": "stdout"
        },
        {
          "output_type": "execute_result",
          "data": {
            "text/html": [
              "<div>\n",
              "<style scoped>\n",
              "    .dataframe tbody tr th:only-of-type {\n",
              "        vertical-align: middle;\n",
              "    }\n",
              "\n",
              "    .dataframe tbody tr th {\n",
              "        vertical-align: top;\n",
              "    }\n",
              "\n",
              "    .dataframe thead th {\n",
              "        text-align: right;\n",
              "    }\n",
              "</style>\n",
              "<table border=\"1\" class=\"dataframe\">\n",
              "  <thead>\n",
              "    <tr style=\"text-align: right;\">\n",
              "      <th></th>\n",
              "      <th>21 Exitos</th>\n",
              "    </tr>\n",
              "    <tr>\n",
              "      <th>numero de cartas</th>\n",
              "      <th></th>\n",
              "    </tr>\n",
              "  </thead>\n",
              "  <tbody>\n",
              "    <tr>\n",
              "      <th>1</th>\n",
              "      <td>33385</td>\n",
              "    </tr>\n",
              "    <tr>\n",
              "      <th>2</th>\n",
              "      <td>4678</td>\n",
              "    </tr>\n",
              "  </tbody>\n",
              "</table>\n",
              "</div>"
            ],
            "text/plain": [
              "                  21 Exitos\n",
              "numero de cartas           \n",
              "1                     33385\n",
              "2                      4678"
            ]
          },
          "metadata": {
            "tags": []
          },
          "execution_count": 30
        }
      ]
    },
    {
      "cell_type": "code",
      "metadata": {
        "id": "8daTl3y8KS81",
        "colab_type": "code",
        "colab": {
          "base_uri": "https://localhost:8080/",
          "height": 856
        },
        "outputId": "b43e9570-8113-4cc7-c711-6525e4873780"
      },
      "source": [
        "dataESP412.groupby('numero de cartas').count().plot()\n",
        "dataESP412.groupby('numero de cartas').count().plot.bar()\n",
        "dataESP412.hist(bins=5)"
      ],
      "execution_count": 31,
      "outputs": [
        {
          "output_type": "execute_result",
          "data": {
            "text/plain": [
              "array([[<matplotlib.axes._subplots.AxesSubplot object at 0x7ff4c41e32b0>,\n",
              "        <matplotlib.axes._subplots.AxesSubplot object at 0x7ff4c4bdd6a0>]],\n",
              "      dtype=object)"
            ]
          },
          "metadata": {
            "tags": []
          },
          "execution_count": 31
        },
        {
          "output_type": "display_data",
          "data": {
            "image/png": "[encoded data removed]",
            "text/plain": [
              "<Figure size 432x288 with 1 Axes>"
            ]
          },
          "metadata": {
            "tags": [],
            "needs_background": "light"
          }
        },
        {
          "output_type": "display_data",
          "data": {
            "image/png": "[encoded data removed]",
            "text/plain": [
              "<Figure size 432x288 with 1 Axes>"
            ]
          },
          "metadata": {
            "tags": [],
            "needs_background": "light"
          }
        },
        {
          "output_type": "display_data",
          "data": {
            "image/png": "[encoded data removed]",
            "text/plain": [
              "<Figure size 432x288 with 2 Axes>"
            ]
          },
          "metadata": {
            "tags": [],
            "needs_background": "light"
          }
        }
      ]
    },
    {
      "cell_type": "markdown",
      "metadata": {
        "id": "4U7V8-PURpL5",
        "colab_type": "text"
      },
      "source": [
        "**Analiticamente:** Para el Cold deck utilizado para la baraja española, la probabilidad de obtener un 21 se basa en la probbabilidad de sacar una carta o combinacion de cartas que sumados den 21, en este mazo en particular tenemos:\n",
        "\n",
        "colddeck = [12, 5, 11, 7, 6, 1, 1, 4, 7, 8, 10, 12]\n",
        "\n",
        "**S=** Obtener una carta que sumada con la mano de 21.\n",
        "\n",
        "**D=** Probabilidad de obtener un 2 en el hot deck.\n",
        "\n",
        "**U=** Probabilidad de obtener un uno en el hot deck.\n",
        "\n",
        "P(S) =P(D)\n",
        "\n",
        "P(S) = (1/10)*(1/10) Aproximadamente 0.01"
      ]
    },
    {
      "cell_type": "code",
      "metadata": {
        "id": "EDpaUrFuSYxm",
        "colab_type": "code",
        "colab": {
          "base_uri": "https://localhost:8080/",
          "height": 145
        },
        "outputId": "761cfe50-3349-4c08-93e4-f7fdd2f7185d"
      },
      "source": [
        "#Probabilidades de 21 con un Cold Deck de 10 en baraja de española\n",
        "\n",
        "#colddeck = [12, 5, 11, 7, 6, 1, 1, 4, 7, 8, 10, 12]\n",
        "cardCounterESP412B=[]\n",
        "succsessCounterESP412B=[]\n",
        "j = 0   \n",
        "c = 0 \n",
        "scs = []\n",
        "cardCountESP412B=0\n",
        "while j <= 10000:\n",
        "  i = 19\n",
        "  nSdeck = [12, 5, 11, 7, 6, 1, 1, 4, 7, 8, 10, 12]\n",
        "  hand = [7,7,5]\n",
        "  cardCountESP412B=0\n",
        "  while i < 21:\n",
        "    rand = r.randrange(len(nSdeck)) # toma un valor aleatorio en el mazo\n",
        "    i += nSdeck[rand]\n",
        "    hand.append(nSdeck[rand])\n",
        "    nSdeck.remove(nSdeck[rand]) # quita la carta de la baraja\n",
        "    cardCountESP412B+=1\n",
        "  if i == 21:\n",
        "    c +=1\n",
        "    scs.append(len(hand))\n",
        "    cardCounterESP412B.append(cardCountESP412B)\n",
        "    succsessCounterESP412B.append(c)\n",
        "  j+=1\n",
        "\n",
        "print(\"Cantidad de 21 obtenidos:\" ,c)\n",
        "print(\"Probabilidad de obtener 21 en 10000 intentos\",c/j)\n",
        "dataESP412B = pd.DataFrame({'numero de cartas': cardCounterESP412B, '21 Exitos': succsessCounterESP412B})\n",
        "dataESP412B.groupby('numero de cartas').count()"
      ],
      "execution_count": 32,
      "outputs": [
        {
          "output_type": "stream",
          "text": [
            "Cantidad de 21 obtenidos: 174\n",
            "Probabilidad de obtener 21 en 10000 intentos 0.0173982601739826\n"
          ],
          "name": "stdout"
        },
        {
          "output_type": "execute_result",
          "data": {
            "text/html": [
              "<div>\n",
              "<style scoped>\n",
              "    .dataframe tbody tr th:only-of-type {\n",
              "        vertical-align: middle;\n",
              "    }\n",
              "\n",
              "    .dataframe tbody tr th {\n",
              "        vertical-align: top;\n",
              "    }\n",
              "\n",
              "    .dataframe thead th {\n",
              "        text-align: right;\n",
              "    }\n",
              "</style>\n",
              "<table border=\"1\" class=\"dataframe\">\n",
              "  <thead>\n",
              "    <tr style=\"text-align: right;\">\n",
              "      <th></th>\n",
              "      <th>21 Exitos</th>\n",
              "    </tr>\n",
              "    <tr>\n",
              "      <th>numero de cartas</th>\n",
              "      <th></th>\n",
              "    </tr>\n",
              "  </thead>\n",
              "  <tbody>\n",
              "    <tr>\n",
              "      <th>2</th>\n",
              "      <td>174</td>\n",
              "    </tr>\n",
              "  </tbody>\n",
              "</table>\n",
              "</div>"
            ],
            "text/plain": [
              "                  21 Exitos\n",
              "numero de cartas           \n",
              "2                       174"
            ]
          },
          "metadata": {
            "tags": []
          },
          "execution_count": 32
        }
      ]
    },
    {
      "cell_type": "code",
      "metadata": {
        "id": "oHVJcNwYK6Uz",
        "colab_type": "code",
        "colab": {
          "base_uri": "https://localhost:8080/",
          "height": 853
        },
        "outputId": "6d0eaf72-0811-4175-8655-8bca49fe3fd4"
      },
      "source": [
        "dataPOK412B.groupby('numero de cartas').count().plot()\n",
        "dataPOK412B.groupby('numero de cartas').count().plot.bar()\n",
        "dataPOK412B.hist(bins=5)"
      ],
      "execution_count": 33,
      "outputs": [
        {
          "output_type": "execute_result",
          "data": {
            "text/plain": [
              "array([[<matplotlib.axes._subplots.AxesSubplot object at 0x7ff4c4ffbd30>,\n",
              "        <matplotlib.axes._subplots.AxesSubplot object at 0x7ff4c3a4ab38>]],\n",
              "      dtype=object)"
            ]
          },
          "metadata": {
            "tags": []
          },
          "execution_count": 33
        },
        {
          "output_type": "display_data",
          "data": {
            "image/png": "[encoded data removed]",
            "text/plain": [
              "<Figure size 432x288 with 1 Axes>"
            ]
          },
          "metadata": {
            "tags": [],
            "needs_background": "light"
          }
        },
        {
          "output_type": "display_data",
          "data": {
            "image/png": "[encoded data removed]",
            "text/plain": [
              "<Figure size 432x288 with 1 Axes>"
            ]
          },
          "metadata": {
            "tags": [],
            "needs_background": "light"
          }
        },
        {
          "output_type": "display_data",
          "data": {
            "image/png": "[encoded data removed]",
            "text/plain": [
              "<Figure size 432x288 with 2 Axes>"
            ]
          },
          "metadata": {
            "tags": [],
            "needs_background": "light"
          }
        }
      ]
    },
    {
      "cell_type": "markdown",
      "metadata": {
        "id": "9g7JKnv0T-1M",
        "colab_type": "text"
      },
      "source": [
        "###Punto 5:\n",
        "\n",
        "Si Ben va a Las Vegas todos los fines de semana (viernes, sábado y domingo), juega cada día de fin de semana 10 horas, cada juego dura 3 minutos. \n",
        "\n",
        "Obtiene las cartas [7,7,5] y una hot deck restante con probabilidad de 1/10, las cartas del hot deck son las obtenidas en el punto 4 del ejercicio anterior. \n",
        "\n",
        "Suponga que para los cold deck Ben no tiene cartas y el mazo restante esta completo. \n",
        "\n",
        "Él apuesta **$ 1000** en mazos calientes y  **10** en mazos fríos. \n",
        "\n",
        "¿Cuál es la cantidad estimada de dinero que Ben gana o pierde en un fin de semana estimado con 10 millones de simulaciones usando los mazos de cartas español y de póquer? \n",
        "\n",
        "Trace la distribución experimental de los números de tarjeta necesarios para completar 21 en 10000 simulaciones."
      ]
    },
    {
      "cell_type": "code",
      "metadata": {
        "id": "7nzI4nvwUpQw",
        "colab_type": "code",
        "colab": {}
      },
      "source": [
        "#hotdeck = [3, 5, 2, 12, 10, 8, 6, 6, 10, 12] Español con probabilidad 1/10\n",
        "#hotdeck = [2, 8, 9, 3, 11, 7, 13, 4, 10, 5] Poker con probabilidad 1/10"
      ],
      "execution_count": 34,
      "outputs": []
    },
    {
      "cell_type": "markdown",
      "metadata": {
        "id": "wkAUNlTWwkWy",
        "colab_type": "text"
      },
      "source": [
        "#####Deck de cartas españolas"
      ]
    },
    {
      "cell_type": "code",
      "metadata": {
        "id": "u6buGCFhVT2D",
        "colab_type": "code",
        "colab": {
          "base_uri": "https://localhost:8080/",
          "height": 227
        },
        "outputId": "c7367fbf-2ed1-404f-9ee0-3d924ff5a12e"
      },
      "source": [
        "import random as r\n",
        "#hotdeck = [2, 2, 9, 2, 11, 7, 1, 4, 10, 1]\n",
        "cardCounterESP5H=[]\n",
        "succsessCounterESP5H=[]\n",
        "cardCountESP5H=0\n",
        "cardCounterESP5C=[]\n",
        "succsessCounterESP5C=[]\n",
        "cardCountESP5C=0\n",
        "def hoc():\n",
        "  n = r.randrange(0,2)\n",
        "  return n\n",
        "\n",
        "\n",
        "\n",
        "jc ,cc,ch,jh ,games ,earned = 0,0,0,0,0,0\n",
        "scs_c,hand_c,scs_h,hand_h = [],[],[],[]\n",
        "\n",
        "while games <= 10000000:\n",
        "  azar = hoc()\n",
        "  if azar == 1:\n",
        "    while jh <= 10000:\n",
        "      i = 19\n",
        "      nSdeck = [2, 2, 9, 2, 11, 7, 1, 4, 10, 1]\n",
        "      hand_h= [7,7,5]\n",
        "      bet = 1000\n",
        "      earned = earned-1000\n",
        "      cardCountESP5H=0\n",
        "      while i < 21:\n",
        "        rand = r.randrange(len(nSdeck)) \n",
        "        i += nSdeck[rand]\n",
        "        hand_h.append(nSdeck[rand])\n",
        "        nSdeck.remove(nSdeck[rand])\n",
        "        cardCountESP5H+=1\n",
        "        if i == 21:\n",
        "          ch +=1\n",
        "          earned += 2*bet\n",
        "          scs_h.append(len(hand))\n",
        "          cardCounterESP5H.append(cardCountESP5H)\n",
        "          succsessCounterESP5H.append(ch)\n",
        "        earned -= bet\n",
        "        jh+=1    \n",
        "  else:\n",
        "    while jc <= 10000:\n",
        "      i = 0\n",
        "      nSdeck = [1,2,3,4,5,6,7,8,9,10,11,12,1,2,3,4,5,6,7,8,9,10,11,12,1,2,3,4,5,6,7,8,9,10,11,12,1,2,3,4,5,6,7,8,9,10,11,12]\n",
        "      hand_c= []\n",
        "      bet = 10\n",
        "      earned = earned-10\n",
        "      cardCountESP5C=0\n",
        "      while i < 21:\n",
        "        rand = r.randrange(len(nSdeck)) \n",
        "        i += nSdeck[rand]\n",
        "        hand_c.append(nSdeck[rand])\n",
        "        nSdeck.remove(nSdeck[rand])\n",
        "        cardCountESP5C+=1\n",
        "        if i == 21:\n",
        "          cc +=1\n",
        "          earned += 2*bet\n",
        "          scs_c.append(len(hand))\n",
        "          cardCounterESP5C.append(cardCountESP5C)\n",
        "          succsessCounterESP5C.append(cc)\n",
        "        earned -= bet\n",
        "        jc+=1\n",
        "  games +=1        \n",
        "\n",
        "print(\"Cantidad de 21 obtenidos(hot):\" ,ch)\n",
        "print(\"Probabilidad de obtener 21 en 10000 intentos\",ch/jh)\n",
        "\n",
        "print(\"Cantidad de 21 obtenidos(cold):\" ,cc)\n",
        "print(\"Probabilidad de obtener 21 en 10000 intentos\",cc/jc)\n",
        "\n",
        "print(\"Ganancias o perdidas de Ben\",earned)\n",
        "\n",
        "dataESP5H = pd.DataFrame({'numero de cartas HOT': cardCounterESP5H, '21 Exitos HOT': succsessCounterESP5H})\n",
        "dataESP5H.groupby('numero de cartas HOT').count()\n"
      ],
      "execution_count": 35,
      "outputs": [
        {
          "output_type": "stream",
          "text": [
            "Cantidad de 21 obtenidos(hot): 2653\n",
            "Probabilidad de obtener 21 en 10000 intentos 0.2652734726527347\n",
            "Cantidad de 21 obtenidos(cold): 413\n",
            "Probabilidad de obtener 21 en 10000 intentos 0.04129174165166967\n",
            "Ganancias o perdidas de Ben -13117570\n"
          ],
          "name": "stdout"
        },
        {
          "output_type": "execute_result",
          "data": {
            "text/html": [
              "<div>\n",
              "<style scoped>\n",
              "    .dataframe tbody tr th:only-of-type {\n",
              "        vertical-align: middle;\n",
              "    }\n",
              "\n",
              "    .dataframe tbody tr th {\n",
              "        vertical-align: top;\n",
              "    }\n",
              "\n",
              "    .dataframe thead th {\n",
              "        text-align: right;\n",
              "    }\n",
              "</style>\n",
              "<table border=\"1\" class=\"dataframe\">\n",
              "  <thead>\n",
              "    <tr style=\"text-align: right;\">\n",
              "      <th></th>\n",
              "      <th>21 Exitos HOT</th>\n",
              "    </tr>\n",
              "    <tr>\n",
              "      <th>numero de cartas HOT</th>\n",
              "      <th></th>\n",
              "    </tr>\n",
              "  </thead>\n",
              "  <tbody>\n",
              "    <tr>\n",
              "      <th>1</th>\n",
              "      <td>2471</td>\n",
              "    </tr>\n",
              "    <tr>\n",
              "      <th>2</th>\n",
              "      <td>182</td>\n",
              "    </tr>\n",
              "  </tbody>\n",
              "</table>\n",
              "</div>"
            ],
            "text/plain": [
              "                      21 Exitos HOT\n",
              "numero de cartas HOT               \n",
              "1                              2471\n",
              "2                               182"
            ]
          },
          "metadata": {
            "tags": []
          },
          "execution_count": 35
        }
      ]
    },
    {
      "cell_type": "code",
      "metadata": {
        "id": "gK7s0gQyOEsh",
        "colab_type": "code",
        "colab": {
          "base_uri": "https://localhost:8080/",
          "height": 853
        },
        "outputId": "ae53f4b4-ee64-4162-9b1f-e3df443769ee"
      },
      "source": [
        "dataESP5H.groupby('numero de cartas HOT').count().plot()\n",
        "dataESP5H.groupby('numero de cartas HOT').count().plot.bar()\n",
        "dataESP5H.hist(bins=5)\n"
      ],
      "execution_count": 36,
      "outputs": [
        {
          "output_type": "execute_result",
          "data": {
            "text/plain": [
              "array([[<matplotlib.axes._subplots.AxesSubplot object at 0x7ff4c4dad7b8>,\n",
              "        <matplotlib.axes._subplots.AxesSubplot object at 0x7ff4c3caf860>]],\n",
              "      dtype=object)"
            ]
          },
          "metadata": {
            "tags": []
          },
          "execution_count": 36
        },
        {
          "output_type": "display_data",
          "data": {
            "image/png": "[encoded data removed]",
            "text/plain": [
              "<Figure size 432x288 with 1 Axes>"
            ]
          },
          "metadata": {
            "tags": [],
            "needs_background": "light"
          }
        },
        {
          "output_type": "display_data",
          "data": {
            "image/png": "[encoded data removed]",
            "text/plain": [
              "<Figure size 432x288 with 1 Axes>"
            ]
          },
          "metadata": {
            "tags": [],
            "needs_background": "light"
          }
        },
        {
          "output_type": "display_data",
          "data": {
            "image/png": "[encoded data removed]",
            "text/plain": [
              "<Figure size 432x288 with 2 Axes>"
            ]
          },
          "metadata": {
            "tags": [],
            "needs_background": "light"
          }
        }
      ]
    },
    {
      "cell_type": "code",
      "metadata": {
        "id": "2sBHe973OgQf",
        "colab_type": "code",
        "colab": {
          "base_uri": "https://localhost:8080/",
          "height": 235
        },
        "outputId": "529b0882-c255-4d5a-9972-90e2545bba73"
      },
      "source": [
        "dataESP5C = pd.DataFrame({'numero de cartas COLD': cardCounterESP5C, '21 Exitos COLD': succsessCounterESP5C})\n",
        "dataESP5C.groupby('numero de cartas COLD').count()"
      ],
      "execution_count": 37,
      "outputs": [
        {
          "output_type": "execute_result",
          "data": {
            "text/html": [
              "<div>\n",
              "<style scoped>\n",
              "    .dataframe tbody tr th:only-of-type {\n",
              "        vertical-align: middle;\n",
              "    }\n",
              "\n",
              "    .dataframe tbody tr th {\n",
              "        vertical-align: top;\n",
              "    }\n",
              "\n",
              "    .dataframe thead th {\n",
              "        text-align: right;\n",
              "    }\n",
              "</style>\n",
              "<table border=\"1\" class=\"dataframe\">\n",
              "  <thead>\n",
              "    <tr style=\"text-align: right;\">\n",
              "      <th></th>\n",
              "      <th>21 Exitos COLD</th>\n",
              "    </tr>\n",
              "    <tr>\n",
              "      <th>numero de cartas COLD</th>\n",
              "      <th></th>\n",
              "    </tr>\n",
              "  </thead>\n",
              "  <tbody>\n",
              "    <tr>\n",
              "      <th>2</th>\n",
              "      <td>100</td>\n",
              "    </tr>\n",
              "    <tr>\n",
              "      <th>3</th>\n",
              "      <td>153</td>\n",
              "    </tr>\n",
              "    <tr>\n",
              "      <th>4</th>\n",
              "      <td>108</td>\n",
              "    </tr>\n",
              "    <tr>\n",
              "      <th>5</th>\n",
              "      <td>44</td>\n",
              "    </tr>\n",
              "    <tr>\n",
              "      <th>6</th>\n",
              "      <td>8</td>\n",
              "    </tr>\n",
              "  </tbody>\n",
              "</table>\n",
              "</div>"
            ],
            "text/plain": [
              "                       21 Exitos COLD\n",
              "numero de cartas COLD                \n",
              "2                                 100\n",
              "3                                 153\n",
              "4                                 108\n",
              "5                                  44\n",
              "6                                   8"
            ]
          },
          "metadata": {
            "tags": []
          },
          "execution_count": 37
        }
      ]
    },
    {
      "cell_type": "code",
      "metadata": {
        "id": "467s5RI6OriZ",
        "colab_type": "code",
        "colab": {
          "base_uri": "https://localhost:8080/",
          "height": 860
        },
        "outputId": "6dd7256b-b84a-420f-9e5c-5db51f9315de"
      },
      "source": [
        "dataESP5C.groupby('numero de cartas COLD').count().plot()\n",
        "dataESP5C.groupby('numero de cartas COLD').count().plot.bar()\n",
        "dataESP5C.hist(bins=5)"
      ],
      "execution_count": 38,
      "outputs": [
        {
          "output_type": "execute_result",
          "data": {
            "text/plain": [
              "array([[<matplotlib.axes._subplots.AxesSubplot object at 0x7ff4c1dc2da0>,\n",
              "        <matplotlib.axes._subplots.AxesSubplot object at 0x7ff4c5037048>]],\n",
              "      dtype=object)"
            ]
          },
          "metadata": {
            "tags": []
          },
          "execution_count": 38
        },
        {
          "output_type": "display_data",
          "data": {
            "image/png": "[encoded data removed]",
            "text/plain": [
              "<Figure size 432x288 with 1 Axes>"
            ]
          },
          "metadata": {
            "tags": [],
            "needs_background": "light"
          }
        },
        {
          "output_type": "display_data",
          "data": {
            "image/png": "[encoded data removed]",
            "text/plain": [
              "<Figure size 432x288 with 1 Axes>"
            ]
          },
          "metadata": {
            "tags": [],
            "needs_background": "light"
          }
        },
        {
          "output_type": "display_data",
          "data": {
            "image/png": "[encoded data removed]",
            "text/plain": [
              "<Figure size 432x288 with 2 Axes>"
            ]
          },
          "metadata": {
            "tags": [],
            "needs_background": "light"
          }
        }
      ]
    },
    {
      "cell_type": "markdown",
      "metadata": {
        "id": "ey64ovGmxPBv",
        "colab_type": "text"
      },
      "source": [
        "#####Deck de cartas de Poker"
      ]
    },
    {
      "cell_type": "code",
      "metadata": {
        "id": "Jj6nWASCxSef",
        "colab_type": "code",
        "colab": {
          "base_uri": "https://localhost:8080/",
          "height": 227
        },
        "outputId": "e509a863-1f30-40e1-bf0b-3779f654e1e3"
      },
      "source": [
        "#hotdeck de poker [2, 8, 9, 3, 11, 7, 13, 4, 10, 5]\n",
        "import random as r\n",
        "#hotdeck = [2, 8, 9, 3, 11, 7, 13, 4, 10, 5]\n",
        "cardCounterPOKH=[]\n",
        "succsessCounterPOKH=[]\n",
        "cardCountPOKH=0\n",
        "cardCounterPOKC=[]\n",
        "succsessCounterPOKC=[]\n",
        "cardCountPOKC=0\n",
        "def hoc():\n",
        "  n = r.randrange(0,2)\n",
        "  return n\n",
        "\n",
        "\n",
        "\n",
        "jc ,cc,ch,jh ,games ,earned = 0,0,0,0,0,0\n",
        "scs_c,hand_c,scs_h,hand_h = [],[],[],[]\n",
        "\n",
        "while games <= 10000000:\n",
        "  azar = hoc()\n",
        "  if azar == 1:\n",
        "    while jh <= 10000:\n",
        "      i = 19\n",
        "      nSdeck = [2, 8, 9, 3, 11, 7, 13, 4, 10, 5]\n",
        "      hand_h= [7,7,5]\n",
        "      bet = 1000\n",
        "      earned = earned-1000\n",
        "      cardCountPOKH=0\n",
        "      while i < 21:\n",
        "        rand = r.randrange(len(nSdeck)) \n",
        "        i += nSdeck[rand]\n",
        "        hand_h.append(nSdeck[rand])\n",
        "        nSdeck.remove(nSdeck[rand])\n",
        "        cardCountESP5H+=1\n",
        "        if i == 21:\n",
        "          ch +=1\n",
        "          earned += 2*bet\n",
        "          scs_h.append(len(hand))\n",
        "          cardCounterPOKH.append(cardCountESP5H)\n",
        "          succsessCounterPOKH.append(ch)\n",
        "        earned -= bet\n",
        "        jh+=1    \n",
        "  else:\n",
        "    while jc <= 10000:\n",
        "      i = 0\n",
        "      nSdeck = [1,2,3,4,5,6,7,8,9,10,11,12,1,2,3,4,5,6,7,8,9,10,11,12,1,2,3,4,5,6,7,8,9,10,11,12,1,2,3,4,5,6,7,8,9,10,11,12]\n",
        "      hand_c= []\n",
        "      bet = 10\n",
        "      earned = earned-10\n",
        "      cardCountPOKC=0\n",
        "      while i < 21:\n",
        "        rand = r.randrange(len(nSdeck)) \n",
        "        i += nSdeck[rand]\n",
        "        hand_c.append(nSdeck[rand])\n",
        "        nSdeck.remove(nSdeck[rand])\n",
        "        cardCountPOKC+=1\n",
        "        if i == 21:\n",
        "          cc +=1\n",
        "          earned += 2*bet\n",
        "          scs_c.append(len(hand))\n",
        "          cardCounterPOKC.append(cardCountPOKC)\n",
        "          succsessCounterPOKC.append(cc)\n",
        "        earned -= bet\n",
        "        jc+=1\n",
        "  games +=1        \n",
        "\n",
        "print(\"Cantidad de 21 obtenidos(hot):\" ,ch)\n",
        "print(\"Probabilidad de obtener 21 en 10000 intentos\",ch/jh)\n",
        "\n",
        "print(\"Cantidad de 21 obtenidos(cold):\" ,cc)\n",
        "print(\"Probabilidad de obtener 21 en 10000 intentos\",cc/jc)\n",
        "\n",
        "print(\"Ganancias o perdidas de Ben\",earned)\n",
        "\n",
        "dataPOKH = pd.DataFrame({'numero de cartas HOT': cardCounterESP5H, '21 Exitos HOT': succsessCounterESP5H})\n",
        "dataPOKH.groupby('numero de cartas HOT').count()"
      ],
      "execution_count": 39,
      "outputs": [
        {
          "output_type": "stream",
          "text": [
            "Cantidad de 21 obtenidos(hot): 1039\n",
            "Probabilidad de obtener 21 en 10000 intentos 0.10388961103889612\n",
            "Cantidad de 21 obtenidos(cold): 430\n",
            "Probabilidad de obtener 21 en 10000 intentos 0.04299140171965607\n",
            "Ganancias o perdidas de Ben -18041750\n"
          ],
          "name": "stdout"
        },
        {
          "output_type": "execute_result",
          "data": {
            "text/html": [
              "<div>\n",
              "<style scoped>\n",
              "    .dataframe tbody tr th:only-of-type {\n",
              "        vertical-align: middle;\n",
              "    }\n",
              "\n",
              "    .dataframe tbody tr th {\n",
              "        vertical-align: top;\n",
              "    }\n",
              "\n",
              "    .dataframe thead th {\n",
              "        text-align: right;\n",
              "    }\n",
              "</style>\n",
              "<table border=\"1\" class=\"dataframe\">\n",
              "  <thead>\n",
              "    <tr style=\"text-align: right;\">\n",
              "      <th></th>\n",
              "      <th>21 Exitos HOT</th>\n",
              "    </tr>\n",
              "    <tr>\n",
              "      <th>numero de cartas HOT</th>\n",
              "      <th></th>\n",
              "    </tr>\n",
              "  </thead>\n",
              "  <tbody>\n",
              "    <tr>\n",
              "      <th>1</th>\n",
              "      <td>2471</td>\n",
              "    </tr>\n",
              "    <tr>\n",
              "      <th>2</th>\n",
              "      <td>182</td>\n",
              "    </tr>\n",
              "  </tbody>\n",
              "</table>\n",
              "</div>"
            ],
            "text/plain": [
              "                      21 Exitos HOT\n",
              "numero de cartas HOT               \n",
              "1                              2471\n",
              "2                               182"
            ]
          },
          "metadata": {
            "tags": []
          },
          "execution_count": 39
        }
      ]
    },
    {
      "cell_type": "code",
      "metadata": {
        "id": "syLeAkKKPrdb",
        "colab_type": "code",
        "colab": {
          "base_uri": "https://localhost:8080/",
          "height": 853
        },
        "outputId": "52c5a31c-9efc-452d-f361-5050e84bff8e"
      },
      "source": [
        "dataPOKH.groupby('numero de cartas HOT').count().plot()\n",
        "dataPOKH.groupby('numero de cartas HOT').count().plot.bar()\n",
        "dataPOKH.hist(bins=5)"
      ],
      "execution_count": 40,
      "outputs": [
        {
          "output_type": "execute_result",
          "data": {
            "text/plain": [
              "array([[<matplotlib.axes._subplots.AxesSubplot object at 0x7ff4c41dbbe0>,\n",
              "        <matplotlib.axes._subplots.AxesSubplot object at 0x7ff4c52f4c88>]],\n",
              "      dtype=object)"
            ]
          },
          "metadata": {
            "tags": []
          },
          "execution_count": 40
        },
        {
          "output_type": "display_data",
          "data": {
            "image/png": "[encoded data removed]",
            "text/plain": [
              "<Figure size 432x288 with 1 Axes>"
            ]
          },
          "metadata": {
            "tags": [],
            "needs_background": "light"
          }
        },
        {
          "output_type": "display_data",
          "data": {
            "image/png": "[encoded data removed]",
            "text/plain": [
              "<Figure size 432x288 with 1 Axes>"
            ]
          },
          "metadata": {
            "tags": [],
            "needs_background": "light"
          }
        },
        {
          "output_type": "display_data",
          "data": {
            "image/png": "[encoded data removed]",
            "text/plain": [
              "<Figure size 432x288 with 2 Axes>"
            ]
          },
          "metadata": {
            "tags": [],
            "needs_background": "light"
          }
        }
      ]
    },
    {
      "cell_type": "code",
      "metadata": {
        "id": "i4_ax27xPyO4",
        "colab_type": "code",
        "colab": {
          "base_uri": "https://localhost:8080/",
          "height": 297
        },
        "outputId": "7931d320-8f2d-467f-aa17-60fce211c685"
      },
      "source": [
        "dataPOKC = pd.DataFrame({'numero de cartas COLD': cardCounterPOKC, '21 Exitos COLD': succsessCounterPOKC})\n",
        "dataPOKC.groupby('numero de cartas COLD').count()"
      ],
      "execution_count": 41,
      "outputs": [
        {
          "output_type": "execute_result",
          "data": {
            "text/html": [
              "<div>\n",
              "<style scoped>\n",
              "    .dataframe tbody tr th:only-of-type {\n",
              "        vertical-align: middle;\n",
              "    }\n",
              "\n",
              "    .dataframe tbody tr th {\n",
              "        vertical-align: top;\n",
              "    }\n",
              "\n",
              "    .dataframe thead th {\n",
              "        text-align: right;\n",
              "    }\n",
              "</style>\n",
              "<table border=\"1\" class=\"dataframe\">\n",
              "  <thead>\n",
              "    <tr style=\"text-align: right;\">\n",
              "      <th></th>\n",
              "      <th>21 Exitos COLD</th>\n",
              "    </tr>\n",
              "    <tr>\n",
              "      <th>numero de cartas COLD</th>\n",
              "      <th></th>\n",
              "    </tr>\n",
              "  </thead>\n",
              "  <tbody>\n",
              "    <tr>\n",
              "      <th>2</th>\n",
              "      <td>80</td>\n",
              "    </tr>\n",
              "    <tr>\n",
              "      <th>3</th>\n",
              "      <td>166</td>\n",
              "    </tr>\n",
              "    <tr>\n",
              "      <th>4</th>\n",
              "      <td>122</td>\n",
              "    </tr>\n",
              "    <tr>\n",
              "      <th>5</th>\n",
              "      <td>52</td>\n",
              "    </tr>\n",
              "    <tr>\n",
              "      <th>6</th>\n",
              "      <td>8</td>\n",
              "    </tr>\n",
              "    <tr>\n",
              "      <th>7</th>\n",
              "      <td>1</td>\n",
              "    </tr>\n",
              "    <tr>\n",
              "      <th>8</th>\n",
              "      <td>1</td>\n",
              "    </tr>\n",
              "  </tbody>\n",
              "</table>\n",
              "</div>"
            ],
            "text/plain": [
              "                       21 Exitos COLD\n",
              "numero de cartas COLD                \n",
              "2                                  80\n",
              "3                                 166\n",
              "4                                 122\n",
              "5                                  52\n",
              "6                                   8\n",
              "7                                   1\n",
              "8                                   1"
            ]
          },
          "metadata": {
            "tags": []
          },
          "execution_count": 41
        }
      ]
    },
    {
      "cell_type": "code",
      "metadata": {
        "id": "NOlGDgfMP7E5",
        "colab_type": "code",
        "colab": {
          "base_uri": "https://localhost:8080/",
          "height": 853
        },
        "outputId": "d6b8ca64-5110-426b-b098-961c5ebb3892"
      },
      "source": [
        "dataPOKC.groupby('numero de cartas COLD').count().plot()\n",
        "dataPOKC.groupby('numero de cartas COLD').count().plot.bar()\n",
        "dataPOKC.hist(bins=5)"
      ],
      "execution_count": 42,
      "outputs": [
        {
          "output_type": "execute_result",
          "data": {
            "text/plain": [
              "array([[<matplotlib.axes._subplots.AxesSubplot object at 0x7ff4c5373978>,\n",
              "        <matplotlib.axes._subplots.AxesSubplot object at 0x7ff4c569aac8>]],\n",
              "      dtype=object)"
            ]
          },
          "metadata": {
            "tags": []
          },
          "execution_count": 42
        },
        {
          "output_type": "display_data",
          "data": {
            "image/png": "[encoded data removed]",
            "text/plain": [
              "<Figure size 432x288 with 1 Axes>"
            ]
          },
          "metadata": {
            "tags": [],
            "needs_background": "light"
          }
        },
        {
          "output_type": "display_data",
          "data": {
            "image/png": "[encoded data removed]",
            "text/plain": [
              "<Figure size 432x288 with 1 Axes>"
            ]
          },
          "metadata": {
            "tags": [],
            "needs_background": "light"
          }
        },
        {
          "output_type": "display_data",
          "data": {
            "image/png": "[encoded data removed]",
            "text/plain": [
              "<Figure size 432x288 with 2 Axes>"
            ]
          },
          "metadata": {
            "tags": [],
            "needs_background": "light"
          }
        }
      ]
    }
  ]
}