{
  "nbformat": 4,
  "nbformat_minor": 0,
  "metadata": {
    "colab": {
      "name": "21BlackjackGrClass2StGroup28.ipynb",
      "provenance": [],
      "collapsed_sections": [
        "EYkDr8f1AF0z",
        "HNSx0B6-tyP5",
        "zwX0f5LMt14W",
        "Fz2E0JtRCsux",
        "u4h8ATABDAGn",
        "iluwuFiWu23M",
        "wkAUNlTWwkWy"
      ]
    },
    "kernelspec": {
      "name": "python3",
      "display_name": "Python 3"
    }
  },
  "cells": [
    {
      "cell_type": "markdown",
      "metadata": {
        "id": "1HnaxxVi1alW"
      },
      "source": [
        "#**Lab 4:**  *Monte Carlo – 21 Blackjack*\n",
        "\n",
        "**Integrantes:** Kevin Leonardo Alvarez Mora, Brayan Rolando Jr Portela Cabrera, Christian Camilo Pabon Useche\n",
        "**Grupo:** 2 - 28"
      ]
    },
    {
      "cell_type": "code",
      "metadata": {
        "id": "oU1lVOP7zuIh"
      },
      "source": [
        "import numpy as np \n",
        "import math\n",
        "import random as r\n",
        "import matplotlib.pyplot as plt\n",
        "import pandas as pd\n",
        "import statistics as stts\n",
        "%matplotlib inline"
      ],
      "execution_count": 1,
      "outputs": []
    },
    {
      "cell_type": "markdown",
      "metadata": {
        "id": "47L8hq5j2eNy"
      },
      "source": [
        "### **P1:**\n",
        "\n",
        "Estimate the probability of getting a 21, the average number of cards required to complete 21 and plot the experimental distribution of the number of card required to complete 21 drawing cards sequentially from a shuffled Spanish 48-card deck with standard card values  and from a shuffled Poker 52-card using Montecarlo with 10 millions simulations."
      ]
    },
    {
      "cell_type": "markdown",
      "metadata": {
        "id": "vxRkXb1lclxu"
      },
      "source": [
        "**As the same code is used all along the laboratory, from now on only mayor changes on it will be highlited**"
      ]
    },
    {
      "cell_type": "markdown",
      "metadata": {
        "id": "1RaFz1HtSaxy"
      },
      "source": [
        "#### *Spanish 48-Deck with Standard Cards*"
      ]
    },
    {
      "cell_type": "code",
      "metadata": {
        "id": "zqDk9I9Oz7HB",
        "outputId": "782dd800-0027-4b50-d5e8-6dc612b4d88e",
        "colab": {
          "base_uri": "https://localhost:8080/",
          "height": 379
        }
      },
      "source": [
        "#1) Baraja española de 48 cartas\n",
        "cardCounter=[]\n",
        "succsessCounter=[]\n",
        "f,j,c,cardCount =0,0,0,0\n",
        "while j <= 10000000:\n",
        "  i = 0                               #iniciamos la mano en 0\n",
        "  nSdeck = [1,2,3,4,5,6,7,8,9,10,11,12,1,2,3,4,5,6,7,8,9,10,11,12,1,2,3,4,5,6,7,8,9,10,11,12,1,2,3,4,5,6,7,8,9,10,11,12]\n",
        "  cardCount=0\n",
        "  while i < 21:\n",
        "    rand = r.randrange(len(nSdeck))   # toma un valor aleatorio en el mazo\n",
        "    i += nSdeck[rand]                 # Suma a la mano el valor de la carta\n",
        "    nSdeck.remove(nSdeck[rand])       # quita la carta de la baraja y no su primer ocurrencia\n",
        "    cardCount+=1                      # sumamos una carta por cada carta que sacamos\n",
        "  if i == 21:\n",
        "    c +=1 \n",
        "    cardCounter.append(cardCount)\n",
        "    succsessCounter.append(c)         # Si se obtiene una 21 se cuenta como exito\n",
        "\n",
        "  j+=1\n",
        "\n",
        "print(\"Cantidad de 21 obtenidos:\" ,c)\n",
        "print(\"Probabilidad de obtener 21 en 10'000.000 intentos\",c/j)\n",
        "print(\"Media de cartas necesaria para obtener 21:\",stts.mean(cardCounter))\n",
        "data = pd.DataFrame({'numero de cartas': cardCounter, '21 Exitos': succsessCounter})\n",
        "\n",
        "data.groupby('numero de cartas').count()\n",
        "\n"
      ],
      "execution_count": 2,
      "outputs": [
        {
          "output_type": "stream",
          "text": [
            "Cantidad de 21 obtenidos: 1577482\n",
            "Probabilidad de obtener 21 en 10'000.000 intentos 0.15774818422518158\n",
            "Media de cartas necesaria para obtener 21: 3.4152148804233584\n"
          ],
          "name": "stdout"
        },
        {
          "output_type": "execute_result",
          "data": {
            "text/html": [
              "<div>\n",
              "<style scoped>\n",
              "    .dataframe tbody tr th:only-of-type {\n",
              "        vertical-align: middle;\n",
              "    }\n",
              "\n",
              "    .dataframe tbody tr th {\n",
              "        vertical-align: top;\n",
              "    }\n",
              "\n",
              "    .dataframe thead th {\n",
              "        text-align: right;\n",
              "    }\n",
              "</style>\n",
              "<table border=\"1\" class=\"dataframe\">\n",
              "  <thead>\n",
              "    <tr style=\"text-align: right;\">\n",
              "      <th></th>\n",
              "      <th>21 Exitos</th>\n",
              "    </tr>\n",
              "    <tr>\n",
              "      <th>numero de cartas</th>\n",
              "      <th></th>\n",
              "    </tr>\n",
              "  </thead>\n",
              "  <tbody>\n",
              "    <tr>\n",
              "      <th>2</th>\n",
              "      <td>283129</td>\n",
              "    </tr>\n",
              "    <tr>\n",
              "      <th>3</th>\n",
              "      <td>628327</td>\n",
              "    </tr>\n",
              "    <tr>\n",
              "      <th>4</th>\n",
              "      <td>448280</td>\n",
              "    </tr>\n",
              "    <tr>\n",
              "      <th>5</th>\n",
              "      <td>170690</td>\n",
              "    </tr>\n",
              "    <tr>\n",
              "      <th>6</th>\n",
              "      <td>40431</td>\n",
              "    </tr>\n",
              "    <tr>\n",
              "      <th>7</th>\n",
              "      <td>5988</td>\n",
              "    </tr>\n",
              "    <tr>\n",
              "      <th>8</th>\n",
              "      <td>604</td>\n",
              "    </tr>\n",
              "    <tr>\n",
              "      <th>9</th>\n",
              "      <td>33</td>\n",
              "    </tr>\n",
              "  </tbody>\n",
              "</table>\n",
              "</div>"
            ],
            "text/plain": [
              "                  21 Exitos\n",
              "numero de cartas           \n",
              "2                    283129\n",
              "3                    628327\n",
              "4                    448280\n",
              "5                    170690\n",
              "6                     40431\n",
              "7                      5988\n",
              "8                       604\n",
              "9                        33"
            ]
          },
          "metadata": {
            "tags": []
          },
          "execution_count": 2
        }
      ]
    },
    {
      "cell_type": "code",
      "metadata": {
        "id": "He6gpyfTCkbT",
        "outputId": "8c4e9058-b9b9-4d66-a4b9-bf420727e75c",
        "colab": {
          "base_uri": "https://localhost:8080/",
          "height": 866
        }
      },
      "source": [
        "data.groupby('numero de cartas').count().plot()\n",
        "data.groupby('numero de cartas').count().plot.bar()\n",
        "data.hist(bins=10)"
      ],
      "execution_count": 3,
      "outputs": [
        {
          "output_type": "execute_result",
          "data": {
            "text/plain": [
              "array([[<matplotlib.axes._subplots.AxesSubplot object at 0x7f023065c160>,\n",
              "        <matplotlib.axes._subplots.AxesSubplot object at 0x7f023068f160>]],\n",
              "      dtype=object)"
            ]
          },
          "metadata": {
            "tags": []
          },
          "execution_count": 3
        },
        {
          "output_type": "display_data",
          "data": {
            "image/png": "[encoded data removed]",
            "text/plain": [
              "<Figure size 432x288 with 1 Axes>"
            ]
          },
          "metadata": {
            "tags": [],
            "needs_background": "light"
          }
        },
        {
          "output_type": "display_data",
          "data": {
            "image/png": "[encoded data removed]",
            "text/plain": [
              "<Figure size 432x288 with 1 Axes>"
            ]
          },
          "metadata": {
            "tags": [],
            "needs_background": "light"
          }
        },
        {
          "output_type": "display_data",
          "data": {
            "image/png": "[encoded data removed]",
            "text/plain": [
              "<Figure size 432x288 with 2 Axes>"
            ]
          },
          "metadata": {
            "tags": [],
            "needs_background": "light"
          }
        }
      ]
    },
    {
      "cell_type": "markdown",
      "metadata": {
        "id": "LIWedCFmSuSO"
      },
      "source": [
        "#### *Poker 52-Deck with Standard Cards*"
      ]
    },
    {
      "cell_type": "code",
      "metadata": {
        "id": "4xxw9uOf9D1k",
        "outputId": "68ce6c91-a842-4ad9-bee4-a33d0866629d",
        "colab": {
          "base_uri": "https://localhost:8080/",
          "height": 379
        }
      },
      "source": [
        "#1)Baraja de Poker de 52 cartas\n",
        "cardCounter2=[]\n",
        "succsessCounter2=[]\n",
        "j2 = 0   \n",
        "c2 = 0 \n",
        "cardCount2=0\n",
        "while j2 <= 10000000:\n",
        "  i2 = 0\n",
        "  nSdeck2 = [1,2,3,4,5,6,7,8,9,10,11,12,13,1,2,3,4,5,6,7,8,9,10,11,12,13,1,2,3,4,5,6,7,8,9,10,11,12,13,1,2,3,4,5,6,7,8,9,10,11,12,13]\n",
        "  cardCount2=0\n",
        "  while i2 < 21:\n",
        "    rand2 = r.randrange(len(nSdeck2)) \n",
        "    i2 += nSdeck2[rand2]\n",
        "    nSdeck2.remove(nSdeck2[rand2]) \n",
        "    cardCount2+=1\n",
        "  if i2 == 21:\n",
        "    c2 +=1\n",
        "    cardCounter2.append(cardCount2)\n",
        "    succsessCounter2.append(c2)\n",
        "\n",
        "  j2+=1\n",
        "\n",
        "print(\"Cantidad de 21 obtenidos POKER:\" ,c2)\n",
        "print(\"Probabilidad de obtener 21 en 10'000.000 intentos Poker\",c2/j2)\n",
        "print(\"Media de cartas necesaria para obtener 21:\",stts.mean(cardCounter2))\n",
        "data2 = pd.DataFrame({'numero de cartas': cardCounter2, '21 Exitos': succsessCounter2})\n",
        "\n",
        "data2.groupby('numero de cartas').count()\n",
        "\n"
      ],
      "execution_count": 4,
      "outputs": [
        {
          "output_type": "stream",
          "text": [
            "Cantidad de 21 obtenidos POKER: 1448993\n",
            "Probabilidad de obtener 21 en 10'000.000 intentos Poker 0.14489928551007145\n",
            "Media de cartas necesaria para obtener 21: 3.214690478145857\n"
          ],
          "name": "stdout"
        },
        {
          "output_type": "execute_result",
          "data": {
            "text/html": [
              "<div>\n",
              "<style scoped>\n",
              "    .dataframe tbody tr th:only-of-type {\n",
              "        vertical-align: middle;\n",
              "    }\n",
              "\n",
              "    .dataframe tbody tr th {\n",
              "        vertical-align: top;\n",
              "    }\n",
              "\n",
              "    .dataframe thead th {\n",
              "        text-align: right;\n",
              "    }\n",
              "</style>\n",
              "<table border=\"1\" class=\"dataframe\">\n",
              "  <thead>\n",
              "    <tr style=\"text-align: right;\">\n",
              "      <th></th>\n",
              "      <th>21 Exitos</th>\n",
              "    </tr>\n",
              "    <tr>\n",
              "      <th>numero de cartas</th>\n",
              "      <th></th>\n",
              "    </tr>\n",
              "  </thead>\n",
              "  <tbody>\n",
              "    <tr>\n",
              "      <th>2</th>\n",
              "      <td>362697</td>\n",
              "    </tr>\n",
              "    <tr>\n",
              "      <th>3</th>\n",
              "      <td>589058</td>\n",
              "    </tr>\n",
              "    <tr>\n",
              "      <th>4</th>\n",
              "      <td>352793</td>\n",
              "    </tr>\n",
              "    <tr>\n",
              "      <th>5</th>\n",
              "      <td>116352</td>\n",
              "    </tr>\n",
              "    <tr>\n",
              "      <th>6</th>\n",
              "      <td>24423</td>\n",
              "    </tr>\n",
              "    <tr>\n",
              "      <th>7</th>\n",
              "      <td>3347</td>\n",
              "    </tr>\n",
              "    <tr>\n",
              "      <th>8</th>\n",
              "      <td>310</td>\n",
              "    </tr>\n",
              "    <tr>\n",
              "      <th>9</th>\n",
              "      <td>13</td>\n",
              "    </tr>\n",
              "  </tbody>\n",
              "</table>\n",
              "</div>"
            ],
            "text/plain": [
              "                  21 Exitos\n",
              "numero de cartas           \n",
              "2                    362697\n",
              "3                    589058\n",
              "4                    352793\n",
              "5                    116352\n",
              "6                     24423\n",
              "7                      3347\n",
              "8                       310\n",
              "9                        13"
            ]
          },
          "metadata": {
            "tags": []
          },
          "execution_count": 4
        }
      ]
    },
    {
      "cell_type": "code",
      "metadata": {
        "id": "moO_hUsyCdvd",
        "outputId": "783f2032-fb1d-40c2-8913-897c74dbb7e5",
        "colab": {
          "base_uri": "https://localhost:8080/",
          "height": 866
        }
      },
      "source": [
        "data2.groupby('numero de cartas').count().plot()\n",
        "data2.groupby('numero de cartas').count().plot.bar()\n",
        "data2.hist(bins=5)"
      ],
      "execution_count": 5,
      "outputs": [
        {
          "output_type": "execute_result",
          "data": {
            "text/plain": [
              "array([[<matplotlib.axes._subplots.AxesSubplot object at 0x7f022d31eef0>,\n",
              "        <matplotlib.axes._subplots.AxesSubplot object at 0x7f022d34fb00>]],\n",
              "      dtype=object)"
            ]
          },
          "metadata": {
            "tags": []
          },
          "execution_count": 5
        },
        {
          "output_type": "display_data",
          "data": {
            "image/png": "[encoded data removed]",
            "text/plain": [
              "<Figure size 432x288 with 1 Axes>"
            ]
          },
          "metadata": {
            "tags": [],
            "needs_background": "light"
          }
        },
        {
          "output_type": "display_data",
          "data": {
            "image/png": "[encoded data removed]",
            "text/plain": [
              "<Figure size 432x288 with 1 Axes>"
            ]
          },
          "metadata": {
            "tags": [],
            "needs_background": "light"
          }
        },
        {
          "output_type": "display_data",
          "data": {
            "image/png": "[encoded data removed]",
            "text/plain": [
              "<Figure size 432x288 with 2 Axes>"
            ]
          },
          "metadata": {
            "tags": [],
            "needs_background": "light"
          }
        }
      ]
    },
    {
      "cell_type": "markdown",
      "metadata": {
        "id": "Gzp9W26e5OAp"
      },
      "source": [
        "### **P2:**\n",
        "Estimate the probability of getting a 21, the average number of cards required to complete 21 and plot the experimental distribution of the number of card required to complete 21 drawing cards sequentially from a shuffled Spanish 48-card deck with  card value 10 for the figures,  and from a shuffled Poker 52-card deck with card value 10 for the figures using Montecarlo with 10 millions simulations."
      ]
    },
    {
      "cell_type": "markdown",
      "metadata": {
        "id": "YE9dseUaUCg_"
      },
      "source": [
        "#### *Spanish 48-Deck modified: 10 As High Figures*"
      ]
    },
    {
      "cell_type": "code",
      "metadata": {
        "id": "HuI7EJ6G-Obt",
        "outputId": "7f078153-c9d4-4d83-9d79-faaeaf3279f5",
        "colab": {
          "base_uri": "https://localhost:8080/",
          "height": 379
        }
      },
      "source": [
        "#2)Segundo Punto Baraja Española Modificada \n",
        "cardCounterESP2=[]\n",
        "succsessCounterESP2=[]\n",
        "jESP2 = 0   \n",
        "cESP2 = 0 \n",
        "cardCountESP2=0\n",
        "while jESP2 <= 10000000:\n",
        "  iESP2 = 0\n",
        "  nSdeckESP2 = [1,2,3,4,5,6,7,8,9,10,10,10,1,2,3,4,5,6,7,8,9,10,10,10,1,2,3,4,5,6,7,8,9,10,10,10,1,2,3,4,5,6,7,8,9,10,10,10]\n",
        "  cardCountESP2=0\n",
        "  while iESP2 < 21:\n",
        "    randESP2 = r.randrange(len(nSdeckESP2))\n",
        "    iESP2 += nSdeckESP2[randESP2]\n",
        "    nSdeckESP2.remove(nSdeckESP2[randESP2]) \n",
        "    cardCountESP2+=1\n",
        "  if iESP2 == 21:\n",
        "    cESP2 +=1\n",
        "    cardCounterESP2.append(cardCountESP2)\n",
        "    succsessCounterESP2.append(cESP2)\n",
        "  \n",
        "  jESP2+=1\n",
        "\n",
        "print(\"Cantidad de 21 obtenidos ESPAÑOLA PUNTO 2:\" ,cESP2)\n",
        "print(\"Probabilidad de obtener 21 en 10'000.000 intentos Poker\",cESP2/jESP2)\n",
        "print(\"Media de cartas para obtener 21:\",stts.mean(cardCounterESP2))\n",
        "dataESP2 = pd.DataFrame({'numero de cartas': cardCounterESP2, '21 Exitos': succsessCounterESP2})\n",
        "dataESP2.groupby('numero de cartas').count()\n",
        "\n"
      ],
      "execution_count": 6,
      "outputs": [
        {
          "output_type": "stream",
          "text": [
            "Cantidad de 21 obtenidos ESPAÑOLA PUNTO 2: 1496557\n",
            "Probabilidad de obtener 21 en 10'000.000 intentos Poker 0.1496556850344315\n",
            "Media de cartas para obtener 21: 3.699996057617585\n"
          ],
          "name": "stdout"
        },
        {
          "output_type": "execute_result",
          "data": {
            "text/html": [
              "<div>\n",
              "<style scoped>\n",
              "    .dataframe tbody tr th:only-of-type {\n",
              "        vertical-align: middle;\n",
              "    }\n",
              "\n",
              "    .dataframe tbody tr th {\n",
              "        vertical-align: top;\n",
              "    }\n",
              "\n",
              "    .dataframe thead th {\n",
              "        text-align: right;\n",
              "    }\n",
              "</style>\n",
              "<table border=\"1\" class=\"dataframe\">\n",
              "  <thead>\n",
              "    <tr style=\"text-align: right;\">\n",
              "      <th></th>\n",
              "      <th>21 Exitos</th>\n",
              "    </tr>\n",
              "    <tr>\n",
              "      <th>numero de cartas</th>\n",
              "      <th></th>\n",
              "    </tr>\n",
              "  </thead>\n",
              "  <tbody>\n",
              "    <tr>\n",
              "      <th>3</th>\n",
              "      <td>751156</td>\n",
              "    </tr>\n",
              "    <tr>\n",
              "      <th>4</th>\n",
              "      <td>502081</td>\n",
              "    </tr>\n",
              "    <tr>\n",
              "      <th>5</th>\n",
              "      <td>192162</td>\n",
              "    </tr>\n",
              "    <tr>\n",
              "      <th>6</th>\n",
              "      <td>44090</td>\n",
              "    </tr>\n",
              "    <tr>\n",
              "      <th>7</th>\n",
              "      <td>6470</td>\n",
              "    </tr>\n",
              "    <tr>\n",
              "      <th>8</th>\n",
              "      <td>560</td>\n",
              "    </tr>\n",
              "    <tr>\n",
              "      <th>9</th>\n",
              "      <td>37</td>\n",
              "    </tr>\n",
              "    <tr>\n",
              "      <th>10</th>\n",
              "      <td>1</td>\n",
              "    </tr>\n",
              "  </tbody>\n",
              "</table>\n",
              "</div>"
            ],
            "text/plain": [
              "                  21 Exitos\n",
              "numero de cartas           \n",
              "3                    751156\n",
              "4                    502081\n",
              "5                    192162\n",
              "6                     44090\n",
              "7                      6470\n",
              "8                       560\n",
              "9                        37\n",
              "10                        1"
            ]
          },
          "metadata": {
            "tags": []
          },
          "execution_count": 6
        }
      ]
    },
    {
      "cell_type": "code",
      "metadata": {
        "id": "UnqCYblVCzOM",
        "outputId": "18e58ec6-513b-4e7c-8918-83973b1b035c",
        "colab": {
          "base_uri": "https://localhost:8080/",
          "height": 872
        }
      },
      "source": [
        "dataESP2.groupby('numero de cartas').count().plot()\n",
        "dataESP2.groupby('numero de cartas').count().plot.bar()\n",
        "dataESP2.hist(bins=10)"
      ],
      "execution_count": 7,
      "outputs": [
        {
          "output_type": "execute_result",
          "data": {
            "text/plain": [
              "array([[<matplotlib.axes._subplots.AxesSubplot object at 0x7f022a34af28>,\n",
              "        <matplotlib.axes._subplots.AxesSubplot object at 0x7f022a2fd6a0>]],\n",
              "      dtype=object)"
            ]
          },
          "metadata": {
            "tags": []
          },
          "execution_count": 7
        },
        {
          "output_type": "display_data",
          "data": {
            "image/png": "[encoded data removed]",
            "text/plain": [
              "<Figure size 432x288 with 1 Axes>"
            ]
          },
          "metadata": {
            "tags": [],
            "needs_background": "light"
          }
        },
        {
          "output_type": "display_data",
          "data": {
            "image/png": "[encoded data removed]",
            "text/plain": [
              "<Figure size 432x288 with 1 Axes>"
            ]
          },
          "metadata": {
            "tags": [],
            "needs_background": "light"
          }
        },
        {
          "output_type": "display_data",
          "data": {
            "image/png": "[encoded data removed]",
            "text/plain": [
              "<Figure size 432x288 with 2 Axes>"
            ]
          },
          "metadata": {
            "tags": [],
            "needs_background": "light"
          }
        }
      ]
    },
    {
      "cell_type": "markdown",
      "metadata": {
        "id": "D57XM0ILUS1P"
      },
      "source": [
        "#### *Poker 52-Deck Modified: 10 As High figures*"
      ]
    },
    {
      "cell_type": "code",
      "metadata": {
        "id": "7fSfGa9bAbot",
        "outputId": "e40d87c6-a52f-47cb-d0a3-9cd7ff61efbb",
        "colab": {
          "base_uri": "https://localhost:8080/",
          "height": 348
        }
      },
      "source": [
        "#2)Segundo Punto Baraja de Poker Modificada\n",
        "cardCounterPOKER2=[]\n",
        "succsessCounterPOKER2=[]\n",
        "jPOKER2 = 0   \n",
        "cPOKER2 = 0 \n",
        "cardCountPOKER2=0\n",
        "while jPOKER2 <= 10000000:\n",
        "  iPOKER2 = 0\n",
        "  nSdeckPOKER2 = [1,2,3,4,5,6,7,8,9,10,10,10,10,1,2,3,4,5,6,7,8,9,10,10,10,10,1,2,3,4,5,6,7,8,9,10,10,10,10,1,2,3,4,5,6,7,8,9,10,10,10,10]\n",
        "  cardCountPOKER2=0\n",
        "  while iPOKER2 < 21:\n",
        "    randPOKER2 = r.randrange(len(nSdeckPOKER2)) \n",
        "    iPOKER2 += nSdeckPOKER2[randPOKER2]\n",
        "    nSdeckPOKER2.remove(nSdeckPOKER2[randPOKER2])\n",
        "    cardCountPOKER2+=1 \n",
        "  if iPOKER2 == 21:\n",
        "    cPOKER2 +=1\n",
        "    cardCounterPOKER2.append(cardCountPOKER2)\n",
        "    succsessCounterPOKER2.append(cPOKER2)\n",
        "    \n",
        "  jPOKER2+=1\n",
        "\n",
        "print(\"Cantidad de 21 obtenidos POKER PUNTO 2:\" ,cPOKER2)\n",
        "print(\"Probabilidad de obtener 21 en 10'000.000 intentos Poker\",cPOKER2/jPOKER2)\n",
        "print(\"Media de cartas para obtener 21:\",stts.mean(cardCounterPOKER2))\n",
        "dataPOKER2 = pd.DataFrame({'Numero de cartas': cardCounterPOKER2, '21 Obtenidos': succsessCounterPOKER2})\n",
        "dataPOKER2.groupby('Numero de cartas').count()\n"
      ],
      "execution_count": 8,
      "outputs": [
        {
          "output_type": "stream",
          "text": [
            "Cantidad de 21 obtenidos POKER PUNTO 2: 1400910\n",
            "Probabilidad de obtener 21 en 10'000.000 intentos Poker 0.1400909859909014\n",
            "Media de cartas para obtener 21: 3.5778001441919893\n"
          ],
          "name": "stdout"
        },
        {
          "output_type": "execute_result",
          "data": {
            "text/html": [
              "<div>\n",
              "<style scoped>\n",
              "    .dataframe tbody tr th:only-of-type {\n",
              "        vertical-align: middle;\n",
              "    }\n",
              "\n",
              "    .dataframe tbody tr th {\n",
              "        vertical-align: top;\n",
              "    }\n",
              "\n",
              "    .dataframe thead th {\n",
              "        text-align: right;\n",
              "    }\n",
              "</style>\n",
              "<table border=\"1\" class=\"dataframe\">\n",
              "  <thead>\n",
              "    <tr style=\"text-align: right;\">\n",
              "      <th></th>\n",
              "      <th>21 Obtenidos</th>\n",
              "    </tr>\n",
              "    <tr>\n",
              "      <th>Numero de cartas</th>\n",
              "      <th></th>\n",
              "    </tr>\n",
              "  </thead>\n",
              "  <tbody>\n",
              "    <tr>\n",
              "      <th>3</th>\n",
              "      <td>801262</td>\n",
              "    </tr>\n",
              "    <tr>\n",
              "      <th>4</th>\n",
              "      <td>426620</td>\n",
              "    </tr>\n",
              "    <tr>\n",
              "      <th>5</th>\n",
              "      <td>140475</td>\n",
              "    </tr>\n",
              "    <tr>\n",
              "      <th>6</th>\n",
              "      <td>28640</td>\n",
              "    </tr>\n",
              "    <tr>\n",
              "      <th>7</th>\n",
              "      <td>3622</td>\n",
              "    </tr>\n",
              "    <tr>\n",
              "      <th>8</th>\n",
              "      <td>278</td>\n",
              "    </tr>\n",
              "    <tr>\n",
              "      <th>9</th>\n",
              "      <td>13</td>\n",
              "    </tr>\n",
              "  </tbody>\n",
              "</table>\n",
              "</div>"
            ],
            "text/plain": [
              "                  21 Obtenidos\n",
              "Numero de cartas              \n",
              "3                       801262\n",
              "4                       426620\n",
              "5                       140475\n",
              "6                        28640\n",
              "7                         3622\n",
              "8                          278\n",
              "9                           13"
            ]
          },
          "metadata": {
            "tags": []
          },
          "execution_count": 8
        }
      ]
    },
    {
      "cell_type": "code",
      "metadata": {
        "id": "_pdelvwuC7th",
        "outputId": "1c98c62d-de82-494a-835f-99ad741dc60a",
        "colab": {
          "base_uri": "https://localhost:8080/",
          "height": 866
        }
      },
      "source": [
        "dataPOKER2.groupby('Numero de cartas').count().plot()\n",
        "dataPOKER2.groupby('Numero de cartas').count().plot.bar()\n",
        "dataPOKER2.hist(bins=10)"
      ],
      "execution_count": 9,
      "outputs": [
        {
          "output_type": "execute_result",
          "data": {
            "text/plain": [
              "array([[<matplotlib.axes._subplots.AxesSubplot object at 0x7f022760b5f8>,\n",
              "        <matplotlib.axes._subplots.AxesSubplot object at 0x7f02275ca828>]],\n",
              "      dtype=object)"
            ]
          },
          "metadata": {
            "tags": []
          },
          "execution_count": 9
        },
        {
          "output_type": "display_data",
          "data": {
            "image/png": "[encoded data removed]",
            "text/plain": [
              "<Figure size 432x288 with 1 Axes>"
            ]
          },
          "metadata": {
            "tags": [],
            "needs_background": "light"
          }
        },
        {
          "output_type": "display_data",
          "data": {
            "image/png": "[encoded data removed]",
            "text/plain": [
              "<Figure size 432x288 with 1 Axes>"
            ]
          },
          "metadata": {
            "tags": [],
            "needs_background": "light"
          }
        },
        {
          "output_type": "display_data",
          "data": {
            "image/png": "[encoded data removed]",
            "text/plain": [
              "<Figure size 432x288 with 2 Axes>"
            ]
          },
          "metadata": {
            "tags": [],
            "needs_background": "light"
          }
        }
      ]
    },
    {
      "cell_type": "markdown",
      "metadata": {
        "id": "bDALNOsJ9eom"
      },
      "source": [
        "###**P3:**\n",
        "Estimate the probability of getting a 21, the average total number of cards required to complete 21 (including the three that you start with) and plot the experimental distribution of the number of card required to complete 21 with drawing cards sequentially from a shuffled Spanish 48-card deck with 3 10’s and a shuffled Poker 52-card deck with 4 10’s.\n",
        " \n",
        "Assuming that you have in your hand the cards [7,7,5]as and the remaining deck has n/2 cards. You can pick the $n/2$ cards in the remaining deck in whatever way you choose but with restriction that this has maximum two 7s and three 5, you have to keep the remaining deck fixed through the simulations, use Montecarlo with 10 millions simulations."
      ]
    },
    {
      "cell_type": "markdown",
      "metadata": {
        "id": "rGPo5KGwiNIp"
      },
      "source": [
        "#### *Shuffled spanish 48-card deck with 3 10’s*"
      ]
    },
    {
      "cell_type": "code",
      "metadata": {
        "id": "xmK2MPZ2AbpH",
        "outputId": "73536c3b-6f5f-498d-814f-18acc789df32",
        "colab": {
          "base_uri": "https://localhost:8080/",
          "height": 193
        }
      },
      "source": [
        "\n",
        "cardCounterESP3=[]\n",
        "succsessCounterESP3=[]\n",
        "jESP3 = 0   \n",
        "cESP3 = 0 \n",
        "scsESP3 = []\n",
        "cardCountESP3=0\n",
        "while jESP3 <= 10000000:\n",
        "  iESP3 = 19\n",
        "  nSdeckESP3 = [1,2,3,4,5,6,7,8,9,10,10,10,10,1,2,3,4,5,6,7,8,9,10,10,10,10]\n",
        "  handESP3 = [7,7,5]\n",
        "  cardCountESP3=0\n",
        "  while iESP3 < 21:\n",
        "    randESP3 = r.randrange(len(nSdeckESP3)) \n",
        "    iESP3 += nSdeckESP3[randESP3]\n",
        "    handESP3.append(nSdeckESP3[randESP3])\n",
        "    nSdeckESP3.remove(nSdeckESP3[randESP3]) \n",
        "    cardCountESP3+=1\n",
        "  if iESP3 == 21:\n",
        "    cESP3 +=1\n",
        "    scsESP3.append(len(handESP3))\n",
        "    cardCounterESP3.append(cardCountESP3)\n",
        "    succsessCounterESP3.append(cESP3)\n",
        "  jESP3+=1\n",
        "\n",
        "print(\"Cantidad de 21 obtenidos:\" ,cESP3)\n",
        "print(\"Probabilidad de obtener 21 en 10'000.000 intentos\",cESP3/jESP3)\n",
        "print(\"Media de cartas necesarias bara obtener 21:\",stts.mean(cardCounterESP3))\n",
        "dataESP3 = pd.DataFrame({'numero de cartas': cardCounterESP3, '21 Exitos': succsessCounterESP3})\n",
        "dataESP3.groupby('numero de cartas').count()"
      ],
      "execution_count": 10,
      "outputs": [
        {
          "output_type": "stream",
          "text": [
            "Cantidad de 21 obtenidos: 799167\n",
            "Probabilidad de obtener 21 en 10'000.000 intentos 0.0799166920083308\n",
            "Media de cartas necesarias bara obtener 21: 1.0385513916365416\n"
          ],
          "name": "stdout"
        },
        {
          "output_type": "execute_result",
          "data": {
            "text/html": [
              "<div>\n",
              "<style scoped>\n",
              "    .dataframe tbody tr th:only-of-type {\n",
              "        vertical-align: middle;\n",
              "    }\n",
              "\n",
              "    .dataframe tbody tr th {\n",
              "        vertical-align: top;\n",
              "    }\n",
              "\n",
              "    .dataframe thead th {\n",
              "        text-align: right;\n",
              "    }\n",
              "</style>\n",
              "<table border=\"1\" class=\"dataframe\">\n",
              "  <thead>\n",
              "    <tr style=\"text-align: right;\">\n",
              "      <th></th>\n",
              "      <th>21 Exitos</th>\n",
              "    </tr>\n",
              "    <tr>\n",
              "      <th>numero de cartas</th>\n",
              "      <th></th>\n",
              "    </tr>\n",
              "  </thead>\n",
              "  <tbody>\n",
              "    <tr>\n",
              "      <th>1</th>\n",
              "      <td>768358</td>\n",
              "    </tr>\n",
              "    <tr>\n",
              "      <th>2</th>\n",
              "      <td>30809</td>\n",
              "    </tr>\n",
              "  </tbody>\n",
              "</table>\n",
              "</div>"
            ],
            "text/plain": [
              "                  21 Exitos\n",
              "numero de cartas           \n",
              "1                    768358\n",
              "2                     30809"
            ]
          },
          "metadata": {
            "tags": []
          },
          "execution_count": 10
        }
      ]
    },
    {
      "cell_type": "code",
      "metadata": {
        "id": "18wSlPgI6bOu",
        "outputId": "28a92edb-751c-44f1-f477-fd32f7071c3c",
        "colab": {
          "base_uri": "https://localhost:8080/",
          "height": 858
        }
      },
      "source": [
        "dataESP3.groupby('numero de cartas').count().plot()\n",
        "dataESP3.groupby('numero de cartas').count().plot.bar()\n",
        "dataESP3.hist(bins=5)"
      ],
      "execution_count": 11,
      "outputs": [
        {
          "output_type": "execute_result",
          "data": {
            "text/plain": [
              "array([[<matplotlib.axes._subplots.AxesSubplot object at 0x7f022d2462e8>,\n",
              "        <matplotlib.axes._subplots.AxesSubplot object at 0x7f022a36dc18>]],\n",
              "      dtype=object)"
            ]
          },
          "metadata": {
            "tags": []
          },
          "execution_count": 11
        },
        {
          "output_type": "display_data",
          "data": {
            "image/png": "[encoded data removed]",
            "text/plain": [
              "<Figure size 432x288 with 1 Axes>"
            ]
          },
          "metadata": {
            "tags": [],
            "needs_background": "light"
          }
        },
        {
          "output_type": "display_data",
          "data": {
            "image/png": "[encoded data removed]",
            "text/plain": [
              "<Figure size 432x288 with 1 Axes>"
            ]
          },
          "metadata": {
            "tags": [],
            "needs_background": "light"
          }
        },
        {
          "output_type": "display_data",
          "data": {
            "image/png": "[encoded data removed]",
            "text/plain": [
              "<Figure size 432x288 with 2 Axes>"
            ]
          },
          "metadata": {
            "tags": [],
            "needs_background": "light"
          }
        }
      ]
    },
    {
      "cell_type": "markdown",
      "metadata": {
        "id": "WAzBrv7WCpK2"
      },
      "source": [
        "#### *Shuffled Poker 52-card deck with 4 10’s*"
      ]
    },
    {
      "cell_type": "code",
      "metadata": {
        "id": "XkwID-hHC2gA",
        "outputId": "31801857-4667-4c61-fb73-9b35a86bc529",
        "colab": {
          "base_uri": "https://localhost:8080/",
          "height": 193
        }
      },
      "source": [
        "\n",
        "cardCounterPOKER3=[]\n",
        "succsessCounterPOKER3=[]\n",
        "jPOKER3 = 0   \n",
        "cPOKER3 = 0 \n",
        "scsPOKER3 = []\n",
        "cardCountPOKER2=0\n",
        "while jPOKER3 <= 10000000:\n",
        "  iPOKER3 = 19\n",
        "  nSdeckPOKER3 = [1,2,3,4,5,6,7,8,9,10,10,10,10,1,2,3,4,5,6,7,8,9,10,10,10,10]\n",
        "  handPOKER3 = [7,7,5]\n",
        "  cardCountPOKER3=0\n",
        "  while iPOKER3 < 21:\n",
        "    randPOKER3 = r.randrange(len(nSdeckPOKER3)) # toma un valor aleatorio en el mazo\n",
        "    iPOKER3 += nSdeckPOKER3[randPOKER3]\n",
        "    handPOKER3.append(nSdeckPOKER3[randPOKER3])\n",
        "    nSdeckPOKER3.remove(nSdeckPOKER3[randPOKER3]) # quita la carta de la baraja\n",
        "    cardCountPOKER3+=1\n",
        "  if iPOKER3 == 21:\n",
        "    cPOKER3 +=1\n",
        "    scsPOKER3.append(len(handPOKER3))\n",
        "    cardCounterPOKER3.append(cardCountPOKER3)\n",
        "    succsessCounterPOKER3.append(cPOKER3)\n",
        "  jPOKER3+=1\n",
        "\n",
        "print(\"Cantidad de 21 obtenidos:\" ,cPOKER3)\n",
        "print(\"Probabilidad de obtener 21 en 10'000.000 intentos\",cPOKER3/jPOKER3)\n",
        "print(\"Media de cartas necesarias bara obtener 21:\",stts.mean(cardCounterPOKER3))\n",
        "dataPOKER3 = pd.DataFrame({'numero de cartas': cardCounterPOKER3, '21 Exitos': succsessCounterPOKER3})\n",
        "dataPOKER3.groupby('numero de cartas').count()"
      ],
      "execution_count": 12,
      "outputs": [
        {
          "output_type": "stream",
          "text": [
            "Cantidad de 21 obtenidos: 799507\n",
            "Probabilidad de obtener 21 en 10'000.000 intentos 0.0799506920049308\n",
            "Media de cartas necesarias bara obtener 21: 1.0383386261783825\n"
          ],
          "name": "stdout"
        },
        {
          "output_type": "execute_result",
          "data": {
            "text/html": [
              "<div>\n",
              "<style scoped>\n",
              "    .dataframe tbody tr th:only-of-type {\n",
              "        vertical-align: middle;\n",
              "    }\n",
              "\n",
              "    .dataframe tbody tr th {\n",
              "        vertical-align: top;\n",
              "    }\n",
              "\n",
              "    .dataframe thead th {\n",
              "        text-align: right;\n",
              "    }\n",
              "</style>\n",
              "<table border=\"1\" class=\"dataframe\">\n",
              "  <thead>\n",
              "    <tr style=\"text-align: right;\">\n",
              "      <th></th>\n",
              "      <th>21 Exitos</th>\n",
              "    </tr>\n",
              "    <tr>\n",
              "      <th>numero de cartas</th>\n",
              "      <th></th>\n",
              "    </tr>\n",
              "  </thead>\n",
              "  <tbody>\n",
              "    <tr>\n",
              "      <th>1</th>\n",
              "      <td>768855</td>\n",
              "    </tr>\n",
              "    <tr>\n",
              "      <th>2</th>\n",
              "      <td>30652</td>\n",
              "    </tr>\n",
              "  </tbody>\n",
              "</table>\n",
              "</div>"
            ],
            "text/plain": [
              "                  21 Exitos\n",
              "numero de cartas           \n",
              "1                    768855\n",
              "2                     30652"
            ]
          },
          "metadata": {
            "tags": []
          },
          "execution_count": 12
        }
      ]
    },
    {
      "cell_type": "code",
      "metadata": {
        "id": "0l2A8yxh6p6E",
        "outputId": "4dad08ba-9d9c-4d87-91bd-6c945062c514",
        "colab": {
          "base_uri": "https://localhost:8080/",
          "height": 858
        }
      },
      "source": [
        "dataPOKER3.groupby('numero de cartas').count().plot()\n",
        "dataPOKER3.groupby('numero de cartas').count().plot.bar()\n",
        "dataPOKER3.hist(bins=5)"
      ],
      "execution_count": 13,
      "outputs": [
        {
          "output_type": "execute_result",
          "data": {
            "text/plain": [
              "array([[<matplotlib.axes._subplots.AxesSubplot object at 0x7f023077e6a0>,\n",
              "        <matplotlib.axes._subplots.AxesSubplot object at 0x7f0224380320>]],\n",
              "      dtype=object)"
            ]
          },
          "metadata": {
            "tags": []
          },
          "execution_count": 13
        },
        {
          "output_type": "display_data",
          "data": {
            "image/png": "[encoded data removed]",
            "text/plain": [
              "<Figure size 432x288 with 1 Axes>"
            ]
          },
          "metadata": {
            "tags": [],
            "needs_background": "light"
          }
        },
        {
          "output_type": "display_data",
          "data": {
            "image/png": "[encoded data removed]",
            "text/plain": [
              "<Figure size 432x288 with 1 Axes>"
            ]
          },
          "metadata": {
            "tags": [],
            "needs_background": "light"
          }
        },
        {
          "output_type": "display_data",
          "data": {
            "image/png": "[encoded data removed]",
            "text/plain": [
              "<Figure size 432x288 with 2 Axes>"
            ]
          },
          "metadata": {
            "tags": [],
            "needs_background": "light"
          }
        }
      ]
    },
    {
      "cell_type": "markdown",
      "metadata": {
        "id": "595Y1tZmDSqO"
      },
      "source": [
        "Resulta que sin importar la distribucion de las cartas en la barja las probabilidades convergen a los mismos valores, ya que con base en lo que tenemos en la mano necesitamos solo 2 cartas posibles **Un 2 o Dos 1** asi que la probabilidad de sar estas cartas es la que determina la probabilidad de exito. **Por ende se discrimina el resto de la baraja**"
      ]
    },
    {
      "cell_type": "markdown",
      "metadata": {
        "id": "onCRHdTjm5BF"
      },
      "source": [
        "### **P4:**\n",
        "\n",
        "Find two remaining decks with 10 cards; for a Spanish 48-card deck with 3 10’s and for a Poker \n",
        "52-card deck with 4 10’s; \n",
        "\n",
        "* One remaining has the highest probability of getting 21 (hot deck) and the other remainings that has the lowest probability of getting 21(cold deck) assuming that you have in your hand the cards [7,7,5]. \n",
        "* Calculate analytically the probabilities of getting a 21 for both the hot an cold deck, estimate this probabilities of getting a 21, the average total number of cards required to complete 21 (including the three that you start with) and plot the experimental distribution of the total number of card required to complete 21 (including the three that you start with) using Montecarlo with 10 millions simulations.\n",
        "\n",
        "\n"
      ]
    },
    {
      "cell_type": "markdown",
      "metadata": {
        "id": "EYkDr8f1AF0z"
      },
      "source": [
        "####  *Poker 52-card deck with 4 10’s*"
      ]
    },
    {
      "cell_type": "markdown",
      "metadata": {
        "id": "HNSx0B6-tyP5"
      },
      "source": [
        "##### Hotdeck"
      ]
    },
    {
      "cell_type": "markdown",
      "metadata": {
        "id": "NkhOyZBP8_X0"
      },
      "source": [
        "**Analytically:** For the hot deck used for the poker deck, the probability of obtaining a 21 is based on the probability of drawing a card or combination of cards that add up to 21, in this particular deck we have:\n",
        "\n",
        "**hotdeck** = [2, 2, 2, 2, 1, 1, 1, 1, 3, 10]\n",
        "\n",
        "$S=$ Get a card that added whith the hand adds up to 21\n",
        "\n",
        "$D=$ Chance of getting a 2 on the hot deck\n",
        "\n",
        "$U=$ Probability of getting a 1 on the hot deck\n",
        "\n",
        "As the ammount of cards reduces as you get ones from the deck these event is dependand so its probablity will depend on the amount of ones remaining on the deck. Then the probability of $S$ happening is\n",
        "\n",
        "$P(S) =P(D)+P(U) \\ $ where $\\ P(U) = \\frac{x}{n} \\times \\frac{x-1}{n-1}\\times\\frac{x-2}{n-2} ...$ n is the ammount of cards remaining on the hotdeck and x represents the ammount of ones remaining\n",
        "\n",
        "$P(S) =  \\frac{4}{10} + ( \\frac{4}{10} \\times  \\frac{3}{9})  = 8/15 \\approx 0.5333333... $\n",
        "\n"
      ]
    },
    {
      "cell_type": "code",
      "metadata": {
        "id": "PStHhkPAq9gE",
        "outputId": "23a994f5-b700-4792-d051-58fd1e8116b1",
        "colab": {
          "base_uri": "https://localhost:8080/",
          "height": 193
        }
      },
      "source": [
        "cardCounterPOK410=[]\n",
        "succsessCounterPOK410=[]\n",
        "jPOK410 = 0   \n",
        "cPOK410 = 0 \n",
        "scsPOK410 = []\n",
        "cardCountPOK410=0\n",
        "while jPOK410 <= 10000000:\n",
        "  iPOK410 = 19\n",
        "  nSdeckPOK410 = [2, 2, 2, 2, 1, 1, 1, 1, 3, 10]\n",
        "  handPOK410 = [7,7,5]\n",
        "  cardCountPOK410=0\n",
        "  while iPOK410 < 21:\n",
        "    randPOK410 = r.randrange(len(nSdeckPOK410)) \n",
        "    iPOK410 += nSdeckPOK410[randPOK410]\n",
        "    handPOK410.append(nSdeckPOK410[randPOK410])# quita la carta de la baraja\n",
        "    cardCountPOK410+=1\n",
        "  if iPOK410 == 21:\n",
        "    cPOK410 +=1\n",
        "    scsPOK410.append(len(handPOK410))\n",
        "    cardCounterPOK410.append(cardCountPOK410)\n",
        "    succsessCounterPOK410.append(cPOK410)\n",
        "  jPOK410+=1\n",
        "\n",
        "print(\"Cantidad de 21 obtenidos:\" ,cPOK410)\n",
        "print(\"Probabilidad de obtener 21 en 10'000.000 intentos\",cPOK410/jPOK410)\n",
        "print(\"Media para obtener 21 cartas:\",stts.mean(cardCounterPOK410))\n",
        "dataPOK410 = pd.DataFrame({'numero de cartas': cardCounterPOK410, '21 Exitos': succsessCounterPOK410})\n",
        "dataPOK410.groupby('numero de cartas').count()"
      ],
      "execution_count": 14,
      "outputs": [
        {
          "output_type": "stream",
          "text": [
            "Cantidad de 21 obtenidos: 5599013\n",
            "Probabilidad de obtener 21 en 10'000.000 intentos 0.5599012440098756\n",
            "Media para obtener 21 cartas: 1.2855658666982912\n"
          ],
          "name": "stdout"
        },
        {
          "output_type": "execute_result",
          "data": {
            "text/html": [
              "<div>\n",
              "<style scoped>\n",
              "    .dataframe tbody tr th:only-of-type {\n",
              "        vertical-align: middle;\n",
              "    }\n",
              "\n",
              "    .dataframe tbody tr th {\n",
              "        vertical-align: top;\n",
              "    }\n",
              "\n",
              "    .dataframe thead th {\n",
              "        text-align: right;\n",
              "    }\n",
              "</style>\n",
              "<table border=\"1\" class=\"dataframe\">\n",
              "  <thead>\n",
              "    <tr style=\"text-align: right;\">\n",
              "      <th></th>\n",
              "      <th>21 Exitos</th>\n",
              "    </tr>\n",
              "    <tr>\n",
              "      <th>numero de cartas</th>\n",
              "      <th></th>\n",
              "    </tr>\n",
              "  </thead>\n",
              "  <tbody>\n",
              "    <tr>\n",
              "      <th>1</th>\n",
              "      <td>4000126</td>\n",
              "    </tr>\n",
              "    <tr>\n",
              "      <th>2</th>\n",
              "      <td>1598887</td>\n",
              "    </tr>\n",
              "  </tbody>\n",
              "</table>\n",
              "</div>"
            ],
            "text/plain": [
              "                  21 Exitos\n",
              "numero de cartas           \n",
              "1                   4000126\n",
              "2                   1598887"
            ]
          },
          "metadata": {
            "tags": []
          },
          "execution_count": 14
        }
      ]
    },
    {
      "cell_type": "code",
      "metadata": {
        "id": "bnIV_yZm8gWl",
        "outputId": "03c178a0-2627-4de8-ac2f-9c574904eaa5",
        "colab": {
          "base_uri": "https://localhost:8080/",
          "height": 888
        }
      },
      "source": [
        "dataPOK410.groupby('numero de cartas').count().plot()\n",
        "dataPOK410.groupby('numero de cartas').count().plot.bar()\n",
        "dataPOK410.hist(bins=5)"
      ],
      "execution_count": 15,
      "outputs": [
        {
          "output_type": "execute_result",
          "data": {
            "text/plain": [
              "array([[<matplotlib.axes._subplots.AxesSubplot object at 0x7f0219421438>,\n",
              "        <matplotlib.axes._subplots.AxesSubplot object at 0x7f02193d17b8>]],\n",
              "      dtype=object)"
            ]
          },
          "metadata": {
            "tags": []
          },
          "execution_count": 15
        },
        {
          "output_type": "display_data",
          "data": {
            "image/png": "[encoded data removed]",
            "text/plain": [
              "<Figure size 432x288 with 1 Axes>"
            ]
          },
          "metadata": {
            "tags": [],
            "needs_background": "light"
          }
        },
        {
          "output_type": "display_data",
          "data": {
            "image/png": "[encoded data removed]",
            "text/plain": [
              "<Figure size 432x288 with 1 Axes>"
            ]
          },
          "metadata": {
            "tags": [],
            "needs_background": "light"
          }
        },
        {
          "output_type": "display_data",
          "data": {
            "image/png": "[encoded data removed]",
            "text/plain": [
              "<Figure size 432x288 with 2 Axes>"
            ]
          },
          "metadata": {
            "tags": [],
            "needs_background": "light"
          }
        }
      ]
    },
    {
      "cell_type": "markdown",
      "metadata": {
        "id": "zwX0f5LMt14W"
      },
      "source": [
        "##### Colddeck"
      ]
    },
    {
      "cell_type": "markdown",
      "metadata": {
        "id": "0sZSPNOH-ui_"
      },
      "source": [
        "**Analytically:** For the cold deck used for the poker deck, the probability of obtaining a 21 is based on the probability of drawing a card or combination of cards that add up to 21, in this particular deck we have:\n",
        "\n",
        "**Colddeck** = [4, 6, 8, 3, 7, 5, 3, 4, 7, 9]\n",
        "\n",
        "$S=$ Get a card that added whith the hand adds up to 21\n",
        "\n",
        "$D=$ Chance of getting a 2 on the hot deck\n",
        "\n",
        "$U=$ Probability of getting a 1 on the hot deck\n",
        "\n",
        "Then as there are no ones or twos  inside our cold deck the chances of obtaining a 21 are reduced to 0.\n",
        "\n",
        "$P(S) = 0  $\n",
        "\n",
        "\n"
      ]
    },
    {
      "cell_type": "code",
      "metadata": {
        "id": "r0Wd5EAi8g57",
        "outputId": "42ec3cd3-58a0-4d82-943b-b623a74bf426",
        "colab": {
          "base_uri": "https://localhost:8080/",
          "height": 350
        }
      },
      "source": [
        "cardCounterPOK410B=[]\n",
        "succsessCounterPOK410B=[]\n",
        "j = 0   \n",
        "c = 0 \n",
        "scs = []\n",
        "cardCountPOK410B=0\n",
        "while j <= 10000000:\n",
        "  i = 19\n",
        "  nSdeck = [4, 6, 8, 3, 7, 5, 3, 4, 7, 9]\n",
        "  hand = [7,7,5]\n",
        "  cardCountPOK410B=0\n",
        "  while i < 21:\n",
        "    rand = r.randrange(len(nSdeck)) \n",
        "    i += nSdeck[rand]\n",
        "    hand.append(nSdeck[rand])\n",
        "    nSdeck.remove(nSdeck[rand]) \n",
        "    cardCountPOK410B+=1\n",
        "  if i == 21:\n",
        "    c +=1\n",
        "    scs.append(len(hand))\n",
        "\n",
        "    cardCounterPOK410B.append(cardCountPOK410B)\n",
        "    succsessCounterPOK410B.append(c)\n",
        "    \n",
        "  j+=1\n",
        "\n",
        "print(\"Cantidad de 21 obtenidos:\" ,c)\n",
        "print(\"Probabilidad de obtener 21 en 10'000.000 intentos\",c/j)\n",
        "dataPOK410B = pd.DataFrame({'numero de cartas': cardCountPOK410B, '21 Exitos': succsessCounterPOK410B})\n",
        "dataPOK410B.groupby('numero de cartas').count()\n",
        "print(\"Media para obtener 21 cartas:\",stts.mean(cardCounterPOK410B))"
      ],
      "execution_count": 16,
      "outputs": [
        {
          "output_type": "stream",
          "text": [
            "Cantidad de 21 obtenidos: 0\n",
            "Probabilidad de obtener 21 en 10'000.000 intentos 0.0\n"
          ],
          "name": "stdout"
        },
        {
          "output_type": "error",
          "ename": "StatisticsError",
          "evalue": "ignored",
          "traceback": [
            "\u001b[0;31m---------------------------------------------------------------------------\u001b[0m",
            "\u001b[0;31mStatisticsError\u001b[0m                           Traceback (most recent call last)",
            "\u001b[0;32m<ipython-input-16-5feb7e1961aa>\u001b[0m in \u001b[0;36m<module>\u001b[0;34m()\u001b[0m\n\u001b[1;32m     29\u001b[0m \u001b[0mdataPOK410B\u001b[0m \u001b[0;34m=\u001b[0m \u001b[0mpd\u001b[0m\u001b[0;34m.\u001b[0m\u001b[0mDataFrame\u001b[0m\u001b[0;34m(\u001b[0m\u001b[0;34m{\u001b[0m\u001b[0;34m'numero de cartas'\u001b[0m\u001b[0;34m:\u001b[0m \u001b[0mcardCountPOK410B\u001b[0m\u001b[0;34m,\u001b[0m \u001b[0;34m'21 Exitos'\u001b[0m\u001b[0;34m:\u001b[0m \u001b[0msuccsessCounterPOK410B\u001b[0m\u001b[0;34m}\u001b[0m\u001b[0;34m)\u001b[0m\u001b[0;34m\u001b[0m\u001b[0;34m\u001b[0m\u001b[0m\n\u001b[1;32m     30\u001b[0m \u001b[0mdataPOK410B\u001b[0m\u001b[0;34m.\u001b[0m\u001b[0mgroupby\u001b[0m\u001b[0;34m(\u001b[0m\u001b[0;34m'numero de cartas'\u001b[0m\u001b[0;34m)\u001b[0m\u001b[0;34m.\u001b[0m\u001b[0mcount\u001b[0m\u001b[0;34m(\u001b[0m\u001b[0;34m)\u001b[0m\u001b[0;34m\u001b[0m\u001b[0;34m\u001b[0m\u001b[0m\n\u001b[0;32m---> 31\u001b[0;31m \u001b[0mprint\u001b[0m\u001b[0;34m(\u001b[0m\u001b[0;34m\"Media para obtener 21 cartas:\"\u001b[0m\u001b[0;34m,\u001b[0m\u001b[0mstts\u001b[0m\u001b[0;34m.\u001b[0m\u001b[0mmean\u001b[0m\u001b[0;34m(\u001b[0m\u001b[0mcardCounterPOK410B\u001b[0m\u001b[0;34m)\u001b[0m\u001b[0;34m)\u001b[0m\u001b[0;34m\u001b[0m\u001b[0;34m\u001b[0m\u001b[0m\n\u001b[0m",
            "\u001b[0;32m/usr/lib/python3.6/statistics.py\u001b[0m in \u001b[0;36mmean\u001b[0;34m(data)\u001b[0m\n\u001b[1;32m    309\u001b[0m     \u001b[0mn\u001b[0m \u001b[0;34m=\u001b[0m \u001b[0mlen\u001b[0m\u001b[0;34m(\u001b[0m\u001b[0mdata\u001b[0m\u001b[0;34m)\u001b[0m\u001b[0;34m\u001b[0m\u001b[0;34m\u001b[0m\u001b[0m\n\u001b[1;32m    310\u001b[0m     \u001b[0;32mif\u001b[0m \u001b[0mn\u001b[0m \u001b[0;34m<\u001b[0m \u001b[0;36m1\u001b[0m\u001b[0;34m:\u001b[0m\u001b[0;34m\u001b[0m\u001b[0;34m\u001b[0m\u001b[0m\n\u001b[0;32m--> 311\u001b[0;31m         \u001b[0;32mraise\u001b[0m \u001b[0mStatisticsError\u001b[0m\u001b[0;34m(\u001b[0m\u001b[0;34m'mean requires at least one data point'\u001b[0m\u001b[0;34m)\u001b[0m\u001b[0;34m\u001b[0m\u001b[0;34m\u001b[0m\u001b[0m\n\u001b[0m\u001b[1;32m    312\u001b[0m     \u001b[0mT\u001b[0m\u001b[0;34m,\u001b[0m \u001b[0mtotal\u001b[0m\u001b[0;34m,\u001b[0m \u001b[0mcount\u001b[0m \u001b[0;34m=\u001b[0m \u001b[0m_sum\u001b[0m\u001b[0;34m(\u001b[0m\u001b[0mdata\u001b[0m\u001b[0;34m)\u001b[0m\u001b[0;34m\u001b[0m\u001b[0;34m\u001b[0m\u001b[0m\n\u001b[1;32m    313\u001b[0m     \u001b[0;32massert\u001b[0m \u001b[0mcount\u001b[0m \u001b[0;34m==\u001b[0m \u001b[0mn\u001b[0m\u001b[0;34m\u001b[0m\u001b[0;34m\u001b[0m\u001b[0m\n",
            "\u001b[0;31mStatisticsError\u001b[0m: mean requires at least one data point"
          ]
        }
      ]
    },
    {
      "cell_type": "code",
      "metadata": {
        "id": "08kjoGgv9rE4",
        "outputId": "766b5ce4-7007-4cfe-9708-7ea4c4f99a6c",
        "colab": {
          "base_uri": "https://localhost:8080/",
          "height": 609
        }
      },
      "source": [
        "\n",
        "dataPOK410B.groupby('numero de cartas').count().plot.bar()\n",
        "dataPOK410B.hist(bins=5)"
      ],
      "execution_count": 17,
      "outputs": [
        {
          "output_type": "error",
          "ename": "IndexError",
          "evalue": "ignored",
          "traceback": [
            "\u001b[0;31m---------------------------------------------------------------------------\u001b[0m",
            "\u001b[0;31mIndexError\u001b[0m                                Traceback (most recent call last)",
            "\u001b[0;32m<ipython-input-17-1c4d66d1ff1a>\u001b[0m in \u001b[0;36m<module>\u001b[0;34m()\u001b[0m\n\u001b[1;32m      1\u001b[0m \u001b[0;34m\u001b[0m\u001b[0m\n\u001b[0;32m----> 2\u001b[0;31m \u001b[0mdataPOK410B\u001b[0m\u001b[0;34m.\u001b[0m\u001b[0mgroupby\u001b[0m\u001b[0;34m(\u001b[0m\u001b[0;34m'numero de cartas'\u001b[0m\u001b[0;34m)\u001b[0m\u001b[0;34m.\u001b[0m\u001b[0mcount\u001b[0m\u001b[0;34m(\u001b[0m\u001b[0;34m)\u001b[0m\u001b[0;34m.\u001b[0m\u001b[0mplot\u001b[0m\u001b[0;34m.\u001b[0m\u001b[0mbar\u001b[0m\u001b[0;34m(\u001b[0m\u001b[0;34m)\u001b[0m\u001b[0;34m\u001b[0m\u001b[0;34m\u001b[0m\u001b[0m\n\u001b[0m\u001b[1;32m      3\u001b[0m \u001b[0mdataPOK410B\u001b[0m\u001b[0;34m.\u001b[0m\u001b[0mhist\u001b[0m\u001b[0;34m(\u001b[0m\u001b[0mbins\u001b[0m\u001b[0;34m=\u001b[0m\u001b[0;36m5\u001b[0m\u001b[0;34m)\u001b[0m\u001b[0;34m\u001b[0m\u001b[0;34m\u001b[0m\u001b[0m\n",
            "\u001b[0;32m/usr/local/lib/python3.6/dist-packages/pandas/plotting/_core.py\u001b[0m in \u001b[0;36mbar\u001b[0;34m(self, x, y, **kwargs)\u001b[0m\n\u001b[1;32m   1001\u001b[0m             \u001b[0;34m>>\u001b[0m\u001b[0;34m>\u001b[0m \u001b[0max\u001b[0m \u001b[0;34m=\u001b[0m \u001b[0mdf\u001b[0m\u001b[0;34m.\u001b[0m\u001b[0mplot\u001b[0m\u001b[0;34m.\u001b[0m\u001b[0mbar\u001b[0m\u001b[0;34m(\u001b[0m\u001b[0mx\u001b[0m\u001b[0;34m=\u001b[0m\u001b[0;34m'lifespan'\u001b[0m\u001b[0;34m,\u001b[0m \u001b[0mrot\u001b[0m\u001b[0;34m=\u001b[0m\u001b[0;36m0\u001b[0m\u001b[0;34m)\u001b[0m\u001b[0;34m\u001b[0m\u001b[0;34m\u001b[0m\u001b[0m\n\u001b[1;32m   1002\u001b[0m         \"\"\"\n\u001b[0;32m-> 1003\u001b[0;31m         \u001b[0;32mreturn\u001b[0m \u001b[0mself\u001b[0m\u001b[0;34m(\u001b[0m\u001b[0mkind\u001b[0m\u001b[0;34m=\u001b[0m\u001b[0;34m\"bar\"\u001b[0m\u001b[0;34m,\u001b[0m \u001b[0mx\u001b[0m\u001b[0;34m=\u001b[0m\u001b[0mx\u001b[0m\u001b[0;34m,\u001b[0m \u001b[0my\u001b[0m\u001b[0;34m=\u001b[0m\u001b[0my\u001b[0m\u001b[0;34m,\u001b[0m \u001b[0;34m**\u001b[0m\u001b[0mkwargs\u001b[0m\u001b[0;34m)\u001b[0m\u001b[0;34m\u001b[0m\u001b[0;34m\u001b[0m\u001b[0m\n\u001b[0m\u001b[1;32m   1004\u001b[0m \u001b[0;34m\u001b[0m\u001b[0m\n\u001b[1;32m   1005\u001b[0m     \u001b[0;32mdef\u001b[0m \u001b[0mbarh\u001b[0m\u001b[0;34m(\u001b[0m\u001b[0mself\u001b[0m\u001b[0;34m,\u001b[0m \u001b[0mx\u001b[0m\u001b[0;34m=\u001b[0m\u001b[0;32mNone\u001b[0m\u001b[0;34m,\u001b[0m \u001b[0my\u001b[0m\u001b[0;34m=\u001b[0m\u001b[0;32mNone\u001b[0m\u001b[0;34m,\u001b[0m \u001b[0;34m**\u001b[0m\u001b[0mkwargs\u001b[0m\u001b[0;34m)\u001b[0m\u001b[0;34m:\u001b[0m\u001b[0;34m\u001b[0m\u001b[0;34m\u001b[0m\u001b[0m\n",
            "\u001b[0;32m/usr/local/lib/python3.6/dist-packages/pandas/plotting/_core.py\u001b[0m in \u001b[0;36m__call__\u001b[0;34m(self, *args, **kwargs)\u001b[0m\n\u001b[1;32m    845\u001b[0m                     \u001b[0mdata\u001b[0m\u001b[0;34m.\u001b[0m\u001b[0mcolumns\u001b[0m \u001b[0;34m=\u001b[0m \u001b[0mlabel_name\u001b[0m\u001b[0;34m\u001b[0m\u001b[0;34m\u001b[0m\u001b[0m\n\u001b[1;32m    846\u001b[0m \u001b[0;34m\u001b[0m\u001b[0m\n\u001b[0;32m--> 847\u001b[0;31m         \u001b[0;32mreturn\u001b[0m \u001b[0mplot_backend\u001b[0m\u001b[0;34m.\u001b[0m\u001b[0mplot\u001b[0m\u001b[0;34m(\u001b[0m\u001b[0mdata\u001b[0m\u001b[0;34m,\u001b[0m \u001b[0mkind\u001b[0m\u001b[0;34m=\u001b[0m\u001b[0mkind\u001b[0m\u001b[0;34m,\u001b[0m \u001b[0;34m**\u001b[0m\u001b[0mkwargs\u001b[0m\u001b[0;34m)\u001b[0m\u001b[0;34m\u001b[0m\u001b[0;34m\u001b[0m\u001b[0m\n\u001b[0m\u001b[1;32m    848\u001b[0m \u001b[0;34m\u001b[0m\u001b[0m\n\u001b[1;32m    849\u001b[0m     \u001b[0m__call__\u001b[0m\u001b[0;34m.\u001b[0m\u001b[0m__doc__\u001b[0m \u001b[0;34m=\u001b[0m \u001b[0m__doc__\u001b[0m\u001b[0;34m\u001b[0m\u001b[0;34m\u001b[0m\u001b[0m\n",
            "\u001b[0;32m/usr/local/lib/python3.6/dist-packages/pandas/plotting/_matplotlib/__init__.py\u001b[0m in \u001b[0;36mplot\u001b[0;34m(data, kind, **kwargs)\u001b[0m\n\u001b[1;32m     59\u001b[0m             \u001b[0mkwargs\u001b[0m\u001b[0;34m[\u001b[0m\u001b[0;34m\"ax\"\u001b[0m\u001b[0;34m]\u001b[0m \u001b[0;34m=\u001b[0m \u001b[0mgetattr\u001b[0m\u001b[0;34m(\u001b[0m\u001b[0max\u001b[0m\u001b[0;34m,\u001b[0m \u001b[0;34m\"left_ax\"\u001b[0m\u001b[0;34m,\u001b[0m \u001b[0max\u001b[0m\u001b[0;34m)\u001b[0m\u001b[0;34m\u001b[0m\u001b[0;34m\u001b[0m\u001b[0m\n\u001b[1;32m     60\u001b[0m     \u001b[0mplot_obj\u001b[0m \u001b[0;34m=\u001b[0m \u001b[0mPLOT_CLASSES\u001b[0m\u001b[0;34m[\u001b[0m\u001b[0mkind\u001b[0m\u001b[0;34m]\u001b[0m\u001b[0;34m(\u001b[0m\u001b[0mdata\u001b[0m\u001b[0;34m,\u001b[0m \u001b[0;34m**\u001b[0m\u001b[0mkwargs\u001b[0m\u001b[0;34m)\u001b[0m\u001b[0;34m\u001b[0m\u001b[0;34m\u001b[0m\u001b[0m\n\u001b[0;32m---> 61\u001b[0;31m     \u001b[0mplot_obj\u001b[0m\u001b[0;34m.\u001b[0m\u001b[0mgenerate\u001b[0m\u001b[0;34m(\u001b[0m\u001b[0;34m)\u001b[0m\u001b[0;34m\u001b[0m\u001b[0;34m\u001b[0m\u001b[0m\n\u001b[0m\u001b[1;32m     62\u001b[0m     \u001b[0mplot_obj\u001b[0m\u001b[0;34m.\u001b[0m\u001b[0mdraw\u001b[0m\u001b[0;34m(\u001b[0m\u001b[0;34m)\u001b[0m\u001b[0;34m\u001b[0m\u001b[0;34m\u001b[0m\u001b[0m\n\u001b[1;32m     63\u001b[0m     \u001b[0;32mreturn\u001b[0m \u001b[0mplot_obj\u001b[0m\u001b[0;34m.\u001b[0m\u001b[0mresult\u001b[0m\u001b[0;34m\u001b[0m\u001b[0;34m\u001b[0m\u001b[0m\n",
            "\u001b[0;32m/usr/local/lib/python3.6/dist-packages/pandas/plotting/_matplotlib/core.py\u001b[0m in \u001b[0;36mgenerate\u001b[0;34m(self)\u001b[0m\n\u001b[1;32m    268\u001b[0m         \u001b[0;32mfor\u001b[0m \u001b[0max\u001b[0m \u001b[0;32min\u001b[0m \u001b[0mself\u001b[0m\u001b[0;34m.\u001b[0m\u001b[0maxes\u001b[0m\u001b[0;34m:\u001b[0m\u001b[0;34m\u001b[0m\u001b[0;34m\u001b[0m\u001b[0m\n\u001b[1;32m    269\u001b[0m             \u001b[0mself\u001b[0m\u001b[0;34m.\u001b[0m\u001b[0m_post_plot_logic_common\u001b[0m\u001b[0;34m(\u001b[0m\u001b[0max\u001b[0m\u001b[0;34m,\u001b[0m \u001b[0mself\u001b[0m\u001b[0;34m.\u001b[0m\u001b[0mdata\u001b[0m\u001b[0;34m)\u001b[0m\u001b[0;34m\u001b[0m\u001b[0;34m\u001b[0m\u001b[0m\n\u001b[0;32m--> 270\u001b[0;31m             \u001b[0mself\u001b[0m\u001b[0;34m.\u001b[0m\u001b[0m_post_plot_logic\u001b[0m\u001b[0;34m(\u001b[0m\u001b[0max\u001b[0m\u001b[0;34m,\u001b[0m \u001b[0mself\u001b[0m\u001b[0;34m.\u001b[0m\u001b[0mdata\u001b[0m\u001b[0;34m)\u001b[0m\u001b[0;34m\u001b[0m\u001b[0;34m\u001b[0m\u001b[0m\n\u001b[0m\u001b[1;32m    271\u001b[0m \u001b[0;34m\u001b[0m\u001b[0m\n\u001b[1;32m    272\u001b[0m     \u001b[0;32mdef\u001b[0m \u001b[0m_args_adjust\u001b[0m\u001b[0;34m(\u001b[0m\u001b[0mself\u001b[0m\u001b[0;34m)\u001b[0m\u001b[0;34m:\u001b[0m\u001b[0;34m\u001b[0m\u001b[0;34m\u001b[0m\u001b[0m\n",
            "\u001b[0;32m/usr/local/lib/python3.6/dist-packages/pandas/plotting/_matplotlib/core.py\u001b[0m in \u001b[0;36m_post_plot_logic\u001b[0;34m(self, ax, data)\u001b[0m\n\u001b[1;32m   1414\u001b[0m         \u001b[0mname\u001b[0m \u001b[0;34m=\u001b[0m \u001b[0mself\u001b[0m\u001b[0;34m.\u001b[0m\u001b[0m_get_index_name\u001b[0m\u001b[0;34m(\u001b[0m\u001b[0;34m)\u001b[0m\u001b[0;34m\u001b[0m\u001b[0;34m\u001b[0m\u001b[0m\n\u001b[1;32m   1415\u001b[0m \u001b[0;34m\u001b[0m\u001b[0m\n\u001b[0;32m-> 1416\u001b[0;31m         \u001b[0ms_edge\u001b[0m \u001b[0;34m=\u001b[0m \u001b[0mself\u001b[0m\u001b[0;34m.\u001b[0m\u001b[0max_pos\u001b[0m\u001b[0;34m[\u001b[0m\u001b[0;36m0\u001b[0m\u001b[0;34m]\u001b[0m \u001b[0;34m-\u001b[0m \u001b[0;36m0.25\u001b[0m \u001b[0;34m+\u001b[0m \u001b[0mself\u001b[0m\u001b[0;34m.\u001b[0m\u001b[0mlim_offset\u001b[0m\u001b[0;34m\u001b[0m\u001b[0;34m\u001b[0m\u001b[0m\n\u001b[0m\u001b[1;32m   1417\u001b[0m         \u001b[0me_edge\u001b[0m \u001b[0;34m=\u001b[0m \u001b[0mself\u001b[0m\u001b[0;34m.\u001b[0m\u001b[0max_pos\u001b[0m\u001b[0;34m[\u001b[0m\u001b[0;34m-\u001b[0m\u001b[0;36m1\u001b[0m\u001b[0;34m]\u001b[0m \u001b[0;34m+\u001b[0m \u001b[0;36m0.25\u001b[0m \u001b[0;34m+\u001b[0m \u001b[0mself\u001b[0m\u001b[0;34m.\u001b[0m\u001b[0mbar_width\u001b[0m \u001b[0;34m+\u001b[0m \u001b[0mself\u001b[0m\u001b[0;34m.\u001b[0m\u001b[0mlim_offset\u001b[0m\u001b[0;34m\u001b[0m\u001b[0;34m\u001b[0m\u001b[0m\n\u001b[1;32m   1418\u001b[0m \u001b[0;34m\u001b[0m\u001b[0m\n",
            "\u001b[0;31mIndexError\u001b[0m: index 0 is out of bounds for axis 0 with size 0"
          ]
        },
        {
          "output_type": "display_data",
          "data": {
            "image/png": "[encoded data removed]",
            "text/plain": [
              "<Figure size 432x288 with 1 Axes>"
            ]
          },
          "metadata": {
            "tags": [],
            "needs_background": "light"
          }
        }
      ]
    },
    {
      "cell_type": "markdown",
      "metadata": {
        "id": "VHb7IXklEQEf"
      },
      "source": [
        "*As it can be seen , due to the chances of getting a 21 with a cold deck as the one presented here are zero, some function in statistical libraries raise up errors, as there are no point to be plotted and the mean of the sample taken is 0.*"
      ]
    },
    {
      "cell_type": "markdown",
      "metadata": {
        "id": "Fz2E0JtRCsux"
      },
      "source": [
        "####*Spanish 48-card deck with 3 10’s*\n"
      ]
    },
    {
      "cell_type": "markdown",
      "metadata": {
        "id": "u4h8ATABDAGn"
      },
      "source": [
        "#####Hotdeck"
      ]
    },
    {
      "cell_type": "markdown",
      "metadata": {
        "id": "11kEtFg8EByF"
      },
      "source": [
        "**Analytically:** For the hot deck used for the spanish deck, the probability of obtaining a 21 is based on the probability of drawing a card or combination of cards that add up to 21, in this particular deck we have:\n",
        "\n",
        "**hotdeck** = [2, 2, 2, 2, 1, 1, 1, 1, 10, 4]\n",
        "\n",
        "$S=$ Get a card that added whith the hand adds up to 21\n",
        "\n",
        "$D=$ Chance of getting a 2 on the hot deck\n",
        "\n",
        "$U=$ Probability of getting a 1 on the hot deck\n",
        "\n",
        "As the ammount of cards reduces as you get ones from the deck these event is dependand so its probablity will depend on the amount of ones remaining on the deck. Then the probability of $S$ happening is\n",
        "\n",
        "$P(S) =P(D)+P(U) \\ $ where $\\ P(U) = \\frac{x}{n} \\times \\frac{x-1}{n-1}\\times\\frac{x-2}{n-2} ...$ n is the ammount of cards remaining on the hotdeck and x represents the ammount of ones remaining\n",
        "\n",
        "$P(S) =  \\frac{4}{10} + ( \\frac{4}{10} \\times  \\frac{3}{9})  = 8/15 \\approx 0.5333333... $"
      ]
    },
    {
      "cell_type": "code",
      "metadata": {
        "id": "dMJ_XYvzE5Mz",
        "outputId": "6ca788f6-7d2a-4277-9d70-863160092c7e",
        "colab": {
          "base_uri": "https://localhost:8080/",
          "height": 193
        }
      },
      "source": [
        "cardCounterESP410=[]\n",
        "succsessCounterESP410=[]\n",
        "j=0\n",
        "c = 0 \n",
        "scs = []\n",
        "cardCountESP410=0\n",
        "while j <= 10000000:\n",
        "  i = 19\n",
        "  nSdeck =  [2, 2, 2, 2, 1, 1, 1, 1, 10, 4]\n",
        "  hand = [7,7,5]\n",
        "  cardCountESP410=0\n",
        "  while i < 21:\n",
        "    rand = r.randrange(len(nSdeck)) \n",
        "    i += nSdeck[rand]\n",
        "    hand.append(nSdeck[rand])\n",
        "    nSdeck.remove(nSdeck[rand]) \n",
        "    cardCountESP410+=1\n",
        "    if i == 21:\n",
        "     c+=1\n",
        "     scs.append(len(hand))\n",
        "     cardCounterESP410.append(cardCountESP410)\n",
        "     succsessCounterESP410.append(c)\n",
        "  j+=1\n",
        "\n",
        "print(\"Cantidad de 21 obtenidos:\" ,c)\n",
        "print(\"Probabilidad de obtener 21 en 10'000.000 intentos\",c/j)\n",
        "print(\"Media de cartas necesarias para obtener 21:\",stts.mean(cardCounterESP410))\n",
        "dataESP410 = pd.DataFrame({'numero de cartas': cardCounterESP410, '21 Exitos': succsessCounterESP410})\n",
        "dataESP410.groupby('numero de cartas').count()"
      ],
      "execution_count": 18,
      "outputs": [
        {
          "output_type": "stream",
          "text": [
            "Cantidad de 21 obtenidos: 5332241\n",
            "Probabilidad de obtener 21 en 10'000.000 intentos 0.5332240466775954\n",
            "Media de cartas necesarias para obtener 21: 1.249927375750646\n"
          ],
          "name": "stdout"
        },
        {
          "output_type": "execute_result",
          "data": {
            "text/html": [
              "<div>\n",
              "<style scoped>\n",
              "    .dataframe tbody tr th:only-of-type {\n",
              "        vertical-align: middle;\n",
              "    }\n",
              "\n",
              "    .dataframe tbody tr th {\n",
              "        vertical-align: top;\n",
              "    }\n",
              "\n",
              "    .dataframe thead th {\n",
              "        text-align: right;\n",
              "    }\n",
              "</style>\n",
              "<table border=\"1\" class=\"dataframe\">\n",
              "  <thead>\n",
              "    <tr style=\"text-align: right;\">\n",
              "      <th></th>\n",
              "      <th>21 Exitos</th>\n",
              "    </tr>\n",
              "    <tr>\n",
              "      <th>numero de cartas</th>\n",
              "      <th></th>\n",
              "    </tr>\n",
              "  </thead>\n",
              "  <tbody>\n",
              "    <tr>\n",
              "      <th>1</th>\n",
              "      <td>3999568</td>\n",
              "    </tr>\n",
              "    <tr>\n",
              "      <th>2</th>\n",
              "      <td>1332673</td>\n",
              "    </tr>\n",
              "  </tbody>\n",
              "</table>\n",
              "</div>"
            ],
            "text/plain": [
              "                  21 Exitos\n",
              "numero de cartas           \n",
              "1                   3999568\n",
              "2                   1332673"
            ]
          },
          "metadata": {
            "tags": []
          },
          "execution_count": 18
        }
      ]
    },
    {
      "cell_type": "code",
      "metadata": {
        "id": "PJYTEFOaGS0h",
        "outputId": "48d1e9ac-5c83-469e-ff51-698b5b6f952b",
        "colab": {
          "base_uri": "https://localhost:8080/",
          "height": 888
        }
      },
      "source": [
        "dataESP410.groupby('numero de cartas').count().plot()\n",
        "dataESP410.groupby('numero de cartas').count().plot.bar()\n",
        "dataESP410.hist(bins=5)"
      ],
      "execution_count": 19,
      "outputs": [
        {
          "output_type": "execute_result",
          "data": {
            "text/plain": [
              "array([[<matplotlib.axes._subplots.AxesSubplot object at 0x7f020ec33160>,\n",
              "        <matplotlib.axes._subplots.AxesSubplot object at 0x7f020ebe06d8>]],\n",
              "      dtype=object)"
            ]
          },
          "metadata": {
            "tags": []
          },
          "execution_count": 19
        },
        {
          "output_type": "display_data",
          "data": {
            "image/png": "[encoded data removed]",
            "text/plain": [
              "<Figure size 432x288 with 1 Axes>"
            ]
          },
          "metadata": {
            "tags": [],
            "needs_background": "light"
          }
        },
        {
          "output_type": "display_data",
          "data": {
            "image/png": "[encoded data removed]",
            "text/plain": [
              "<Figure size 432x288 with 1 Axes>"
            ]
          },
          "metadata": {
            "tags": [],
            "needs_background": "light"
          }
        },
        {
          "output_type": "display_data",
          "data": {
            "image/png": "[encoded data removed]",
            "text/plain": [
              "<Figure size 432x288 with 2 Axes>"
            ]
          },
          "metadata": {
            "tags": [],
            "needs_background": "light"
          }
        }
      ]
    },
    {
      "cell_type": "markdown",
      "metadata": {
        "id": "iluwuFiWu23M"
      },
      "source": [
        "#####Colddeck"
      ]
    },
    {
      "cell_type": "markdown",
      "metadata": {
        "id": "JMGxV1svFEFv"
      },
      "source": [
        "**Analytically:** For the cold deck used for the spanish deck, the probability of obtaining a 21 is based on the probability of drawing a card or combination of cards that add up to 21, in this particular deck we have:\n",
        "\n",
        "**Colddeck** = [5, 3, 8, 4, 10, 7, 8, 8, 5, 10]\n",
        "\n",
        "$S=$ Get a card that added whith the hand adds up to 21\n",
        "\n",
        "$D=$ Chance of getting a 2 on the hot deck\n",
        "\n",
        "$U=$ Probability of getting a 1 on the hot deck\n",
        "\n",
        "Then as there are no ones or twos inside our cold deck the chances of obtaining a 21 are 0\n",
        "\n",
        "$P(S) = 0  $\n"
      ]
    },
    {
      "cell_type": "code",
      "metadata": {
        "id": "cixC41bIF9Gq",
        "outputId": "6a720757-e0ea-4936-fb0a-f4de70912cc7",
        "colab": {
          "base_uri": "https://localhost:8080/",
          "height": 350
        }
      },
      "source": [
        "cardCounterESP410B=[]\n",
        "succsessCounterESP410B=[]\n",
        "j = 0   \n",
        "c = 0 \n",
        "scs = []\n",
        "cardCountESP410B=0\n",
        "while j <= 10000000:\n",
        "  i = 19\n",
        "  nSdeck = [5, 3, 8, 4, 10, 7, 8, 8, 5, 10]\n",
        "  hand = [7,7,5]\n",
        "  cardCountESP410B=0\n",
        "  while i < 21:\n",
        "    rand = r.randrange(len(nSdeck)) \n",
        "    i += nSdeck[rand]\n",
        "    hand.append(nSdeck[rand])\n",
        "    nSdeck.remove(nSdeck[rand]) \n",
        "    cardCountESP410B+=1\n",
        "  if i == 21:\n",
        "    c +=1\n",
        "    scs.append(len(hand))\n",
        "    \n",
        "    cardCounterESP410B.append(cardCountESP410B)\n",
        "    succsessCounterESP410B.append(c)\n",
        "  j+=1\n",
        "\n",
        "print(\"Cantidad de 21 obtenidos:\" ,c)\n",
        "print(\"Probabilidad de obtener 21 en 10000 intentos\",c/j)\n",
        "dataESP410B = pd.DataFrame({'numero de cartas': cardCounterESP410B, '21 Exitos': succsessCounterESP410B})\n",
        "dataESP410B.groupby('numero de cartas').count()\n",
        "print(\"Media de cartas necesaria para obtener 21:\",stts.mean(cardCounterESP410B))"
      ],
      "execution_count": 20,
      "outputs": [
        {
          "output_type": "stream",
          "text": [
            "Cantidad de 21 obtenidos: 0\n",
            "Probabilidad de obtener 21 en 10000 intentos 0.0\n"
          ],
          "name": "stdout"
        },
        {
          "output_type": "error",
          "ename": "StatisticsError",
          "evalue": "ignored",
          "traceback": [
            "\u001b[0;31m---------------------------------------------------------------------------\u001b[0m",
            "\u001b[0;31mStatisticsError\u001b[0m                           Traceback (most recent call last)",
            "\u001b[0;32m<ipython-input-20-82bfcf857898>\u001b[0m in \u001b[0;36m<module>\u001b[0;34m()\u001b[0m\n\u001b[1;32m     28\u001b[0m \u001b[0mdataESP410B\u001b[0m \u001b[0;34m=\u001b[0m \u001b[0mpd\u001b[0m\u001b[0;34m.\u001b[0m\u001b[0mDataFrame\u001b[0m\u001b[0;34m(\u001b[0m\u001b[0;34m{\u001b[0m\u001b[0;34m'numero de cartas'\u001b[0m\u001b[0;34m:\u001b[0m \u001b[0mcardCounterESP410B\u001b[0m\u001b[0;34m,\u001b[0m \u001b[0;34m'21 Exitos'\u001b[0m\u001b[0;34m:\u001b[0m \u001b[0msuccsessCounterESP410B\u001b[0m\u001b[0;34m}\u001b[0m\u001b[0;34m)\u001b[0m\u001b[0;34m\u001b[0m\u001b[0;34m\u001b[0m\u001b[0m\n\u001b[1;32m     29\u001b[0m \u001b[0mdataESP410B\u001b[0m\u001b[0;34m.\u001b[0m\u001b[0mgroupby\u001b[0m\u001b[0;34m(\u001b[0m\u001b[0;34m'numero de cartas'\u001b[0m\u001b[0;34m)\u001b[0m\u001b[0;34m.\u001b[0m\u001b[0mcount\u001b[0m\u001b[0;34m(\u001b[0m\u001b[0;34m)\u001b[0m\u001b[0;34m\u001b[0m\u001b[0;34m\u001b[0m\u001b[0m\n\u001b[0;32m---> 30\u001b[0;31m \u001b[0mprint\u001b[0m\u001b[0;34m(\u001b[0m\u001b[0;34m\"Media de cartas necesaria para obtener 21:\"\u001b[0m\u001b[0;34m,\u001b[0m\u001b[0mstts\u001b[0m\u001b[0;34m.\u001b[0m\u001b[0mmean\u001b[0m\u001b[0;34m(\u001b[0m\u001b[0mcardCounterESP410B\u001b[0m\u001b[0;34m)\u001b[0m\u001b[0;34m)\u001b[0m\u001b[0;34m\u001b[0m\u001b[0;34m\u001b[0m\u001b[0m\n\u001b[0m",
            "\u001b[0;32m/usr/lib/python3.6/statistics.py\u001b[0m in \u001b[0;36mmean\u001b[0;34m(data)\u001b[0m\n\u001b[1;32m    309\u001b[0m     \u001b[0mn\u001b[0m \u001b[0;34m=\u001b[0m \u001b[0mlen\u001b[0m\u001b[0;34m(\u001b[0m\u001b[0mdata\u001b[0m\u001b[0;34m)\u001b[0m\u001b[0;34m\u001b[0m\u001b[0;34m\u001b[0m\u001b[0m\n\u001b[1;32m    310\u001b[0m     \u001b[0;32mif\u001b[0m \u001b[0mn\u001b[0m \u001b[0;34m<\u001b[0m \u001b[0;36m1\u001b[0m\u001b[0;34m:\u001b[0m\u001b[0;34m\u001b[0m\u001b[0;34m\u001b[0m\u001b[0m\n\u001b[0;32m--> 311\u001b[0;31m         \u001b[0;32mraise\u001b[0m \u001b[0mStatisticsError\u001b[0m\u001b[0;34m(\u001b[0m\u001b[0;34m'mean requires at least one data point'\u001b[0m\u001b[0;34m)\u001b[0m\u001b[0;34m\u001b[0m\u001b[0;34m\u001b[0m\u001b[0m\n\u001b[0m\u001b[1;32m    312\u001b[0m     \u001b[0mT\u001b[0m\u001b[0;34m,\u001b[0m \u001b[0mtotal\u001b[0m\u001b[0;34m,\u001b[0m \u001b[0mcount\u001b[0m \u001b[0;34m=\u001b[0m \u001b[0m_sum\u001b[0m\u001b[0;34m(\u001b[0m\u001b[0mdata\u001b[0m\u001b[0;34m)\u001b[0m\u001b[0;34m\u001b[0m\u001b[0;34m\u001b[0m\u001b[0m\n\u001b[1;32m    313\u001b[0m     \u001b[0;32massert\u001b[0m \u001b[0mcount\u001b[0m \u001b[0;34m==\u001b[0m \u001b[0mn\u001b[0m\u001b[0;34m\u001b[0m\u001b[0;34m\u001b[0m\u001b[0m\n",
            "\u001b[0;31mStatisticsError\u001b[0m: mean requires at least one data point"
          ]
        }
      ]
    },
    {
      "cell_type": "code",
      "metadata": {
        "id": "E6Qctx6_Jd0_",
        "outputId": "6dea39ef-2011-4e92-a741-8bfadbb85ec1",
        "colab": {
          "base_uri": "https://localhost:8080/",
          "height": 609
        }
      },
      "source": [
        "\n",
        "dataESP410B.groupby('numero de cartas').count().plot.bar()\n",
        "dataESP410B.hist(bins=5)"
      ],
      "execution_count": 21,
      "outputs": [
        {
          "output_type": "error",
          "ename": "IndexError",
          "evalue": "ignored",
          "traceback": [
            "\u001b[0;31m---------------------------------------------------------------------------\u001b[0m",
            "\u001b[0;31mIndexError\u001b[0m                                Traceback (most recent call last)",
            "\u001b[0;32m<ipython-input-21-1f82db46d7ef>\u001b[0m in \u001b[0;36m<module>\u001b[0;34m()\u001b[0m\n\u001b[1;32m      1\u001b[0m \u001b[0;34m\u001b[0m\u001b[0m\n\u001b[0;32m----> 2\u001b[0;31m \u001b[0mdataESP410B\u001b[0m\u001b[0;34m.\u001b[0m\u001b[0mgroupby\u001b[0m\u001b[0;34m(\u001b[0m\u001b[0;34m'numero de cartas'\u001b[0m\u001b[0;34m)\u001b[0m\u001b[0;34m.\u001b[0m\u001b[0mcount\u001b[0m\u001b[0;34m(\u001b[0m\u001b[0;34m)\u001b[0m\u001b[0;34m.\u001b[0m\u001b[0mplot\u001b[0m\u001b[0;34m.\u001b[0m\u001b[0mbar\u001b[0m\u001b[0;34m(\u001b[0m\u001b[0;34m)\u001b[0m\u001b[0;34m\u001b[0m\u001b[0;34m\u001b[0m\u001b[0m\n\u001b[0m\u001b[1;32m      3\u001b[0m \u001b[0mdataESP410B\u001b[0m\u001b[0;34m.\u001b[0m\u001b[0mhist\u001b[0m\u001b[0;34m(\u001b[0m\u001b[0mbins\u001b[0m\u001b[0;34m=\u001b[0m\u001b[0;36m5\u001b[0m\u001b[0;34m)\u001b[0m\u001b[0;34m\u001b[0m\u001b[0;34m\u001b[0m\u001b[0m\n",
            "\u001b[0;32m/usr/local/lib/python3.6/dist-packages/pandas/plotting/_core.py\u001b[0m in \u001b[0;36mbar\u001b[0;34m(self, x, y, **kwargs)\u001b[0m\n\u001b[1;32m   1001\u001b[0m             \u001b[0;34m>>\u001b[0m\u001b[0;34m>\u001b[0m \u001b[0max\u001b[0m \u001b[0;34m=\u001b[0m \u001b[0mdf\u001b[0m\u001b[0;34m.\u001b[0m\u001b[0mplot\u001b[0m\u001b[0;34m.\u001b[0m\u001b[0mbar\u001b[0m\u001b[0;34m(\u001b[0m\u001b[0mx\u001b[0m\u001b[0;34m=\u001b[0m\u001b[0;34m'lifespan'\u001b[0m\u001b[0;34m,\u001b[0m \u001b[0mrot\u001b[0m\u001b[0;34m=\u001b[0m\u001b[0;36m0\u001b[0m\u001b[0;34m)\u001b[0m\u001b[0;34m\u001b[0m\u001b[0;34m\u001b[0m\u001b[0m\n\u001b[1;32m   1002\u001b[0m         \"\"\"\n\u001b[0;32m-> 1003\u001b[0;31m         \u001b[0;32mreturn\u001b[0m \u001b[0mself\u001b[0m\u001b[0;34m(\u001b[0m\u001b[0mkind\u001b[0m\u001b[0;34m=\u001b[0m\u001b[0;34m\"bar\"\u001b[0m\u001b[0;34m,\u001b[0m \u001b[0mx\u001b[0m\u001b[0;34m=\u001b[0m\u001b[0mx\u001b[0m\u001b[0;34m,\u001b[0m \u001b[0my\u001b[0m\u001b[0;34m=\u001b[0m\u001b[0my\u001b[0m\u001b[0;34m,\u001b[0m \u001b[0;34m**\u001b[0m\u001b[0mkwargs\u001b[0m\u001b[0;34m)\u001b[0m\u001b[0;34m\u001b[0m\u001b[0;34m\u001b[0m\u001b[0m\n\u001b[0m\u001b[1;32m   1004\u001b[0m \u001b[0;34m\u001b[0m\u001b[0m\n\u001b[1;32m   1005\u001b[0m     \u001b[0;32mdef\u001b[0m \u001b[0mbarh\u001b[0m\u001b[0;34m(\u001b[0m\u001b[0mself\u001b[0m\u001b[0;34m,\u001b[0m \u001b[0mx\u001b[0m\u001b[0;34m=\u001b[0m\u001b[0;32mNone\u001b[0m\u001b[0;34m,\u001b[0m \u001b[0my\u001b[0m\u001b[0;34m=\u001b[0m\u001b[0;32mNone\u001b[0m\u001b[0;34m,\u001b[0m \u001b[0;34m**\u001b[0m\u001b[0mkwargs\u001b[0m\u001b[0;34m)\u001b[0m\u001b[0;34m:\u001b[0m\u001b[0;34m\u001b[0m\u001b[0;34m\u001b[0m\u001b[0m\n",
            "\u001b[0;32m/usr/local/lib/python3.6/dist-packages/pandas/plotting/_core.py\u001b[0m in \u001b[0;36m__call__\u001b[0;34m(self, *args, **kwargs)\u001b[0m\n\u001b[1;32m    845\u001b[0m                     \u001b[0mdata\u001b[0m\u001b[0;34m.\u001b[0m\u001b[0mcolumns\u001b[0m \u001b[0;34m=\u001b[0m \u001b[0mlabel_name\u001b[0m\u001b[0;34m\u001b[0m\u001b[0;34m\u001b[0m\u001b[0m\n\u001b[1;32m    846\u001b[0m \u001b[0;34m\u001b[0m\u001b[0m\n\u001b[0;32m--> 847\u001b[0;31m         \u001b[0;32mreturn\u001b[0m \u001b[0mplot_backend\u001b[0m\u001b[0;34m.\u001b[0m\u001b[0mplot\u001b[0m\u001b[0;34m(\u001b[0m\u001b[0mdata\u001b[0m\u001b[0;34m,\u001b[0m \u001b[0mkind\u001b[0m\u001b[0;34m=\u001b[0m\u001b[0mkind\u001b[0m\u001b[0;34m,\u001b[0m \u001b[0;34m**\u001b[0m\u001b[0mkwargs\u001b[0m\u001b[0;34m)\u001b[0m\u001b[0;34m\u001b[0m\u001b[0;34m\u001b[0m\u001b[0m\n\u001b[0m\u001b[1;32m    848\u001b[0m \u001b[0;34m\u001b[0m\u001b[0m\n\u001b[1;32m    849\u001b[0m     \u001b[0m__call__\u001b[0m\u001b[0;34m.\u001b[0m\u001b[0m__doc__\u001b[0m \u001b[0;34m=\u001b[0m \u001b[0m__doc__\u001b[0m\u001b[0;34m\u001b[0m\u001b[0;34m\u001b[0m\u001b[0m\n",
            "\u001b[0;32m/usr/local/lib/python3.6/dist-packages/pandas/plotting/_matplotlib/__init__.py\u001b[0m in \u001b[0;36mplot\u001b[0;34m(data, kind, **kwargs)\u001b[0m\n\u001b[1;32m     59\u001b[0m             \u001b[0mkwargs\u001b[0m\u001b[0;34m[\u001b[0m\u001b[0;34m\"ax\"\u001b[0m\u001b[0;34m]\u001b[0m \u001b[0;34m=\u001b[0m \u001b[0mgetattr\u001b[0m\u001b[0;34m(\u001b[0m\u001b[0max\u001b[0m\u001b[0;34m,\u001b[0m \u001b[0;34m\"left_ax\"\u001b[0m\u001b[0;34m,\u001b[0m \u001b[0max\u001b[0m\u001b[0;34m)\u001b[0m\u001b[0;34m\u001b[0m\u001b[0;34m\u001b[0m\u001b[0m\n\u001b[1;32m     60\u001b[0m     \u001b[0mplot_obj\u001b[0m \u001b[0;34m=\u001b[0m \u001b[0mPLOT_CLASSES\u001b[0m\u001b[0;34m[\u001b[0m\u001b[0mkind\u001b[0m\u001b[0;34m]\u001b[0m\u001b[0;34m(\u001b[0m\u001b[0mdata\u001b[0m\u001b[0;34m,\u001b[0m \u001b[0;34m**\u001b[0m\u001b[0mkwargs\u001b[0m\u001b[0;34m)\u001b[0m\u001b[0;34m\u001b[0m\u001b[0;34m\u001b[0m\u001b[0m\n\u001b[0;32m---> 61\u001b[0;31m     \u001b[0mplot_obj\u001b[0m\u001b[0;34m.\u001b[0m\u001b[0mgenerate\u001b[0m\u001b[0;34m(\u001b[0m\u001b[0;34m)\u001b[0m\u001b[0;34m\u001b[0m\u001b[0;34m\u001b[0m\u001b[0m\n\u001b[0m\u001b[1;32m     62\u001b[0m     \u001b[0mplot_obj\u001b[0m\u001b[0;34m.\u001b[0m\u001b[0mdraw\u001b[0m\u001b[0;34m(\u001b[0m\u001b[0;34m)\u001b[0m\u001b[0;34m\u001b[0m\u001b[0;34m\u001b[0m\u001b[0m\n\u001b[1;32m     63\u001b[0m     \u001b[0;32mreturn\u001b[0m \u001b[0mplot_obj\u001b[0m\u001b[0;34m.\u001b[0m\u001b[0mresult\u001b[0m\u001b[0;34m\u001b[0m\u001b[0;34m\u001b[0m\u001b[0m\n",
            "\u001b[0;32m/usr/local/lib/python3.6/dist-packages/pandas/plotting/_matplotlib/core.py\u001b[0m in \u001b[0;36mgenerate\u001b[0;34m(self)\u001b[0m\n\u001b[1;32m    268\u001b[0m         \u001b[0;32mfor\u001b[0m \u001b[0max\u001b[0m \u001b[0;32min\u001b[0m \u001b[0mself\u001b[0m\u001b[0;34m.\u001b[0m\u001b[0maxes\u001b[0m\u001b[0;34m:\u001b[0m\u001b[0;34m\u001b[0m\u001b[0;34m\u001b[0m\u001b[0m\n\u001b[1;32m    269\u001b[0m             \u001b[0mself\u001b[0m\u001b[0;34m.\u001b[0m\u001b[0m_post_plot_logic_common\u001b[0m\u001b[0;34m(\u001b[0m\u001b[0max\u001b[0m\u001b[0;34m,\u001b[0m \u001b[0mself\u001b[0m\u001b[0;34m.\u001b[0m\u001b[0mdata\u001b[0m\u001b[0;34m)\u001b[0m\u001b[0;34m\u001b[0m\u001b[0;34m\u001b[0m\u001b[0m\n\u001b[0;32m--> 270\u001b[0;31m             \u001b[0mself\u001b[0m\u001b[0;34m.\u001b[0m\u001b[0m_post_plot_logic\u001b[0m\u001b[0;34m(\u001b[0m\u001b[0max\u001b[0m\u001b[0;34m,\u001b[0m \u001b[0mself\u001b[0m\u001b[0;34m.\u001b[0m\u001b[0mdata\u001b[0m\u001b[0;34m)\u001b[0m\u001b[0;34m\u001b[0m\u001b[0;34m\u001b[0m\u001b[0m\n\u001b[0m\u001b[1;32m    271\u001b[0m \u001b[0;34m\u001b[0m\u001b[0m\n\u001b[1;32m    272\u001b[0m     \u001b[0;32mdef\u001b[0m \u001b[0m_args_adjust\u001b[0m\u001b[0;34m(\u001b[0m\u001b[0mself\u001b[0m\u001b[0;34m)\u001b[0m\u001b[0;34m:\u001b[0m\u001b[0;34m\u001b[0m\u001b[0;34m\u001b[0m\u001b[0m\n",
            "\u001b[0;32m/usr/local/lib/python3.6/dist-packages/pandas/plotting/_matplotlib/core.py\u001b[0m in \u001b[0;36m_post_plot_logic\u001b[0;34m(self, ax, data)\u001b[0m\n\u001b[1;32m   1414\u001b[0m         \u001b[0mname\u001b[0m \u001b[0;34m=\u001b[0m \u001b[0mself\u001b[0m\u001b[0;34m.\u001b[0m\u001b[0m_get_index_name\u001b[0m\u001b[0;34m(\u001b[0m\u001b[0;34m)\u001b[0m\u001b[0;34m\u001b[0m\u001b[0;34m\u001b[0m\u001b[0m\n\u001b[1;32m   1415\u001b[0m \u001b[0;34m\u001b[0m\u001b[0m\n\u001b[0;32m-> 1416\u001b[0;31m         \u001b[0ms_edge\u001b[0m \u001b[0;34m=\u001b[0m \u001b[0mself\u001b[0m\u001b[0;34m.\u001b[0m\u001b[0max_pos\u001b[0m\u001b[0;34m[\u001b[0m\u001b[0;36m0\u001b[0m\u001b[0;34m]\u001b[0m \u001b[0;34m-\u001b[0m \u001b[0;36m0.25\u001b[0m \u001b[0;34m+\u001b[0m \u001b[0mself\u001b[0m\u001b[0;34m.\u001b[0m\u001b[0mlim_offset\u001b[0m\u001b[0;34m\u001b[0m\u001b[0;34m\u001b[0m\u001b[0m\n\u001b[0m\u001b[1;32m   1417\u001b[0m         \u001b[0me_edge\u001b[0m \u001b[0;34m=\u001b[0m \u001b[0mself\u001b[0m\u001b[0;34m.\u001b[0m\u001b[0max_pos\u001b[0m\u001b[0;34m[\u001b[0m\u001b[0;34m-\u001b[0m\u001b[0;36m1\u001b[0m\u001b[0;34m]\u001b[0m \u001b[0;34m+\u001b[0m \u001b[0;36m0.25\u001b[0m \u001b[0;34m+\u001b[0m \u001b[0mself\u001b[0m\u001b[0;34m.\u001b[0m\u001b[0mbar_width\u001b[0m \u001b[0;34m+\u001b[0m \u001b[0mself\u001b[0m\u001b[0;34m.\u001b[0m\u001b[0mlim_offset\u001b[0m\u001b[0;34m\u001b[0m\u001b[0;34m\u001b[0m\u001b[0m\n\u001b[1;32m   1418\u001b[0m \u001b[0;34m\u001b[0m\u001b[0m\n",
            "\u001b[0;31mIndexError\u001b[0m: index 0 is out of bounds for axis 0 with size 0"
          ]
        },
        {
          "output_type": "display_data",
          "data": {
            "image/png": "[encoded data removed]",
            "text/plain": [
              "<Figure size 432x288 with 1 Axes>"
            ]
          },
          "metadata": {
            "tags": [],
            "needs_background": "light"
          }
        }
      ]
    },
    {
      "cell_type": "markdown",
      "metadata": {
        "id": "njlcDTHcF4l4"
      },
      "source": [
        "*As it can be seen , due to the chances of getting a 21 with a cold deck as the one presented here are zero, some function in statistical libraries raise up errors, as there are no point to be plotted and the mean of the sample taken is 0.*"
      ]
    },
    {
      "cell_type": "markdown",
      "metadata": {
        "id": "9g7JKnv0T-1M"
      },
      "source": [
        "### P5:\n",
        "\n",
        "Estimate the average amount of money (expected value) that Ben wins or losses on a weekend if Ben goes to Vegas every weekend (Friday, Saturday and Sunday), plays every weekend day 10 hours, each game takes 3 mins. \n",
        "\n",
        "* Assume that for each game he gets two possibilities, in one he gets in his hand the cards [7,7,5] and a remaining hot deck cards with which case he bets $\\$ $1000  this happens with probability 1/10; \n",
        "* In the other one he gets no cards in his hand a complete shuffled deck in which case he bets $\\$ $10 ,this happens with the remaining probability 9/10. \n",
        "\n",
        "Use 10000 Montecarlo simulations to estimated the expected amount of money that Ben wins or losses on a weekend for a Spanish 48-card deck with 3 10’s and for a Poker 52-card deck with 4 10’s."
      ]
    },
    {
      "cell_type": "markdown",
      "metadata": {
        "id": "wkAUNlTWwkWy"
      },
      "source": [
        "##### *Spanish 48-card deck card deck with 3 10’s*"
      ]
    },
    {
      "cell_type": "code",
      "metadata": {
        "id": "u6buGCFhVT2D",
        "outputId": "94a139d0-0384-4024-f80e-1f42ccf29d04",
        "colab": {
          "base_uri": "https://localhost:8080/",
          "height": 227
        }
      },
      "source": [
        "cardCounterESP5H=[]\n",
        "succsessCounterESP5H=[]\n",
        "cardCountESP5H=0\n",
        "cardCounterESP5C=[]\n",
        "succsessCounterESP5C=[]\n",
        "cardCountESP5C=0\n",
        "\n",
        "jc ,cc,ch,jh ,games ,earned = 0,0,0,0,0,0\n",
        "scs_c,hand_c,scs_h,hand_h = [],[],[],[]\n",
        "\n",
        "while games <= 600:\n",
        "  if r.uniform(0,1) < 0.1:             \n",
        "    while jh <= 10000:\n",
        "      i = 19\n",
        "      nSdeck = [2, 2, 2, 2, 1, 1, 1, 1, 10, 4]\n",
        "      hand_h= [7,7,5]\n",
        "      bet = 1000\n",
        "      cardCountESP5H=0\n",
        "      while i < 21:\n",
        "        rand = r.randrange(len(nSdeck)) \n",
        "        i += nSdeck[rand]\n",
        "        hand_h.append(nSdeck[rand])\n",
        "        nSdeck.remove(nSdeck[rand])\n",
        "        cardCountESP5H+=1\n",
        "        if i == 21:\n",
        "          ch +=1\n",
        "          earned += 2*bet\n",
        "          scs_h.append(len(hand_h))\n",
        "          cardCounterESP5H.append(cardCountESP5H)\n",
        "          succsessCounterESP5H.append(ch)\n",
        "        earned -= bet\n",
        "        jh+=1    \n",
        "  else:                        \n",
        "    while jc <= 10000:\n",
        "      i = 0\n",
        "      nSdeck = [1,2,3,4,5,6,7,8,9,10,10,10,1,2,3,4,5,6,7,8,9,10,10,10,1,2,3,4,5,6,7,8,9,10,10,10,1,2,3,4,5,6,7,8,9,10,10,10]\n",
        "      hand_c= []\n",
        "      bet = 10\n",
        "      cardCountESP5C=0\n",
        "      while i < 21:\n",
        "        rand = r.randrange(len(nSdeck)) \n",
        "        i += nSdeck[rand]\n",
        "        hand_c.append(nSdeck[rand])\n",
        "        nSdeck.remove(nSdeck[rand])\n",
        "        cardCountESP5C+=1\n",
        "        if i == 21:\n",
        "          cc +=1\n",
        "          earned += 2*bet\n",
        "          scs_c.append(len(hand_c))\n",
        "          cardCounterESP5C.append(cardCountESP5C)\n",
        "          succsessCounterESP5C.append(cc)\n",
        "        earned -= bet\n",
        "        jc+=1\n",
        "  games +=1        \n",
        "\n",
        "print(\"Cantidad de 21 obtenidos(hot):\" ,ch)\n",
        "print(\"Probabilidad de obtener 21 en 10000 intentos\",ch/jh)\n",
        "\n",
        "print(\"Cantidad de 21 obtenidos(cold):\" ,cc)\n",
        "print(\"Probabilidad de obtener 21 en 10000 intentos\",cc/jc)\n",
        "\n",
        "print(\"Ganancias o perdidas de Ben\",earned)\n",
        "\n",
        "dataESP5H = pd.DataFrame({'numero de cartas HOT': cardCounterESP5H, '21 Exitos HOT': succsessCounterESP5H})\n",
        "dataESP5H.groupby('numero de cartas HOT').count()\n",
        "\n",
        "\n"
      ],
      "execution_count": 22,
      "outputs": [
        {
          "output_type": "stream",
          "text": [
            "Cantidad de 21 obtenidos(hot): 3807\n",
            "Probabilidad de obtener 21 en 10000 intentos 0.38066193380661933\n",
            "Cantidad de 21 obtenidos(cold): 403\n",
            "Probabilidad de obtener 21 en 10000 intentos 0.040287913625912226\n",
            "Ganancias o perdidas de Ben -2478970\n"
          ],
          "name": "stdout"
        },
        {
          "output_type": "execute_result",
          "data": {
            "text/html": [
              "<div>\n",
              "<style scoped>\n",
              "    .dataframe tbody tr th:only-of-type {\n",
              "        vertical-align: middle;\n",
              "    }\n",
              "\n",
              "    .dataframe tbody tr th {\n",
              "        vertical-align: top;\n",
              "    }\n",
              "\n",
              "    .dataframe thead th {\n",
              "        text-align: right;\n",
              "    }\n",
              "</style>\n",
              "<table border=\"1\" class=\"dataframe\">\n",
              "  <thead>\n",
              "    <tr style=\"text-align: right;\">\n",
              "      <th></th>\n",
              "      <th>21 Exitos HOT</th>\n",
              "    </tr>\n",
              "    <tr>\n",
              "      <th>numero de cartas HOT</th>\n",
              "      <th></th>\n",
              "    </tr>\n",
              "  </thead>\n",
              "  <tbody>\n",
              "    <tr>\n",
              "      <th>1</th>\n",
              "      <td>2837</td>\n",
              "    </tr>\n",
              "    <tr>\n",
              "      <th>2</th>\n",
              "      <td>970</td>\n",
              "    </tr>\n",
              "  </tbody>\n",
              "</table>\n",
              "</div>"
            ],
            "text/plain": [
              "                      21 Exitos HOT\n",
              "numero de cartas HOT               \n",
              "1                              2837\n",
              "2                               970"
            ]
          },
          "metadata": {
            "tags": []
          },
          "execution_count": 22
        }
      ]
    },
    {
      "cell_type": "code",
      "metadata": {
        "id": "gK7s0gQyOEsh",
        "outputId": "824b87dc-dbc4-4c5b-e3dc-1b8f08cb65d2",
        "colab": {
          "base_uri": "https://localhost:8080/",
          "height": 857
        }
      },
      "source": [
        "dataESP5H.groupby('numero de cartas HOT').count().plot(ylim=(0,5000))\n",
        "dataESP5H.groupby('numero de cartas HOT').count().plot.bar()\n",
        "dataESP5H.hist(bins=5)\n"
      ],
      "execution_count": 23,
      "outputs": [
        {
          "output_type": "execute_result",
          "data": {
            "text/plain": [
              "array([[<matplotlib.axes._subplots.AxesSubplot object at 0x7f022d2ae588>,\n",
              "        <matplotlib.axes._subplots.AxesSubplot object at 0x7f022a338048>]],\n",
              "      dtype=object)"
            ]
          },
          "metadata": {
            "tags": []
          },
          "execution_count": 23
        },
        {
          "output_type": "display_data",
          "data": {
            "image/png": "[encoded data removed]",
            "text/plain": [
              "<Figure size 432x288 with 1 Axes>"
            ]
          },
          "metadata": {
            "tags": [],
            "needs_background": "light"
          }
        },
        {
          "output_type": "display_data",
          "data": {
            "image/png": "[encoded data removed]",
            "text/plain": [
              "<Figure size 432x288 with 1 Axes>"
            ]
          },
          "metadata": {
            "tags": [],
            "needs_background": "light"
          }
        },
        {
          "output_type": "display_data",
          "data": {
            "image/png": "[encoded data removed]",
            "text/plain": [
              "<Figure size 432x288 with 2 Axes>"
            ]
          },
          "metadata": {
            "tags": [],
            "needs_background": "light"
          }
        }
      ]
    },
    {
      "cell_type": "code",
      "metadata": {
        "id": "2sBHe973OgQf",
        "outputId": "486360f5-8205-4a25-dc82-b49716a27212",
        "colab": {
          "base_uri": "https://localhost:8080/",
          "height": 266
        }
      },
      "source": [
        "dataESP5C = pd.DataFrame({'numero de cartas COLD': cardCounterESP5C, '21 Exitos COLD': succsessCounterESP5C})\n",
        "dataESP5C.groupby('numero de cartas COLD').count()"
      ],
      "execution_count": 24,
      "outputs": [
        {
          "output_type": "execute_result",
          "data": {
            "text/html": [
              "<div>\n",
              "<style scoped>\n",
              "    .dataframe tbody tr th:only-of-type {\n",
              "        vertical-align: middle;\n",
              "    }\n",
              "\n",
              "    .dataframe tbody tr th {\n",
              "        vertical-align: top;\n",
              "    }\n",
              "\n",
              "    .dataframe thead th {\n",
              "        text-align: right;\n",
              "    }\n",
              "</style>\n",
              "<table border=\"1\" class=\"dataframe\">\n",
              "  <thead>\n",
              "    <tr style=\"text-align: right;\">\n",
              "      <th></th>\n",
              "      <th>21 Exitos COLD</th>\n",
              "    </tr>\n",
              "    <tr>\n",
              "      <th>numero de cartas COLD</th>\n",
              "      <th></th>\n",
              "    </tr>\n",
              "  </thead>\n",
              "  <tbody>\n",
              "    <tr>\n",
              "      <th>3</th>\n",
              "      <td>191</td>\n",
              "    </tr>\n",
              "    <tr>\n",
              "      <th>4</th>\n",
              "      <td>139</td>\n",
              "    </tr>\n",
              "    <tr>\n",
              "      <th>5</th>\n",
              "      <td>55</td>\n",
              "    </tr>\n",
              "    <tr>\n",
              "      <th>6</th>\n",
              "      <td>15</td>\n",
              "    </tr>\n",
              "    <tr>\n",
              "      <th>7</th>\n",
              "      <td>2</td>\n",
              "    </tr>\n",
              "    <tr>\n",
              "      <th>8</th>\n",
              "      <td>1</td>\n",
              "    </tr>\n",
              "  </tbody>\n",
              "</table>\n",
              "</div>"
            ],
            "text/plain": [
              "                       21 Exitos COLD\n",
              "numero de cartas COLD                \n",
              "3                                 191\n",
              "4                                 139\n",
              "5                                  55\n",
              "6                                  15\n",
              "7                                   2\n",
              "8                                   1"
            ]
          },
          "metadata": {
            "tags": []
          },
          "execution_count": 24
        }
      ]
    },
    {
      "cell_type": "code",
      "metadata": {
        "id": "467s5RI6OriZ",
        "outputId": "9aace232-769a-4380-e20a-fd4b36aaae24",
        "colab": {
          "base_uri": "https://localhost:8080/",
          "height": 860
        }
      },
      "source": [
        "dataESP5C.groupby('numero de cartas COLD').count().plot()\n",
        "dataESP5C.groupby('numero de cartas COLD').count().plot.bar()\n",
        "dataESP5C.hist(bins=5)"
      ],
      "execution_count": 25,
      "outputs": [
        {
          "output_type": "execute_result",
          "data": {
            "text/plain": [
              "array([[<matplotlib.axes._subplots.AxesSubplot object at 0x7f02242898d0>,\n",
              "        <matplotlib.axes._subplots.AxesSubplot object at 0x7f0227454b38>]],\n",
              "      dtype=object)"
            ]
          },
          "metadata": {
            "tags": []
          },
          "execution_count": 25
        },
        {
          "output_type": "display_data",
          "data": {
            "image/png": "[encoded data removed]",
            "text/plain": [
              "<Figure size 432x288 with 1 Axes>"
            ]
          },
          "metadata": {
            "tags": [],
            "needs_background": "light"
          }
        },
        {
          "output_type": "display_data",
          "data": {
            "image/png": "[encoded data removed]",
            "text/plain": [
              "<Figure size 432x288 with 1 Axes>"
            ]
          },
          "metadata": {
            "tags": [],
            "needs_background": "light"
          }
        },
        {
          "output_type": "display_data",
          "data": {
            "image/png": "[encoded data removed]",
            "text/plain": [
              "<Figure size 432x288 with 2 Axes>"
            ]
          },
          "metadata": {
            "tags": [],
            "needs_background": "light"
          }
        }
      ]
    },
    {
      "cell_type": "markdown",
      "metadata": {
        "id": "ey64ovGmxPBv"
      },
      "source": [
        "##### *Poker 52-card deck with 4 10’s*"
      ]
    },
    {
      "cell_type": "code",
      "metadata": {
        "id": "Jj6nWASCxSef",
        "outputId": "1be93bee-b377-44e9-d4ca-548aca5888e0",
        "colab": {
          "base_uri": "https://localhost:8080/",
          "height": 227
        }
      },
      "source": [
        "\n",
        "cardCounterPOKH=[]\n",
        "succsessCounterPOKH=[]\n",
        "cardCountPOKH=0\n",
        "cardCounterPOKC=[]\n",
        "succsessCounterPOKC=[]\n",
        "cardCountPOKC=0\n",
        "\n",
        "\n",
        "jc ,cc,ch,jh ,games ,earned = 0,0,0,0,0,0\n",
        "scs_c,hand_c,scs_h,hand_h = [],[],[],[]\n",
        "\n",
        "while games <= 600:\n",
        "  if r.uniform(0,1) < 0.1:\n",
        "    while jh <= 10000:\n",
        "      i = 19\n",
        "      nSdeck = [2, 2, 2, 2, 1, 1, 1, 1, 3, 10]\n",
        "      hand_h= [7,7,5]\n",
        "      bet = 1000\n",
        "      cardCountPOKH=0\n",
        "      while i < 21:\n",
        "        rand = r.randrange(len(nSdeck)) \n",
        "        i += nSdeck[rand]\n",
        "        hand_h.append(nSdeck[rand])\n",
        "        nSdeck.remove(nSdeck[rand])\n",
        "        cardCountPOKH+=1\n",
        "        if i == 21:\n",
        "          ch +=1\n",
        "          earned += 2*bet\n",
        "          scs_h.append(len(hand_h))\n",
        "          cardCounterPOKH.append(cardCountPOKH)\n",
        "          succsessCounterPOKH.append(ch)\n",
        "        earned -= bet\n",
        "        jh+=1    \n",
        "  else:\n",
        "    while jc <= 10000:\n",
        "      i = 0\n",
        "      nSdeck = [1,2,3,4,5,6,7,8,9,10,10,10,10,1,2,3,4,5,6,7,8,9,10,10,10,10,1,2,3,4,5,6,7,8,9,10,10,10,10,1,2,3,4,5,6,7,8,9,10,10,10,10]\n",
        "      hand_c= []\n",
        "      bet = 10\n",
        "      cardCountPOKC=0\n",
        "      while i < 21:\n",
        "        rand = r.randrange(len(nSdeck)) \n",
        "        i += nSdeck[rand]\n",
        "        hand_c.append(nSdeck[rand])\n",
        "        nSdeck.remove(nSdeck[rand])\n",
        "        cardCountPOKC+=1\n",
        "        if i == 21:\n",
        "          cc +=1\n",
        "          earned += 2*bet\n",
        "          scs_c.append(len(hand_c))\n",
        "          cardCounterPOKC.append(cardCountPOKC)\n",
        "          succsessCounterPOKC.append(cc)\n",
        "        earned -= bet\n",
        "        jc+=1\n",
        "  games +=1        \n",
        "\n",
        "print(\"Cantidad de 21 obtenidos(hot):\" ,ch)\n",
        "print(\"Probabilidad de obtener 21 en 10000 intentos\",ch/jh)\n",
        "\n",
        "print(\"Cantidad de 21 obtenidos(cold):\" ,cc)\n",
        "print(\"Probabilidad de obtener 21 en 10000 intentos\",cc/jc)\n",
        "\n",
        "print(\"Ganancias o perdidas de Ben\",earned)\n",
        "\n",
        "dataPOKH = pd.DataFrame({'numero de cartas HOT': cardCounterPOKH, '21 Exitos HOT': succsessCounterPOKH})\n",
        "dataPOKH.groupby('numero de cartas HOT').count()"
      ],
      "execution_count": 26,
      "outputs": [
        {
          "output_type": "stream",
          "text": [
            "Cantidad de 21 obtenidos(hot): 3836\n",
            "Probabilidad de obtener 21 en 10000 intentos 0.3835616438356164\n",
            "Cantidad de 21 obtenidos(cold): 375\n",
            "Probabilidad de obtener 21 en 10000 intentos 0.03748500599760096\n",
            "Ganancias o perdidas de Ben -2421540\n"
          ],
          "name": "stdout"
        },
        {
          "output_type": "execute_result",
          "data": {
            "text/html": [
              "<div>\n",
              "<style scoped>\n",
              "    .dataframe tbody tr th:only-of-type {\n",
              "        vertical-align: middle;\n",
              "    }\n",
              "\n",
              "    .dataframe tbody tr th {\n",
              "        vertical-align: top;\n",
              "    }\n",
              "\n",
              "    .dataframe thead th {\n",
              "        text-align: right;\n",
              "    }\n",
              "</style>\n",
              "<table border=\"1\" class=\"dataframe\">\n",
              "  <thead>\n",
              "    <tr style=\"text-align: right;\">\n",
              "      <th></th>\n",
              "      <th>21 Exitos HOT</th>\n",
              "    </tr>\n",
              "    <tr>\n",
              "      <th>numero de cartas HOT</th>\n",
              "      <th></th>\n",
              "    </tr>\n",
              "  </thead>\n",
              "  <tbody>\n",
              "    <tr>\n",
              "      <th>1</th>\n",
              "      <td>2820</td>\n",
              "    </tr>\n",
              "    <tr>\n",
              "      <th>2</th>\n",
              "      <td>1016</td>\n",
              "    </tr>\n",
              "  </tbody>\n",
              "</table>\n",
              "</div>"
            ],
            "text/plain": [
              "                      21 Exitos HOT\n",
              "numero de cartas HOT               \n",
              "1                              2820\n",
              "2                              1016"
            ]
          },
          "metadata": {
            "tags": []
          },
          "execution_count": 26
        }
      ]
    },
    {
      "cell_type": "code",
      "metadata": {
        "id": "syLeAkKKPrdb",
        "outputId": "a795a8fc-ab51-4387-d406-b8517aaa6220",
        "colab": {
          "base_uri": "https://localhost:8080/",
          "height": 857
        }
      },
      "source": [
        "dataPOKH.groupby('numero de cartas HOT').count().plot(ylim=(0,5000))\n",
        "dataPOKH.groupby('numero de cartas HOT').count().plot.bar()\n",
        "dataPOKH.hist(bins=5)"
      ],
      "execution_count": 27,
      "outputs": [
        {
          "output_type": "execute_result",
          "data": {
            "text/plain": [
              "array([[<matplotlib.axes._subplots.AxesSubplot object at 0x7f020ea457b8>,\n",
              "        <matplotlib.axes._subplots.AxesSubplot object at 0x7f020e9efc88>]],\n",
              "      dtype=object)"
            ]
          },
          "metadata": {
            "tags": []
          },
          "execution_count": 27
        },
        {
          "output_type": "display_data",
          "data": {
            "image/png": "[encoded data removed]",
            "text/plain": [
              "<Figure size 432x288 with 1 Axes>"
            ]
          },
          "metadata": {
            "tags": [],
            "needs_background": "light"
          }
        },
        {
          "output_type": "display_data",
          "data": {
            "image/png": "[encoded data removed]",
            "text/plain": [
              "<Figure size 432x288 with 1 Axes>"
            ]
          },
          "metadata": {
            "tags": [],
            "needs_background": "light"
          }
        },
        {
          "output_type": "display_data",
          "data": {
            "image/png": "[encoded data removed]",
            "text/plain": [
              "<Figure size 432x288 with 2 Axes>"
            ]
          },
          "metadata": {
            "tags": [],
            "needs_background": "light"
          }
        }
      ]
    },
    {
      "cell_type": "code",
      "metadata": {
        "id": "i4_ax27xPyO4",
        "outputId": "e78b8488-24eb-4c05-d1db-2fd8663c84d2",
        "colab": {
          "base_uri": "https://localhost:8080/",
          "height": 204
        }
      },
      "source": [
        "dataPOKC = pd.DataFrame({'numero de cartas COLD': cardCounterPOKC, '21 Exitos COLD': succsessCounterPOKC})\n",
        "dataPOKC.groupby('numero de cartas COLD').count()"
      ],
      "execution_count": 28,
      "outputs": [
        {
          "output_type": "execute_result",
          "data": {
            "text/html": [
              "<div>\n",
              "<style scoped>\n",
              "    .dataframe tbody tr th:only-of-type {\n",
              "        vertical-align: middle;\n",
              "    }\n",
              "\n",
              "    .dataframe tbody tr th {\n",
              "        vertical-align: top;\n",
              "    }\n",
              "\n",
              "    .dataframe thead th {\n",
              "        text-align: right;\n",
              "    }\n",
              "</style>\n",
              "<table border=\"1\" class=\"dataframe\">\n",
              "  <thead>\n",
              "    <tr style=\"text-align: right;\">\n",
              "      <th></th>\n",
              "      <th>21 Exitos COLD</th>\n",
              "    </tr>\n",
              "    <tr>\n",
              "      <th>numero de cartas COLD</th>\n",
              "      <th></th>\n",
              "    </tr>\n",
              "  </thead>\n",
              "  <tbody>\n",
              "    <tr>\n",
              "      <th>3</th>\n",
              "      <td>216</td>\n",
              "    </tr>\n",
              "    <tr>\n",
              "      <th>4</th>\n",
              "      <td>100</td>\n",
              "    </tr>\n",
              "    <tr>\n",
              "      <th>5</th>\n",
              "      <td>50</td>\n",
              "    </tr>\n",
              "    <tr>\n",
              "      <th>6</th>\n",
              "      <td>9</td>\n",
              "    </tr>\n",
              "  </tbody>\n",
              "</table>\n",
              "</div>"
            ],
            "text/plain": [
              "                       21 Exitos COLD\n",
              "numero de cartas COLD                \n",
              "3                                 216\n",
              "4                                 100\n",
              "5                                  50\n",
              "6                                   9"
            ]
          },
          "metadata": {
            "tags": []
          },
          "execution_count": 28
        }
      ]
    },
    {
      "cell_type": "code",
      "metadata": {
        "id": "NOlGDgfMP7E5",
        "outputId": "271e4b6d-b2e7-4f9b-df68-c490dfca9877",
        "colab": {
          "base_uri": "https://localhost:8080/",
          "height": 853
        }
      },
      "source": [
        "dataPOKC.groupby('numero de cartas COLD').count().plot()\n",
        "dataPOKC.groupby('numero de cartas COLD').count().plot.bar()\n",
        "dataPOKC.hist(bins=5)"
      ],
      "execution_count": 29,
      "outputs": [
        {
          "output_type": "execute_result",
          "data": {
            "text/plain": [
              "array([[<matplotlib.axes._subplots.AxesSubplot object at 0x7f020e855748>,\n",
              "        <matplotlib.axes._subplots.AxesSubplot object at 0x7f020e883c50>]],\n",
              "      dtype=object)"
            ]
          },
          "metadata": {
            "tags": []
          },
          "execution_count": 29
        },
        {
          "output_type": "display_data",
          "data": {
            "image/png": "[encoded data removed]",
            "text/plain": [
              "<Figure size 432x288 with 1 Axes>"
            ]
          },
          "metadata": {
            "tags": [],
            "needs_background": "light"
          }
        },
        {
          "output_type": "display_data",
          "data": {
            "image/png": "[encoded data removed]",
            "text/plain": [
              "<Figure size 432x288 with 1 Axes>"
            ]
          },
          "metadata": {
            "tags": [],
            "needs_background": "light"
          }
        },
        {
          "output_type": "display_data",
          "data": {
            "image/png": "[encoded data removed]",
            "text/plain": [
              "<Figure size 432x288 with 2 Axes>"
            ]
          },
          "metadata": {
            "tags": [],
            "needs_background": "light"
          }
        }
      ]
    }
  ]
}